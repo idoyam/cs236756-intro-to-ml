{
 "cells": [
  {
   "cell_type": "markdown",
   "metadata": {
    "slideshow": {
     "slide_type": "slide"
    }
   },
   "source": [
    "# <img src=\"https://img.icons8.com/dusk/64/000000/mind-map.png\" style=\"height:50px;display:inline\"> CS 236756 - Technion - Intro to Machine Learning\n",
    "---\n",
    "#### Tal Daniel\n",
    "\n",
    "## Tutorial 05 - Evaluation & Cross-Validation\n",
    "---"
   ]
  },
  {
   "cell_type": "markdown",
   "metadata": {
    "slideshow": {
     "slide_type": "slide"
    }
   },
   "source": [
    "### <img src=\"https://img.icons8.com/bubbles/50/000000/checklist.png\" style=\"height:50px;display:inline\"> Agenda\n",
    "---\n",
    "* [Motivation](#-Motivation---Why-Evaluate-Classifier's-Generalization-Ability?)\n",
    "* [Metrics for Classifier's Evaluation](#-Metrics-for-Classifier's-Evaluation)\n",
    "* [Methods for Classifier's Evaluation](#-Methods-for-Classifier's-Evaluation)\n",
    "    * [Holdout](#-Hold-Out-Method)\n",
    "    * [Stratification](#-Stratification)\n",
    "    * [K-Fold Cross-Validation](#-K-Fold-Cross-Validation)\n",
    "    * [Leave-One-Out](#-Leave-One-Out-Cross-Validation)\n",
    "* [Classification Example - Breast Cancer - From Zero to Hero](#-Classification-Example---Breast-Cancer---From-Zero-to-Hero)\n",
    "* [The ROC Curve](#-The-ROC-Curve)\n",
    "* [Recommended Videos](#-Recommended-Videos)\n",
    "* [Credits](#-Credits)"
   ]
  },
  {
   "cell_type": "code",
   "execution_count": 1,
   "metadata": {
    "slideshow": {
     "slide_type": "skip"
    }
   },
   "outputs": [],
   "source": [
    "# imports for the tutorial\n",
    "import numpy as np\n",
    "import pandas as pd\n",
    "import matplotlib.pyplot as plt\n",
    "%matplotlib notebook"
   ]
  },
  {
   "cell_type": "markdown",
   "metadata": {
    "slideshow": {
     "slide_type": "slide"
    }
   },
   "source": [
    "## <img src=\"https://img.icons8.com/dusk/64/000000/confetti.png\" style=\"height:50px;display:inline\"> Motivation - Why Evaluate Classifier's Generalization Ability?\n",
    "---\n",
    "It is important to evaluate the classifier generalization performance in order to:\n",
    "* Determine whether to employ/distribute the classifier\n",
    "* Compare classifiers (even compare the same type of classifiers, but with different parameters)\n",
    "* Optimize the classifier to perform better on unseen data"
   ]
  },
  {
   "cell_type": "markdown",
   "metadata": {
    "slideshow": {
     "slide_type": "subslide"
    }
   },
   "source": [
    "### <img src=\"https://img.icons8.com/bubbles/50/000000/info.png\" style=\"height:50px;display:inline\"> What Do We Need To Do That?\n",
    "---\n",
    "The first question that needs to be asked is: what preparations are needed in order to evaluate a trained model? \n",
    "\n",
    "* **Train-Test Separation** - The *naive* approach is seprating the data into train set and test set, that is, taking a portion of the data for training the model (usually about 80% of the dataset) and save another portion, that the model **has not seen** in order to test the model's performance. This is called the test set (usually about 20% of the dataset).\n",
    "\n",
    "* Note: Scikit-learn has a function we can use called `train_test_split` that makes it easy for us to split our dataset into training and testing data."
   ]
  },
  {
   "cell_type": "markdown",
   "metadata": {
    "slideshow": {
     "slide_type": "subslide"
    }
   },
   "source": [
    "How do we make sure the separation is fair and that each set (train and test) is a good representation of the data distribution?\n",
    "\n",
    "* **Shuffling** - Shuffling the data serves the purpose of reducing variance and making sure that models remain general and overfit less. The popular case where shuffling is very important is when the data is sorted by their class/target. By shuffling we add randomness that assures that the training/test/validation sets are representative of the overall distribution of the data."
   ]
  },
  {
   "cell_type": "code",
   "execution_count": 2,
   "metadata": {
    "slideshow": {
     "slide_type": "subslide"
    }
   },
   "outputs": [
    {
     "name": "stdout",
     "output_type": "stream",
     "text": [
      "total samples: 569\n",
      "total positive sampels (M): 212, total negative samples (B): 357\n"
     ]
    }
   ],
   "source": [
    "# let's load the cancer dataset, shuffle it and  speratre into train and test set\n",
    "dataset = pd.read_csv('./datasets/cancer_dataset.csv')\n",
    "# print the number of rows in the data set\n",
    "number_of_rows = len(dataset)\n",
    "print(\"total samples: {}\".format(number_of_rows))\n",
    "total_positive_samples = np.sum(dataset['diagnosis'].values == 'M')\n",
    "print(\"total positive sampels (M): {}, total negative samples (B): {}\".format(\n",
    "    total_positive_samples, number_of_rows - total_positive_samples))\n",
    "num_train = int(0.8 * number_of_rows)"
   ]
  },
  {
   "cell_type": "code",
   "execution_count": 3,
   "metadata": {
    "slideshow": {
     "slide_type": "subslide"
    }
   },
   "outputs": [
    {
     "data": {
      "text/html": [
       "<div>\n",
       "<style scoped>\n",
       "    .dataframe tbody tr th:only-of-type {\n",
       "        vertical-align: middle;\n",
       "    }\n",
       "\n",
       "    .dataframe tbody tr th {\n",
       "        vertical-align: top;\n",
       "    }\n",
       "\n",
       "    .dataframe thead th {\n",
       "        text-align: right;\n",
       "    }\n",
       "</style>\n",
       "<table border=\"1\" class=\"dataframe\">\n",
       "  <thead>\n",
       "    <tr style=\"text-align: right;\">\n",
       "      <th></th>\n",
       "      <th>id</th>\n",
       "      <th>diagnosis</th>\n",
       "      <th>radius_mean</th>\n",
       "      <th>texture_mean</th>\n",
       "      <th>perimeter_mean</th>\n",
       "      <th>area_mean</th>\n",
       "      <th>smoothness_mean</th>\n",
       "      <th>compactness_mean</th>\n",
       "      <th>concavity_mean</th>\n",
       "      <th>concave points_mean</th>\n",
       "      <th>...</th>\n",
       "      <th>texture_worst</th>\n",
       "      <th>perimeter_worst</th>\n",
       "      <th>area_worst</th>\n",
       "      <th>smoothness_worst</th>\n",
       "      <th>compactness_worst</th>\n",
       "      <th>concavity_worst</th>\n",
       "      <th>concave points_worst</th>\n",
       "      <th>symmetry_worst</th>\n",
       "      <th>fractal_dimension_worst</th>\n",
       "      <th>Unnamed: 32</th>\n",
       "    </tr>\n",
       "  </thead>\n",
       "  <tbody>\n",
       "    <tr>\n",
       "      <td>552</td>\n",
       "      <td>924084</td>\n",
       "      <td>B</td>\n",
       "      <td>12.770</td>\n",
       "      <td>29.43</td>\n",
       "      <td>81.35</td>\n",
       "      <td>507.9</td>\n",
       "      <td>0.08276</td>\n",
       "      <td>0.04234</td>\n",
       "      <td>0.01997</td>\n",
       "      <td>0.014990</td>\n",
       "      <td>...</td>\n",
       "      <td>36.00</td>\n",
       "      <td>88.10</td>\n",
       "      <td>594.7</td>\n",
       "      <td>0.12340</td>\n",
       "      <td>0.10640</td>\n",
       "      <td>0.08653</td>\n",
       "      <td>0.06498</td>\n",
       "      <td>0.2407</td>\n",
       "      <td>0.06484</td>\n",
       "      <td>NaN</td>\n",
       "    </tr>\n",
       "    <tr>\n",
       "      <td>215</td>\n",
       "      <td>8810987</td>\n",
       "      <td>M</td>\n",
       "      <td>13.860</td>\n",
       "      <td>16.93</td>\n",
       "      <td>90.96</td>\n",
       "      <td>578.9</td>\n",
       "      <td>0.10260</td>\n",
       "      <td>0.15170</td>\n",
       "      <td>0.09901</td>\n",
       "      <td>0.056020</td>\n",
       "      <td>...</td>\n",
       "      <td>26.93</td>\n",
       "      <td>104.40</td>\n",
       "      <td>750.1</td>\n",
       "      <td>0.14600</td>\n",
       "      <td>0.43700</td>\n",
       "      <td>0.46360</td>\n",
       "      <td>0.16540</td>\n",
       "      <td>0.3630</td>\n",
       "      <td>0.10590</td>\n",
       "      <td>NaN</td>\n",
       "    </tr>\n",
       "    <tr>\n",
       "      <td>38</td>\n",
       "      <td>855133</td>\n",
       "      <td>M</td>\n",
       "      <td>14.990</td>\n",
       "      <td>25.20</td>\n",
       "      <td>95.54</td>\n",
       "      <td>698.8</td>\n",
       "      <td>0.09387</td>\n",
       "      <td>0.05131</td>\n",
       "      <td>0.02398</td>\n",
       "      <td>0.028990</td>\n",
       "      <td>...</td>\n",
       "      <td>25.20</td>\n",
       "      <td>95.54</td>\n",
       "      <td>698.8</td>\n",
       "      <td>0.09387</td>\n",
       "      <td>0.05131</td>\n",
       "      <td>0.02398</td>\n",
       "      <td>0.02899</td>\n",
       "      <td>0.1565</td>\n",
       "      <td>0.05504</td>\n",
       "      <td>NaN</td>\n",
       "    </tr>\n",
       "    <tr>\n",
       "      <td>235</td>\n",
       "      <td>88249602</td>\n",
       "      <td>B</td>\n",
       "      <td>14.030</td>\n",
       "      <td>21.25</td>\n",
       "      <td>89.79</td>\n",
       "      <td>603.4</td>\n",
       "      <td>0.09070</td>\n",
       "      <td>0.06945</td>\n",
       "      <td>0.01462</td>\n",
       "      <td>0.018960</td>\n",
       "      <td>...</td>\n",
       "      <td>30.28</td>\n",
       "      <td>98.27</td>\n",
       "      <td>715.5</td>\n",
       "      <td>0.12870</td>\n",
       "      <td>0.15130</td>\n",
       "      <td>0.06231</td>\n",
       "      <td>0.07963</td>\n",
       "      <td>0.2226</td>\n",
       "      <td>0.07617</td>\n",
       "      <td>NaN</td>\n",
       "    </tr>\n",
       "    <tr>\n",
       "      <td>501</td>\n",
       "      <td>91504</td>\n",
       "      <td>M</td>\n",
       "      <td>13.820</td>\n",
       "      <td>24.49</td>\n",
       "      <td>92.33</td>\n",
       "      <td>595.9</td>\n",
       "      <td>0.11620</td>\n",
       "      <td>0.16810</td>\n",
       "      <td>0.13570</td>\n",
       "      <td>0.067590</td>\n",
       "      <td>...</td>\n",
       "      <td>32.94</td>\n",
       "      <td>106.00</td>\n",
       "      <td>788.0</td>\n",
       "      <td>0.17940</td>\n",
       "      <td>0.39660</td>\n",
       "      <td>0.33810</td>\n",
       "      <td>0.15210</td>\n",
       "      <td>0.3651</td>\n",
       "      <td>0.11830</td>\n",
       "      <td>NaN</td>\n",
       "    </tr>\n",
       "    <tr>\n",
       "      <td>60</td>\n",
       "      <td>858970</td>\n",
       "      <td>B</td>\n",
       "      <td>10.170</td>\n",
       "      <td>14.88</td>\n",
       "      <td>64.55</td>\n",
       "      <td>311.9</td>\n",
       "      <td>0.11340</td>\n",
       "      <td>0.08061</td>\n",
       "      <td>0.01084</td>\n",
       "      <td>0.012900</td>\n",
       "      <td>...</td>\n",
       "      <td>17.45</td>\n",
       "      <td>69.86</td>\n",
       "      <td>368.6</td>\n",
       "      <td>0.12750</td>\n",
       "      <td>0.09866</td>\n",
       "      <td>0.02168</td>\n",
       "      <td>0.02579</td>\n",
       "      <td>0.3557</td>\n",
       "      <td>0.08020</td>\n",
       "      <td>NaN</td>\n",
       "    </tr>\n",
       "    <tr>\n",
       "      <td>314</td>\n",
       "      <td>894047</td>\n",
       "      <td>B</td>\n",
       "      <td>8.597</td>\n",
       "      <td>18.60</td>\n",
       "      <td>54.09</td>\n",
       "      <td>221.2</td>\n",
       "      <td>0.10740</td>\n",
       "      <td>0.05847</td>\n",
       "      <td>0.00000</td>\n",
       "      <td>0.000000</td>\n",
       "      <td>...</td>\n",
       "      <td>22.44</td>\n",
       "      <td>56.65</td>\n",
       "      <td>240.1</td>\n",
       "      <td>0.13470</td>\n",
       "      <td>0.07767</td>\n",
       "      <td>0.00000</td>\n",
       "      <td>0.00000</td>\n",
       "      <td>0.3142</td>\n",
       "      <td>0.08116</td>\n",
       "      <td>NaN</td>\n",
       "    </tr>\n",
       "    <tr>\n",
       "      <td>366</td>\n",
       "      <td>9011494</td>\n",
       "      <td>M</td>\n",
       "      <td>20.200</td>\n",
       "      <td>26.83</td>\n",
       "      <td>133.70</td>\n",
       "      <td>1234.0</td>\n",
       "      <td>0.09905</td>\n",
       "      <td>0.16690</td>\n",
       "      <td>0.16410</td>\n",
       "      <td>0.126500</td>\n",
       "      <td>...</td>\n",
       "      <td>33.81</td>\n",
       "      <td>160.00</td>\n",
       "      <td>1671.0</td>\n",
       "      <td>0.12780</td>\n",
       "      <td>0.34160</td>\n",
       "      <td>0.37030</td>\n",
       "      <td>0.21520</td>\n",
       "      <td>0.3271</td>\n",
       "      <td>0.07632</td>\n",
       "      <td>NaN</td>\n",
       "    </tr>\n",
       "    <tr>\n",
       "      <td>73</td>\n",
       "      <td>859983</td>\n",
       "      <td>M</td>\n",
       "      <td>13.800</td>\n",
       "      <td>15.79</td>\n",
       "      <td>90.43</td>\n",
       "      <td>584.1</td>\n",
       "      <td>0.10070</td>\n",
       "      <td>0.12800</td>\n",
       "      <td>0.07789</td>\n",
       "      <td>0.050690</td>\n",
       "      <td>...</td>\n",
       "      <td>20.86</td>\n",
       "      <td>110.30</td>\n",
       "      <td>812.4</td>\n",
       "      <td>0.14110</td>\n",
       "      <td>0.35420</td>\n",
       "      <td>0.27790</td>\n",
       "      <td>0.13830</td>\n",
       "      <td>0.2589</td>\n",
       "      <td>0.10300</td>\n",
       "      <td>NaN</td>\n",
       "    </tr>\n",
       "    <tr>\n",
       "      <td>398</td>\n",
       "      <td>904302</td>\n",
       "      <td>B</td>\n",
       "      <td>11.060</td>\n",
       "      <td>14.83</td>\n",
       "      <td>70.31</td>\n",
       "      <td>378.2</td>\n",
       "      <td>0.07741</td>\n",
       "      <td>0.04768</td>\n",
       "      <td>0.02712</td>\n",
       "      <td>0.007246</td>\n",
       "      <td>...</td>\n",
       "      <td>20.35</td>\n",
       "      <td>80.79</td>\n",
       "      <td>496.7</td>\n",
       "      <td>0.11200</td>\n",
       "      <td>0.18790</td>\n",
       "      <td>0.20790</td>\n",
       "      <td>0.05556</td>\n",
       "      <td>0.2590</td>\n",
       "      <td>0.09158</td>\n",
       "      <td>NaN</td>\n",
       "    </tr>\n",
       "  </tbody>\n",
       "</table>\n",
       "<p>10 rows × 33 columns</p>\n",
       "</div>"
      ],
      "text/plain": [
       "           id diagnosis  radius_mean  texture_mean  perimeter_mean  area_mean  \\\n",
       "552    924084         B       12.770         29.43           81.35      507.9   \n",
       "215   8810987         M       13.860         16.93           90.96      578.9   \n",
       "38     855133         M       14.990         25.20           95.54      698.8   \n",
       "235  88249602         B       14.030         21.25           89.79      603.4   \n",
       "501     91504         M       13.820         24.49           92.33      595.9   \n",
       "60     858970         B       10.170         14.88           64.55      311.9   \n",
       "314    894047         B        8.597         18.60           54.09      221.2   \n",
       "366   9011494         M       20.200         26.83          133.70     1234.0   \n",
       "73     859983         M       13.800         15.79           90.43      584.1   \n",
       "398    904302         B       11.060         14.83           70.31      378.2   \n",
       "\n",
       "     smoothness_mean  compactness_mean  concavity_mean  concave points_mean  \\\n",
       "552          0.08276           0.04234         0.01997             0.014990   \n",
       "215          0.10260           0.15170         0.09901             0.056020   \n",
       "38           0.09387           0.05131         0.02398             0.028990   \n",
       "235          0.09070           0.06945         0.01462             0.018960   \n",
       "501          0.11620           0.16810         0.13570             0.067590   \n",
       "60           0.11340           0.08061         0.01084             0.012900   \n",
       "314          0.10740           0.05847         0.00000             0.000000   \n",
       "366          0.09905           0.16690         0.16410             0.126500   \n",
       "73           0.10070           0.12800         0.07789             0.050690   \n",
       "398          0.07741           0.04768         0.02712             0.007246   \n",
       "\n",
       "     ...  texture_worst  perimeter_worst  area_worst  smoothness_worst  \\\n",
       "552  ...          36.00            88.10       594.7           0.12340   \n",
       "215  ...          26.93           104.40       750.1           0.14600   \n",
       "38   ...          25.20            95.54       698.8           0.09387   \n",
       "235  ...          30.28            98.27       715.5           0.12870   \n",
       "501  ...          32.94           106.00       788.0           0.17940   \n",
       "60   ...          17.45            69.86       368.6           0.12750   \n",
       "314  ...          22.44            56.65       240.1           0.13470   \n",
       "366  ...          33.81           160.00      1671.0           0.12780   \n",
       "73   ...          20.86           110.30       812.4           0.14110   \n",
       "398  ...          20.35            80.79       496.7           0.11200   \n",
       "\n",
       "     compactness_worst  concavity_worst  concave points_worst  symmetry_worst  \\\n",
       "552            0.10640          0.08653               0.06498          0.2407   \n",
       "215            0.43700          0.46360               0.16540          0.3630   \n",
       "38             0.05131          0.02398               0.02899          0.1565   \n",
       "235            0.15130          0.06231               0.07963          0.2226   \n",
       "501            0.39660          0.33810               0.15210          0.3651   \n",
       "60             0.09866          0.02168               0.02579          0.3557   \n",
       "314            0.07767          0.00000               0.00000          0.3142   \n",
       "366            0.34160          0.37030               0.21520          0.3271   \n",
       "73             0.35420          0.27790               0.13830          0.2589   \n",
       "398            0.18790          0.20790               0.05556          0.2590   \n",
       "\n",
       "     fractal_dimension_worst  Unnamed: 32  \n",
       "552                  0.06484          NaN  \n",
       "215                  0.10590          NaN  \n",
       "38                   0.05504          NaN  \n",
       "235                  0.07617          NaN  \n",
       "501                  0.11830          NaN  \n",
       "60                   0.08020          NaN  \n",
       "314                  0.08116          NaN  \n",
       "366                  0.07632          NaN  \n",
       "73                   0.10300          NaN  \n",
       "398                  0.09158          NaN  \n",
       "\n",
       "[10 rows x 33 columns]"
      ]
     },
     "execution_count": 3,
     "metadata": {},
     "output_type": "execute_result"
    }
   ],
   "source": [
    "# reminder, the data looks like this\n",
    "# dataset.head(10) # the dataset is ordered by the diagnosis\n",
    "dataset.sample(10)"
   ]
  },
  {
   "cell_type": "code",
   "execution_count": 4,
   "metadata": {
    "slideshow": {
     "slide_type": "subslide"
    }
   },
   "outputs": [
    {
     "name": "stdout",
     "output_type": "stream",
     "text": [
      "total training samples: 455, total test samples: 114\n"
     ]
    }
   ],
   "source": [
    "# we will take the first 2 features as our data (X) and the diagnosis as labels (y)\n",
    "x = dataset[['radius_mean', 'texture_mean']].values\n",
    "y = dataset['diagnosis'].values == 'M'  # 1 for Malignant, 0 for Benign\n",
    "# shuffle\n",
    "rand_gen = np.random.RandomState(0)\n",
    "shuffled_indices = rand_gen.permutation(np.arange(len(x)))\n",
    "\n",
    "x_train = x[shuffled_indices[:num_train]]\n",
    "y_train = y[shuffled_indices[:num_train]]\n",
    "x_test = x[shuffled_indices[num_train:]]\n",
    "y_test = y[shuffled_indices[num_train:]]\n",
    "\n",
    "print(\"total training samples: {}, total test samples: {}\".format(num_train, number_of_rows - num_train))"
   ]
  },
  {
   "cell_type": "markdown",
   "metadata": {
    "slideshow": {
     "slide_type": "slide"
    }
   },
   "source": [
    "## <img src=\"https://img.icons8.com/dusk/64/000000/rating.png\" style=\"height:50px;display:inline\"> Metrics for Classifier's Evaluation\n",
    "---\n",
    "Different ML tasks use different metrics to measure the models' performance, we will introduce several of them, but there are more, and sometimes there are tasks that require hand-crafted metrics (for example, an NLP tasks of translating sentences from Chinese to English is measured by the BLEU score, which is a linguistic measure of language coherence)."
   ]
  },
  {
   "cell_type": "markdown",
   "metadata": {
    "slideshow": {
     "slide_type": "subslide"
    }
   },
   "source": [
    "Throught this part, we will use the terms: True Positive (TP), False Positive (FP), True Negative (TN), False Negative (FN) which are demonstrated below:\n",
    "<img src=\"./assets/tut_05_tp_tf.jpg\" style=\"height:400px\">"
   ]
  },
  {
   "cell_type": "markdown",
   "metadata": {
    "slideshow": {
     "slide_type": "subslide"
    }
   },
   "source": [
    "* **Accuracy** - $\\frac{TP + TN}{P + N}$\n",
    "    * In simple words: how many did we get *right* out of all of the dataset?\n",
    "    * When not to use *accuracy*?\n",
    "        * When dealing with *skewed* datasets (i.e., when some classes/labels are more frequent than others). \n",
    "* **Error** - $\\frac{FP + FN}{P + N}$\n",
    "    * In simple words: how many did we get *wrong* out of all of the dataset?"
   ]
  },
  {
   "cell_type": "markdown",
   "metadata": {
    "slideshow": {
     "slide_type": "subslide"
    }
   },
   "source": [
    "* **Precision** - $\\frac{TP}{TP + FP}$\n",
    "    * In simple words: out of all the samples we classified as *positive*, how many of them we got *right*. The accuracy of positive predictions.\n",
    "    * **Always** calculated along with **Recall**\n",
    "* **Recall (TP Rate, Sensitivity)** - $\\frac{TP}{P} = \\frac{TP}{TP + FN}$\n",
    "    * In simple words: out of all the *positive* samples, how many of them we got *right*. \n",
    "    * **Always** calculated along with **Precision**\n",
    "* **FP Rate** - $\\frac{FP}{N} = \\frac{FP}{FP + TN}$\n",
    "    * In simple words: out of all the *negative* samples, how many of them we got *wrong*, or, the ratio of negative instances that are incorrectly classified as positive."
   ]
  },
  {
   "cell_type": "markdown",
   "metadata": {
    "slideshow": {
     "slide_type": "slide"
    }
   },
   "source": [
    "### Quick Examples\n",
    "---\n",
    "   * A classifier that is trained to detect videos that are safe for kids. You would probably prefer a classifier that rejects many good videos (low recall) but keeps only safe ones (high precision), rather than a classifier that has a much higher recall but lets a few really bad videos.\n",
    "   * A classifier trained to detect shoplifters on surveillance images: it is probably fine if your classifier has only 30% precision as long as it has 99% recall (almost all shoplifters will get caught. but a lot of false alarms)."
   ]
  },
  {
   "cell_type": "markdown",
   "metadata": {
    "slideshow": {
     "slide_type": "slide"
    }
   },
   "source": [
    "### <img src=\"https://img.icons8.com/dusk/64/000000/classroom.png\" style=\"height:50px;display:inline\"> Example - Naive Classifier Evaluation on the Breast Cancer Dataset\n",
    "---\n",
    "Let's create a classifier that classifies new samples by the label probability it has seen in the train set. That is, if it has seen 30% Malignant labels, then with probability 0.3 a new sample is classified as malignant.\n",
    "\n",
    "We will evaluate using the above metrics."
   ]
  },
  {
   "cell_type": "code",
   "execution_count": 5,
   "metadata": {
    "slideshow": {
     "slide_type": "subslide"
    }
   },
   "outputs": [
    {
     "name": "stdout",
     "output_type": "stream",
     "text": [
      "M prob: 0.369, B prob: 0.631\n"
     ]
    }
   ],
   "source": [
    "# probability to tag as malignat\n",
    "m_prob = np.sum(y_train) / len(y_train)\n",
    "# probability to tag as benign\n",
    "b_prob = 1 - m_prob\n",
    "print(\"M prob: {:.3f}, B prob: {:.3f}\".format(m_prob, b_prob))"
   ]
  },
  {
   "cell_type": "code",
   "execution_count": 6,
   "metadata": {
    "slideshow": {
     "slide_type": "subslide"
    }
   },
   "outputs": [],
   "source": [
    "# now let's classify the test set\n",
    "# since we don't look at the data at all we can just randomly sample Ms and Bs in the size of the test set\n",
    "y_test_pred = np.random.choice([True, False], size=(len(y_test)), p=[m_prob, b_prob])"
   ]
  },
  {
   "cell_type": "code",
   "execution_count": 7,
   "metadata": {
    "slideshow": {
     "slide_type": "subslide"
    }
   },
   "outputs": [
    {
     "name": "stdout",
     "output_type": "stream",
     "text": [
      "accuracy: 0.544 or 54.386 %\n",
      "error: 0.456 or 45.614 %\n"
     ]
    }
   ],
   "source": [
    "# let's evaluate\n",
    "accuracy = np.sum(y_test == y_test_pred) / len(y_test)\n",
    "print(\"accuracy: {:.3f} or {:.3f} %\".format(accuracy, accuracy * 100))\n",
    "error = np.sum(y_test != y_test_pred) / len(y_test)\n",
    "print(\"error: {:.3f} or {:.3f} %\".format(error, error * 100))"
   ]
  },
  {
   "cell_type": "code",
   "execution_count": 8,
   "metadata": {
    "slideshow": {
     "slide_type": "subslide"
    }
   },
   "outputs": [
    {
     "name": "stdout",
     "output_type": "stream",
     "text": [
      "precision: 0.395 or 39.474 %\n",
      "recall: 0.341 or 34.091 %\n",
      "FP Rate: 0.329 or 32.857 %\n"
     ]
    }
   ],
   "source": [
    "precision = np.sum(y_test_pred[y_test]) / np.sum(y_test_pred)\n",
    "print(\"precision: {:.3f} or {:.3f} %\".format(precision, precision * 100))\n",
    "recall = np.sum(y_test_pred[y_test]) / np.sum(y_test)\n",
    "print(\"recall: {:.3f} or {:.3f} %\".format(recall, recall * 100))\n",
    "fp_rate =  np.sum(y_test_pred[~y_test]) / np.sum(~y_test)\n",
    "print(\"FP Rate: {:.3f} or {:.3f} %\".format(fp_rate, fp_rate * 100))"
   ]
  },
  {
   "cell_type": "code",
   "execution_count": 9,
   "metadata": {
    "slideshow": {
     "slide_type": "subslide"
    }
   },
   "outputs": [
    {
     "name": "stdout",
     "output_type": "stream",
     "text": [
      "precision: 0.395 or 39.474 %\n",
      "recall: 0.341 or 34.091 %\n"
     ]
    }
   ],
   "source": [
    "# using scikit-learn\n",
    "from sklearn.metrics import precision_score, recall_score\n",
    "precision = precision_score(y_test, y_test_pred)\n",
    "print(\"precision: {:.3f} or {:.3f} %\".format(precision, precision * 100))\n",
    "recall = recall_score(y_test, y_test_pred)\n",
    "print(\"recall: {:.3f} or {:.3f} %\".format(recall, recall * 100))"
   ]
  },
  {
   "cell_type": "markdown",
   "metadata": {
    "slideshow": {
     "slide_type": "slide"
    }
   },
   "source": [
    "### <img src=\"https://img.icons8.com/dusk/64/000000/planner.png\"  style=\"height:50px;display:inline\"> Confusion Matrix Revisited\n",
    "---\n",
    "A better way to evaluate the performance of a classifier is the look at the *confusion matrix*. Each row in a confusion matrix represents an actual class. A perfect classifier would have only *true positives* and *true negatives*, so its confusion matrix would have non-zeros values only on its main diagonal.\n",
    "<img src=\"./assets/tut_05_conf_mat.jpg\" style=\"height:200px\">"
   ]
  },
  {
   "cell_type": "code",
   "execution_count": 10,
   "metadata": {
    "slideshow": {
     "slide_type": "subslide"
    }
   },
   "outputs": [
    {
     "data": {
      "text/html": [
       "<div>\n",
       "<style scoped>\n",
       "    .dataframe tbody tr th:only-of-type {\n",
       "        vertical-align: middle;\n",
       "    }\n",
       "\n",
       "    .dataframe tbody tr th {\n",
       "        vertical-align: top;\n",
       "    }\n",
       "\n",
       "    .dataframe thead th {\n",
       "        text-align: right;\n",
       "    }\n",
       "</style>\n",
       "<table border=\"1\" class=\"dataframe\">\n",
       "  <thead>\n",
       "    <tr style=\"text-align: right;\">\n",
       "      <th></th>\n",
       "      <th>Predicted Pos</th>\n",
       "      <th>Predicted Neg</th>\n",
       "    </tr>\n",
       "  </thead>\n",
       "  <tbody>\n",
       "    <tr>\n",
       "      <td>Actual Pos</td>\n",
       "      <td>47</td>\n",
       "      <td>23</td>\n",
       "    </tr>\n",
       "    <tr>\n",
       "      <td>Actual Neg</td>\n",
       "      <td>29</td>\n",
       "      <td>15</td>\n",
       "    </tr>\n",
       "  </tbody>\n",
       "</table>\n",
       "</div>"
      ],
      "text/plain": [
       "            Predicted Pos  Predicted Neg\n",
       "Actual Pos             47             23\n",
       "Actual Neg             29             15"
      ]
     },
     "execution_count": 10,
     "metadata": {},
     "output_type": "execute_result"
    }
   ],
   "source": [
    "# using scikit-learn\n",
    "from sklearn.metrics import confusion_matrix\n",
    "conf_mat = confusion_matrix(y_test, y_test_pred)\n",
    "conf_mat_df = pd.DataFrame(conf_mat, columns=['Predicted Pos', 'Predicted Neg'], index=['Actual Pos', 'Actual Neg'])\n",
    "conf_mat_df"
   ]
  },
  {
   "cell_type": "markdown",
   "metadata": {
    "slideshow": {
     "slide_type": "subslide"
    }
   },
   "source": [
    "* It is sometimes nicer to present confusion matrix as a heat map (the same way you would do for correlation)."
   ]
  },
  {
   "cell_type": "markdown",
   "metadata": {
    "slideshow": {
     "slide_type": "slide"
    }
   },
   "source": [
    "### <img src=\"https://img.icons8.com/ios/100/000000/battle.png\" style=\"height:50px;display:inline\"> Precision/Recall Tradeoff\n",
    "---\n",
    "**Increasing precision reduces recall, and vice versa.** It is often convenient to combine them into a single metric called the $F_1$ score."
   ]
  },
  {
   "cell_type": "markdown",
   "metadata": {
    "slideshow": {
     "slide_type": "slide"
    }
   },
   "source": [
    "### <img src=\"https://img.icons8.com/dusk/64/000000/f.png\" style=\"height:50px;display:inline\"> The $F_1$ Score\n",
    "---\n",
    "It is the *harmonic mean* of precision and recall.\n",
    "$$F_1 = \\frac{2}{\\frac{1}{precision} + \\frac{1}{recall}} = 2 \\times \\frac{precision \\times recall}{precision + recall} = \\frac{TP}{TP + \\frac{FN + FP}{2}} $$\n",
    "Whereas the regular mean treats all values equally , the harmonic mean gives much more weight to **low values**. As a result, the classifier will only get a high $F_1$ score if both recall and precision are high.\n",
    "\n",
    "The $F_1$ score favors classifiers that have similar precision and recall. This is not always what we want, as seen in the \"Quick Examples\" above."
   ]
  },
  {
   "cell_type": "code",
   "execution_count": 11,
   "metadata": {
    "slideshow": {
     "slide_type": "subslide"
    }
   },
   "outputs": [
    {
     "name": "stdout",
     "output_type": "stream",
     "text": [
      "f1 score: 0.366\n",
      "f1 score (scikit): 0.366\n"
     ]
    }
   ],
   "source": [
    "# calculating the f1 score\n",
    "f_1_score = 2 * precision * recall / (precision + recall)\n",
    "print(\"f1 score: {:.3f}\".format(f_1_score))\n",
    "# using scikit-learn\n",
    "from sklearn.metrics import f1_score\n",
    "f_1_score = f1_score(y_test, y_test_pred)\n",
    "print(\"f1 score (scikit): {:.3f}\".format(f_1_score))"
   ]
  },
  {
   "cell_type": "markdown",
   "metadata": {
    "slideshow": {
     "slide_type": "slide"
    }
   },
   "source": [
    "## <img src=\"https://img.icons8.com/clouds/100/000000/combo-chart.png\" style=\"height:50px;display:inline\"> Methods for Classifier's Evaluation\n",
    "---\n",
    "So far we have separated our data to a train set and *test set* to evaluate our classifier. This is also called **hold-out** method.\n",
    "\n",
    "Let's list the ways we can estimate the metrics for a certain classifier:\n",
    "* **Training Data**\n",
    "* **Independent Test Data** (different from hold-out)\n",
    "* **Hold-Out Method**\n",
    "* **$K$-fold Cross-Validation**\n",
    "* **Leave-One-Out Method**\n",
    "* **Bootstrap Method**\n",
    "* And more...\n",
    "\n",
    "We will now present some of them that you will use."
   ]
  },
  {
   "cell_type": "markdown",
   "metadata": {
    "slideshow": {
     "slide_type": "subslide"
    }
   },
   "source": [
    "### <img src=\"https://img.icons8.com/dusk/64/000000/dumbbell.png\" style=\"height:50px;display:inline\"> Estimation with Training Data\n",
    "---\n",
    "<img src=\"./assets/tut_05_train.jpg\" style=\"height:100px\">\n",
    "\n",
    "* The accuracy/error estimates on the *training* data **are not** good indicators of performance on future data!\n",
    "* The reason: new data will probably not be exactly the same as the training data.\n",
    "* The accuracy/error estimates on the training data measure the degree of classifier's **underfitting** or **overfitting**."
   ]
  },
  {
   "cell_type": "markdown",
   "metadata": {
    "slideshow": {
     "slide_type": "subslide"
    }
   },
   "source": [
    "* A typical learning curve usually looks like this: <img src=\"./assets/tut_05_overfitting.png\" style=\"height:200px\">\n",
    "<a href=\"http://mlwiki.org/index.php/Overfitting\">Image Source</a>"
   ]
  },
  {
   "cell_type": "markdown",
   "metadata": {
    "slideshow": {
     "slide_type": "subslide"
    }
   },
   "source": [
    "### <img src=\"https://img.icons8.com/bubbles/100/000000/test-passed.png\" style=\"height:50px;display:inline\"> Estimation with Independent Test Data\n",
    "---\n",
    "<img src=\"./assets/tut_05_test.jpg\" style=\"height:100px\">\n",
    "\n",
    "* Estimation with independent test data is used when we have plenty of data and there is **a natural way to generating this data**, that is, there is no need to separate the the train data.\n",
    "* For example, we wish to learn a certain function, like $f(x) = x^2$, we can generate how many samples we want and we are not bounded to a certain dataset.\n",
    "* In most ML tasks, we have no natural way of forming data, and we are limited to the data given to us, which is why it is more common to use hold-out."
   ]
  },
  {
   "cell_type": "markdown",
   "metadata": {
    "slideshow": {
     "slide_type": "subslide"
    }
   },
   "source": [
    "### <img src=\"https://img.icons8.com/nolan/64/000000/separate-document.png\" style=\"height:50px;display:inline\"> Hold-Out Method\n",
    "---\n",
    "<img src=\"./assets/tut_05_holdout.jpg\" style=\"height:150px\">\n",
    "\n",
    "* The hold-out method **splits** the data into training data and test data. Then, we build a classifier using the train set and test it using the test set.\n",
    "* The hold-out method is usually used when we have thousands of instances, including several hundred instances from each class.\n",
    "* Scikit-learn has a built in function that you can use to split the data: `from sklearn.model_selection import train_test_split`"
   ]
  },
  {
   "cell_type": "markdown",
   "metadata": {
    "slideshow": {
     "slide_type": "subslide"
    }
   },
   "source": [
    "### <img src=\"https://img.icons8.com/bubbles/100/000000/more.png\" style=\"height:50px;display:inline\"> Train-Validation-Test Split\n",
    "---\n",
    "* Let's say you have a dataset which you separated into *train* set and *test* set. \n",
    "* You want to train a classifier that has hyper-parameters (parameters that are not trained, but are user-selected before the training) that you have to tune. \n",
    "    * For example, in the classifier \"K-Nearest Neighbours\" you need to choose $K$, the number of nearest neighbours needed to perform classification, or in \"Stochastic Gradient Descent\", you need to choose the learning rate (which is a continuous value, like 0.0001). "
   ]
  },
  {
   "cell_type": "markdown",
   "metadata": {
    "slideshow": {
     "slide_type": "subslide"
    }
   },
   "source": [
    "* Would it be fair to train the classifier on the train set for each hyper-parameter and then test it on the test set and finally selecting the best hyper-parameters based on the performance on the test set? **NO!**\n",
    "    * It is like taking an open-material exam, but instead of bringing all of the material, you bring only the material relevant to the questions asked in the exam. It is sort of cheating."
   ]
  },
  {
   "cell_type": "markdown",
   "metadata": {
    "slideshow": {
     "slide_type": "subslide"
    }
   },
   "source": [
    "That is why we seperate into 3 sets:\n",
    "\n",
    "* **Train Set** - from which the model learns\n",
    "* **Validation Set** - on which the hyper-parameters are tuned\n",
    "* **Test Set** - untouched samples on which you test the generalization ability of the model. This set has **never** been seen by the model."
   ]
  },
  {
   "cell_type": "markdown",
   "metadata": {
    "slideshow": {
     "slide_type": "subslide"
    }
   },
   "source": [
    "<img src=\"./assets/tut_05_validation.jpg\" style=\"height:300px\">"
   ]
  },
  {
   "cell_type": "markdown",
   "metadata": {
    "slideshow": {
     "slide_type": "subslide"
    }
   },
   "source": [
    "### <img src=\"https://img.icons8.com/cotton/64/000000/full-battery.png\" style=\"height:50px;display:inline\"> Making the Most of the Data\n",
    "---\n",
    "* Once evaluation is complete and you are satisfied with the model, *all* the data can be used to build the final classifier\n",
    "* Generally, the **larger the training data** the **better the classifier**.\n",
    "* The **larger the test set** the **more accurate** the error estimate."
   ]
  },
  {
   "cell_type": "markdown",
   "metadata": {
    "slideshow": {
     "slide_type": "slide"
    }
   },
   "source": [
    "### <img src=\"https://img.icons8.com/clouds/100/000000/color-dropper.png\" style=\"height:50px;display:inline\"> Stratification\n",
    "---\n",
    "* The *holdout* method reserves a certain amount for testing and uses the remainder for training.\n",
    "* For **\"unbalanced\"/skewed** datasets, samples might not be representative.\n",
    "    * Few or None instances of some classes\n",
    "* **Stratified Sampling**: balancing the data. If the dataset is not large enough, there is a risk of introducing a significant sampling *bias*. In *stratified sampling*, the population is divided into homogenous subgroups called *strata*, and the right number of instances is sampled from each stratum to guarantee that the test set is representative of the overall population.\n",
    "    * Makes sure that each class is represented with approximately equal proportions in both subsets."
   ]
  },
  {
   "cell_type": "markdown",
   "metadata": {
    "slideshow": {
     "slide_type": "subslide"
    }
   },
   "source": [
    "* For example, when a survey company decides to call 1,000 people to ask them a few questions, they don't just pick up randomly 1,000 people from a phone book. They try to ensure that these 1,000 people are representative of the whole population. In the US, the population is composed of 51.3% female and 48.7% men, so a well-conducted survey in the US would try to maintain this ratio in the samples - 513 females and 487 males.\n",
    "* In Scikit-learn - `from sklearn.model_selection import StratifiedShuffleSplit` - <a href=\"https://scikit-learn.org/stable/modules/generated/sklearn.model_selection.StratifiedShuffleSplit.html\">Read More Here</a>"
   ]
  },
  {
   "cell_type": "markdown",
   "metadata": {
    "slideshow": {
     "slide_type": "slide"
    }
   },
   "source": [
    "### <img src=\"https://img.icons8.com/nolan/64/000000/delete-sign.png\" style=\"height:50px;display:inline\"> K-Fold Cross-Validation\n",
    "---\n",
    "* Separating to validation and test sets is not very data efficient as we now allocate less data for training.\n",
    "* In order to make better use of the data we use a technique called **\"Cross Validation\"**. \n",
    "    * However, in this course we will always do this separation regardless! (we'll use the train set for CV).\n",
    "* Cross-validation is randomly splitting the data into $k$ groups. One of the groups is used as the test set and the rest are used as the training set. \n",
    "* The model is trained on the training set and scored on the test set. Then the process is repeated until each unique group as been used as the test set. This method is also called **\"K-Fold Cross Validation\"**."
   ]
  },
  {
   "cell_type": "markdown",
   "metadata": {
    "slideshow": {
     "slide_type": "subslide"
    }
   },
   "source": [
    "* For example, for 5-fold cross validation, the dataset is split into 5 groups, and the model is trained and tested 5 separate times so each group gets a chance to be the test set. This can be seen in the image below.\n",
    "<img src=\"./assets/tut_05_kcv.jpeg\" style=\"height:250px\" /> \n",
    "\n",
    "    * (Image from Datacamp)"
   ]
  },
  {
   "cell_type": "markdown",
   "metadata": {
    "slideshow": {
     "slide_type": "subslide"
    }
   },
   "source": [
    "* Cross-validation is *better* than using the holdout method because the holdout method score is dependent on how the data is split into train, validation and test sets. \n",
    "* Cross-validation gives the model an opportunity to test on multiple splits so we can get a better idea on how the model will perform on unseen data."
   ]
  },
  {
   "cell_type": "markdown",
   "metadata": {
    "slideshow": {
     "slide_type": "subslide"
    }
   },
   "source": [
    "**The steps:**\n",
    "1. Data is split into $k$ subsets of equal size.\n",
    "2. Each subset in turn is used for testing and the remainder for training.\n",
    "3. The estimates are averaged to yield an overall estimate."
   ]
  },
  {
   "cell_type": "markdown",
   "metadata": {
    "slideshow": {
     "slide_type": "subslide"
    }
   },
   "source": [
    "**Implementation using Scikit-learn:**\n",
    "* `cross_val_score` - takes in a classifier, training data, $k$ (number of folds) and the scoring technique (\"accuracy\" for example). <a href=\"https://scikit-learn.org/stable/modules/generated/sklearn.model_selection.cross_val_score.html\">Read the Doc Here</a>\n",
    "* `StratifiedKFold` - if you need more control over the cross-validation process than provided in `cross_val_score`, it is possible to implement cross-validation yourself. The `StratifiedKFold` class performs stratified sampling to produce folds that contain a representative ratio of each class. <a href=\"https://scikit-learn.org/stable/modules/generated/sklearn.model_selection.StratifiedKFold.html\">Read the Doc Here</a>"
   ]
  },
  {
   "cell_type": "markdown",
   "metadata": {
    "slideshow": {
     "slide_type": "subslide"
    }
   },
   "source": [
    "**More on Cross-Validation:**\n",
    "* Standard method for evaluation: *stratified 10-fold cross validation*\n",
    "* Stratification reduces the estimate's *variance* (more confidence in the output)\n",
    "* An even better method: **repeated** stratified cross-validation\n",
    "    * For example, 10-fold cross-validation is repeated 10 times and the results are averaged (reduces the variance).\n",
    "* Which dataset should we use for the $K$-Fold Cross Validation (Train, Test, Validation)?\n",
    "    * The **test set** - must be untouched, put aside. Don't use it for ANY purpose other than testing.\n",
    "    * The **validation set** - used to test performances of the models at various stages of the model development (like tuning the hyper-parameters of the model)\n",
    "    * The **train set** - used for training, including cross-validation. **USE ONLY THIS FOR CV!**"
   ]
  },
  {
   "cell_type": "markdown",
   "metadata": {
    "slideshow": {
     "slide_type": "slide"
    }
   },
   "source": [
    "### <img src=\"https://img.icons8.com/doodle/100/000000/big-puzzle--v1.png\" style=\"height:50px;display:inline\"> Leave-One-Out Cross-Validation\n",
    "---\n",
    "* A particular form of cross-validation where the number of folds = number of training instances\n",
    "    * That is, for training set of size $n$, the classifier is built $n$ times\n",
    "* Makes best use of the data\n",
    "* Involves **no random subsampling**\n",
    "* Very computationally **expensive**\n",
    "* **Stratification is not possible** - it is a big disadvantage\n",
    "    * It *guarantees* a non-stratified sample because there is only one instance in the test set.\n",
    "* Extreme example - random datatset split equally into two classes:\n",
    "    * Best inducer predicts majority class\n",
    "    * 50% accuracy on fresh data\n",
    "    * Leave-One-Out CV estimate is 100% error!"
   ]
  },
  {
   "cell_type": "markdown",
   "metadata": {
    "slideshow": {
     "slide_type": "subslide"
    }
   },
   "source": [
    "#### Pre-proceesing steps on validation steps\n",
    "---\n",
    "* Whatever data preparations steps done on the training data, should be able to be applied at the final test on unseen data.\n",
    "    * For example, if normalizing a feature with a mean, the mean is fixed at the data prep and **not recalculated**. Otherwise, a model that was trained and tested on data that used the former mean may not be adequate.\n",
    "* Data preparation steps are mostly based on descriptive statistics. So a **larger sample** that provides a **stable statistics** is an advantage.\n",
    "* By not using the validation set, we have a **better estimate of the \"true error\"**, which we measure by applying pre-processing steps to test data.\n",
    "* By using the validation set, we **separate the effect of the pre-processing** from that of the classifier."
   ]
  },
  {
   "cell_type": "markdown",
   "metadata": {
    "slideshow": {
     "slide_type": "slide"
    }
   },
   "source": [
    "## <img src=\"https://img.icons8.com/color/96/000000/super-hero-female.png\" style=\"height:50px;display:inline\"> Classification Example - Breast Cancer - From Zero to Hero\n",
    "---\n",
    "We will now demonstrate all that we have learned on the Breast Cancer dataset. For the purpose of the exercise, we will use a classifier called \"SGDClassifier\" (SVM using Stochastic Gradient Descent). You are not supposed to be familiar with it at this point of the course, you can read more about it <a href=\"https://scikit-learn.org/stable/modules/generated/sklearn.linear_model.SGDClassifier.html\">here</a>. We will use it as a black-box algorithm that gives us classification for a certain dataset.\n",
    "\n",
    "* We will only use *train* and *test* sets since the dataset has limited number of samples and since we are not going to tune the hyper-parameters of the model.\n",
    "* Each classifier has a **decision function** - for each instance, it computes a score and if that score is greater than some threshold, it assigns the instance to the positive class, or else it assigns it to the negative class (lowering the threshold usually leads to increase in *recall* and reduce in *precision*, and vice versa).\n",
    "* Finally, will briefly introduce the **ROC Curve**, as a tool to asses to performance of the classifier."
   ]
  },
  {
   "cell_type": "code",
   "execution_count": 12,
   "metadata": {
    "slideshow": {
     "slide_type": "skip"
    }
   },
   "outputs": [],
   "source": [
    "# scikit-learn imports\n",
    "from sklearn.model_selection import cross_val_score, cross_val_predict\n",
    "from sklearn.metrics import confusion_matrix, f1_score, precision_recall_curve, roc_curve, roc_auc_score\n",
    "from sklearn.linear_model import SGDClassifier\n",
    "from sklearn.preprocessing import StandardScaler"
   ]
  },
  {
   "cell_type": "code",
   "execution_count": 13,
   "metadata": {
    "slideshow": {
     "slide_type": "subslide"
    }
   },
   "outputs": [],
   "source": [
    "# prepare the dataset\n",
    "# we will take the first 2 features as our data (X) and the diagnosis as labels (y)\n",
    "x = dataset[['radius_mean', 'texture_mean']].values\n",
    "y = dataset['diagnosis'].values == 'M'  # 1 for Malignat, 0 for Benign\n",
    "# x = scaler.fit_transform(x)\n",
    "# shuffle\n",
    "rand_gen = np.random.RandomState(0)\n",
    "shuffled_indices = rand_gen.permutation(np.arange(len(x)))"
   ]
  },
  {
   "cell_type": "code",
   "execution_count": 14,
   "metadata": {
    "slideshow": {
     "slide_type": "subslide"
    }
   },
   "outputs": [],
   "source": [
    "x_train = x[shuffled_indices[:num_train]]\n",
    "y_train = y[shuffled_indices[:num_train]]\n",
    "x_test = x[shuffled_indices[num_train:]]\n",
    "y_test = y[shuffled_indices[num_train:]]"
   ]
  },
  {
   "cell_type": "code",
   "execution_count": 15,
   "metadata": {
    "slideshow": {
     "slide_type": "subslide"
    }
   },
   "outputs": [
    {
     "name": "stdout",
     "output_type": "stream",
     "text": [
      "total training samples: 455, total test samples: 114\n"
     ]
    }
   ],
   "source": [
    "# pre-process - standartization\n",
    "scaler = StandardScaler()\n",
    "scaler.fit(x_train)\n",
    "x_train = scaler.transform(x_train)\n",
    "x_test = scaler.transform(x_test)\n",
    "\n",
    "print(\"total training samples: {}, total test samples: {}\".format(num_train, number_of_rows - num_train))"
   ]
  },
  {
   "cell_type": "code",
   "execution_count": 16,
   "metadata": {
    "slideshow": {
     "slide_type": "subslide"
    }
   },
   "outputs": [
    {
     "name": "stdout",
     "output_type": "stream",
     "text": [
      "accuracy in each fold:\n",
      "[0.84782609 0.91304348 0.86956522 0.97826087 0.93478261 0.84782609\n",
      " 0.84782609 0.73333333 0.93181818 0.88636364]\n",
      "mean training accuracy:\n",
      "0.8790645586297761\n"
     ]
    }
   ],
   "source": [
    "# create the classifier\n",
    "sgd_clf = SGDClassifier(random_state=92, max_iter=1000, tol=1e-3)  \n",
    "# we make the random state constant for reproducible results\n",
    "# train (fit) using cross validation\n",
    "k_folds = 10\n",
    "cross_val_scores = cross_val_score(sgd_clf, x_train, y_train, cv=k_folds, scoring='accuracy')\n",
    "print(\"accuracy in each fold:\")\n",
    "print(cross_val_scores)\n",
    "print(\"mean training accuracy:\")\n",
    "print(cross_val_scores.mean())"
   ]
  },
  {
   "cell_type": "code",
   "execution_count": 17,
   "metadata": {
    "slideshow": {
     "slide_type": "subslide"
    }
   },
   "outputs": [
    {
     "data": {
      "text/plain": [
       "SGDClassifier(alpha=0.0001, average=False, class_weight=None,\n",
       "              early_stopping=False, epsilon=0.1, eta0=0.0, fit_intercept=True,\n",
       "              l1_ratio=0.15, learning_rate='optimal', loss='hinge',\n",
       "              max_iter=1000, n_iter_no_change=5, n_jobs=None, penalty='l2',\n",
       "              power_t=0.5, random_state=92, shuffle=True, tol=0.001,\n",
       "              validation_fraction=0.1, verbose=0, warm_start=False)"
      ]
     },
     "execution_count": 17,
     "metadata": {},
     "output_type": "execute_result"
    }
   ],
   "source": [
    "# Now, fit the classifier to the train data\n",
    "sgd_clf.fit(x_train, y_train)"
   ]
  },
  {
   "cell_type": "code",
   "execution_count": 18,
   "metadata": {
    "slideshow": {
     "slide_type": "subslide"
    }
   },
   "outputs": [
    {
     "data": {
      "text/html": [
       "<div>\n",
       "<style scoped>\n",
       "    .dataframe tbody tr th:only-of-type {\n",
       "        vertical-align: middle;\n",
       "    }\n",
       "\n",
       "    .dataframe tbody tr th {\n",
       "        vertical-align: top;\n",
       "    }\n",
       "\n",
       "    .dataframe thead th {\n",
       "        text-align: right;\n",
       "    }\n",
       "</style>\n",
       "<table border=\"1\" class=\"dataframe\">\n",
       "  <thead>\n",
       "    <tr style=\"text-align: right;\">\n",
       "      <th></th>\n",
       "      <th>Predicted Pos</th>\n",
       "      <th>Predicted Neg</th>\n",
       "    </tr>\n",
       "  </thead>\n",
       "  <tbody>\n",
       "    <tr>\n",
       "      <td>Actual Pos</td>\n",
       "      <td>70</td>\n",
       "      <td>0</td>\n",
       "    </tr>\n",
       "    <tr>\n",
       "      <td>Actual Neg</td>\n",
       "      <td>14</td>\n",
       "      <td>30</td>\n",
       "    </tr>\n",
       "  </tbody>\n",
       "</table>\n",
       "</div>"
      ],
      "text/plain": [
       "            Predicted Pos  Predicted Neg\n",
       "Actual Pos             70              0\n",
       "Actual Neg             14             30"
      ]
     },
     "execution_count": 18,
     "metadata": {},
     "output_type": "execute_result"
    }
   ],
   "source": [
    "# evaluation\n",
    "y_test_pred = sgd_clf.predict(x_test)\n",
    "# confusion matrix\n",
    "conf_mat = confusion_matrix(y_test, y_test_pred)\n",
    "conf_mat_df = pd.DataFrame(conf_mat, columns=['Predicted Pos', 'Predicted Neg'], index=['Actual Pos', 'Actual Neg'])\n",
    "conf_mat_df"
   ]
  },
  {
   "cell_type": "code",
   "execution_count": 19,
   "metadata": {
    "slideshow": {
     "slide_type": "subslide"
    }
   },
   "outputs": [
    {
     "name": "stdout",
     "output_type": "stream",
     "text": [
      "accuracy: 87.719 % , f1 score: 0.811\n"
     ]
    }
   ],
   "source": [
    "# accuracy\n",
    "accuracy = np.sum(y_test == y_test_pred) / len(y_test)\n",
    "# f1 score\n",
    "f1 = f1_score(y_test, y_test_pred)\n",
    "print(\"accuracy: {:.3f} % , f1 score: {:.3f}\".format(accuracy * 100, f1))"
   ]
  },
  {
   "cell_type": "code",
   "execution_count": 20,
   "metadata": {
    "slideshow": {
     "slide_type": "subslide"
    }
   },
   "outputs": [
    {
     "name": "stdout",
     "output_type": "stream",
     "text": [
      "[-2.09830569]\n"
     ]
    }
   ],
   "source": [
    "# let's get the scores for some instance\n",
    "y_scores = sgd_clf.decision_function([x_train[0]])\n",
    "# for SGDClssifier, the default threshold is 0, anything below is calssified as negative and else positive\n",
    "print(y_scores)\n",
    "# let's see the effect of the threshold on the training data\n",
    "y_scores = cross_val_predict(sgd_clf, x_train, y_train, cv=k_folds, method=\"decision_function\")"
   ]
  },
  {
   "cell_type": "code",
   "execution_count": 24,
   "metadata": {
    "slideshow": {
     "slide_type": "subslide"
    }
   },
   "outputs": [],
   "source": [
    "def plot_pr_recall_curve(labels, scores):\n",
    "    precisions, recalls, thresholds = precision_recall_curve(labels, scores)\n",
    "    fig = plt.figure(figsize=(10, 5))\n",
    "    ax = fig.add_subplot(1,1,1)\n",
    "    ax.plot(thresholds, precisions[:-1], \"b--\", label=\"Precision\")\n",
    "    ax.plot(thresholds, recalls[:-1], \"g-\", label=\"Recall\")\n",
    "    ax.set_xlabel(\"Threshold\")\n",
    "    ax.set_title(\"Precision/Recall Tradeoff\")\n",
    "    ax.legend()\n",
    "    ax.grid()\n",
    "    ax.set_ylim([0, 1])"
   ]
  },
  {
   "cell_type": "code",
   "execution_count": 25,
   "metadata": {
    "slideshow": {
     "slide_type": "subslide"
    }
   },
   "outputs": [
    {
     "data": {
      "image/png": "[encoded data removed]",
      "text/plain": [
       "<Figure size 720x360 with 1 Axes>"
      ]
     },
     "metadata": {
      "needs_background": "light"
     },
     "output_type": "display_data"
    }
   ],
   "source": [
    "# let's plot and see the effect\n",
    "plot_pr_recall_curve(y_train, y_scores)"
   ]
  },
  {
   "cell_type": "markdown",
   "metadata": {
    "slideshow": {
     "slide_type": "slide"
    }
   },
   "source": [
    "### <img src=\"https://img.icons8.com/dusk/64/000000/rock-music.png\" style=\"height:50px;display:inline\"> The ROC Curve\n",
    "---\n",
    "The *receiver operating characteristic* (ROC) curve is another common tool used with binary classifiers. It is very similar to the precision/recall curve, but uses the True Positive Rate (TPR, another name for Recall) vs. the False Positive Rate (FPR, the ratio of negtaive instances that are incorrectly classified as positive) we saw in the beginning of the tutorial.\n",
    "* Note: The FPR is equal to $1 - TNR$ (true negative rate, or, *specifity*)\n",
    "* The ROC curve plots *sensitivity* (recall) vs. 1 - *specifity*.\n",
    "* **TPR/FPR Tradeoff**: The higher the TPR (recall) the more *false positive* (FPR) the classifier produces.\n",
    "* To compare classifiers - measure the *area under the curve* (AUC). A perfect classifier will have a ROC AUC equal to 1, whereas a purely random one will have a 0.5 AUC.\n",
    "* **Precision/Recall curve vs ROC curve**: if the positive class is rare, or you care more about the false positive than the false negative use **Precision/Recall**. Otherwise, use the ROC curve."
   ]
  },
  {
   "cell_type": "code",
   "execution_count": 27,
   "metadata": {
    "slideshow": {
     "slide_type": "subslide"
    }
   },
   "outputs": [],
   "source": [
    "def plot_roc_curve(labels, scores):\n",
    "    fpr, tpr, thresholds = roc_curve(labels, scores)\n",
    "    precisions, recalls, thresholds = precision_recall_curve(y_train, y_scores)\n",
    "    fig = plt.figure(figsize=(10,5))\n",
    "    ax = fig.add_subplot(1,1,1)\n",
    "    ax.plot(fpr, tpr, linewidth=2)\n",
    "    ax.plot([0,1], [0,1], 'k--') # random classifier\n",
    "    ax.set_xlabel(\"False Positive Rate (FPR)\")\n",
    "    ax.set_ylabel(\"True Positive Rate(TPR=Recall)\")\n",
    "    ax.set_title(\"ROC Curve\")\n",
    "    ax.grid()\n",
    "    ax.set_xlim([0, 1])\n",
    "    ax.set_ylim([0, 1])"
   ]
  },
  {
   "cell_type": "code",
   "execution_count": 28,
   "metadata": {
    "slideshow": {
     "slide_type": "subslide"
    }
   },
   "outputs": [
    {
     "name": "stdout",
     "output_type": "stream",
     "text": [
      "ROC AUC Score: 0.943\n"
     ]
    },
    {
     "data": {
      "image/png": "[encoded data removed]",
      "text/plain": [
       "<Figure size 720x360 with 1 Axes>"
      ]
     },
     "metadata": {
      "needs_background": "light"
     },
     "output_type": "display_data"
    }
   ],
   "source": [
    "# the ROC curve\n",
    "plot_roc_curve(y_train, y_scores)\n",
    "roc_auc = roc_auc_score(y_train, y_scores)\n",
    "print(\"ROC AUC Score: {:.3f}\".format(roc_auc))"
   ]
  },
  {
   "cell_type": "markdown",
   "metadata": {
    "slideshow": {
     "slide_type": "slide"
    }
   },
   "source": [
    "### <img src=\"https://img.icons8.com/bubbles/50/000000/video-playlist.png\" style=\"height:50px;display:inline\"> Recommended Videos\n",
    "---\n",
    "#### <img src=\"https://img.icons8.com/cute-clipart/64/000000/warning-shield.png\" style=\"height:30px;display:inline\"> Warning!\n",
    "* These videos do not replace the lectures and tutorials.\n",
    "* Please use these to get a better understanding of the material, and not as an alternative to the written material.\n",
    "\n",
    "#### Video By Subject\n",
    "\n",
    "* Precision, Recall and F1 - <a href=\"https://www.youtube.com/watch?v=jJ7ff7Gcq34\">Introduction to Precision, Recall and F1 | Classification Models</a>\n",
    "    * <a href=\"https://www.youtube.com/watch?v=j-EB6RqqjGI\">Precision, Recall & F-Measure</a>\n",
    "* Stratification - <a href=\"https://www.youtube.com/watch?v=rsNCCQhkKN8\">Sampling 03: Stratified Random Sampling</a>\n",
    "* Cross-Validation - <a href=\"https://www.youtube.com/watch?v=7062skdX05Y\">What is Cross Validation and its types?</a>\n",
    "    * K-Fold Cross Validation - <a href=\"https://www.youtube.com/watch?v=TIgfjmp-4BA\">K-Fold Cross Validation - Intro to Machine Learning</a>\n",
    "* ROC Curve - <a href=\"https://www.youtube.com/watch?v=OAl6eAyP-yo\">ROC Curves and Area Under the Curve (AUC) Explained</a>"
   ]
  },
  {
   "cell_type": "markdown",
   "metadata": {
    "slideshow": {
     "slide_type": "skip"
    }
   },
   "source": [
    "## <img src=\"https://img.icons8.com/dusk/64/000000/prize.png\" style=\"height:50px;display:inline\"> Credits\n",
    "---\n",
    "* Icons from <a href=\"https://icons8.com/\">Icon8.com</a> - https://icons8.com\n",
    "* Datasets from <a href=\"https://www.kaggle.com/\">Kaggle</a> - https://www.kaggle.com/\n",
    "* Examples and code snippets were taken from <a href=\"http://shop.oreilly.com/product/0636920052289.do\">\"Hands-On Machine Learning with Scikit-Learn and TensorFlow\"</a>"
   ]
  }
 ],
 "metadata": {
  "celltoolbar": "Slideshow",
  "kernelspec": {
   "display_name": "Python 3",
   "language": "python",
   "name": "python3"
  },
  "language_info": {
   "codemirror_mode": {
    "name": "ipython",
    "version": 3
   },
   "file_extension": ".py",
   "mimetype": "text/x-python",
   "name": "python",
   "nbconvert_exporter": "python",
   "pygments_lexer": "ipython3",
   "version": "3.6.9"
  }
 },
 "nbformat": 4,
 "nbformat_minor": 2
}
