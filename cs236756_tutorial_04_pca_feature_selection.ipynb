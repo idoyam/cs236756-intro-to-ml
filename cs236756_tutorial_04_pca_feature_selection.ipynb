{
 "cells": [
  {
   "cell_type": "markdown",
   "metadata": {
    "slideshow": {
     "slide_type": "slide"
    }
   },
   "source": [
    "# <img src=\"https://img.icons8.com/dusk/64/000000/mind-map.png\" style=\"height:50px;display:inline\"> CS 236756 - Technion - Intro to Machine Learning\n",
    "---\n",
    "#### Tal Daniel\n",
    "\n",
    "## Tutorial 04 - Dimensionality Reduction & Feature Selection\n",
    "---"
   ]
  },
  {
   "cell_type": "markdown",
   "metadata": {
    "slideshow": {
     "slide_type": "subslide"
    }
   },
   "source": [
    "### <img src=\"https://img.icons8.com/bubbles/50/000000/checklist.png\" style=\"height:50px;display:inline\"> Agenda\n",
    "---\n",
    "* [Motivation](#-Motivation--Why-Dimensionality-Reduction?)\n",
    "* [Dimensionality Reduction vs. Feature Selection](#-Dimensionality-Reduction)\n",
    "* [PCA (& SVD for PCA)](#-Principle-Component-Analysis-(PCA))\n",
    "* [Feature Selection](#-Feature-Selection)\n",
    "    * [Filter methods](#-Filter-Methods)\n",
    "    * [Wrapper methods](#Filter-vs.-Wrapper)\n",
    "* [Recommended Videos](#-Recommended-Videos)\n",
    "* [Credits](#-Credits)"
   ]
  },
  {
   "cell_type": "code",
   "execution_count": 1,
   "metadata": {
    "slideshow": {
     "slide_type": "skip"
    }
   },
   "outputs": [],
   "source": [
    "# imports for the tutorial\n",
    "import numpy as np\n",
    "import pandas as pd\n",
    "import matplotlib.pyplot as plt\n",
    "from mpl_toolkits.mplot3d import Axes3D\n",
    "%matplotlib notebook"
   ]
  },
  {
   "cell_type": "markdown",
   "metadata": {
    "slideshow": {
     "slide_type": "slide"
    }
   },
   "source": [
    "## <img src=\"https://img.icons8.com/dusk/64/000000/confetti.png\" style=\"height:50px;display:inline\"> Motivation- Why Dimensionality Reduction?\n",
    "---\n",
    "* Discover Hidden Correlation/Topics - when we reduce dimensions, we sometimes discover correlation between features\n",
    "    * For example, we can notice two features that occur commonly together\n",
    "    * *Anomaly Detection*\n",
    "* Remove Redundant and Noisy Features\n",
    "    * Not all features are useful and sometimes harm the performance"
   ]
  },
  {
   "cell_type": "markdown",
   "metadata": {
    "slideshow": {
     "slide_type": "subslide"
    }
   },
   "source": [
    "* Interpretation & Visualiztion\n",
    "    * For example, when we reduce $n$-dimensional features to 2 or 3, we can plot them and see the relationship with our eyes\n",
    "* Easier Storage and Processing of the Data\n",
    "    * Reduces time and space complexity\n",
    "    * Yields a more optimized process\n",
    "* Alleviates **The Curse of Dimensionality**"
   ]
  },
  {
   "cell_type": "markdown",
   "metadata": {
    "slideshow": {
     "slide_type": "slide"
    }
   },
   "source": [
    "## <img src=\"https://img.icons8.com/dusk/64/000000/negative-dynamic.png\" style=\"height:50px;display:inline\"> Dimensionality Reduction\n",
    "---\n",
    "* Dimensionality reduction is the process of reducing the dimensionality of the feature space with consideration by obtaining a set of principal features. \n",
    "    * Dimensionality reduction can be further broken into feature selection and feature extraction.\n",
    "* Dimensionality Reduction vs. **Feature Selection**\n",
    "    * Differs from feature selection in 2 ways:\n",
    "        1. Instead of choosing subset of features, it creates new features (dimensions) defined as functions over all features\n",
    "        2. Does not consider class labels, just data points"
   ]
  },
  {
   "cell_type": "markdown",
   "metadata": {
    "slideshow": {
     "slide_type": "subslide"
    }
   },
   "source": [
    "* Main Idea:\n",
    "    * Given data points in **d**-dimensional space\n",
    "    * Project the data points into lower dimensional space while **preserving as much information as possible**\n",
    "        * For example, find the best 2-D approximation to 3/4/104-D data\n",
    "    * In particular, choose the projection that minimizes the squared error in reconstruction of the original data\n",
    "* Example (from the presentation):\n",
    "    * Assumption: Data lies on or near a low *d*-dimensional subspace\n",
    "    * Axes of this subspace are effective representation of the data"
   ]
  },
  {
   "cell_type": "markdown",
   "metadata": {
    "slideshow": {
     "slide_type": "subslide"
    }
   },
   "source": [
    "<img src=\"./assets/tut_04_dim_red.jpg\" style=\"height:250px\">"
   ]
  },
  {
   "cell_type": "markdown",
   "metadata": {
    "slideshow": {
     "slide_type": "slide"
    }
   },
   "source": [
    "### <img src=\"https://img.icons8.com/dusk/64/000000/scatter-plot.png\" style=\"height:50px;display:inline\"> Outliers\n",
    "---\n",
    "\n",
    "**An outlier is a data point that is distant from other similar points.**\n",
    "\n",
    "* In statistics, an outlier is an observation point that is distant from other observations. An outlier may be due to variability in the measurement or it may indicate experimental error, the latter are sometimes excluded from the data set. An outlier can cause serious problems in statistical analysis.\n",
    "\n",
    "* Outliers can occur by chance in any distribution, but they often indicate either measurement error in which case we wish to discard them or use statistics that are robust to outliers."
   ]
  },
  {
   "cell_type": "markdown",
   "metadata": {
    "slideshow": {
     "slide_type": "subslide"
    }
   },
   "source": [
    "<img src=\"./assets/tut_04_outlier.jpeg\" style=\"height:200px\">"
   ]
  },
  {
   "cell_type": "markdown",
   "metadata": {
    "slideshow": {
     "slide_type": "subslide"
    }
   },
   "source": [
    "* Example: In a customer profiling it is found out that the average annual income of customers is 0.8 million USD. But, there are two customers having annual income of 4 and 4.2 million USD. These two customers annual income is much higher than rest of the population. These two observations will be seen as Outliers.\n",
    "\n",
    "* Examples and images from <a href=\"https://medium.com/datadriveninvestor/unboxing-outliers-in-machine-learning-d43fe40d88a6\">Unboxing Outliers in Machine Learning - Madhav Mishra</a>"
   ]
  },
  {
   "cell_type": "markdown",
   "metadata": {
    "slideshow": {
     "slide_type": "slide"
    }
   },
   "source": [
    "## <img src=\"https://img.icons8.com/dusk/64/000000/zoom-to-extents.png\" style=\"height:50px;display:inline\"> Principle Component Analysis (PCA)\n",
    "---\n",
    "PCA is a method for reducing the dimensionality of data.\n",
    "\n",
    "It uses simple matrix operations from linear algebra and statistics to calculate a projection of the original data into the same number or fewer dimensions.\n",
    "\n",
    "We can define 2 goals PCA wishes to achieve:\n",
    "1. Find linearly independent dimensions (or basis of views) which can losslessly represent the data points.\n",
    "2. Those newly found dimensions should allow us to predict/reconstruct the original dimensions. **The reconstruction/projection error should be minimized.**"
   ]
  },
  {
   "cell_type": "markdown",
   "metadata": {
    "slideshow": {
     "slide_type": "subslide"
    }
   },
   "source": [
    "More formally, PCA finds a new set of dimensions (or a set of basis of views) such that all the dimensions are **orthogonal** (and hence linearly independent) and ranked according to the variance of data along them. It means that the more important principle axis occurs first (more important = more variance/more spread out data)."
   ]
  },
  {
   "cell_type": "markdown",
   "metadata": {
    "slideshow": {
     "slide_type": "subslide"
    }
   },
   "source": [
    "Recap of some basics:\n",
    "* **Variance** - a measure of the variability. Mathematically, it is the average squared deviation from the mean score. We use the following formula to compute variance: $var(x) = \\frac{1}{N}\\sum_{i=1}^{N}(x_i - \\mu_x)^2$ where $\\mu_x$ is the mean.\n",
    "* **Covaraince** - a measure of the extent to which corresponding elements from two sets of ordered data move in the same direction. We use the following formula to compute variance: $cov(x, y) = \\frac{1}{N}\\sum_{i=1}^{N}(x_i - \\mu_x)(y_i-\\mu_y)$.\n",
    "* **Covariance matrix** - includes the variance of dimensions on the main diagonal and the rest is the covariance between dimensions. If we have $N$ data points (samples) with $d$ dimensions for each sample and $X$ is an $d\\times N$ matrix, then:\n",
    "$Cov(X) = \\frac{1}{N}(X-\\mu_X)(X-\\mu_X)^T$ (in PCA, we wish this matrix to be diagonal). We assume the data is centered, thus: $Cov(X) = \\frac{1}{N}XX^T$\n"
   ]
  },
  {
   "cell_type": "markdown",
   "metadata": {
    "slideshow": {
     "slide_type": "slide"
    }
   },
   "source": [
    "### <img src=\"https://img.icons8.com/dusk/64/000000/idea.png\" style=\"height:50px;display:inline\"> PCA Intuition\n",
    "---\n",
    "\n",
    "<img src=\"./assets/tut_04_pca_1.jpg\" style=\"height:200px\">"
   ]
  },
  {
   "cell_type": "markdown",
   "metadata": {
    "slideshow": {
     "slide_type": "subslide"
    }
   },
   "source": [
    "* Consider the variance along direction $v$ (projection) among all the orange points: $$var(v) = \\sum_{\\textit{orange points x}} ||(x - \\overline{x})\\cdot v||^2 $$\n",
    "* What is the unit vector $v$ that **minimizes** the variance?\n",
    "    * $\\min_{v} (var(v)) = v_2$\n",
    "* What is the unit vector $v$ that **maximizes** the variance?\n",
    "    * $\\max_{v} (var(v)) = v_1$"
   ]
  },
  {
   "cell_type": "markdown",
   "metadata": {
    "slideshow": {
     "slide_type": "subslide"
    }
   },
   "source": [
    "* $var(v) = var((x -\\overline{x})^T\\cdot v) = \\sum_x ||(x -\\overline{x})^T\\cdot v ||^2 = \\sum_x v^T(x -\\overline{x})(x -\\overline{x})^Tv = v^T\\big[\\sum_x (x -\\overline{x})(x -\\overline{x})^T \\big]v = v^T A v$\n",
    "* Formally: $$\\max v^T Av$$  $$\\textit{s.t   } ||v||= 1$$, where $A = \\sum_x (x-\\overline{x})(x-\\overline{x})^T = (X - \\overline{X})(X - \\overline{X})^T $"
   ]
  },
  {
   "cell_type": "markdown",
   "metadata": {
    "slideshow": {
     "slide_type": "subslide"
    }
   },
   "source": [
    "* **Solution**:\n",
    "    * $v_1$ is eigenvector of A with the **largest** eigenvalue\n",
    "    * $v_2$ is eigenvector of A with the **smallest** eigenvalue"
   ]
  },
  {
   "cell_type": "markdown",
   "metadata": {
    "slideshow": {
     "slide_type": "slide"
    }
   },
   "source": [
    "### <img src=\"https://img.icons8.com/dusk/64/000000/flow-chart.png\" style=\"height:50px;display:inline\"> PCA Algorithm\n",
    "---\n",
    "1. **Normalize/Standartize** (<a style=\"color:Tomato\">if we use features of different scales, we may get misleading components</a>) and center the data.\n",
    "2. Calculate the covariance matrix X of data points.\n",
    "3. Calculate eigenvectors and corresponding eigenvalues.\n",
    "4. Sort the eigenvectors according to their eigenvalues in decreasing order.\n",
    "5. Choose first $k$ largest eigenvectors and that will be the new $k$ dimensions.\n",
    "6. Transform the original $d$ dimensional data points into $k$ dimensions.\n",
    "\n",
    "\n",
    "* <a href=\"http://people.csail.mit.edu/dsontag/courses/ml12/slides/lecture25.pdf\">PCA Reconstruction Error Calculation</a>"
   ]
  },
  {
   "cell_type": "markdown",
   "metadata": {
    "slideshow": {
     "slide_type": "slide"
    }
   },
   "source": [
    "### <img src=\"https://img.icons8.com/nolan/64/000000/treatment-plan.png\" style=\"height:30px;display:inline\" /> The Breast Cancer Wisconsin (Diagnostic) Data Set\n",
    "---\n",
    "This dataset contains features of breast cancer and classify them to benign/malignat.\n",
    "Features are computed from a digitized image of a fine needle aspirate (FNA) of a breast mass. They describe characteristics of the cell nuclei present in the image.\n",
    "\n",
    "* We will take the first 3 features, and reduce the dimensionality to 2 using PCA"
   ]
  },
  {
   "cell_type": "markdown",
   "metadata": {
    "slideshow": {
     "slide_type": "slide"
    }
   },
   "source": [
    "### <img src=\"https://img.icons8.com/dusk/64/000000/classroom.png\" style=\"height:50px;display:inline\"> Example - PCA on Breast Cancer Dataset\n",
    "---"
   ]
  },
  {
   "cell_type": "code",
   "execution_count": 2,
   "metadata": {
    "scrolled": false,
    "slideshow": {
     "slide_type": "subslide"
    }
   },
   "outputs": [
    {
     "name": "stdout",
     "output_type": "stream",
     "text": [
      "Number of rows in the dataset: 569\n"
     ]
    },
    {
     "data": {
      "text/html": [
       "<div>\n",
       "<style scoped>\n",
       "    .dataframe tbody tr th:only-of-type {\n",
       "        vertical-align: middle;\n",
       "    }\n",
       "\n",
       "    .dataframe tbody tr th {\n",
       "        vertical-align: top;\n",
       "    }\n",
       "\n",
       "    .dataframe thead th {\n",
       "        text-align: right;\n",
       "    }\n",
       "</style>\n",
       "<table border=\"1\" class=\"dataframe\">\n",
       "  <thead>\n",
       "    <tr style=\"text-align: right;\">\n",
       "      <th></th>\n",
       "      <th>id</th>\n",
       "      <th>diagnosis</th>\n",
       "      <th>radius_mean</th>\n",
       "      <th>texture_mean</th>\n",
       "      <th>perimeter_mean</th>\n",
       "      <th>area_mean</th>\n",
       "      <th>smoothness_mean</th>\n",
       "      <th>compactness_mean</th>\n",
       "      <th>concavity_mean</th>\n",
       "      <th>concave points_mean</th>\n",
       "      <th>...</th>\n",
       "      <th>texture_worst</th>\n",
       "      <th>perimeter_worst</th>\n",
       "      <th>area_worst</th>\n",
       "      <th>smoothness_worst</th>\n",
       "      <th>compactness_worst</th>\n",
       "      <th>concavity_worst</th>\n",
       "      <th>concave points_worst</th>\n",
       "      <th>symmetry_worst</th>\n",
       "      <th>fractal_dimension_worst</th>\n",
       "      <th>Unnamed: 32</th>\n",
       "    </tr>\n",
       "  </thead>\n",
       "  <tbody>\n",
       "    <tr>\n",
       "      <td>78</td>\n",
       "      <td>8610862</td>\n",
       "      <td>M</td>\n",
       "      <td>20.180</td>\n",
       "      <td>23.97</td>\n",
       "      <td>143.70</td>\n",
       "      <td>1245.0</td>\n",
       "      <td>0.12860</td>\n",
       "      <td>0.34540</td>\n",
       "      <td>0.37540</td>\n",
       "      <td>0.16040</td>\n",
       "      <td>...</td>\n",
       "      <td>31.72</td>\n",
       "      <td>170.30</td>\n",
       "      <td>1623.0</td>\n",
       "      <td>0.1639</td>\n",
       "      <td>0.61640</td>\n",
       "      <td>0.76810</td>\n",
       "      <td>0.25080</td>\n",
       "      <td>0.5440</td>\n",
       "      <td>0.09964</td>\n",
       "      <td>NaN</td>\n",
       "    </tr>\n",
       "    <tr>\n",
       "      <td>234</td>\n",
       "      <td>882488</td>\n",
       "      <td>B</td>\n",
       "      <td>9.567</td>\n",
       "      <td>15.91</td>\n",
       "      <td>60.21</td>\n",
       "      <td>279.6</td>\n",
       "      <td>0.08464</td>\n",
       "      <td>0.04087</td>\n",
       "      <td>0.01652</td>\n",
       "      <td>0.01667</td>\n",
       "      <td>...</td>\n",
       "      <td>19.16</td>\n",
       "      <td>65.74</td>\n",
       "      <td>335.9</td>\n",
       "      <td>0.1504</td>\n",
       "      <td>0.09515</td>\n",
       "      <td>0.07161</td>\n",
       "      <td>0.07222</td>\n",
       "      <td>0.2757</td>\n",
       "      <td>0.08178</td>\n",
       "      <td>NaN</td>\n",
       "    </tr>\n",
       "    <tr>\n",
       "      <td>239</td>\n",
       "      <td>88330202</td>\n",
       "      <td>M</td>\n",
       "      <td>17.460</td>\n",
       "      <td>39.28</td>\n",
       "      <td>113.40</td>\n",
       "      <td>920.6</td>\n",
       "      <td>0.09812</td>\n",
       "      <td>0.12980</td>\n",
       "      <td>0.14170</td>\n",
       "      <td>0.08811</td>\n",
       "      <td>...</td>\n",
       "      <td>44.87</td>\n",
       "      <td>141.20</td>\n",
       "      <td>1408.0</td>\n",
       "      <td>0.1365</td>\n",
       "      <td>0.37350</td>\n",
       "      <td>0.32410</td>\n",
       "      <td>0.20660</td>\n",
       "      <td>0.2853</td>\n",
       "      <td>0.08496</td>\n",
       "      <td>NaN</td>\n",
       "    </tr>\n",
       "    <tr>\n",
       "      <td>99</td>\n",
       "      <td>862548</td>\n",
       "      <td>M</td>\n",
       "      <td>14.420</td>\n",
       "      <td>19.77</td>\n",
       "      <td>94.48</td>\n",
       "      <td>642.5</td>\n",
       "      <td>0.09752</td>\n",
       "      <td>0.11410</td>\n",
       "      <td>0.09388</td>\n",
       "      <td>0.05839</td>\n",
       "      <td>...</td>\n",
       "      <td>30.86</td>\n",
       "      <td>109.50</td>\n",
       "      <td>826.4</td>\n",
       "      <td>0.1431</td>\n",
       "      <td>0.30260</td>\n",
       "      <td>0.31940</td>\n",
       "      <td>0.15650</td>\n",
       "      <td>0.2718</td>\n",
       "      <td>0.09353</td>\n",
       "      <td>NaN</td>\n",
       "    </tr>\n",
       "    <tr>\n",
       "      <td>219</td>\n",
       "      <td>88119002</td>\n",
       "      <td>M</td>\n",
       "      <td>19.530</td>\n",
       "      <td>32.47</td>\n",
       "      <td>128.00</td>\n",
       "      <td>1223.0</td>\n",
       "      <td>0.08420</td>\n",
       "      <td>0.11300</td>\n",
       "      <td>0.11450</td>\n",
       "      <td>0.06637</td>\n",
       "      <td>...</td>\n",
       "      <td>45.41</td>\n",
       "      <td>180.20</td>\n",
       "      <td>2477.0</td>\n",
       "      <td>0.1408</td>\n",
       "      <td>0.40970</td>\n",
       "      <td>0.39950</td>\n",
       "      <td>0.16250</td>\n",
       "      <td>0.2713</td>\n",
       "      <td>0.07568</td>\n",
       "      <td>NaN</td>\n",
       "    </tr>\n",
       "    <tr>\n",
       "      <td>413</td>\n",
       "      <td>905557</td>\n",
       "      <td>B</td>\n",
       "      <td>14.990</td>\n",
       "      <td>22.11</td>\n",
       "      <td>97.53</td>\n",
       "      <td>693.7</td>\n",
       "      <td>0.08515</td>\n",
       "      <td>0.10250</td>\n",
       "      <td>0.06859</td>\n",
       "      <td>0.03876</td>\n",
       "      <td>...</td>\n",
       "      <td>31.55</td>\n",
       "      <td>110.20</td>\n",
       "      <td>867.1</td>\n",
       "      <td>0.1077</td>\n",
       "      <td>0.33450</td>\n",
       "      <td>0.31140</td>\n",
       "      <td>0.13080</td>\n",
       "      <td>0.3163</td>\n",
       "      <td>0.09251</td>\n",
       "      <td>NaN</td>\n",
       "    </tr>\n",
       "    <tr>\n",
       "      <td>381</td>\n",
       "      <td>901836</td>\n",
       "      <td>B</td>\n",
       "      <td>11.040</td>\n",
       "      <td>14.93</td>\n",
       "      <td>70.67</td>\n",
       "      <td>372.7</td>\n",
       "      <td>0.07987</td>\n",
       "      <td>0.07079</td>\n",
       "      <td>0.03546</td>\n",
       "      <td>0.02074</td>\n",
       "      <td>...</td>\n",
       "      <td>20.83</td>\n",
       "      <td>79.73</td>\n",
       "      <td>447.1</td>\n",
       "      <td>0.1095</td>\n",
       "      <td>0.19820</td>\n",
       "      <td>0.15530</td>\n",
       "      <td>0.06754</td>\n",
       "      <td>0.3202</td>\n",
       "      <td>0.07287</td>\n",
       "      <td>NaN</td>\n",
       "    </tr>\n",
       "    <tr>\n",
       "      <td>515</td>\n",
       "      <td>916221</td>\n",
       "      <td>B</td>\n",
       "      <td>11.340</td>\n",
       "      <td>18.61</td>\n",
       "      <td>72.76</td>\n",
       "      <td>391.2</td>\n",
       "      <td>0.10490</td>\n",
       "      <td>0.08499</td>\n",
       "      <td>0.04302</td>\n",
       "      <td>0.02594</td>\n",
       "      <td>...</td>\n",
       "      <td>23.03</td>\n",
       "      <td>79.15</td>\n",
       "      <td>478.6</td>\n",
       "      <td>0.1483</td>\n",
       "      <td>0.15740</td>\n",
       "      <td>0.16240</td>\n",
       "      <td>0.08542</td>\n",
       "      <td>0.3060</td>\n",
       "      <td>0.06783</td>\n",
       "      <td>NaN</td>\n",
       "    </tr>\n",
       "    <tr>\n",
       "      <td>384</td>\n",
       "      <td>902727</td>\n",
       "      <td>B</td>\n",
       "      <td>13.280</td>\n",
       "      <td>13.72</td>\n",
       "      <td>85.79</td>\n",
       "      <td>541.8</td>\n",
       "      <td>0.08363</td>\n",
       "      <td>0.08575</td>\n",
       "      <td>0.05077</td>\n",
       "      <td>0.02864</td>\n",
       "      <td>...</td>\n",
       "      <td>17.37</td>\n",
       "      <td>96.59</td>\n",
       "      <td>623.7</td>\n",
       "      <td>0.1166</td>\n",
       "      <td>0.26850</td>\n",
       "      <td>0.28660</td>\n",
       "      <td>0.09173</td>\n",
       "      <td>0.2736</td>\n",
       "      <td>0.07320</td>\n",
       "      <td>NaN</td>\n",
       "    </tr>\n",
       "    <tr>\n",
       "      <td>53</td>\n",
       "      <td>857392</td>\n",
       "      <td>M</td>\n",
       "      <td>18.220</td>\n",
       "      <td>18.70</td>\n",
       "      <td>120.30</td>\n",
       "      <td>1033.0</td>\n",
       "      <td>0.11480</td>\n",
       "      <td>0.14850</td>\n",
       "      <td>0.17720</td>\n",
       "      <td>0.10600</td>\n",
       "      <td>...</td>\n",
       "      <td>24.13</td>\n",
       "      <td>135.10</td>\n",
       "      <td>1321.0</td>\n",
       "      <td>0.1280</td>\n",
       "      <td>0.22970</td>\n",
       "      <td>0.26230</td>\n",
       "      <td>0.13250</td>\n",
       "      <td>0.3021</td>\n",
       "      <td>0.07987</td>\n",
       "      <td>NaN</td>\n",
       "    </tr>\n",
       "  </tbody>\n",
       "</table>\n",
       "<p>10 rows × 33 columns</p>\n",
       "</div>"
      ],
      "text/plain": [
       "           id diagnosis  radius_mean  texture_mean  perimeter_mean  area_mean  \\\n",
       "78    8610862         M       20.180         23.97          143.70     1245.0   \n",
       "234    882488         B        9.567         15.91           60.21      279.6   \n",
       "239  88330202         M       17.460         39.28          113.40      920.6   \n",
       "99     862548         M       14.420         19.77           94.48      642.5   \n",
       "219  88119002         M       19.530         32.47          128.00     1223.0   \n",
       "413    905557         B       14.990         22.11           97.53      693.7   \n",
       "381    901836         B       11.040         14.93           70.67      372.7   \n",
       "515    916221         B       11.340         18.61           72.76      391.2   \n",
       "384    902727         B       13.280         13.72           85.79      541.8   \n",
       "53     857392         M       18.220         18.70          120.30     1033.0   \n",
       "\n",
       "     smoothness_mean  compactness_mean  concavity_mean  concave points_mean  \\\n",
       "78           0.12860           0.34540         0.37540              0.16040   \n",
       "234          0.08464           0.04087         0.01652              0.01667   \n",
       "239          0.09812           0.12980         0.14170              0.08811   \n",
       "99           0.09752           0.11410         0.09388              0.05839   \n",
       "219          0.08420           0.11300         0.11450              0.06637   \n",
       "413          0.08515           0.10250         0.06859              0.03876   \n",
       "381          0.07987           0.07079         0.03546              0.02074   \n",
       "515          0.10490           0.08499         0.04302              0.02594   \n",
       "384          0.08363           0.08575         0.05077              0.02864   \n",
       "53           0.11480           0.14850         0.17720              0.10600   \n",
       "\n",
       "     ...  texture_worst  perimeter_worst  area_worst  smoothness_worst  \\\n",
       "78   ...          31.72           170.30      1623.0            0.1639   \n",
       "234  ...          19.16            65.74       335.9            0.1504   \n",
       "239  ...          44.87           141.20      1408.0            0.1365   \n",
       "99   ...          30.86           109.50       826.4            0.1431   \n",
       "219  ...          45.41           180.20      2477.0            0.1408   \n",
       "413  ...          31.55           110.20       867.1            0.1077   \n",
       "381  ...          20.83            79.73       447.1            0.1095   \n",
       "515  ...          23.03            79.15       478.6            0.1483   \n",
       "384  ...          17.37            96.59       623.7            0.1166   \n",
       "53   ...          24.13           135.10      1321.0            0.1280   \n",
       "\n",
       "     compactness_worst  concavity_worst  concave points_worst  symmetry_worst  \\\n",
       "78             0.61640          0.76810               0.25080          0.5440   \n",
       "234            0.09515          0.07161               0.07222          0.2757   \n",
       "239            0.37350          0.32410               0.20660          0.2853   \n",
       "99             0.30260          0.31940               0.15650          0.2718   \n",
       "219            0.40970          0.39950               0.16250          0.2713   \n",
       "413            0.33450          0.31140               0.13080          0.3163   \n",
       "381            0.19820          0.15530               0.06754          0.3202   \n",
       "515            0.15740          0.16240               0.08542          0.3060   \n",
       "384            0.26850          0.28660               0.09173          0.2736   \n",
       "53             0.22970          0.26230               0.13250          0.3021   \n",
       "\n",
       "     fractal_dimension_worst  Unnamed: 32  \n",
       "78                   0.09964          NaN  \n",
       "234                  0.08178          NaN  \n",
       "239                  0.08496          NaN  \n",
       "99                   0.09353          NaN  \n",
       "219                  0.07568          NaN  \n",
       "413                  0.09251          NaN  \n",
       "381                  0.07287          NaN  \n",
       "515                  0.06783          NaN  \n",
       "384                  0.07320          NaN  \n",
       "53                   0.07987          NaN  \n",
       "\n",
       "[10 rows x 33 columns]"
      ]
     },
     "execution_count": 2,
     "metadata": {},
     "output_type": "execute_result"
    }
   ],
   "source": [
    "# load the data\n",
    "dataset = pd.read_csv('./datasets/cancer_dataset.csv')\n",
    "# print the number of rows in the data set\n",
    "number_of_rows = len(dataset)\n",
    "print('Number of rows in the dataset: {}'.format(number_of_rows))\n",
    "## Show a sample 10 rows\n",
    "dataset.sample(10)"
   ]
  },
  {
   "cell_type": "code",
   "execution_count": 3,
   "metadata": {
    "slideshow": {
     "slide_type": "subslide"
    }
   },
   "outputs": [],
   "source": [
    "# take only the first 3 features\n",
    "x = dataset[['radius_mean', 'texture_mean', 'perimeter_mean']].values\n",
    "# standartize the data (centering and normalizing), features of different scale!\n",
    "x -= x.mean(axis=0, keepdims=True)\n",
    "x /= x.std(axis=0, keepdims=True)"
   ]
  },
  {
   "cell_type": "code",
   "execution_count": 4,
   "metadata": {
    "slideshow": {
     "slide_type": "subslide"
    }
   },
   "outputs": [],
   "source": [
    "# calculate the covariance matrix\n",
    "A = x.T @ x\n",
    "# calculate eigenvalues and eigenvectors\n",
    "# NOT ordered in decreasing order\n",
    "d, v = np.linalg.eig(A)\n",
    "# sort by decreasing order\n",
    "v = v[:,np.argsort(-d)]\n",
    "d = d[np.argsort(-d)]"
   ]
  },
  {
   "cell_type": "code",
   "execution_count": 5,
   "metadata": {
    "slideshow": {
     "slide_type": "subslide"
    }
   },
   "outputs": [
    {
     "name": "stdout",
     "output_type": "stream",
     "text": [
      "eigenvalues:\n",
      "[1.24e+03 4.66e+02 1.21e+00]\n"
     ]
    }
   ],
   "source": [
    "print(\"eigenvalues:\")\n",
    "print(d.astype(np.float16))"
   ]
  },
  {
   "cell_type": "code",
   "execution_count": 6,
   "metadata": {
    "slideshow": {
     "slide_type": "subslide"
    }
   },
   "outputs": [
    {
     "name": "stdout",
     "output_type": "stream",
     "text": [
      "projection - dimension reduction (3 to 2):\n",
      "[[-2.16045219  1.52432115]\n",
      " [-2.48707251 -0.34606217]\n",
      " [-2.02669237 -1.00831325]\n",
      " ...\n",
      " [-0.4027221  -2.16384036]\n",
      " [-1.99932661 -2.855142  ]\n",
      " [ 2.79052273 -0.46946964]]\n"
     ]
    }
   ],
   "source": [
    "# the reconstruction of x would be x ~ v.T @ A @ v\n",
    "# take the 2 most dominant directions\n",
    "print(\"projection - dimension reduction (3 to 2):\")\n",
    "x_proj = x @ v.T[:, :-1]\n",
    "print(x_proj)"
   ]
  },
  {
   "cell_type": "code",
   "execution_count": 11,
   "metadata": {
    "slideshow": {
     "slide_type": "skip"
    }
   },
   "outputs": [],
   "source": [
    "def plot_3d_pca(x, v):\n",
    "    %matplotlib notebook\n",
    "    fig = plt.figure(figsize=(8, 8))\n",
    "    ax = fig.add_subplot(1, 1, 1, projection='3d')\n",
    "    ax.set_xlabel('radius_mean',)\n",
    "    ax.set_ylabel('texture_mean')\n",
    "    ax.set_zlabel('perimeter_mean')\n",
    "    ax.plot(x[:, 0], x[:, 1], x[:, 2], '.', markersize=3)\n",
    "    ax.plot([0, v[0, 0]], [0, v[1, 0]], [0, v[2, 0]], 'r') # most dominant eigenvector\n",
    "    ax.plot([0, v[0, 1]], [0, v[1, 1]], [0, v[2, 1]], 'g')\n",
    "    ax.plot([0, v[0, 2]], [0, v[1, 2]], [0, v[2, 2]], 'b')"
   ]
  },
  {
   "cell_type": "code",
   "execution_count": 12,
   "metadata": {
    "scrolled": false,
    "slideshow": {
     "slide_type": "subslide"
    }
   },
   "outputs": [
    {
     "data": {
      "application/javascript": [
       "/* Put everything inside the global mpl namespace */\n",
       "window.mpl = {};\n",
       "\n",
       "\n",
       "mpl.get_websocket_type = function() {\n",
       "    if (typeof(WebSocket) !== 'undefined') {\n",
       "        return WebSocket;\n",
       "    } else if (typeof(MozWebSocket) !== 'undefined') {\n",
       "        return MozWebSocket;\n",
       "    } else {\n",
       "        alert('Your browser does not have WebSocket support. ' +\n",
       "              'Please try Chrome, Safari or Firefox ≥ 6. ' +\n",
       "              'Firefox 4 and 5 are also supported but you ' +\n",
       "              'have to enable WebSockets in about:config.');\n",
       "    };\n",
       "}\n",
       "\n",
       "mpl.figure = function(figure_id, websocket, ondownload, parent_element) {\n",
       "    this.id = figure_id;\n",
       "\n",
       "    this.ws = websocket;\n",
       "\n",
       "    this.supports_binary = (this.ws.binaryType != undefined);\n",
       "\n",
       "    if (!this.supports_binary) {\n",
       "        var warnings = document.getElementById(\"mpl-warnings\");\n",
       "        if (warnings) {\n",
       "            warnings.style.display = 'block';\n",
       "            warnings.textContent = (\n",
       "                \"This browser does not support binary websocket messages. \" +\n",
       "                    \"Performance may be slow.\");\n",
       "        }\n",
       "    }\n",
       "\n",
       "    this.imageObj = new Image();\n",
       "\n",
       "    this.context = undefined;\n",
       "    this.message = undefined;\n",
       "    this.canvas = undefined;\n",
       "    this.rubberband_canvas = undefined;\n",
       "    this.rubberband_context = undefined;\n",
       "    this.format_dropdown = undefined;\n",
       "\n",
       "    this.image_mode = 'full';\n",
       "\n",
       "    this.root = $('<div/>');\n",
       "    this._root_extra_style(this.root)\n",
       "    this.root.attr('style', 'display: inline-block');\n",
       "\n",
       "    $(parent_element).append(this.root);\n",
       "\n",
       "    this._init_header(this);\n",
       "    this._init_canvas(this);\n",
       "    this._init_toolbar(this);\n",
       "\n",
       "    var fig = this;\n",
       "\n",
       "    this.waiting = false;\n",
       "\n",
       "    this.ws.onopen =  function () {\n",
       "            fig.send_message(\"supports_binary\", {value: fig.supports_binary});\n",
       "            fig.send_message(\"send_image_mode\", {});\n",
       "            if (mpl.ratio != 1) {\n",
       "                fig.send_message(\"set_dpi_ratio\", {'dpi_ratio': mpl.ratio});\n",
       "            }\n",
       "            fig.send_message(\"refresh\", {});\n",
       "        }\n",
       "\n",
       "    this.imageObj.onload = function() {\n",
       "            if (fig.image_mode == 'full') {\n",
       "                // Full images could contain transparency (where diff images\n",
       "                // almost always do), so we need to clear the canvas so that\n",
       "                // there is no ghosting.\n",
       "                fig.context.clearRect(0, 0, fig.canvas.width, fig.canvas.height);\n",
       "            }\n",
       "            fig.context.drawImage(fig.imageObj, 0, 0);\n",
       "        };\n",
       "\n",
       "    this.imageObj.onunload = function() {\n",
       "        fig.ws.close();\n",
       "    }\n",
       "\n",
       "    this.ws.onmessage = this._make_on_message_function(this);\n",
       "\n",
       "    this.ondownload = ondownload;\n",
       "}\n",
       "\n",
       "mpl.figure.prototype._init_header = function() {\n",
       "    var titlebar = $(\n",
       "        '<div class=\"ui-dialog-titlebar ui-widget-header ui-corner-all ' +\n",
       "        'ui-helper-clearfix\"/>');\n",
       "    var titletext = $(\n",
       "        '<div class=\"ui-dialog-title\" style=\"width: 100%; ' +\n",
       "        'text-align: center; padding: 3px;\"/>');\n",
       "    titlebar.append(titletext)\n",
       "    this.root.append(titlebar);\n",
       "    this.header = titletext[0];\n",
       "}\n",
       "\n",
       "\n",
       "\n",
       "mpl.figure.prototype._canvas_extra_style = function(canvas_div) {\n",
       "\n",
       "}\n",
       "\n",
       "\n",
       "mpl.figure.prototype._root_extra_style = function(canvas_div) {\n",
       "\n",
       "}\n",
       "\n",
       "mpl.figure.prototype._init_canvas = function() {\n",
       "    var fig = this;\n",
       "\n",
       "    var canvas_div = $('<div/>');\n",
       "\n",
       "    canvas_div.attr('style', 'position: relative; clear: both; outline: 0');\n",
       "\n",
       "    function canvas_keyboard_event(event) {\n",
       "        return fig.key_event(event, event['data']);\n",
       "    }\n",
       "\n",
       "    canvas_div.keydown('key_press', canvas_keyboard_event);\n",
       "    canvas_div.keyup('key_release', canvas_keyboard_event);\n",
       "    this.canvas_div = canvas_div\n",
       "    this._canvas_extra_style(canvas_div)\n",
       "    this.root.append(canvas_div);\n",
       "\n",
       "    var canvas = $('<canvas/>');\n",
       "    canvas.addClass('mpl-canvas');\n",
       "    canvas.attr('style', \"left: 0; top: 0; z-index: 0; outline: 0\")\n",
       "\n",
       "    this.canvas = canvas[0];\n",
       "    this.context = canvas[0].getContext(\"2d\");\n",
       "\n",
       "    var backingStore = this.context.backingStorePixelRatio ||\n",
       "\tthis.context.webkitBackingStorePixelRatio ||\n",
       "\tthis.context.mozBackingStorePixelRatio ||\n",
       "\tthis.context.msBackingStorePixelRatio ||\n",
       "\tthis.context.oBackingStorePixelRatio ||\n",
       "\tthis.context.backingStorePixelRatio || 1;\n",
       "\n",
       "    mpl.ratio = (window.devicePixelRatio || 1) / backingStore;\n",
       "\n",
       "    var rubberband = $('<canvas/>');\n",
       "    rubberband.attr('style', \"position: absolute; left: 0; top: 0; z-index: 1;\")\n",
       "\n",
       "    var pass_mouse_events = true;\n",
       "\n",
       "    canvas_div.resizable({\n",
       "        start: function(event, ui) {\n",
       "            pass_mouse_events = false;\n",
       "        },\n",
       "        resize: function(event, ui) {\n",
       "            fig.request_resize(ui.size.width, ui.size.height);\n",
       "        },\n",
       "        stop: function(event, ui) {\n",
       "            pass_mouse_events = true;\n",
       "            fig.request_resize(ui.size.width, ui.size.height);\n",
       "        },\n",
       "    });\n",
       "\n",
       "    function mouse_event_fn(event) {\n",
       "        if (pass_mouse_events)\n",
       "            return fig.mouse_event(event, event['data']);\n",
       "    }\n",
       "\n",
       "    rubberband.mousedown('button_press', mouse_event_fn);\n",
       "    rubberband.mouseup('button_release', mouse_event_fn);\n",
       "    // Throttle sequential mouse events to 1 every 20ms.\n",
       "    rubberband.mousemove('motion_notify', mouse_event_fn);\n",
       "\n",
       "    rubberband.mouseenter('figure_enter', mouse_event_fn);\n",
       "    rubberband.mouseleave('figure_leave', mouse_event_fn);\n",
       "\n",
       "    canvas_div.on(\"wheel\", function (event) {\n",
       "        event = event.originalEvent;\n",
       "        event['data'] = 'scroll'\n",
       "        if (event.deltaY < 0) {\n",
       "            event.step = 1;\n",
       "        } else {\n",
       "            event.step = -1;\n",
       "        }\n",
       "        mouse_event_fn(event);\n",
       "    });\n",
       "\n",
       "    canvas_div.append(canvas);\n",
       "    canvas_div.append(rubberband);\n",
       "\n",
       "    this.rubberband = rubberband;\n",
       "    this.rubberband_canvas = rubberband[0];\n",
       "    this.rubberband_context = rubberband[0].getContext(\"2d\");\n",
       "    this.rubberband_context.strokeStyle = \"#000000\";\n",
       "\n",
       "    this._resize_canvas = function(width, height) {\n",
       "        // Keep the size of the canvas, canvas container, and rubber band\n",
       "        // canvas in synch.\n",
       "        canvas_div.css('width', width)\n",
       "        canvas_div.css('height', height)\n",
       "\n",
       "        canvas.attr('width', width * mpl.ratio);\n",
       "        canvas.attr('height', height * mpl.ratio);\n",
       "        canvas.attr('style', 'width: ' + width + 'px; height: ' + height + 'px;');\n",
       "\n",
       "        rubberband.attr('width', width);\n",
       "        rubberband.attr('height', height);\n",
       "    }\n",
       "\n",
       "    // Set the figure to an initial 600x600px, this will subsequently be updated\n",
       "    // upon first draw.\n",
       "    this._resize_canvas(600, 600);\n",
       "\n",
       "    // Disable right mouse context menu.\n",
       "    $(this.rubberband_canvas).bind(\"contextmenu\",function(e){\n",
       "        return false;\n",
       "    });\n",
       "\n",
       "    function set_focus () {\n",
       "        canvas.focus();\n",
       "        canvas_div.focus();\n",
       "    }\n",
       "\n",
       "    window.setTimeout(set_focus, 100);\n",
       "}\n",
       "\n",
       "mpl.figure.prototype._init_toolbar = function() {\n",
       "    var fig = this;\n",
       "\n",
       "    var nav_element = $('<div/>');\n",
       "    nav_element.attr('style', 'width: 100%');\n",
       "    this.root.append(nav_element);\n",
       "\n",
       "    // Define a callback function for later on.\n",
       "    function toolbar_event(event) {\n",
       "        return fig.toolbar_button_onclick(event['data']);\n",
       "    }\n",
       "    function toolbar_mouse_event(event) {\n",
       "        return fig.toolbar_button_onmouseover(event['data']);\n",
       "    }\n",
       "\n",
       "    for(var toolbar_ind in mpl.toolbar_items) {\n",
       "        var name = mpl.toolbar_items[toolbar_ind][0];\n",
       "        var tooltip = mpl.toolbar_items[toolbar_ind][1];\n",
       "        var image = mpl.toolbar_items[toolbar_ind][2];\n",
       "        var method_name = mpl.toolbar_items[toolbar_ind][3];\n",
       "\n",
       "        if (!name) {\n",
       "            // put a spacer in here.\n",
       "            continue;\n",
       "        }\n",
       "        var button = $('<button/>');\n",
       "        button.addClass('ui-button ui-widget ui-state-default ui-corner-all ' +\n",
       "                        'ui-button-icon-only');\n",
       "        button.attr('role', 'button');\n",
       "        button.attr('aria-disabled', 'false');\n",
       "        button.click(method_name, toolbar_event);\n",
       "        button.mouseover(tooltip, toolbar_mouse_event);\n",
       "\n",
       "        var icon_img = $('<span/>');\n",
       "        icon_img.addClass('ui-button-icon-primary ui-icon');\n",
       "        icon_img.addClass(image);\n",
       "        icon_img.addClass('ui-corner-all');\n",
       "\n",
       "        var tooltip_span = $('<span/>');\n",
       "        tooltip_span.addClass('ui-button-text');\n",
       "        tooltip_span.html(tooltip);\n",
       "\n",
       "        button.append(icon_img);\n",
       "        button.append(tooltip_span);\n",
       "\n",
       "        nav_element.append(button);\n",
       "    }\n",
       "\n",
       "    var fmt_picker_span = $('<span/>');\n",
       "\n",
       "    var fmt_picker = $('<select/>');\n",
       "    fmt_picker.addClass('mpl-toolbar-option ui-widget ui-widget-content');\n",
       "    fmt_picker_span.append(fmt_picker);\n",
       "    nav_element.append(fmt_picker_span);\n",
       "    this.format_dropdown = fmt_picker[0];\n",
       "\n",
       "    for (var ind in mpl.extensions) {\n",
       "        var fmt = mpl.extensions[ind];\n",
       "        var option = $(\n",
       "            '<option/>', {selected: fmt === mpl.default_extension}).html(fmt);\n",
       "        fmt_picker.append(option);\n",
       "    }\n",
       "\n",
       "    // Add hover states to the ui-buttons\n",
       "    $( \".ui-button\" ).hover(\n",
       "        function() { $(this).addClass(\"ui-state-hover\");},\n",
       "        function() { $(this).removeClass(\"ui-state-hover\");}\n",
       "    );\n",
       "\n",
       "    var status_bar = $('<span class=\"mpl-message\"/>');\n",
       "    nav_element.append(status_bar);\n",
       "    this.message = status_bar[0];\n",
       "}\n",
       "\n",
       "mpl.figure.prototype.request_resize = function(x_pixels, y_pixels) {\n",
       "    // Request matplotlib to resize the figure. Matplotlib will then trigger a resize in the client,\n",
       "    // which will in turn request a refresh of the image.\n",
       "    this.send_message('resize', {'width': x_pixels, 'height': y_pixels});\n",
       "}\n",
       "\n",
       "mpl.figure.prototype.send_message = function(type, properties) {\n",
       "    properties['type'] = type;\n",
       "    properties['figure_id'] = this.id;\n",
       "    this.ws.send(JSON.stringify(properties));\n",
       "}\n",
       "\n",
       "mpl.figure.prototype.send_draw_message = function() {\n",
       "    if (!this.waiting) {\n",
       "        this.waiting = true;\n",
       "        this.ws.send(JSON.stringify({type: \"draw\", figure_id: this.id}));\n",
       "    }\n",
       "}\n",
       "\n",
       "\n",
       "mpl.figure.prototype.handle_save = function(fig, msg) {\n",
       "    var format_dropdown = fig.format_dropdown;\n",
       "    var format = format_dropdown.options[format_dropdown.selectedIndex].value;\n",
       "    fig.ondownload(fig, format);\n",
       "}\n",
       "\n",
       "\n",
       "mpl.figure.prototype.handle_resize = function(fig, msg) {\n",
       "    var size = msg['size'];\n",
       "    if (size[0] != fig.canvas.width || size[1] != fig.canvas.height) {\n",
       "        fig._resize_canvas(size[0], size[1]);\n",
       "        fig.send_message(\"refresh\", {});\n",
       "    };\n",
       "}\n",
       "\n",
       "mpl.figure.prototype.handle_rubberband = function(fig, msg) {\n",
       "    var x0 = msg['x0'] / mpl.ratio;\n",
       "    var y0 = (fig.canvas.height - msg['y0']) / mpl.ratio;\n",
       "    var x1 = msg['x1'] / mpl.ratio;\n",
       "    var y1 = (fig.canvas.height - msg['y1']) / mpl.ratio;\n",
       "    x0 = Math.floor(x0) + 0.5;\n",
       "    y0 = Math.floor(y0) + 0.5;\n",
       "    x1 = Math.floor(x1) + 0.5;\n",
       "    y1 = Math.floor(y1) + 0.5;\n",
       "    var min_x = Math.min(x0, x1);\n",
       "    var min_y = Math.min(y0, y1);\n",
       "    var width = Math.abs(x1 - x0);\n",
       "    var height = Math.abs(y1 - y0);\n",
       "\n",
       "    fig.rubberband_context.clearRect(\n",
       "        0, 0, fig.canvas.width / mpl.ratio, fig.canvas.height / mpl.ratio);\n",
       "\n",
       "    fig.rubberband_context.strokeRect(min_x, min_y, width, height);\n",
       "}\n",
       "\n",
       "mpl.figure.prototype.handle_figure_label = function(fig, msg) {\n",
       "    // Updates the figure title.\n",
       "    fig.header.textContent = msg['label'];\n",
       "}\n",
       "\n",
       "mpl.figure.prototype.handle_cursor = function(fig, msg) {\n",
       "    var cursor = msg['cursor'];\n",
       "    switch(cursor)\n",
       "    {\n",
       "    case 0:\n",
       "        cursor = 'pointer';\n",
       "        break;\n",
       "    case 1:\n",
       "        cursor = 'default';\n",
       "        break;\n",
       "    case 2:\n",
       "        cursor = 'crosshair';\n",
       "        break;\n",
       "    case 3:\n",
       "        cursor = 'move';\n",
       "        break;\n",
       "    }\n",
       "    fig.rubberband_canvas.style.cursor = cursor;\n",
       "}\n",
       "\n",
       "mpl.figure.prototype.handle_message = function(fig, msg) {\n",
       "    fig.message.textContent = msg['message'];\n",
       "}\n",
       "\n",
       "mpl.figure.prototype.handle_draw = function(fig, msg) {\n",
       "    // Request the server to send over a new figure.\n",
       "    fig.send_draw_message();\n",
       "}\n",
       "\n",
       "mpl.figure.prototype.handle_image_mode = function(fig, msg) {\n",
       "    fig.image_mode = msg['mode'];\n",
       "}\n",
       "\n",
       "mpl.figure.prototype.updated_canvas_event = function() {\n",
       "    // Called whenever the canvas gets updated.\n",
       "    this.send_message(\"ack\", {});\n",
       "}\n",
       "\n",
       "// A function to construct a web socket function for onmessage handling.\n",
       "// Called in the figure constructor.\n",
       "mpl.figure.prototype._make_on_message_function = function(fig) {\n",
       "    return function socket_on_message(evt) {\n",
       "        if (evt.data instanceof Blob) {\n",
       "            /* FIXME: We get \"Resource interpreted as Image but\n",
       "             * transferred with MIME type text/plain:\" errors on\n",
       "             * Chrome.  But how to set the MIME type?  It doesn't seem\n",
       "             * to be part of the websocket stream */\n",
       "            evt.data.type = \"image/png\";\n",
       "\n",
       "            /* Free the memory for the previous frames */\n",
       "            if (fig.imageObj.src) {\n",
       "                (window.URL || window.webkitURL).revokeObjectURL(\n",
       "                    fig.imageObj.src);\n",
       "            }\n",
       "\n",
       "            fig.imageObj.src = (window.URL || window.webkitURL).createObjectURL(\n",
       "                evt.data);\n",
       "            fig.updated_canvas_event();\n",
       "            fig.waiting = false;\n",
       "            return;\n",
       "        }\n",
       "        else if (typeof evt.data === 'string' && evt.data.slice(0, 21) == \"data:image/png;base64\") {\n",
       "            fig.imageObj.src = evt.data;\n",
       "            fig.updated_canvas_event();\n",
       "            fig.waiting = false;\n",
       "            return;\n",
       "        }\n",
       "\n",
       "        var msg = JSON.parse(evt.data);\n",
       "        var msg_type = msg['type'];\n",
       "\n",
       "        // Call the  \"handle_{type}\" callback, which takes\n",
       "        // the figure and JSON message as its only arguments.\n",
       "        try {\n",
       "            var callback = fig[\"handle_\" + msg_type];\n",
       "        } catch (e) {\n",
       "            console.log(\"No handler for the '\" + msg_type + \"' message type: \", msg);\n",
       "            return;\n",
       "        }\n",
       "\n",
       "        if (callback) {\n",
       "            try {\n",
       "                // console.log(\"Handling '\" + msg_type + \"' message: \", msg);\n",
       "                callback(fig, msg);\n",
       "            } catch (e) {\n",
       "                console.log(\"Exception inside the 'handler_\" + msg_type + \"' callback:\", e, e.stack, msg);\n",
       "            }\n",
       "        }\n",
       "    };\n",
       "}\n",
       "\n",
       "// from http://stackoverflow.com/questions/1114465/getting-mouse-location-in-canvas\n",
       "mpl.findpos = function(e) {\n",
       "    //this section is from http://www.quirksmode.org/js/events_properties.html\n",
       "    var targ;\n",
       "    if (!e)\n",
       "        e = window.event;\n",
       "    if (e.target)\n",
       "        targ = e.target;\n",
       "    else if (e.srcElement)\n",
       "        targ = e.srcElement;\n",
       "    if (targ.nodeType == 3) // defeat Safari bug\n",
       "        targ = targ.parentNode;\n",
       "\n",
       "    // jQuery normalizes the pageX and pageY\n",
       "    // pageX,Y are the mouse positions relative to the document\n",
       "    // offset() returns the position of the element relative to the document\n",
       "    var x = e.pageX - $(targ).offset().left;\n",
       "    var y = e.pageY - $(targ).offset().top;\n",
       "\n",
       "    return {\"x\": x, \"y\": y};\n",
       "};\n",
       "\n",
       "/*\n",
       " * return a copy of an object with only non-object keys\n",
       " * we need this to avoid circular references\n",
       " * http://stackoverflow.com/a/24161582/3208463\n",
       " */\n",
       "function simpleKeys (original) {\n",
       "  return Object.keys(original).reduce(function (obj, key) {\n",
       "    if (typeof original[key] !== 'object')\n",
       "        obj[key] = original[key]\n",
       "    return obj;\n",
       "  }, {});\n",
       "}\n",
       "\n",
       "mpl.figure.prototype.mouse_event = function(event, name) {\n",
       "    var canvas_pos = mpl.findpos(event)\n",
       "\n",
       "    if (name === 'button_press')\n",
       "    {\n",
       "        this.canvas.focus();\n",
       "        this.canvas_div.focus();\n",
       "    }\n",
       "\n",
       "    var x = canvas_pos.x * mpl.ratio;\n",
       "    var y = canvas_pos.y * mpl.ratio;\n",
       "\n",
       "    this.send_message(name, {x: x, y: y, button: event.button,\n",
       "                             step: event.step,\n",
       "                             guiEvent: simpleKeys(event)});\n",
       "\n",
       "    /* This prevents the web browser from automatically changing to\n",
       "     * the text insertion cursor when the button is pressed.  We want\n",
       "     * to control all of the cursor setting manually through the\n",
       "     * 'cursor' event from matplotlib */\n",
       "    event.preventDefault();\n",
       "    return false;\n",
       "}\n",
       "\n",
       "mpl.figure.prototype._key_event_extra = function(event, name) {\n",
       "    // Handle any extra behaviour associated with a key event\n",
       "}\n",
       "\n",
       "mpl.figure.prototype.key_event = function(event, name) {\n",
       "\n",
       "    // Prevent repeat events\n",
       "    if (name == 'key_press')\n",
       "    {\n",
       "        if (event.which === this._key)\n",
       "            return;\n",
       "        else\n",
       "            this._key = event.which;\n",
       "    }\n",
       "    if (name == 'key_release')\n",
       "        this._key = null;\n",
       "\n",
       "    var value = '';\n",
       "    if (event.ctrlKey && event.which != 17)\n",
       "        value += \"ctrl+\";\n",
       "    if (event.altKey && event.which != 18)\n",
       "        value += \"alt+\";\n",
       "    if (event.shiftKey && event.which != 16)\n",
       "        value += \"shift+\";\n",
       "\n",
       "    value += 'k';\n",
       "    value += event.which.toString();\n",
       "\n",
       "    this._key_event_extra(event, name);\n",
       "\n",
       "    this.send_message(name, {key: value,\n",
       "                             guiEvent: simpleKeys(event)});\n",
       "    return false;\n",
       "}\n",
       "\n",
       "mpl.figure.prototype.toolbar_button_onclick = function(name) {\n",
       "    if (name == 'download') {\n",
       "        this.handle_save(this, null);\n",
       "    } else {\n",
       "        this.send_message(\"toolbar_button\", {name: name});\n",
       "    }\n",
       "};\n",
       "\n",
       "mpl.figure.prototype.toolbar_button_onmouseover = function(tooltip) {\n",
       "    this.message.textContent = tooltip;\n",
       "};\n",
       "mpl.toolbar_items = [[\"Home\", \"Reset original view\", \"fa fa-home icon-home\", \"home\"], [\"Back\", \"Back to previous view\", \"fa fa-arrow-left icon-arrow-left\", \"back\"], [\"Forward\", \"Forward to next view\", \"fa fa-arrow-right icon-arrow-right\", \"forward\"], [\"\", \"\", \"\", \"\"], [\"Pan\", \"Pan axes with left mouse, zoom with right\", \"fa fa-arrows icon-move\", \"pan\"], [\"Zoom\", \"Zoom to rectangle\", \"fa fa-square-o icon-check-empty\", \"zoom\"], [\"\", \"\", \"\", \"\"], [\"Download\", \"Download plot\", \"fa fa-floppy-o icon-save\", \"download\"]];\n",
       "\n",
       "mpl.extensions = [\"eps\", \"jpeg\", \"pdf\", \"png\", \"ps\", \"raw\", \"svg\", \"tif\"];\n",
       "\n",
       "mpl.default_extension = \"png\";var comm_websocket_adapter = function(comm) {\n",
       "    // Create a \"websocket\"-like object which calls the given IPython comm\n",
       "    // object with the appropriate methods. Currently this is a non binary\n",
       "    // socket, so there is still some room for performance tuning.\n",
       "    var ws = {};\n",
       "\n",
       "    ws.close = function() {\n",
       "        comm.close()\n",
       "    };\n",
       "    ws.send = function(m) {\n",
       "        //console.log('sending', m);\n",
       "        comm.send(m);\n",
       "    };\n",
       "    // Register the callback with on_msg.\n",
       "    comm.on_msg(function(msg) {\n",
       "        //console.log('receiving', msg['content']['data'], msg);\n",
       "        // Pass the mpl event to the overridden (by mpl) onmessage function.\n",
       "        ws.onmessage(msg['content']['data'])\n",
       "    });\n",
       "    return ws;\n",
       "}\n",
       "\n",
       "mpl.mpl_figure_comm = function(comm, msg) {\n",
       "    // This is the function which gets called when the mpl process\n",
       "    // starts-up an IPython Comm through the \"matplotlib\" channel.\n",
       "\n",
       "    var id = msg.content.data.id;\n",
       "    // Get hold of the div created by the display call when the Comm\n",
       "    // socket was opened in Python.\n",
       "    var element = $(\"#\" + id);\n",
       "    var ws_proxy = comm_websocket_adapter(comm)\n",
       "\n",
       "    function ondownload(figure, format) {\n",
       "        window.open(figure.imageObj.src);\n",
       "    }\n",
       "\n",
       "    var fig = new mpl.figure(id, ws_proxy,\n",
       "                           ondownload,\n",
       "                           element.get(0));\n",
       "\n",
       "    // Call onopen now - mpl needs it, as it is assuming we've passed it a real\n",
       "    // web socket which is closed, not our websocket->open comm proxy.\n",
       "    ws_proxy.onopen();\n",
       "\n",
       "    fig.parent_element = element.get(0);\n",
       "    fig.cell_info = mpl.find_output_cell(\"<div id='\" + id + \"'></div>\");\n",
       "    if (!fig.cell_info) {\n",
       "        console.error(\"Failed to find cell for figure\", id, fig);\n",
       "        return;\n",
       "    }\n",
       "\n",
       "    var output_index = fig.cell_info[2]\n",
       "    var cell = fig.cell_info[0];\n",
       "\n",
       "};\n",
       "\n",
       "mpl.figure.prototype.handle_close = function(fig, msg) {\n",
       "    var width = fig.canvas.width/mpl.ratio\n",
       "    fig.root.unbind('remove')\n",
       "\n",
       "    // Update the output cell to use the data from the current canvas.\n",
       "    fig.push_to_output();\n",
       "    var dataURL = fig.canvas.toDataURL();\n",
       "    // Re-enable the keyboard manager in IPython - without this line, in FF,\n",
       "    // the notebook keyboard shortcuts fail.\n",
       "    IPython.keyboard_manager.enable()\n",
       "    $(fig.parent_element).html('<img src=\"' + dataURL + '\" width=\"' + width + '\">');\n",
       "    fig.close_ws(fig, msg);\n",
       "}\n",
       "\n",
       "mpl.figure.prototype.close_ws = function(fig, msg){\n",
       "    fig.send_message('closing', msg);\n",
       "    // fig.ws.close()\n",
       "}\n",
       "\n",
       "mpl.figure.prototype.push_to_output = function(remove_interactive) {\n",
       "    // Turn the data on the canvas into data in the output cell.\n",
       "    var width = this.canvas.width/mpl.ratio\n",
       "    var dataURL = this.canvas.toDataURL();\n",
       "    this.cell_info[1]['text/html'] = '<img src=\"' + dataURL + '\" width=\"' + width + '\">';\n",
       "}\n",
       "\n",
       "mpl.figure.prototype.updated_canvas_event = function() {\n",
       "    // Tell IPython that the notebook contents must change.\n",
       "    IPython.notebook.set_dirty(true);\n",
       "    this.send_message(\"ack\", {});\n",
       "    var fig = this;\n",
       "    // Wait a second, then push the new image to the DOM so\n",
       "    // that it is saved nicely (might be nice to debounce this).\n",
       "    setTimeout(function () { fig.push_to_output() }, 1000);\n",
       "}\n",
       "\n",
       "mpl.figure.prototype._init_toolbar = function() {\n",
       "    var fig = this;\n",
       "\n",
       "    var nav_element = $('<div/>');\n",
       "    nav_element.attr('style', 'width: 100%');\n",
       "    this.root.append(nav_element);\n",
       "\n",
       "    // Define a callback function for later on.\n",
       "    function toolbar_event(event) {\n",
       "        return fig.toolbar_button_onclick(event['data']);\n",
       "    }\n",
       "    function toolbar_mouse_event(event) {\n",
       "        return fig.toolbar_button_onmouseover(event['data']);\n",
       "    }\n",
       "\n",
       "    for(var toolbar_ind in mpl.toolbar_items){\n",
       "        var name = mpl.toolbar_items[toolbar_ind][0];\n",
       "        var tooltip = mpl.toolbar_items[toolbar_ind][1];\n",
       "        var image = mpl.toolbar_items[toolbar_ind][2];\n",
       "        var method_name = mpl.toolbar_items[toolbar_ind][3];\n",
       "\n",
       "        if (!name) { continue; };\n",
       "\n",
       "        var button = $('<button class=\"btn btn-default\" href=\"#\" title=\"' + name + '\"><i class=\"fa ' + image + ' fa-lg\"></i></button>');\n",
       "        button.click(method_name, toolbar_event);\n",
       "        button.mouseover(tooltip, toolbar_mouse_event);\n",
       "        nav_element.append(button);\n",
       "    }\n",
       "\n",
       "    // Add the status bar.\n",
       "    var status_bar = $('<span class=\"mpl-message\" style=\"text-align:right; float: right;\"/>');\n",
       "    nav_element.append(status_bar);\n",
       "    this.message = status_bar[0];\n",
       "\n",
       "    // Add the close button to the window.\n",
       "    var buttongrp = $('<div class=\"btn-group inline pull-right\"></div>');\n",
       "    var button = $('<button class=\"btn btn-mini btn-primary\" href=\"#\" title=\"Stop Interaction\"><i class=\"fa fa-power-off icon-remove icon-large\"></i></button>');\n",
       "    button.click(function (evt) { fig.handle_close(fig, {}); } );\n",
       "    button.mouseover('Stop Interaction', toolbar_mouse_event);\n",
       "    buttongrp.append(button);\n",
       "    var titlebar = this.root.find($('.ui-dialog-titlebar'));\n",
       "    titlebar.prepend(buttongrp);\n",
       "}\n",
       "\n",
       "mpl.figure.prototype._root_extra_style = function(el){\n",
       "    var fig = this\n",
       "    el.on(\"remove\", function(){\n",
       "\tfig.close_ws(fig, {});\n",
       "    });\n",
       "}\n",
       "\n",
       "mpl.figure.prototype._canvas_extra_style = function(el){\n",
       "    // this is important to make the div 'focusable\n",
       "    el.attr('tabindex', 0)\n",
       "    // reach out to IPython and tell the keyboard manager to turn it's self\n",
       "    // off when our div gets focus\n",
       "\n",
       "    // location in version 3\n",
       "    if (IPython.notebook.keyboard_manager) {\n",
       "        IPython.notebook.keyboard_manager.register_events(el);\n",
       "    }\n",
       "    else {\n",
       "        // location in version 2\n",
       "        IPython.keyboard_manager.register_events(el);\n",
       "    }\n",
       "\n",
       "}\n",
       "\n",
       "mpl.figure.prototype._key_event_extra = function(event, name) {\n",
       "    var manager = IPython.notebook.keyboard_manager;\n",
       "    if (!manager)\n",
       "        manager = IPython.keyboard_manager;\n",
       "\n",
       "    // Check for shift+enter\n",
       "    if (event.shiftKey && event.which == 13) {\n",
       "        this.canvas_div.blur();\n",
       "        event.shiftKey = false;\n",
       "        // Send a \"J\" for go to next cell\n",
       "        event.which = 74;\n",
       "        event.keyCode = 74;\n",
       "        manager.command_mode();\n",
       "        manager.handle_keydown(event);\n",
       "    }\n",
       "}\n",
       "\n",
       "mpl.figure.prototype.handle_save = function(fig, msg) {\n",
       "    fig.ondownload(fig, null);\n",
       "}\n",
       "\n",
       "\n",
       "mpl.find_output_cell = function(html_output) {\n",
       "    // Return the cell and output element which can be found *uniquely* in the notebook.\n",
       "    // Note - this is a bit hacky, but it is done because the \"notebook_saving.Notebook\"\n",
       "    // IPython event is triggered only after the cells have been serialised, which for\n",
       "    // our purposes (turning an active figure into a static one), is too late.\n",
       "    var cells = IPython.notebook.get_cells();\n",
       "    var ncells = cells.length;\n",
       "    for (var i=0; i<ncells; i++) {\n",
       "        var cell = cells[i];\n",
       "        if (cell.cell_type === 'code'){\n",
       "            for (var j=0; j<cell.output_area.outputs.length; j++) {\n",
       "                var data = cell.output_area.outputs[j];\n",
       "                if (data.data) {\n",
       "                    // IPython >= 3 moved mimebundle to data attribute of output\n",
       "                    data = data.data;\n",
       "                }\n",
       "                if (data['text/html'] == html_output) {\n",
       "                    return [cell, data, j];\n",
       "                }\n",
       "            }\n",
       "        }\n",
       "    }\n",
       "}\n",
       "\n",
       "// Register the function which deals with the matplotlib target/channel.\n",
       "// The kernel may be null if the page has been refreshed.\n",
       "if (IPython.notebook.kernel != null) {\n",
       "    IPython.notebook.kernel.comm_manager.register_target('matplotlib', mpl.mpl_figure_comm);\n",
       "}\n"
      ],
      "text/plain": [
       "<IPython.core.display.Javascript object>"
      ]
     },
     "metadata": {},
     "output_type": "display_data"
    },
    {
     "data": {
      "text/html": [
       "<img src=\"data:image/png;base64,iVBORw0KGgoAAAANSUhEUgAABEwAAARMCAYAAACDAQa6AAAgAElEQVR4XuzdCZgdVZ3+8R8Qsu/7RvaF7Pu+h5AgLowojIq4oM6A6CA6giMQBWEUYUZA/oAOhplHwAVcAB1IwhJC9hDISlaybyRkIbsyM/6f9zTVt+p2+nbf7q661X2+53n6QTu3b1V96tx76751zu+c87e//e1vRkMAAQQQQAABBBBAAAEEEEAAAQQQKBY4h8CE3oAAAggggAACCCCAAAIIIIAAAghEBQhM6BEIIIAAAggggAACCCCAAAIIIIBAlgCBCV0CAQQQQAABBBBAAAEEEEAAAQQQIDChDyCAAAIIIIAAAggggAACCCCAAAK5BRhhQg9BAAEEEEAAAQQQQAABBBBAAAEEsgQITOgSCCCAAAIIIIAAAggggAACCCCAAIEJfQABBBBAAAEEEEAAAQQQQAABBBDILcAIE3oIAggggAACCCCAAAIIIIAAAgggkCVAYEKXQAABBBBAAAEEEEAAAQQQQAABBAhM6AMIIIAAAggggAACCCCAAAIIIIBAbgFGmNBDEEAAAQQQQAABBBBAAAEEEEAAgSwBAhO6BAIIIIAAAggggAACCCCAAAIIIEBgQh9AAAEEEEAAAQQQQAABBBBAAAEEcgswwoQeggACCCCAAAIIIIAAAggggAACCGQJEJjQJRBAAAEEEEAAAQQQQAABBBBAAAECE/oAAggggAACCCCAAAIIIIAAAgggkFuAESb0EAQQQAABBBBAAAEEEEAAAQQQQCBLgMCELoEAAggggAACCCCAAAIIIIAAAggQmNAHEEAAAQQQQAABBBBAAAEEEEAAgdwCjDChhyCAAAIIIIAAAggggAACCCCAAAJZAgQmdAkEEEAAAQQQQAABBBBAAAEEEECAwIQ+gAACCCCAAAIIIIAAAggggAACCOQWYIQJPQQBBBBAAAEEEEAAAQQQQAABBBDIEiAwoUsggAACCCCAAAIIIIAAAggggAACBCb0AQQQQAABBBBAAAEEEEAAAQQQQCC3ACNM6CEIIIAAAggggAACCCCAAAIIIIBAlgCBCV0CAQQQQAABBBBAAAEEEEAAAQQQIDChDyCAAAIIIIAAAggggAACCCCAAAK5BRhhQg9BAAEEEEAAAQQQQAABBBBAAAEEsgQITOgSCCCAAAIIIIAAAggggAACCCCAAIEJfQABBBBAAAEEEEAAAQQQQAABBBDILcAIE3oIAggggAACCCCAAAIIIIAAAgggkCVAYEKXQAABBBBAAAEEEEAAAQQQQAABBAhM6AMIIIAAAggggAACCCCAAAIIIIBAbgFGmNBDEEAAAQQQQAABBBBAAAEEEEAAgSwBAhO6BAIIIIAAAggggAACCCCAAAIIIEBgQh9AAAEEEEAAAQQQQAABBBBAAAEEcgswwoQeggACCCCAAAIIIIAAAggggAACCGQJEJjQJRBAAAEEEEAAAQQQQAABBBBAAAECE/oAAggggAACCCCAAAIIIIAAAgggkFuAESb0EAQQQAABBBBAAAEEEEAAAQQQQCBLgMCELoEAAggggAACCCCAAAIIIIAAAggQmNAHEEAAAQQQQAABBBBAAAEEEEAAgdwCjDChhyCAAAIIIIAAAggggAACCCCAAAJZAgQmdAkEEEAAAQQQQAABBBBAAAEEEECAwIQ+gAACCCCAAAIIIIAAAggggAACCOQWYIQJPQQBBBBAAAEEEEAAAQQQQAABBBDIEiAwoUsggAACCCCAAAIIIIAAAggggAACBCb0AQQQQAABBBBAAAEEEEAAAQQQQCC3ACNM6CEIIIAAAggggAACCCCAAAIIIIBAlgCBCV0CAQQQQAABBBBAAAEEEEAAAQQQIDChDyCAAAIIIIAAAggggAACCCCAAAK5BRhhQg9BAAEEEEAAAQQQQAABBBBAAAEEsgQITOgSCCCAAAIIIIAAAggggAACCCCAAIEJfQABBBBAAAEEEEAAAQQQQAABBBDILcAIE3oIAggggAACCCCAAAIIIIAAAgggkCVAYEKXQAABBBBAAAEEEEAAAQQQQAABBAhM6AMIIIAAAggggAACCCCAAAIIIIBAbgFGmNBDEEAAAQQQQAABBBBAAAEEEEAAgSwBAhO6BAIIIIAAAggggAACCCCAAAIIIEBgQh9AAAEEEEAAAQQQQAABBBBAAAEEcgswwoQeggACCCCAAAIIIIAAAggggAACCGQJEJjQJRBAAAEEEEAAAQQQQAABBBBAAAECE/oAAggggAACCCCAAAIIIIAAAgggkFuAESb0EAQQQAABBBBAAAEEEEAAAQQQQCBLgMCELoEAAggggAACCCCAAAIIIIAAAggQmNAHEEAAAQQQQAABBBBAAAEEEEAAgdwCjDChhyCAAAIIIIAAAggggAACCCCAAAJZAgQmdAkEEEAAAQQQQAABBBBAAAEEEECAwIQ+gAACCCCAAAIIIIAAAggggAACCOQWYIQJPQQBBBBAAAEEEEAAAQQQQAABBBDIEiAwoUsggAACCCCAAAIIIIAAAggggAACBCb0AQQQQAABBBBAAAEEEEAAAQQQQCC3ACNM6CEIIIAAAggggAACCCCAAAIIIIBAlgCBCV0CAQQQQAABBBBAAAEEEEAAAQQQIDChDyCAAAIIIIAAAggggAACCCCAAAK5BRhhQg9BAAEEEEAAAQQQQAABBBBAAAEEsgQITOgSCCCAAAIIIIAAAggggAACCCCAAIEJfQABBBBAAAEEEEAAAQQQQAABBBDILcAIE3oIAggggAACCCCAAAIIIIAAAgggkCVAYEKXQAABBBBAAAEEEEAAAQQQQAABBAhM6AMIIIAAAggggAACCCCAAAIIIIBAbgFGmNBDEEAAAQQQQAABBBBAAAEEEEAAgSwBAhO6BAIIIIAAAggggAACCCCAAAIIIEBgQh9AAAEEEEAAAQQQQAABBBBAAAEEcgswwoQeggACCCCAAAIIIIAAAggggAACCGQJEJjQJRBAAAEEEEAAAQQQQAABBBBAAAECE/oAAggggAACCCCAAAIIIIAAAgggkFuAESb0EAQQQAABBBBAAAEEEEAAAQQQQCBLgMCELoEAAggggAACCCCAAAIIIIAAAggQmNAHEEAAAQQQQAABBBBAAAEEEEAAgdwCjDChhyCAAAIIIIAAAggggAACCCCAAAJZAgQmdAkEEEAAAQQQQAABBBBAAAEEEECAwIQ+gAACCCCAAAIIIIAAAggggAACCOQWYIQJPQQBBBBAAAEEEEAAAQQQQAABBBDIEiAwoUsggAACCCCAAAIIIIAAAggggAACBCb0AQQQQAABBBBAAAEEEEAAAQQQQCC3ACNM6CEIIIAAAggggAACCCCAAAIIIIBAlgCBCV0CAQQQQAABBBBAAAEEEEAAAQQQIDChDyCAAAIIIIAAAggggAACCCCAAAK5BRhhQg9BAAEEEEAAAQQQQAABBBBAAAEEsgQITOgSCCCAAAIIIIAAAggggAACCCCAAIEJfQABBBBAAAEEEEAAAQQQQAABBBDILcAIE3oIAggggAACCCCAAAIIIIAAAgggkCVAYEKXQAABBBBAAAEEEEAAAQQQQAABBAhM6AMIIIAAAggggAACCCCAAAIIIIBAbgFGmNBDEEAAAQQQQAABBBBAAAEEEEAAgSwBAhO6BAIIIIAAAggggAACCCCAAAIIIEBgQh9AAAEEEEAAAQQQQAABBBBAAAEEcgswwoQeggACCCCAAAIIIIAAAggggAACCGQJEJjQJRBAAAEEEEAAAQQQQAABBBBAAAECE/oAAggggAACCCCAAAIIIIAAAgggkFuAESb0EAQQQAABBBBAAAEEEEAAAQQQQCBLgMCELoEAAggggAACCCCAAAIIIIAAAggQmNAHEEAAAQQQQAABBBBAAAEEEEAAgdwCjDChhyCAAAIIIIAAAggggAACCCCAAAJZAgQmdAkEEEAAAQQQQAABBBBAAAEEEECAwIQ+gAACCCCAAAIIIIAAAggggAACCOQWYIQJPQQBBBBAAAEEEEAAAQQQQAABBBDIEiAwoUsggAACCCCAAAIIIIAAAggggAACBCb0AQQQQAABBBBAAAEEEEAAAQQQQCC3ACNM6CEIIIAAAggggAACCCCAAAIIIIBAlgCBCV0CAQQQQAABBBBAAAEEEEAAAQQQIDChDyCAAAIIIIAAAggggAACCCCAAAK5BRhhQg9BAAEEEEAAAQQQQAABBBBAAAEEsgQITOgSCCCAAAIIIIAAAggggAACCCCAAIEJfQABBBBAAAEEEEAAAQQQQAABBBDILcAIE3oIAggggAACCCCAAAIIIIAAAgggkCVAYEKXQAABBBBAAAEEEEAAAQQQQAABBAhM6AMIIIAAAggggAACCCCAAAIIIIBAbgFGmNBDEEAAAQQQQAABBBBAAAEEEEAAgSwBAhO6BAIIIIAAAggggAACCCCAAAIIIEBgQh9AAAEEEEAAAQQQQAABBBBAAAEEcgswwoQeggACCCCAAAIIIIAAAggggAACCGQJEJjQJRBAAAEEEEAAAQQQQAABBBBAAAECE/oAAggggAACCCCAAAIIIIAAAgggkFuAESb0EAQQQAABBBBAAAEEEEAAAQQQQCBLgMCELoEAAggggAACCCCAAAIIIIAAAggQmNAHEEAAAQQQQAABBBBAAAEEEEAAgdwCjDChhyCAAAIIIIAAAggggAACCCCAAAJZAgQmdAkEEEAAAQQQQAABBBBAAAEEEECAwIQ+gAACCCCAAAIIIIAAAggggAACCOQWYIQJPQQBBBBAAAEEEEAAAQQQQAABBBDIEiAwoUsggAACCCCAAAIIIIAAAggggAACBCb0AQQQQAABBBBAAAEEEEAAAQQQQCC3ACNM6CEIIIAAAggggAACCCCAAAIIIIBAlgCBCV0CAQQQQAABBBBAAAEEEEAAAQQQIDChDyCAAAIIIIAAAggggAACCCCAAAK5BRhhQg9BAAEEEEAAAQQQQAABBBBAAAEEsgQITOgSCCCAAAIIIIAAAggggAACCCCAAIEJfQABBBBAAAEEEEAAAQQQQAABBBDILcAIE3oIAggggAACCCCAAAIIIIAAAgggkCVAYEKXQAABBBBAAAEEEEAAAQQQQAABBAhM6AMIIIAAAggggAACCCCAAAIIIIBAbgFGmNBDEEAAAQQQQAABBBBAAAEEEEAAgSwBAhO6BAIIIIAAAggggAACCCCAAAIIIEBgQh9AAAEEEEAAAQQQQAABBBBAAAEEcgswwoQeggACCCCAAAIIIIAAAggggAACCGQJEJjQJRBAAAEEEEAAAQQQQAABBBBAAAECE/oAAggggAACCCCAAAIIIIAAAgggkFuAESb0EAQQQAABBBBAAAEEEEAAAQQQQCBLgMCELoEAAggggAACCCCAAAIIIIAAAggQmNAHEEAAAQQQQAABBBBAAAEEEEAAgdwCjDChhyCAAAIIIIAAAggggAACCCCAAAJZAgQmdAkEEEAAAQQQQAABBBBAAAEEEECAwIQ+gAACCCCAAAIIIIAAAggggAACCOQWYIQJPQQBBBBAAAEEEEAAAQQQQAABBBDIEiAwoUsggAACCCCAAAIIIIAAAggggAACBCb0AQQQQAABBBBAAAEEEEAAAQQQQCC3ACNM6CEIIIAAAggggAACCCCAAAIIIIBAlgCBCV0CAQQQQAABBBBAAAEEEEAAAQQQIDChDyCAAAIIIIAAAggggAACCCCAAAK5BRhhQg9BAAEEEEAAAQQQQAABBBBAAAEEsgQITOgSCCCAAAIIIIAAAggggAACCCCAAIEJfQABBBBAAAEEEEAAAQQQQAABBBDILcAIE3oIAggggAACCCCAAAIIIIAAAgggkCVAYEKXQAABBBBAAAEEEEAAAQQQQAABBAhM6AMIIIAAAggggAACCCCAAAIIIIBAbgFGmNBDEEAAAQQQQAABBBBAAAEEEEAAgSwBAhO6BAIIIIAAAggggAACCCCAAAIIIEBgQh9AAAEEEEAAAQQQQAABBBBAAAEEcgswwoQeggACCCCAAAIIIIAAAggggAACCGQJEJjQJRBAAAEEEEAAAQQQQAABBBBAAAECE/oAAggggAACCCCAAAIIIIAAAgggkFuAESb0EAQQQAABBBBAAAEEEEAAAQQQQCBLgMCELoEAAggggAACCCCAAAIIIIAAAggQmNAHEEAAAQQQQAABBBBAAAEEEEAAgdwCjDChhyCAAAIIIIAAAggggAACCCCAAAJZAgQmdAkEEEAAAQQQQAABBBBAAAEEEECAwIQ+gAACCCCAAAIIIIAAAggggAACCOQWYIQJPQQBBBBAAAEEEEAAAQQQQAABBBDIEiAwoUsggAACCCCAAAIIIIAAAggggAACBCb0AQQQQAABBBBAAAEEEEAAAQQQQCC3ACNM6CEIIIAAAggggAACCCCAAAIIIIBAlgCBCV0CAQQQQAABBBBAAAEEEEAAAQQQIDChDyCAAAIIIIAAAggggAACCCCAAAK5BRhhQg9BAAEEEEAAAQQQQAABBBBAAAEEsgQITOgSCCCAAAIIIIAAAggggAACCCCAAIEJfQABBBBAAAEEEEAAAQQQQAABBBDILcAIE3oIAggggAACCCCAAAIIIIAAAgggkCVAYEKXQAABBBBAAAEEEEAAAQQQQAABBAhM6AMIIIAAAggggAACCCCAAAIIIIBAbgFGmNBDEEAAAQQQQAABBBBAAAEEEEAAgSwBAhO6BAIIIIAAAggggAACCCCAAAIIIEBgQh9AAAEEEEAAAQQQQAABBBBAAAEEcgswwoQeggACCCCAAAIIIIAAAggggAACCGQJEJjQJRBAAAEEEEAAAQQQQAABBBBAAAECE/oAAggggAACCCCAAAIIIIAAAgggkFuAESb0EAQQQAABBBBAAAEEEEAAAQQQQCBLgMCELoEAAggggAACCCCAAAIIIIAAAggQmNAHEEAAAQQQQAABBBBAAAEEEEAAgdwCjDChhyCAAAIIIIAAAggggAACCCCAAAJZAgQmdAkEEEAAAQQQQAABBBBAAAEEEECAwIQ+gAACCCCAAAIIIIAAAggggAACCOQWYIQJPQQBBBBAAAEEEEAAAQQQQAABBBDIEiAwoUsggAACCCCAAAIIIIAAAggggAACBCb0AQQQQAABBBBAAAEEEEAAAQQQQCC3ACNM6CEIIIAAAggggAACCCCAAAIIIIBAlgCBCV0CAQQQQAABBBBAAAEEEEAAAQQQIDChDyCAAAIIIIAAAggggAACCCCAAAK5BRhhQg9BAAEEEEAAAQQQQAABBBBAAAEEsgQITOgSCCCAAAIIIIAAAggggAACCCCAAIEJfQABBBBAAAEEEEAAAQQQQAABBBDILcAIE3oIAgggkJDA+++/b//3f//ntnbOOeecdauF+n2ufUqIh80ggAACCCCAAAIIIJAqAQKTVJ0OdgYBBGqqwP/8z//YyZMn7X//939LhCWlhSS5LPL9G4U12na9evVKfdrwcxYquKmq7RYylKqpfZjjQgABBBBAAAEEfBMgMPHtjHO8CCBQEIG//vWvdurUKfvb3/521tEl+n2+LZ+/2bx5s7377rs2evTovDZT2v5WZZiTK9wobTv5BkbZjz9z5oydPn3amjRpYueee26JzZT3+QmZqmakVF6dkgcjgAACCCCAAAIJCRCYJATNZhBAwF8BhQ4KTPQlXe1sX9Dj1tm4caPt37/fJk2alPem8glmgifP92/yfby2U5m/2b17t23bts0FSOeff35Ok3y3Ux1DJvXPI0eOWNOmTa1OnTrOo7yhUYBX3scTMhEy5f0mxB8ggAACCCBQIAECkwLBs1kEEPBHQHVL9IVUP/oyXYjAZNOmTbZ3716bPHmyP/A5jnTXrl2mUTfjxo0rDgiqEibfkKUiAVBVbuO9996zVatWWb9+/axFixYRiqrcTmnGSYRM5Q10gn1UqNagQQNr3rx5ubtGvtsoz+PjCJhyBWJVNS0u17HFvY3yuJb7pPJABBBAAAGvBQhMvD79HDwCCCQhoNohCktUR6RQgcmWLVts586dNnXq1CQOOfXb0JdhhUhjx461unXrpn5/497Bo0eP2htvvGEDBw60li1bxr25Es+fRCiTbyj12muvWbt27ax79+55eyRxPEmHTBqhpmlsXbt2LdWjIkFFvn9TnscTMlVdYfG8Oz9/gAACCNQwAQKTGnZCORwEEEifgAq+KjDRfwsVmLz99tu2Y8cOmzJlSt5TLdInWvk92rNnj2ma0pgxY3IWwq38lqrHM2iEyYoVK2zAgAHWqlWr6rHTMe/lvHnzrH379tarV6+Yt1Sxp08ilAmHTOvXrzf1k/LUQUpi3yqyjXylc4UzKuK9fft269y5szVs2LD4qcsT6IT3I9/H62/z/ZvyPL46hkzqk7Vq1XIj42gIIIBAXAIEJnHJ8rwIIIDABwJBWFLIwET1OvSjGibnnXee9+dG05M2bNjgvvzVr1/few8Ck5JdIO2BSdKddt26daaRSJrGVl1bRUKW0v5GNX80jU2jsrKnbeW7nXwfH/jn+3f5Pj7f86z3VNWE6tGjR15/Wp5A52wh00UXXeTCqldffTWv7fFgBBBAIB8BApN8tHgsAgggkKdAUPBVYYmm5hRqhInuhG7dutUmTpzo7sj53oLAZNSoUa5Ohe/t2LFj9vrrr1v//v2tdevWvnO44ycwiXaDtWvXmvqJprHRzA4dOuQCkyFDhlizZs1qLEk+IcuyZctcTSiFSPm2fLaj59bjJ0yY4EaBzZkzJ9/N8XgEEECg3AIEJuWm4oEIIIBA/gJBwVeFJfrf+ilE0VfVL1EdE11glrUqTP5HWf3+Yt++fabh3AQmReeOwKRkH1Zg0qFDB+vZs2f16+Ax7PGaNWvs+PHjBCYf2GqZ9tWrV9vQoUPd6lI0syVLlrgRexUJTPL1U2AybNgw6927t/3pT3/K9895PAIIIFBuAQKTclPxQAQQQCB/gaDgqy7ugtCkEIFJ3KvC5C9T2L9QAcu33nrLRo4cGak/UNi9KtzW9UV4+fLljDAJnQICk2h/VGBy4sQJV/eHZnbw4EGTib60N2nSBBIzW7RokTVu3Ni9j8Td9JmqmkvDhw+33/3ud3FvjudHAAGPBQhMPD75HDoCCMQvoKk4weo4hQxMglVhKHJadM7feecdU02GESNGWKNGjeLvCCnfQhCYqHhimzZtUr63yezeK6+8Yh07dmSEyQfcGk1x6tSpchV9TeYMFXYrBw4cME1T0hd2hQQ0swULFrh6Ln379o2dQ4GJCjJr5bcnn3wy9u2xAQQQ8FeAwMTfc8+RI4BAAgIKS/SjonYKTwo1JYcip9GTzZedqEcQmOiLTtu2bRN4ZaR/EwQm0XNEYBL1IHQt+RrWUtxalrxPnz6xv8AVmHTp0sUuu+wye+yxx2LfHhtAAAF/BQhM/D33HDkCCCQgEKyQU+jAhJod0ZPNcPqoh6ZaqGAjgUnGhcAk2kdU4PTMmTOu7g/NjGl9JXuBVqtR4Kq6InE3BSYq+HrVVVfZz372s7g3x/MjgIDHAgQmHp98Dh0BBOIV0AXdX/7yl+JRJRppUqgRJtwNjZ5rCjYSmJT16icwKRmY6P1MdX9oZoTQJXtBkitL6bNUo1muvfZa++lPf0qXRAABBGITIDCJjZYnRgAB3wWCFXIUnGiEiQIT1TE577zzEqdhCkqU3JclQcvb0U6ePGlLly51Q+nbtWtX3j+r0Y8jMIme3pUrV5pGzBGYFLkwzTHaP/Q5p9dMp06drEePHrG/N2iKq+qlfOtb37J777039u2xAQQQ8FeAwMTfc8+RI4BAzAJBwVdtptCBCSMqoif78OHDpi+AgwcPdhfdvjcCk5I9gMAkavLmm2+6OkwqlEwz27Nnj23cuNGtGlSvXj3vSXSDQCNMVFekW7dusXvoPUvh7ne/+1276667Yt8eG0AAAX8FCEz8PfccOQIIxCwQFHwNlhEu5AgTRlRET/aRI0dMXwAHDRpkLVq0iLknpP/ptfrJkiVL7MILL3R1AWjm7pazSk6mJxCYRF8VLNUe9dDoSdUw6dq1q/uJuyn0Vjhz++2328yZM+PeHM+PAAIeCxCYeHzyOXQEEIhXICj4GgQmujurn0JMyQlGVBAQFJ3zo0eP2htvvGEDBw508+B9bwQmJXsAgUnURK8XjSLQMro0s507d9qWLVts/PjxVrt2be9JdENAq+R0797dOnfuHLuH6nL17NnTfvSjH9nNN98c+/bYAAII+CtAYOLvuefIEUAgRgHN51ZgortuaQhMCAiiJ/u9996zFStW2IABA6xVq1Yx9oTq8dQEJgQmZfVUApOo0I4dO+ztt9+2CRMm2Pnnn18WX43/d33eLViwwNUvUR2TuJsCq/79+9tPfvIT+8Y3vhH35nh+BBDwWIDAxOOTz6EjgEB8AkHBV/1XI0oUoBRyhAkBQfRcHzt2zF5//XV3wd26dev4OkI1eebTp0/b4sWL3XKgHTp0qCZ7He9uMsIk6quAUW3YsGHxwleTZ9++fbtt3brVJk6caLVq1aomex3fbmrJ6UWLFlmvXr3cVLa42+bNm11ffOihh+y6666Le3M8PwIIeCxAYOLxyefQEUAgPgGNLNEdNzWNMCl0YHL8+HFbvny59evXz9q0aRPfgVeTZ8YjeqIITEp2XAITApNcb2fbtm0z/UyaNKkg0yzT9lYbjFJLKnRdu3atjR071n7xi1/YNddckzYO9gcBBGqQAIFJDTqZHAoCCKRHQKNJFJhodZw0BCYnTpywZcuWWd++fa1t27bpgSrQnuARhU/67nCBTntemyUwiXJpRJbey4YOHZqXY019sEaXaJTJ5MmTi6dd1tRjLc9xJb3SlqaIyf7xxx+3q666qjy7yGMQQACBCgkQmFSIjT9CAAEEcguEC74qNPZAEOsAACAASURBVNEIE406UWG8QhR9pUZF9HwlfXGf9tcLgUnJM6TA5IILLnA1GWjmRqhp6smQIUPgMHP1S1THZMqUKS4Y970lPWpPUwhnzJhhTz31lH3yk5/0nZ/jRwCBGAUITGLE5akRQMBPgeyCr2kITJhycfbAhGV0i1z+8pe/2MKFC92qEwoJaEXLChOYZHoCgUn0VaEVclR4dOrUqbxczCzpulBawvijH/2oPfvss+6/NAQQQCAuAQKTuGR5XgQQ8FZAgYm+gAYFXwVR6BomfCGOdkdG3EQ96B8l364ITKImmtKn5XMHDx7s7Xt7+MBVdHT37t1uhAkt+aXa58yZ40aWzJ4926ZPn84pQAABBGITIDCJjZYnRgABXwWyC76mITBJesnHtJ97RtxEz1DQPxhhknF5+eWX3fKoTMkpMiEwib5mNm3aZHv37nV1NGhmR44csTfffNMGDRpkLVq0iJ3kueeec7VL5s2b5wrv0hBAAIG4BAhM4pLleRFAwFsBFXxVrRI1FUkMWlAIthBLUGp/XnvtNevWrZt16dLF23MTHDg1O84emCgcUEhAMyMwifaCpUuXWt26dd0XYprZxo0bbf/+/XxZ/6AzHDp0yFatWuVq3DRr1iz2LvL000+71XGWLFlio0aNin17bAABBPwVIDDx99xz5AggEJOAwgn9KCwJFwMMRp4Uouirtq053127dnU/vjemoBCYlPUaIDApGZjUq1fPBg4cWBadF/++fv16O3jwoE2cONGL4y3rIGWxZs0aGzZsmDVp0qSsh1f635988km79tprTavlUIi40pw8AQII5BAgMKF7IIAAAlUssGfPHtMIhg4dOqQmMFE9FQ1d1ugSjTLxvTFFKdoDghFI3bt3t86dO/vePdzxE5hEu4Hu5NevX5/A5AOWt956yzSqYsKECbxezOzAgQO2du1aGz58uDVu3Dh2k8cee8xuuOEGW7dunfXt2zf27bEBBBDwV4DAxN9zz5EjgEAMAiruqi8WJ06cKHHnUaM8NLJBI0ySXoZS+6UiltRkKDrpBAQEJmW9/AlMokJaxrVhw4Y2YMCAsui8+Hd9UT969KiNGzfOi+Mt6yA1PUkh0siRI10/ibv97Gc/s29/+9tueWduAsStzfMj4LcAgYnf55+jRwCBKhbQSA4tv6kL6exigMGUnOypOlW8C6U+nQKTjh07uqVjfW+qJzN//nxqunzQEfAo+YogMCEwyfU+qdEUWkp37Nixvr+duuPft2+faZqS6ok0aNAgdpMHHnjAbr31VrdSkUZz0hBAAIG4BAhM4pLleRFAwEsBffHUnOrDhw+XWG6y0IGJapi0bdvWevfu7eW5CR80NV2iXYDAhMCkrDeFRYsWuakW/fv3L+uhXvy76nVoJOGYMWO8ON6yDlJTUVUIVx6qdRN3u/fee+2OO+5wdWRatmwZ9+Z4fgQQ8FiAwMTjk8+hI4BA1QtoqodWCtB87osuuiiygUIHJhpR0bp1a7vwwgur/sCr2TNS0yV6wgiQCEzKegkTmESFVq9ebadOnbLRo0eXRefFv2ukh5Za1hSlOnXqxH7Md911l919991ulE+jRo1i3x4bQAABfwUITPw99xw5AgjEIKBiohqqvXfvXrv44otTFZhoWeEWLVpQIM/MgpouKnCqQqe+NwITApOyXgMLFy60pk2bWr9+/cp6qBf/rmBcxb1Z0rbodO/cudO2bNli48ePt9q1a8feB2bOnGn33XefqwuWxPZiPyA2gAACqRUgMEntqWHHEECgugnoS7gCExW+27Vrl82YMaNEYKIRKCr4mnTRV+0IX3iiPYoaFRkPAhMCk7LebxcsWGDNmjUjMPkAauXKle79XkVOaWbbt2+3rVu3umLntWrVip3kO9/5jqnwa1BIPfYNsgEEEPBWgMDE21PPgSOAQFULaJqHLqA1j1sXjwpMwsGIvpQWMjBhSH30jFMEN+PBFCUCk7LeDxWYNG/enBFqH0C9+eabpto/I0aMKIvOi3/ftm2b6WfSpEluJbi424033mi/+tWv7Pjx46ZC6jQEEEAgLgECk7hkeV4EEPBOIKhRomHJutOmKTnhC8dCByZa7rh+/fo2cOBA787N2Q543rx51r59e+vVq5f3HgQmBCZlvQg0pU/FNfv06VPWQ734dxX31utm+PDhXhxvWQep5X137Njhip0nMYLy+uuvt+eee84OHTpEYFLWyeHfEUCgUgIEJpXi448RQACBjIDuNmoEicIShSbTpk2LDE0udGCydOlSq1u3rg0aNIjTZmasGpTpBtR0OXtgQo2bjAuBSbSPrFixwv1i2LBhvJ+auc88TUVVYJJE+8pXvmIKvVUvjBEmSYizDQT8FSAw8ffcc+QIIFDFAgpL9KPid5qWM3Xq1EgxukIHJsuXL3cBzpAhQ6r4yKvn02nVoDZt2rDMMkVwz9qBVeOGwCRDwypb0W7y+uuvuy/qQ4cOrZ5vgFW811ohR+HF5MmTq/iZz/50n/vc50yjfDT9NYkRLYkcFBtBAIFUChCYpPK0sFMIIFDdBIKCrwpFdJdtw4YN7sJRIzqCFtQ4KVTRVy7wo71KXwBbtWrFFIMPWCiCm+kfjLgp+Q5MwBg1IYCOeugmwTvvvOOKvibRPvWpT7lljPVDYJKEONtAwF8BAhN/zz1HjgACVSigL1iq1q9QRHfZ1q1b5y4cVTMkLYGJhpBrP5lzX3RGWGY5+gIgMCEwyfWWyBS2qM6yZcusTp06THH8gGX9+vX27rvv2oQJE6rwk7X0p7r88stt3759tmbNGgKTRMTZCAL+ChCY+HvuOXIEEKhCgaDgq54yuIgbP368NWzYsERgol8UYs41qzpETzirfkQ9tGrQBRdcYD169KjCV0b1fCpGmJQ8bwpM2rVrR5HkD2hUE6pevXoU0f7AQzcJjh49auPGjUvkRf/hD3/YTpw44abl0BBAAIE4BQhM4tTluRFAwBuBoOCrDljDkletWmVjx461xo0bRwIT1TjRl7FCBCbaJ42CGTlypDfnJdeBLly40Jo2bWr9+vXDw8xYZjnTDQhMSr4kWFUqaqJVxxo0aGADBgzg/cPM1q5da8eOHXOfe0k0rUKnqTiLFy9OYnNsAwEEPBYgMPH45HPoCCBQdQJBwVcFIQpMVq5caaNHj3ZfyIOm6TqFDExWr15tp06dcvtFM1u0aJELtPr37w8HgUmkDxCYlHxJEKhFTXj/iHok/fmiKa9NmjRxK+XQEEAAgTgFCEzi1OW5EUDAG4G//vWvplEmCkwOHjzohglrJEfz5s1TE5horreGMI8ZM8ab85LrQHVnUlOmuENcpMQIgkxvITAhMCnrTZIRalGhJEcw6vWpz7GOHTva7NmzyzpV/DsCCCBQKQECk0rx8ccIIICAuSk2QcHX8847zxW+04o0Kq7asmXL1AQmSc8xT3vf0JB6FeUdOHBg2nc1kf0jMCEwydXRKAoc1aEGUtQjyRpZ+szVcs59+vSx5557LpH3RzaCAAL+ChCY+HvuOXIEEKgigWC5YP1Xgcnhw4dNKygMGzbMLVsbtEJPyXnrrbfcvqkYLc1MRRu17POgQYPgMDOKehKYEJiU/61Aq2wpENeXdpqZVmFT0+de3E2BiaZSahTn008/HffmeH4EEPBcgMDE8w7A4SOAQOUFwivkaEqOVgrQ6IUhQ4ZYmzZtIoGJpu0oOClE0dcNGzbYgQMH3HLHNHOhVu3atW3w4MFwfBCYtG3b1nr37u29B1Nyol0Aj5Ivifnz51vr1q3twgsv9P71IgCNqtTnmkZ+xN3UH3v27GnTpk2zJ554Iu7N8fwIIOC5AIGJ5x2Aw0cAgcoLhAu+qmq/VgpQQUCNXNAynEFTUFLIwGTjxo22f/9+mzRpUuUPugY8w/Lly61WrVou2KIVjTAhMCnqCQQE0VeE3rs0ZatLly7WrVs3Xi4EjCX6QJIBtF6fnTt3to9//OM2a9Ys+iMCCCAQqwCBSay8PDkCCPggEC74qsBEhVU1v13FRDt06JCawGTz5s22Z88emzx5sg+npcxjTPKOaJk7k4IHcMc8cxIITAhMynpJUvMnKqQpjvXq1UukJpRen7oZ8bnPfc4efvjhsk4V/44AAghUSoDApFJ8/DECCPguoAs3BSaalqPhyApMtHSvvnz269fPLrjggtQEJlu2bLGdO3falClT3H763pKcc18drAlMMmcpGFGhu9jdu3evDqcv1n3U+5tGIHXt2tX90MxYZjnaC5JcdUyvzxYtWtj1119v999/P90RAQQQiFWAwCRWXp4cAQRqukB2wVcd75kzZ9zwdRUD1BeuoBV6Ss7bb79tO3bscCNMClFDJW19QUs/65xoNSOaGUUsSwYmTEEpMiEwib5DBCOQOnXqZD169ODtw8ySXGZZ02AVmHz729+2H//4x/gjgAACsQoQmMTKy5MjgEBNF8gu+Krj1RLDuvuo4pnhu7G6yNaFXqGKvm7bts30oxomWs3H95bkMpjVwZrAhMCktH6q2ksagaT6JQqRfG9M2SrZA5JcZlnTXtu3b2+33HKL3Xnnnb53R44fAQRiFiAwiRmYp0cAgZotoBVx3nnnHTefuk6dOu5gFYq89NJLrop/eDh/EJgoZClEYLF9+3bbunWrWyVHxU59bwpMdK60NCXNXN2d5s2bW9++fb3noMhptAsQmEQ96B8l3yKSnNJ3+PBhF9zdcccddtttt3n/fgUAAgjEK0BgEq8vz44AAjVcQCHEqlWrbOzYsda4cWN3tApE5s6d68IShSZBK3RgovolqmMyfvx4t5yu703nTaOBCEyKegKBSeYVwRfi6LuDgkWNQNJ7Wniaoa/vIUGARE2XTA9IcpWtffv2uRGcd999t910002+dkOOGwEEEhIgMEkIms0ggEDNE1AAohBi5cqVNnr0aGvatKk7SP1+9uzZbvh6r169UhOY7Nq1y7RSzrhx44pHw9S8s1L+I1q9erWdPn3aRo0aVf4/qsGPVGDSrFkzV6zY90ZgEu0BKmyt/qF6Harb4XsLAiSmKGV6QpJFcHWjYuDAgXbffffZDTfc4Ht35PgRQCBmAQKTmIF5egQQqLkCCkYUQmhqh75068tm0BSY6E7shRdeGAlMdGdSP4WYkqMlhTdu3Ghjxoxxyz/63hSYaEUjhV20ZIs2pt2bwITAJFcfJUCK6iRd00WfYyNGjHBLCl977bVpfzth/xBAoJoLEJhU8xPI7iOAQOEENPVm7969ptVWdPGmqv1B05ScDh06ROpB6KKykIGJ9nXDhg0uIKhfv37h4FKy5TVr1piKBypAohGYhPsAgUn0FaGpa1oFRVMMw0ul+/q6wSN65pN+vei9WyMlZ82aZV/84hd97YYcNwIIJCRAYJIQNJtBAIGaJ6DwQwVfX3/9dRs2bJi1atWq+CBV9LVNmzbWv3//4t8VOjDRvO/169e7mh0NGzaseSckzyNau3atHTt2zNWfoZktWrTI1eEJ91lfXZL+Aph2ZwKC6BnS0vF6vWjKZceOHdN++mLfv6SLAq9YscKmTJliTzzxhH3mM5+J/fjYAAII+C1AYOL3+efoEUCgEgKax37w4EFbvny5DRkyxAUkQdN8bo040TzroBU6MFG4s27dOjcaplGjRpU48prxp7LQKke6U0kjMAn3AQITAoJc7wmqfbR48WJXeFQjCX1vSRcFVlh1ySWX2NNPP22f+MQnfOfn+BFAIGYBApOYgXl6BBCouQKax67lDZcuXWqDBg1ySwsHbd68ea4I7ODBg1MTmBw4cMA0qmL48OHFK/rU3LNT9pG99dZb7vxp1SCauS+AGnk0YMAA7zkITKJdIAgIGFFR5KLaR0uWLHE1qtq3b+/96yXpEUj6fP3Yxz5mzz33nH3kIx/x3h8ABBCIV4DAJF5fnh0BBGqogEaL6CJRUzr0RVNfMsN3GufPn+9GcWjkSdD0N6p7ortxhSj6+u6775oKnQ4dOrR4RZ8aenrKdVianiSTCRMmlOvxNf1BBCaZM0xgcvbAhBEVRS4nT550QXmfPn0iQXlNf48o7fiSDtRUVP2KK66wOXPm2MUXX+wrO8eNAAIJCRCYJATNZhBAoGYJ6AuVRpioaKiKIWop1nAxRC3BqZVoVNskLYHJoUOHbNWqVS7ECa/oU7POTPmPRgVwNepm4sSJ5f+jGvxI3TFv0KABI0zMjMAk2tEZURH10Pv+smXLXFHvtm3b1uB3hfIdWtL949lnn7XPfvaz9uqrr/L+Xb5TxKMQQKASAgQmlcDjTxFAwF8BjRRRYKLifxpNojuNWkY4aJpjff7557t6IeHApJCr5Bw5csQtgazpQ+EVfXw9i1qacv/+/TZp0iRfCSLHrcBEqyeF6+74CkNgQmCSq+8fP37c1a5SUB6uXeXr6yXpAOmpp56yL33pS26Uj4qY0xBAAIE4BQhM4tTluRFAoMYKaFpN8KP51JrL3qVLl+Lj1ZfPc845x0aNGpWawEQFTrUEsr4Qt2zZssaem/Ie2KZNm9yy0JMnTy7vn9ToxxGYZE4vgUm0qzMFJeqhqZhaHU0rSrVu3bpGvy+U5+CSDpC0Os51113nbgCE64SVZ195DAIIIJCvAIFJvmI8HgEEEDBzo0s0WkQjTV5++WW3vGS3bt2KbTRcW/82ZsyYiJf+Rn9bq1atxB25yI+Sb9682Xbv3u2Wp6SZu1tbt25dNwLJ96bXrob7KwQNv659dSEwiZ759957z7S0rWpXhZeT97V/JO0xa9Ys+8Y3vmEq3K3RnTQEEEAgTgECkzh1eW4EEKiRAireqtBDX6r0v1988UXr0aOH+wma7j6qKGz2krWFDEySvguY9pO/ZcsW27lzp02dOjXtu5rI/hGYZJiDwKRr166mH99b0lMu0u7N9MboGUp69OIjjzxiN910k23dupXXZ9pfLOwfAjVAgMCkBpxEDgEBBJIVCAq+6r/nnnuuqWK/7kJrlEnQdPdRhfCyV2AJap8UYpWc4EsPKzsUnaW3337bduzY4UaYaPqU702jomrXrs0QdzMXhmqECYFJ0auCwCT67qDlyFeuXOleK82bN/f9rcMtz56kx/3332+33Xab7dmzh2Wdve99ACAQvwCBSfzGbAEBBGqYQBB66LCCwEQFX1XHJGiaW60pMNkFRfW3GnmiwCTpL+lJr2SQ9tOuu5Pbt293NUx0Hn1vBCaZHkBgEn01MDot6sGKY1GPYMn6pFZgu+eee+wHP/iBWxaeAua+f3Jx/AjEL0BgEr8xW0AAgRomoGk1KvgaBCZz5861Dh06uCUmg6ble3XXLbs+RhC26At60oHJ6dOnbfHixda7d2+3v763IDBRqFWIET9p89eqH6qtoy89vjcCk2gPoP7R2QOCoUOHWtOmTX1/udjBgwdtzZo1NmzYMGvSpEnsHnfeeaf9+Mc/diOftBQ6DQEEEIhTgMAkTl2eGwEEaqRAsDpOEHq89NJLbmlJrZgQNF086iIyuz5GIQMTjWxZuHCh9ezZ0y644IIaeW7yOaht27aZfiZOnFiQIrz57GsSjyUwySgTmBCY5HrNJR0QJPH6r8w23nnnHVu3bp2NGDHCGjVqVJmnKtffajqOpuWoltj5559frr/hQQgggEBFBQhMKirH3yGAgJcC4YKvQWDyyiuvuGHBWq43aLp43Ldvn02bNi3iVMjARBeXCxYscMVpO3Xq5OX5Cx+0puNolAmBSZEKgQmBSWlvCkmvgpL2N6cDBw7Y2rVrbfjw4da4ceO0727s+7d//363Ys3IkSOtYcOGsW/v5ptvtkcffdQ0apLRgbFzswEEvBcgMPG+CwCAAAL5CCgw0UgNFXwNLtTmzZvnhmWrAGDQ1q9fb7t27bLp06enJjDRVKL58+e7ArVaLtX3poKvKvyqwrzcpTTTyk4KATXNwPfGCJNoDyAwiXokPaIi7a/HvXv32oYNG2z06NFWv3792HdXSwr/5je/cXXCqD8VOzcbQMB7AQIT77sAAAggkI+AghIFJmrBhZpCCN1VC3/R3Lhxo5vuMWPGjEitkkKOMOFLYPRMa0lhLS08fvx4tzqM743AJNMDeK1EXw1JLxub9tdi0iMq0u6xe/du27Rpk40ZM8bq1asX++5+9atftT//+c+u6GtlAxP17ZkzZ5qKXuszW/8/mGL7zW9+s8Qo0dgPjg0ggEDqBAhMUndK2CEEEEizQHbBV+2rprnUrVvXDc8O2ubNm93oBY0wCV/QKWzRCgsq+Br8PvivfpfrR89d2r8H/5bLTmGPRsNoRZ/u3bunmTmRfdMIIJ2ncePGWZ06dRLZZpo3oqWw1VS40fdGYBLtAUeOHDGt/DVo0CBWJTFz0y01inDUqFEUHTVzoymTfC/90pe+ZK+99ppbVriygYlCc40OVdij6arNmjUzjZj54x//aBpZ9cMf/tC+853v+P6WyPEj4LUAgYnXp5+DRwCBfAWyC77q7xctWuSmdKjgXdAUlugCUjVMtPJI0DRsWbUz4mjBqju5QpczZ864/dGIirLCl4qGN8Hf5Qp4Cv0Y7VtwV3Ts2LEu8PK9EZhkegCBCYFJrveDpKegpP29KenpjVdffbUL8PRZWtnV5vRa11Tb8Oe0vBWKacUwjTjRSJYkarOk/Tyzfwj4KkBg4uuZ57gRQKBCAiqcqlEm4WWBlyxZ4i7adLcxaComqiHKWiUnPN1Dw35VqK5Xr17uobpQC370/zUKJPv3FXlM+G/C/1vFCjVkWksxlvaY8P5U5DEVgk34j4KLbB2fatGEz2dlRvoUIggqT1BWnsdoKWz1P40wCR9HwqcmFZsjMImeBi2RvnLlSncnvnnz5qk4R4XcCY1s0LTLpKagFPJYy7PtpAtoX3nllW4Ep85BZQOTXMd3+eWX2x/+8AdXn6V3797loeAxCCBQAwUITGrgSeWQEEAgHoGzFXzVlhSC6AuWLp6DpgtIXWRNnjy5ePSC/v7ll192Xzj69u0b64VeaQKvvvqqtW3bNtaLv+yQJVcAVNlwpjLbOnHihGmqQevWrV1okh1MVSQsymd/4umlVfusZwuPtIXqFirlu886j3pda/ltrShVVhBWterpezYCk+g5CUanMZ2vyEU3CPSZp8+7yk6RKU/v//jHP24qvLt69erYPkfV57XynQrL6kYDoxDLc2Z4DAI1U4DApGaeV44KAQRiENDdd40wCa+Qo82oWKZqk+jiOWgqKKplFrVkbbBqgKbDqIaI6ocEX8Ji2M2cT6kCtQoILrzwwqQ3nbrtFboOQdIBTVnhlKYZqG+3a9fOnau4A6Oy9kf/HuxH6jpP1g6FA6R8w5k4p8ZpX8qqkVSex+hLo2o96C67ltGtyHS9wCXt57I8+xfU7KBgdJGWRntoWs6UKVNiCzDC5+XSSy+1U6dOWTCNsDznrKzHKBR56KGH3HugPhueeeYZF6jPmjXLNAWIhgAC/goQmPh77jlyBBDIU0AjEpYuXeoCj+BLpZ7ijTfesJMnT7rlaYOmO5Br1651v9P0F7WDBw+6CzzdtWrRokUiF5bZh6gCtcEIlzwPv8Y9nJUuoqdUNQE03SxciycNJz0cnJwtxNE+VsVUtnCAoxFjmlKn16leL/mOHKqK/dFx5RtapeF85dqHskbqBNMryhPyFHKUk2pa6P2jX79+xUuSV8X+hKfOpf1chvdP9br0mafAJImm2mAaFaj6YVXV9Hk9YMCA4qdTzZJHHnnErrrqqqraBM+DAALVVIDApJqeOHYbAQSSF9Bd1ldeecX69OnjVpoJmub2q5r+pEmTin+nu/UaLqxRJ40aNXK/15KFwbx3De+Nc+51aToLFy60pk2bugt935uGdK9bt84FBME58tkkrYFJIc6JgiONxuratav7qS6ttEAp3+Al+/F6f9MIAlloxFyu56tI0BPXfpcWtlWH81mRUTyFGumk91L1EY1cjGPElOp+KcRUYVb9XHLJJdakSRM3YrOqm1776uuPPvqo3X333aalhe+9996q3gzPhwAC1UiAwKQanSx2FQEECisQBCa6KOzSpUvxzigY0VLB4btruvuoIEV1TXRhp6bHaZSJVmXRRWUSc72zxXRHTuFA+E5aYVULt3UNwdZdRS0HrWkGvjf1V005GzlypO8UbqSNApNu3bpFXuu+wuh9a82aNa4gcPB+Vp0t8hkxdLapYyr6qmkbWmZZ7+XlmV5WHR+TlnOs8OJPf/pTid3RZ6gCFI02Cf4b/O/g5kZljuHrX/+6Pfjgg672WFKjZyqzv/wtAgjEI0BgEo8rz4oAAjVMQBe7mpKjCyetcKMvUkHTl27dYbvooouKf6cv45qqo5VzmjVr5n6v0R1aflgX2Xq+QgQmWtFHd4g1Lcj3VtO+BFb2fBKYZAQJTKK9iddK1CPpIqeVfW1X9O/LG/JoSo5GmAwdOjSW0UcK+vU5q9elRppoaqw+j//u7/7O/f/g98F/9bs777zTOnToUNFDd3/37LPP2mWXXWYzZ86022+/vVLPxR8jgED1FSAwqb7njj1HAIEEBVSTQEXmXnrpJevRo4f7CZqKu+qO48UXX1z8u6BeiaZ7qA6C/n7u3Llu1Q3VQClUYKILTU0HUmjje1MdAo360UW+pin53rSssAoTh5fH9tWEwCR65hmNFfVIushp2l+Hmtp49OjRSOHzuPZZn52aUjp69Gh76qmn4tqMe17VMLnuuuvsjjvusNtuuy3WbfHkCCCQXgECk/SeG/YMAQRSJKA7Vvoy+eKLL7rRJRplErT169ebVsWZMWNG8e80RWf58uVuCHurVq3s+PHjboSJLvS0Sk2hAhPtk4YuDxkyJEW6hdkVnSOFBLIIRgEVZk/SsVUCk8x5IDAhMMn1qtSKQXrPnzp1ajpevAXeC03X0ogPTUGNu+mzs2fPnu4GxeOPP17pzWlknT7Ts6dlaiUk5yHtiwAAIABJREFUrYKk86wbDUxVrDQ1T4BAtRUgMKm2p44dRwCBJAX0Ber999+3OXPmuJoG4WV5VchVBV0VmASFXLUcoS6yNHpBAUlQBFZ3xerVq1ewwERLIGsqkPbL93b48GFXZ2bw4MFuJRTfm0bbqLgiI0yMGiZZLwYKJEdBkl4VJu3vTUm+dygw6dSpk33iE5+wX/ziF5Wm+cY3vuGeRzVK9Nlep04d05SrP//5z/aXv/zFbrrpJlf8lYYAAv4KEJj4e+45cgQQyENAYYl+NCWnY8eO1rdv3+K/1sWzhmhPnz69uC6J5nMvXrzYfRlv27atWx1HoYrqnGh6TqFGmKiuiravQqe+tyAw0fQkTZvyvelLj6adKdTzvTHCJNoDgiW4WVGqyEVLTisEnzx5su8vFXf8SdY/0menPlO/8IUv2EMPPVRp/wULFrjARJ/XOqcKjTUqVCNK/vEf/9E+9KEPVXobPAECCFRvAQKT6n3+2HsEEEhAQBdoWj1E03JUeV8Xa/379y/essIShSbTpk1z013Ugik4Kq7avn1708gOXYhpmWF9GVNoUYiirywdm+kwGgUkDwKTIhMCk0zfIDA5e2CiL5ENGzZM4F033ZtQAK4QKbyUfLr3ON69SzKI12enRgRqBZv77rsv3gPj2RFAAAEzIzChGyCAAAJlCCgw0dBcXai9+uqr1rJly8gqMxo5ogtozWevXbu2e7aTJ0/aa6+95oIVjUhR0KI6GQpQChmYUKcic7JVpFAX+jonOqe+tyTrEKTdmsAkeoa0hK5qNWm6VoMGDdJ++mLfvw0bNpgK4U6cODH2bVWHDaxYscLtpmp2xd1080Lv10yViVua50cAgUCAwIS+gAACCJQhoKBEgYna/Pnz3YoqmmoTtB07drgvExqerRVo1DSaROGKpu5oRIqWI1ahuq5duxY0MGEUQeZka9qULvQHDBjghmD73ghMMj2AwITAJNf7gd7vtcrWhAkTfH/bcMefZDFxjd7UcsFatUar19AQQACBuAUITOIW5vkRQKDaCwQFX3Ugmu/cqFGjyCozqqavZRV1t7F+/frueBWwaFSJisPq8bqgVKFV3Rkr5AiTtWvX2rFjx2zs2LHV/rxU9gDkoKlSGgWkwry+N/oGgUlprwHVdtCoCtW3Cd7jfH69aCl51UDSKio0s2XLlrliqUksV6/VzXTj4c4777RbbrkFfgQQQCB2AQKT2InZAAIIVHeBoOCrao5oaWCtchMeerxnzx7T3XldPAfz+zVsWKNKtPyw/k5fNjTfXSNQ9HyFqmGiYEdTUVRLxfemO5UKsrTUc5s2bXznMAITAhMCk/K9Dei1ohFqvI8WeS1ZssQFaZreGHdTeKcbEffcc4/98z//c9yb4/kRQAABapjQBxBAAIGyBBR+aFSIgg9V0j///PNNq0UETfP7VRtEozYaN27sfq3Hv/jii9ajRw83PUfLcmqFHLVCBibcGc2c7RMnTrg7o8G0qbL6QU3/d74EEpiU1scVCqtO05gxY1xg7HtTQK7AlZF6RT1h0aJF7rMvXAw9rj6immEayfLAAw+4wq80BBBAIG4BRpjELczzI4BAtRYIr5Bz3nnnuTtp55xzjit+GDSFIVptRcPVVd9ETSNI5syZY926dXNz3fW3+hs9nwITrbij3yXdKFaYEVdh3qVLl1qfPn2sXbt2SZ+K1G2P0UcEJgQm5XtZUgsq6qSRl/rs02i9uJs+w7Ra0yOPPOKW/aUhgAACcQsQmMQtzPMjgEC1FlDwoREm+q8CDo1IUNihO61BO3jwoCseqos4LXeopmBk9uzZ1qVLF9u5c6dbKUcjGQodmLAcZqY7njp1ygVgGt6tpZ99bwQmmR6gUFOrXCnw1GvY97Z7927btGmTG1ERFLb22YTVxqJnX68V1edS+Bx3k72K7T722GP2hS98Ie7N8fwIIIAAU3LoAwgggEAuAYUjCkzUNCVHRUJV0DU8d11F6FQLY/jw4ZHlaTXCRCvkaM61wpJOnToVPDDZvHmz6cvPlClTvD/xmiqlKVa9e/d2qy743piuVTIw6d69u3Xu3Nn3rmEqbK33Dr3vqbin723lypXuc0EhOa1o9TgVzlb4HHfTZ62mtz755JP26U9/Ou7N8fwIIIAAgQl9AAEEEMgloFokujDWNBwFJm+88YZpKkd4OckjR464qR1aBSe82opqmDRp0sQUqGg6TrNmzVxgoufUTyGm5GzZssWNeFFgomPyuZ05c8bNvVdhXo0A8r0RmBCYlPYaIDCJymgKpt7Dw7WsfH7/mDdvnhulp/fSuJtWqrv00kvtd7/7nV1++eVxb47nRwABBAhM6AMIIIBALoFwwVcFDLqzqNURtOJN0LTqjKZ2DB482I0oCZpWydHdWBUHnDZtmtWqVavggcnWrVtt+/btNnnyZBcA+dw0Ukhz73v27GkXXHCBzxTu2NevX+/q7YTDQF9Rgik5jDAp6gEKWRW2aiWw2rVr+9otio9bwbmmaWpUIc3slVdece+hKnIed9O2LrvsMvvTn/5kH/7wh+PeHM+PAAIIEJjQBxBAAIHSBMIFXxUuKDBRsT+NGAlPaTl27JgbqaAlFcO1MHTXTc+hvw0ClkKPMNEKA/rR/hRihEuaepvCMN2t1EW+pkv53ghMMj2AwCT6aiAwiXqoZpVaeHl5X98/9JmmEENT1xQwxt1eeOEFu/LKK23u3LnuRgQNAQQQiFuAoq9xC/P8CCBQbQWyC77qQLT0aniJYP1Oy9Pqi7eWVAxP7dC8bk37UDE8TddRK3RgotElGmWiUQRaHtnnxpfi6NlXYKICxhMnTvS5W7hjp29Eu8COHTvs7bff5n3jAxbVslIQHryv+/yCUZ2vV1991bp27ep+4m7PPPOMXX311a5uCqPh4tbm+RFAQAIEJvQDBBBAoBSB7IKvepjqPOzZs8cuvvji4r/Saiu6eAsKuwb/oN/p33TXTdM+0hCYcKc4c7JVg0DniJVQikxYcjrTNwhMom+KQdCqME1TC31vKjwqhyFDhvhO4Wq5JPk++tvf/ta+/OUvu7phFN31vvsBgEAiAgQmiTCzEQQQqI4CuhDUFye1oN6HvlTqbuuMGTOKD0mjSDT9RisEhJcg1V03rcQSrm2iESYKYvS8hZgSQ/HGTE9M+s5o2l8DWnJao6cYYcIIk+y+SmASFdHy8qrlovd231vSUxsff/xx++pXv+rqiQ0aNMh3fo4fAQQSECAwSQCZTSCAQPUUUKihn6B+iY5i06ZNbkqLApNglRldMKrAq5anDQ9JVoiiMEXDhhs0aOAQCh2YaHSMvhiPGTPG6tWrVz1PTBXtdRCYKOTSKBPfm/rF/v37IwWNfTVhhEn0zFP7KOqh0Q1169blC7uZJV08+xe/+IXdeOONrkh1EssY+/oeyHEjgEBGgMCE3oAAAgiUIpC9Qo4eppUi9KMpOcEIEY1E0RLCmnYTLnqnQni6mAyHK4WuYbJ371439WL06NFWv359r8+9atQo1EqqWGHasQlMMmeIwITAJNfrVaui6f1Thb59bxpFuXjxYnfDoEOHDrFzPPzww3bzzTe74uXhEZ2xb5gNIICAtwIEJt6eeg4cAQRyCSjYUNihL9XhqTMaXaJRJhdddFFx0VQ9Zs6cOZFaJXpuhSj6t+nTpxdvqtCBiUYQqA6L5n43bNjQ606Q9OoOacdWv1agpiWnfW8EJtEewHLkUQ+tita4cWNX6Nv3dvLkSVdPpE+fPtauXbvYOe677z6bOXOme69KYnuxHxAbQACB1AsQmKT+FLGDCCBQCAF9YVq1apW1atXK2rZtW7wLuqulO/FaVrhOnTru9/riPXv2bDcdR3fZgt8pRFHYkr30oUakaPRKIYonqkbFunXrbMSIEdaoUaNC0KZqm5pKpSWFtbSw743AJNMDCEwITHK9HyxcuNCaNm1q/fr18/1tw60Sp5ouKnoe/qyMC+buu++2u+66yw4dOmTNmzePazM8LwIIIFAsQGBCZ0AAAQTOIqBA4/nnn3e1LXr16lX8CBV81dzpSZMmRWqAKBy54IIL3F02tWDlHC3dq9Eo4RasvlOIoq9aNnbNmjU2bNgwa9KkiffnXtOmtBR0sIqRzyCbN292K0AxwiRT9FVBmgI135uWFNZ7n4LioHaTzyZaRl5f1hUS1LT23un37a4XttiavcdtQPtGdsslPaxJvdKXoD927JhpmWWNtmndunXsHD/4wQ/snnvuMY1s8X1aaezYbAABBJwAgQkdAQEEEMgRmGiOdLiwnFaZ0QiNcCFX/bmm32h4cHDH8cCBA/bGG2+4aTtpCkzeffddW716tQ0dOtTdIfW9qYZJ+/btI6GYryYKTHbv3u2+FPveghEmBCZFPUF1m7QkOYFJkcdrr71mLVu2LA7Ia9Lr5aY/rLfn3zpYfEgf6tfKfvx3RTcCztbee+89W7FihQ0YMMCNyIy73XrrrfbAAw+4guyFGKUZ9/Hx/AggkD4BApP0nRP2CAEEUiCgESaaZqPRB+G7iLoDrxEa48aNi0xpeemll9zdNV00qumOrL6AlhaYqD6KRpgkfbdWw5g11UjLYTKc2UxLP2sYeTCVKgVdr2C7QGCSoScwiXbDIDCZOnVqwfpnmjY8f/58935fE1dp+dD/W2a7j54p5u7YtK49f/3IUvmPHDlib775plsxqEWLFrGfpptuuslmzZrlRnEWYpRm7AfIBhBAIHUCBCapOyXsEAIIFFpANUkUmGSPGtF+7du3zwUOWpY3PKVFUzsUQOiiUW3lypWm6S9akri0ESbh5YqTOuakL26TOq6Kbqcmf/HJ14QvxRkxvf417YIRJkUmhGnRV1NNDlrzHWGSdAh/ww032NNPP21Hjx51n680BBBAIG4BApO4hXl+BBCodgJa2UZfmFQQNDxqRAeioqm6mzZq1Chr1qxZ8bHpAlqrJgwZMsT9TkO2VatEd6q1BHG4BTVMChGY6CJTU4W0HKaGlPveavLQ+nzPLYEJgUlpfYbAJCpTk6fyuRoms7fYmj3HbUCHRnbLjNw1TJKe5nndddfZCy+8YJr2SmCS77s8j0cAgYoIEJhURI2/QQCBGi0QBBoafaBQJBg1ooPWqBHN19YqM+Hhx/rirQJ0Kqaqv587d64LUI4fP24zZsxITWCSdIG+tHeUmly8MV97CnsSmJTWZ1hBKSpDseiMh4KLtWvX2vDhw91nXtztmmuuMS3rrHpiBCZxa/P8CCAgAQIT+gECCCCQJRAs+6ulI7X0bjBqRA/T8OPly5e7YCRc4E6PrV27tgtSVARv8eLFbnSKLiYVmIRrlRRyhIkCHO2/itO2adPG+3PP8qCZLkBgQmBCYFK+t0SWI884Jb1U/Wc/+1lXuHzr1q2J1wArX+/gUQggUNMECExq2hnleBBAoNICmo6j0EShR7169Vw4EjTVAFm6dKkLUcKBgx6ru12aqqOVRnTHTcsM6y6YpuSEi9MFU3UUoiRd9FVLMWr/tfyxVvXxvelOpe6KaklM35u+gGzfvt0tK+z7nVtqmERfDRs3brT9+/e75dR9b6pxpREmnTt3tu7du/vO4ep6rV+/3n32NWjQIHaPK664wrZt22YbNmxI/PMz9oNjAwggkEoBApNUnhZ2CgEECiUQFHxVqKFgQavcaNRI0ILRI5qmEw4c9Fj97ejRo93Fo5bgVMFIzf1X0Vc9T9AKGZhoZYElS5a41R20nK7vTUFXw4YNi1c38tmDwCRz9glMSgYmGkkwceJEn18i7thV40o1TLTkfLdu3bz30MpxCtT02adpqXG3yy67zFQ3RcXXk77hEPex8fwIIJBOAQKTdJ4X9goBBAokoNBDS/7qolhTV3RBpjtnQdOUFk3j0PLBHTp0KP69HqsCr2PHjrVly5a5/61AQheSU6ZMsTp16qQiMDl9+rQbOdOrVy+3ZLLvTeGRLvJVBNf3FgQmGkXg+3KdBCbRV4Pu5mt6IYGJuRpVKvLdtWtX9+N704hK1bjRZ1/dunVj57jkkkvcZ/Trr78e+7bYAAIIICABAhP6AQIIIBASCOqL6Fe6INP/1xLCQdOUFhV4VQ0QTbkJmgrBKowYN26cW11H9U207LBGm+gLqKb2BK2QI0x0oanAp2fPnpH997UTaGSQLvLDhX19tdAwd/0QmJhbJYtlhTOvBL2P6a7+hAkTfH15FB+3pmuqILhGl2iUie9Noym1wtb48eNdHa+429SpU9129DlGQwABBJIQIDBJQpltIIBAtRHQxbBGh6hp+V0FDApBgqZQRHcXVQNEc9iDpqWGNfpk5MiRbrh27969rVatWrZu3Tr3JSM8t7uQgQlfBKNdUaOBNPqHwMRcWEJgUtQ/eJ1EXycEJhkPfT4oNNeUy06dOlWbz7a4dnTHjh2mgtH6nAtPPY1jexoBqu1ohTrdmKhOTfuuxjSi6nTW2FcEigQITOgJCCCAQEhAF8P6UdFLhSAaURK+q6oARQX/VAMkfHdR86lVEFYjTzTaREss6rFr1qxxd95UJyNomu6jL2SFKPrK3dGSgYku8sMrIfn6glDBV03L0bQLhX0+NwKT6Nl/66237PDhw+69zPfGKL1oD0gyaFXooCmyulnxwgsv+N4VOX4EEEhIgMAkIWg2gwAC1UNAX5QUmKiGg0IQFXkNrwyhf3vppZdcDZBwwT8tc6gh6wpRNJ9bdUv0BUPPobndWoklDYEJ8++j/VC1Z3Suhw4dWj06aIx7SWCSwSUwITAp7aV25swZ0+pa1IEqEkqyWLQCk8GDB7saYs8880yM74ZV99T6zFXxd10f6GaJphNpVKOmgup/67/6DGrdurX3q5NVnTrPhEDVChCYVK0nz4YAAtVYIFzwVRcwCkEOHTrkwo+g6eJn7ty5bji2foKmZYS17KZqlwR/oyKJGqWi1QOaNm1aIjDRL5JevpUlMaMdVHVqdA4ITMySHFqf9rcJApPoGdLUwqNHj0amJ6b9HMa1f0HhbE27DBf+jmt7aX9e1S9RHRN9TsY93USfX3379nU3IX7729+mnca0Kt1DDz1kDz74oDPK1TTtTX1Kxxi3Y+rh2EEEUiZAYJKyE8LuIIBA4QSCqTL6rwIThSBaSlPLAgdNFzOzZ892o0t0hzFoGrKu1QK04oruHmkp4oMHD7rpOapr0rx580hgopEqeq6kAxPthOZ+a+59OPApnHpht6zzozZs2LDC7kgKtk5gkjkJQWBCceQiE70XarRduJ5TCrpsQXaBpdmj7BpRuXfvXps8eXLs50OfmfrcmjFjhv3yl7+MfXsV3UAQetx///124403un3WdDbdUFHT+0vwo2myGn0ya9as4n+v6Hb5OwQQiEeAwCQeV54VAQSqoUC44KuCDIUge/bssYsvvjhyNApMNIdadUyCpmU3NaVBd4YURqgorEaaaMqH6pm0bNmy+LEKZAoZmKgorZY8Dgc+1fB0Vckuq7CvzofOke8tWO0iieKNabcmMImeIQUmx44dc3f2fW+qa6XVtfQe365dO985bOPGjW50ZXjqalwoCiK0Ot0VV1xhjz76aFybqfTz6jNF1xCqaaag8cUXX4xcL1R6AzwBAggkKkBgkig3G0MAgTQLhAu+KvhQCKK77rqbFW6akqOh2BoaHDTdZdNcbrX+/ftbx44dXRFYXVhruofmJwet0IGJVvlp27atG/7re9OUKQVlGhHke0t6edA0e1PYM3p2VLz6xIkTkSXW03z+4tw3OWh1Lb3/633U95bkCkoKTNq0aWNf/OIX3VSXtLZghIn6x0c+8hF7+OGHXSFtffaHp9uU9r/TelzsFwK+ChCY+HrmOW4EECghoLvK+vKsO0O6kAlCEAUm4QsbFX3VRZuCkaBpHrd+1MaMGWNNmjRxc/6XLFniitSFL6wLHZjMnz/fDf3VHVLf28qVK93QaE2b8r0RmGR6AIEJgUlp7wdaPl4jBzV6QJ8DvrckV1BSDTFNb73hhhvsJz/5SerpNZ1X+6xRnWrB0sLBjlOrJPWnkB1EwAkQmNAREEAAgQ8uZPTFWRc3QWAShCCakqOaJkHTssItWrSwgQMHFv9Oo0sUsKgFj9cQdq2moMdpCkzQCh2YLFiwwF10hkfI+NoJtIqRVr3QUpW+t127drnVHFSnQnV4fG4EJtGzrwLYqt2hAta+N72vq1i0AvPwyEFfXZKcrqXXpcL+m2++2X70ox+lnlyvm2uuucbuvPPO4uuC1O80O4gAAiUECEzoFAgggICZGyqrwCQo+CqUIATRXaLzzz+/2ElTWjSCRCNHgqb6JZrCo6KvEydOdL/W0G2FE8EUnXBgopEswTznpE/AwoUL3ao9ukPqe+OLYKYHEJhkLAhMSgYmWh2GYNFcTQoVi9bStkERT5/fRzVdS3VdkgjTFFZpuuvMmTPt9ttvTz37U0895VbI0SpTGhUzZMgQV88svKyw/reWFyZ8S/3pZAc9FiAw8fjkc+gIIJAR0MgSBSZqwco1QQii5RLDd9xfe+01a9CgQWQpWk1n0NBkXUAHK67ojqymvyiYUKG6tAQmixcvtoYNG7oLft8btRkyPUCrPGmUlAp71q1b1+uuQWASPf2MxMp4aKqlikVr5GC4mLevL5gk+4ZWk9EKdXfddZd997vfTT15cC2h+iW6SZKr6QYKDQEE0ilAYJLO88JeIYBAwgLZK+Ro80EIour/9erVK94jjdBQgBJeWSUIV7R6TlAbRFM9NHdZ/1+/T0tgoroqGgkTnlKUMHdqNpfkcPLUHHQpO0JgkoEhMCkZmMiEWj/minmrWPSgQYPc1EzfW5KFs7VqnT5P7733XvvWt76VanrVK/npT39qet3oRzdlVFg+vKSw/rf+TY99/PHHU3087BwCPgsQmPh89jl2BBAoFsheIUf/oC+Q+kKtZVY1oiRoGqGhmibhLw9BgdhwOKKLoZdfftmtRtO1a9fUBCZa4UFDgMNTinztChoqrTvGqtvhe9OXES0RqqLF4YDQRxcCk+hZpzhyxkPLxWtUhd4/VQvK95bk0uyaJit3BRFf+9rXfKfn+BFAICEBApOEoNkMAgikV0B3d7ILvmpv9+7da6pxoS/TjRo1Kj4ALRWsvwnP2dbUDn3hDC8hrFErL774ovXs2dO6d++emsBEKzxoiLDmU/veklzhIe3WBCaZM0RgEu2tSY4iSPvrRNNC9Lmg989mzZqlfXdj3z8VwNXUE332xd20hLHq6Pz85z+3r3zlK3FvrtLPr1ElmmoTroFW6SflCRBAIHEBApPEydkgAgikTUDhh74ghQu+ah/3799vurMaLBMc7LcCB41IUa2H8O9051GjToK7jnq+OXPmuLBEoUnQtD39faGKvuoCV8sZBrVW0nY+ktwfXYDrC5BGEfneCEwITEp7DRCYZGQOHjxoCsj1/qni3763JAN4fR6rqPp//dd/2ec+97lqQ69pXIcPH3af+wpPNMJTo1R140I/muIbHsVabQ6MHUXAEwECE09ONIeJAAKlCygsUV0PVd/XT9AOHDjgivvpjlb4TqJWSNCKEePHjy9+rIq7qsjriBEjiue1KxiZPXu2m46jaTnZgYnuPoWXK07qHCU5hDqpY6rodhSY6AtQsLJRRZ+nJvydRlRppSeNnFKNG58bI0yiZ5/3jIyHPhc0VVM1rBo3buzzy8Qdu0Zcqki0arrE3TSddNq0afbrX//a/v7v/z7uzVXJ8z/zzDP2xBNPuLo3uibQdYKazPQ+q1pnnTp1ctN39e+6mUFDAIF0CRCYpOt8sDcIIFAAAX05euGFF0qMBNHIA43GCIcg2j1d+Bw/frz4S7YucjSSRP/VXcfwUpMKTHQxFBSC1d8HI0wKFZhwtzjTyVSzQyOJVNjX90ZgkukBBCYEJqW9H7zzzjtumVh9LoSnavr6/qGbDRodkcSqa1qh7sMf/rD9/ve/t49//OOpJ3/66aftyiuvdKvktWnTxl1PdOnSxdWIUj/SqBONNtH0LtVGK9So09RDsoMIFFiAwKTAJ4DNI4BA4QVUv+T5558vMRJEFzO6o5UdgmhYsAqFTp482e38iRMnbMGCBe5/68JHF0ZBmzt3rnXo0MH69u1b/LtCByZJLgNZ+LObew9UrHffvn0EJmbOIagR4PvwcAKT6OtGo+rUmMZXNFVTtY80/VLLs/veFi1a5Eba9O/fP3aKl156yQUlf/7zn+3SSy+NfXuV2YDeT2fMmOFGo7766qtulRytlqcRJx/96Eft2Wefdcsjq0bav//7vzO6pDLY/C0CMQsQmMQMzNMjgED6BRSYaIRJ9kgQhSK6e5Ydgqjgn0afTJ061R1cUOtE/1vDktu1a1d80LrAU4ASvphUYKKCsPopxJQc7b+GBYeL1qb/LMWzhwpMNLIiCL/i2Ur1eFYCk8x5CgKTXr16RabpVY8zWfV7mWRhz6rf+6p9Rl4nUU/dLFDdrvBNgaoVzzzbf//3f9unPvUpV0z9oosuimszlXreYFqN6txoRZ9bb73Vbr/9dlOwpGm8v/zlL+2qq65y21AQOWXKFLv77rvtuuuuIzSplDx/jEB8AgQm8dnyzAggUA0EgoKvugDLHgly7Ngxd5GTHYJo/rpCEs2lVtu8ebO9/fbb7n8PHDjQ2rdvX3zkr7zyiqtpot8HrdCBifZfxxYuWlsNTlUsu6hzp+WjddHqe+POOYFJaa8BApOMDFPXor1E02RatmwZmXYa13vpH/7wB/v85z9v2ma4hlhc26vI8waBiW62aB9nzZrlCtQuXLjQFRdXwdqrr77aPbXCN4UnqmeiMKhQ03Qrcpz8DQI+CRCY+HS2OVYEECghoDnDGmGigmvZI0GCqTaam60wJWgajq0v2dOnT3e/UkFEBRAq3qaRJOHCsRqKq5UUdKcpLYGJ5t9r9IyGAvvetmzZYjt37nSBie/F9ghMCEw3Nyr7AAAgAElEQVRKez9IciWUtL8nsZpU9AzpM65t27aRwuZxncPf/OY3bjlhTZVVDZk0tnBg8pGPfMR++MMfun1WjRJ9ztx22212yy23uF1XAeHLLrvMrZyjwvEEJmk8o+wTAmYEJvQCBBDwWkAXKApMdNGnYcXhSv+atqKLmH79+rmibUHTSiLbt2+3Sy65xP1Kf6tq91pWWMOSNbUnaLoTpnoQQ4cOTU1gwlK6mS6vkUE7duwgMPlgahm1GYr6hsJPjS5jSk6RB4FJ5j1DYbmm8mmEnkYG+N7mzZvnbij07NkzdgpNZ7n++utNdbjCozZj33AeGwgCE72XqlaJpg79/Oc/NxUYVzii6wHVMVHdF40q+cxnPmNf/epX7cEHHyQwycOZhyKQpACBSZLabAsBBFIn8P7775t+NA9bFzCqVxI0fWnSxeCFF17oKtsHTRfLW7dudSNMFLioTon+XSFK9mM1DLdOnTpuCcqgFXpKjgIf3dliKV1z51HnTTVMzj333NT1zyR3iNU/MtoEJtGepzv6Ws0jPFIuyb6Zpm3t2rXLTcPUCD29t/vc9Fmmaae6SdCjR4/YKR599FH75je/6ZY/7927d+zbq8wGNOr0+9//vhvNqWk5ujHz8MMP24033uiuNRQy6eaFbrI89NBD7vOYZYUrI87fIhCfAIFJfLY8MwIIVAMBXcSo+KruJmuUSHgViGCqji7MunbtWnw0msahH9Uw0fLCS5cudUsqqsib7kh369at+LF63lq1arkVFcKBiYIWBTWFKPpKodNMx9y2bZvpR8sKF+JcpOklQmBCYFJaf1RgonAgPAIvTX03yX3RFD69/6s+hUIkn5umtOqmgm4YhD/34jJRsPCd73zHhdxacaYyTVOrfvvb37oVdzT6Q+9/rVq1cp8F3/3ud6tk1R+ttKcfhSNaSvi9996zn/70p267mvKrkOmmm25y1xKEJZU5m/wtAvEKEJjE68uzI4BAigV0gaJQROGFCrTp4jc8L1pBiorBaqhx9+7di49EoxIUOmiVnKDug4ZnKxzRBVD4TpueVy28Ik1QaFYXTPqSrtoZZf3oOYLHVJaUQqcZQV1463zq7p6CLZ+bRh2pILBGQ+kOqM+NESbRs69QWNNPCEzMfVnnPaOof+izU1NSdUMhfFMhrveOn/zkJ/a9733PFUtV3ZTKNAUvWp1Gn+8aYagpuXr/0zQZXQs8//zzFAOvDDB/i0ANEiAwqUEnk0NBAIH8BIKCr/qv7qBqSsaoUaOKn0S/nzNnjgtLwvOzdcGsIcG6yFINDK2aoHnKeqzusmmUSdD0vLqoHDNmTPHvFJgoXNHolHxbUJi0rIAlHK5kP1ZfBrVsarNmzdwx53psadsJBzhl7Uvw2GDKS1mPr+z+5GOq+iU6h1q9QIX3fG4EJpmzT2ASfSUo+NUIvLTWjUjydcuotIy2RkmqTpc+Iys74qM85/BHP/qR/eu//qsbtaHPr8q03//+925Eid77w+2pp56yK6+80k350ed8RVt4xIhujhw8eNBUF03BTLt27dx1gW7K6HPH9+mgFTXm7xBISoDAJClptoMAAqkTCAq+asdU1FABSXawMXv2bHfnLDxfWkOyVdBNoxJWr17thtLq7/RYXTSqjknQtBynwonwijTarkau6MKpdevW7u/L86PnLM/j9Jhcjw0Ck4YNG7rnq8jzpu5khnaorEBGDw2CIl3wa5SRLMLh0dmeQ39X1nNXJuwpdKCkC3pNK9O0NK3s5HMjMImefQKTjAd1jzIWeu9U/S+NqgwXO4/rveOOO+6we++91wUPmuISV9PnvUaR6j1RSyZXtOnzZe7cufarX/3K3nzzTTc66dvf/rYbJXP69Gl3zSDDyy+/3PsRjhU15u8QSEKAwCQJZbaBAAKpFNDdHV3QqGlp4OxgQ7/XqBGtkNOnT5/iY9AqCRq6qxBEXyR0t0jLCevCSHOVVcQtaHrekydPRu5iqRicRpjooiy8XHFSSJW9QxqENhUJWsoT+Oh5FV7l8/wVDX504a0fBQQKO862f/nsR/DYpM5lRbZTWugjc70mNBxd05OqYjRTVY5QKm9YVZnQKjhmApNoz9KSqAoVVavJ98bKWpkekPTrRMvxqgaIPrfjnEKpz/N169bZkSNHrGnTphXu8o888ojdcMMN1qhRIzcKRzdmVPT13/7t39xz6t9+/etfu+BEBZWpY1Jhav4QgVgFCExi5eXJEUAgzQLBCjm6s6+7P9nBhvZdI0EUiGhp4aBpCo5GluhO/IoVK1yYopElWi2nTZs2kWJxK1eudIXeVEgu+++1Ik9lhxVXxJdpKBm1OJYIra6Bkr78aEUHfUHQMPHyhFsVDaoq0m+T+psgcFGApPeG7DpD2o98RwOlJXwKh046jvKGUAqGFZgwJcdcwVeNMpwyZUpxqJhU30zbdhQ2q29oVGX79u1j3z2NzvjP//xP91kdV5FufaarjpN+FHDk24L3DY28+fSnP+1cNMJETcVdP/GJT9g999zj/v/TTz9tX/va1+yHP/yhffGLX3Q3Cpiek684j0cgfgECk/iN2QICCKRQIFzwVRcoq1atKhFsaLdffvllNyQ3/EVBhV4VhGiEiKrrawUcTa/R8ootWrSIPFbByqFDhyLF4/Q3GuVRqFUWWOUh0yG1UoLOh6ZUxTnEO4UvgRK79O6777ogcOjQoZW6q1rWsVaHQElhql7nGnmk2h3Z4ZGO0fdAKdfooeoeKOUKk/TerdBcUzLPNpqprP5fk/5dwYUKAuumgW4sxN3+6Z/+yVR7RCM/4ggWVGtEnwUaXaKbJSrsnm/TlFuFOaq1ctddd7n9nTFjhquT9rGPfcz+4R/+wTS1KLi+uOqqq9w0HS2XHPxtvtvk8QggEK8AgUm8vjw7AgikVCBYqUZ3dHRxc7ZgQ7uuJRN1x13DZYOm4piaatOxY0fTCAVdVGkaw9keq6k7Wq5QRWGDpjtYutDUHazg7nWSTHGMqkhy/6tyW/rio8J+WsVIX4x9bkkFJtXBOOmpBmGTNAZKu3btcssKKzwuT1BEoFT6ymeyyTdQ0t+UdzRQnKOZsgMijTDRZ5yKoquAanmm4FXm9X/ttde6abL6TK3qwES1RC677DJ74YUX7Pbbb7eZM2dWaFc1rVHThb7+9a+7FXc0ikSjSRWYXHrppfatb33L/uVf/sU9t6bmKkTR0sL6ITCpEDl/hEDsAgQmsROzAQQQSKNAuOCrLrzOFmxov+fPn+/mH+uCJ2j6YqlirppOo8JtWi2ntMeqOKxGMVx88cXFf69gRcu26q5cUGg0SSNGVWS0g8BEqyM1aNAgydOQum1pJJRGWhVqqliaQAoZmKTJIdiXhQsXuuA4PDWxUPtZ6EBJX9a1wpmKgYfDo7hDonyCqnzOzan/MXtq67m248Q51rnh3+yKbv9n9WNcYb2s4CccKClkeOyxx1wAoc9KhRp6z9YoEP1ONxyy/3vzzTdHPq/LY6GQ44orrrA//vGPLtBQYdmKtiD0UCjyH//xH/bcc8+5/dVqQh/96EddEKPRJGqqX/KlL33JHnzwQTclh8Ckour8HQLxChCYxOvLsyOAQEoFwgVfdSF2tmBDu655yJqqoXolQdOShrqQ0x1XBR/Bv53tsevXr3fz3TUkV03b1VBfLT+sYrKFCEwICTKdct++faZzpGlVqtHgcyMwyZx9BaEqdKolwjWSzPem9zZNOwwXtPbVRCPSNMpQU3LS2PINlG777602d9OR4kOZ1rOpfW96p1JHEumBQVFujZRUTSwVL1fgnCvU0d+VJ/QJ10VSDZEnn3zSbU+fndqeAn8Fd8GyvNn/VcCi+jLlbXpe1RrRSBCNCnnggQfK+6dnfVxQh+SZZ56xq6++2q677jq7++67XZ009Zn777/frrnmGndMWr5Yo0wU1OgziKKvlaLnjxGITYDAJDZanhgBBNIsEC74qjteugjWhV8QbAT7rosZFcAcMWJE8eGoMKYK3amFlxw+22ODeiV6Xm1Hc68151s1UTRCpRCBiWozKCAiJDBXpwKLoq6tIFC1eTT9TF+OfW5BYFKolazSZk9gkjkjClg1ynDChAlpO00V2p8P/b9ltvvomeK/7di0rj1//chyPVfwnjFo0CBXvyvu9slPftLdgNB7djD1qDLbVNjy2c9+1o300HSfhx9+uDJPF/lbjYb58pe/bI8//rjddttt1rZtWzd65dZbb7UvfOELppEwTzzxhPv/+nddZ9AQQCCdAgQm6Twv7BUCCMQsoIsZ3VkKAotNmzbZ1q1bXWASvhBTMKL/rykbQQuWBdb/V/ARrA5wtsdu3rzZtAzl9OnT3bZUC0AF5caOHesukAoRmGhIufZBIZCmG/ncsMicfQKTjAWBSfRdQdMJVL8kvLy6r+8b+rKu14qKdteEdtMf1tvzbx0sPpQP9WtlP/67PuU6tOxRae+dft/uemGLrdl73Aa0b2S3XNLDmtSruiBA9T6C96nKBiYa4fH5z3/eBRqaFqPpM5V9zgAtGCmiz//vf//7xavkZKNqGo6Kw2p1PRoCCKRXgMAkveeGPUMAgZgEsgu+ajNaKlI/qjUSXq5QU290F0pzkIOmSvq646o2bty44tDhbI9VWKKLJi0nqLnWuthW0VUNGQ4HNjEd6lmf9uDBg7ZmzRo3lUirgPjcNLRe9WtUgFfTq3xuSd8tTrM1gQmBSWn9U2GzRhnqvb8mNBdyzN5ia/YctwEdGtktM8ofcmR/llQmfCmPpW5o6HNTn7WVbd/73vfcajWqzaOpOGcrIquRIF26dKnQpoKpObo5oyk3s2fPtu3b/z975wE2VXVu/x0riDQRFRCjgooiEnsPigpi0NhbTDS2qIjGxBo0scaIvV6jRGMv2EI0NFExisYWAbsYkygiVpAY9Pq/uf/nt+e+M3sO88HMN3PKN2e9zzMPfDNn9tln7TPn7LP2etf7dz+fWGONNbxnyvDhwxtG0rSqk/qSEBACVSEgwqQqmLSREBACzYQAExkmMVYhh2NDXYLKhGo2oTQWc9evv/66bHJMZQDMYFmNgmCxiValbSlBSVqOVdJhokc6EFVZ+DesOpAUxqqGUkJa5FEJC9LFyLNPSl6f1Pnemv2IMClHjevdKqus4vr169caOJvqOxCsqAxRCeY9ooRzPek91WDJQkO7du2KCxbVfKelbSBDbrnllsU28fjjjxdN3VuzL5m4tgY1fUcIZA8BESbZGxP1SAgIgZgRiFbIYXes/OBjQsUbJmQWlA9GURIa/FFBg0o3mL6G5nJsiyldmNuOLwo577TL9o899pgvv4hpXVqEiVIvSieYyCMRJpUuNyJMFiVMSBvA0yXvgTqP6zykd94j6gEVp8IEZSiqHoi7KVOmZB760MCVxRnmEbzHAgsvlKy8WDRBfaoQAkIguwiIMMnu2KhnQkAIxIRA1PCV3ZiRHMTICiusUNwzJpjIr610MB+gOGHliRSOcJWRbefPn+8GDRpU/H7YLpMjvkfljW9/+9upESZSEpROLFWGKWHBeQ7phy8PfhV5DhEm5aM/depUb1opwsS5GTNm+HLyoa9VXn8r0Ypr9aT3LAlDyAZ8t6gwN378+CVtnonPWYjB5B2VKWpGiBMUrMstt5x/sTjDAswJJ5zgiSCFEBAC2URAhEk2x0W9EgJCIEYEooav7ApfEaTWGPmF5WWZHPNQHSpJWF00E0S8LywqbRu2y8SItB28Q6hCkpbCBFLnxRdfdAMGDPBqlzyH1DYiTCqd/yJMylFBUYe5NWRv3gNinHsIVcbyHpT4hQzA46t9+/axwgFhQrogLzxBsh4oVn/605+6SZMmeQUJXikcg5VBNo8TlCeollCdqqxw1kdV/csrAiJM8jryOm4hkFMEmJAw2WXSElaoYaUMwgPFSGj+CYlCJRW8TSzI22YlvkePHn7yZlFpW2sXKTHEC5MoFCik50CYEI1y5q92SMm/h7jZcMMNc7+qJbVN6awRkVbCQoSJCJOWrqf4/GA8Gpaar/ba22zbUfUNU3Pub9zT4gzu3XjokPJ6zz33xLmruto2IuSAAw5wY8eOdUcffbTbfffd/eIE93rOHSNN+JcFGEzhQ2VrXR3Ql4WAEGg4AiJMGg6pGhQCQiDLCFQyfKW/5GKzckheOitBFlS1YRUNc1cLM4jF6X6DDTYovk/1BAiScFtrlxU40nOMfDHiJg3T1wULFrjnn3/e9x2ZfZ5DaSgiTCqd/yJMylEhlXD11Vd366yzTp4vF/7YIcu5j4TqwryCwj2N6nIoM0kxiTO4Z/bp08cNGzbM3XrrrXHuqq62jTChr6TZTJs2LfFFkboOQF8WAkJgEQREmOikEAJCIFcI4D9CLjFpN6GE2FQjyKxJl7FAEYJxK+UMLaZPn+7mzJnjfUjWX3/94vuYuzKBDLe1dsl3py0IEkgZI274cqVyhnEOCita5FXTd1QyeQ6pKkqjL+VRCQsRJiJMWrouks5IkFq5uPB+HhNmuZkfLHADenZ0o3atvlxvW7km49HBAgLeX3Ebl0KYQNqh3LjxxhszC5Gl1WyyySZ+UeJ3v/udV9+gLAnv9aGyNGmVaWbBU8eEQEYREGGS0YFRt4SAEIgHATwr8B/Bv6NXr17FnVAthTQVVg1Dw0tKDTMhHDJkSHGy89RTT3nH+969e/u8YwtyuSkjDGFiE6CwXaTc+ADwnTQJE8oiP/vss17eTH/yHCIJRJhUOv9FmJSjQnUvFHV9+/bN8+XCHzv3CR58eSBeXMRZMSYrg8C9EdKENFNMzeMMiAgUG0cccYS79tpr49xVQ9qmj+eff76vjBcurDSkcTUiBIRAogiIMEkUbu1MCAiBtBHAs+LJJ5/0/h2sVlnwPqoLJsGhWz1yY17kGLOCBtExefJkT4igzoB4sSCX+5133ikjVyBonnvuOb8/PE6YOKFMoR08TKzMYJK4YD6LTBgDxxCDJPuQlX1ZehIkFmVT8xyGhbxtnK+C8swzz/iqMCGxmsfzg2sUKTlct0gzyHuQzsi9YOONN14sFMOufc69P++r4jard2nnxo9oLqNY7ncoMDFFj1slgd9H165d3UknneQuu+yyzJ+G3N+PP/54xwLFkUce6a8jVMXh3IFcsn/5f4cOHTJ/POqgEMgzAiJM8jz6OnYhkDMEmPjjWQFhglSWFVMLUjN4QPrOd75T5uthfiWDBw/2Odo8VD799NN+soOJW2j6yuQR0sTIFdpmf6g5KIVIW5bykyZhQloSx4AfASqZPAdKIQgt+bk4f27zMCjySIRJeE0QYVJ+heR6wb2Ae8XiIg8KE+53VIILq8jFdT+B6Gcx4/TTT3cXXnhhXLtpaLsPP/yw22OPPXybLE6Q7svcgdLCVl6YzyZMmBB7SlNDD0yNCYGcISDCJGcDrsMVAnlGgIk/KRiUyCQdZc011yzCYUTIRhttVJamgtwY75EddtjBrw5Z1RtykjGHDVcZScchLcfIFRpnf6g5MFfFANY+S5MwYeWLtCRWi1k1znPIz6U0+iJMSlhY2poUJs6r4bhmcr2E+M17oETkXhCS5ZUw8R4mE2e5mbMXuAG9OrpRQ5vPw4SUVe6J3B/jDhY1IPh/9atfubPPPjvu3dXd/p133ukOOeQQr0Sl3yhkWKygSh/3YP7F1wQiiAp6SXuZ1X2AakAI5AgBESY5GmwdqhDIOwJM/FEUIC8nHSWc/PPgDIkQTdXBxJVKOZjaUfbPfEr4PzLa0PgPaTLGr0augLcRMZ07d/YTI1uJS5MwYZKGyobjD0mjPJ4f8nMpjbrUNosSJvL5EWESvS6iGOT6D7me92AxAWNz7o9xB2btkPy//vWv3RlnnBH37upuf6211vKECOlD3PfNG42FG8gT5gD8ywsTeoUQEALZRUCESXbHRj0TAkKgwQjYas6UKVO8eWFoYIhnwdSpUxdJ1UFujPcIZROZ1GD4x7asBiHL3nzzzYu9fO+99xylhY1c4QMjYlCk8H3bPk3ChAkax6oVY+fzy3kAkpLAeTJR6UmFn7OItNLF164XPADyynuQusm1PPSvyismLBBgbL799tvHDgH3YlInL730Uvezn/0s9v3VswPUI5wjJ5xwgrvkkkvqaUrfFQJCIAMIiDDJwCCoC0JACCSDgMlgH330Ua+uQGVigVQW5Uk0VcdScLbddlvXsWNHvw3Gc0aaUC7YYvbs2W7mzJlFcoX3jYjh/xAUtE9AmEDg8G/SUlx5EpTONzP3lAFugdxTuWkRJtGrsQiTckRIsezUqZNXI+Y9WCDAp4v7Y9yBBxi+Mddcc40bMWJE3Lurq33uK3hBUV3v+uuv9/d5C5UTrgtafVkIpIKACJNUYNdOhYAQSAMByxmGMMG7w8gL+gKZgvIkmqqD78jLL7/stt56a9e+fXtfIhCzVFbVmATxvsWcOXPc9OnT3TbbbOMn1IQRMfw/TPdJkzChLyoTWhg1VQwq/RJFmJSwkMKkhIVS+MrvVpSVhzQPS8qncT/Lwj5ZICDtlHte3EFq7FZbbeVuvPFGX3Um63HXXXd5dcm9996r6lJZHyz1TwgsAQERJjpFhIAQyAUCqCogLyAqIAso8Ye814JVVMoFR1N1yM9+6aWXfHUb2qCKCKWH8SuBZAkninPnznV//etf/aQOQ9iQiOH/kCt4mRBpEyaYOPbs2bNMZZOLEyFykKoYtChhIt8OpeSEPxMziZbnUQEVvK7wo6BEfN5jxowZPn2Ne17cwcIF6a633nqr++EPfxj37upqH5IR01f8VqwUMlVy8L4hlddeVMohXZfqOQohIASyi4AIk+yOjXomBIRAAxGAoEBhYhUfVl111TJJNWTIxIkTF0nVQUmCb8lmm23mPR4wuRs0aJA3gkV2i7eJRUiu2ATIiBi2CcsNp02Y4GFC5R68O/IcnBOsGEOUhWWm84iJVBWlURcWJSxUVav8aoBhNuVtQ4ViHq8XHDMkBtdQFhTiDtIFd9llF3fPPfe4/fffP+7d1dU+ZvGk4EKQcC2JBmm4lBfmt4WqFS+YNNJz6zpIfVkI5AgBESY5GmwdqhDIMwIQF0zsCMiCbt26LVLlAMKEh+Zw5fCzzz7zRpioSlCQ8Nppp538RBEpclgdICRXQkd82mVyBGFiAUHDZCmtSZJWSQsjoYdBkQSVrosiTEqoiFQsP0NENpfwQFGJmiI0P49rngFRNXz4cPfQQw+573//+3HtpiHt4utC6eOll17a48N9hgUWUkDD0sJffPGFQ3kyduzY1OYCDTlgNSIEmhwBESZNPsA6PCEgBEoPxkxaMFyDLMBjZOONNy6Dh5ScaKoOEx+qqGA2h+kcEyCMXvEq+fzzz30JYYuQXGEF0mLChAl+pSkkV4wwgcihzaQDVQUqmDAtKek+ZGF/8mcojYIZ4KpikFJywt+mCJPyK5XSGUt4vPjii/6PTTfdNPbLOd5je++9txs/frzbddddY9+fdiAEhIAQMAREmOhcEAJCIBcImOErUljIAgiM6CQP09doqg4rQFRFoIQkFQFYDYJkwOzu448/doMHDy7iF5IrpLsQPJAz0YOgCf1O0iZMnn76ae+nkvdKD6oAIsKk0gVQCpMSKvL5KT9DqJTGfQDz77wH6arcU1Fgxh2PPPKIO+igg7wH2Y477hj37upun3t/WBEnbDBaKcf+5rf24IMPOhZfjjvuuLr7oAaEgBBoDAIiTBqDo1oRAkIgwwhATkCY8HDM5O6ZZ55xmK1FZcRMhFFdDBw4sHg0+JZAsDA5fvvtt31lhN69e3vyhKo4YZqNkSsbbbSRN1QljESh3TDPO23CBAxWXHFFTwTlOczThnxzTC3zHKoYVBp9ESYiTFq6FqjCWAkZ0lUxMEWBGXc88MAD7rDDDnOQ/UlU5Yn7eCq1j2r1kEMOcbNnz/ZpvwohIASygYAIk2yMg3ohBIRAjAiEhq+kv0AWQJyQWhMGuenRVB0enMidJlWHSYxVwMGk7b333nNDhgxZhFwJywe///777pVXXnHdu3cvU7RAmLACxSuNlBwM9CiTDLmT52AcIMooM92nT588Q6ESy8HoizApgSEirYSFrhfll0jSVVFrJnEfufvuu93RRx/tK9Vhwt6MgQ/awQcf7ObPn++4RyuEgBDIBgIiTLIxDuqFEBACMSIQGr5ClLAqxnuU+Q0Db5Noqg4PC+SsYxL76aefFivdvPnmm+7dd991Q4cOLcpujVwxFQptQ6xQgpgUnXAVLm3CJMmVwRiHtiFNa8W4AKOlXlC1gZSDPIcIk9Loy9umhIUUaeVXhSSVirfccosbOXKko5RxsyojqbR3wAEH+IUU5iMKISAEsoGACJNsjIN6IQSEQIwImEs9u4AwIe+ah8Ntt922bK9IfZEXh6k6pPLwQN2hQwcHyWHGraTnvPPOO15hQpuEkStU2UGxQLAaRj4yJrChyWzahAn9QtmSRO55jEPbkKblSVBOmJB+RtpZnkOEiQiTSue/PI/KUeGe2aVLF5+qGnfceOON7uc//7ljsQJStxmDNN99993XL9xgQq8QAkIgGwiIMMnGOKgXQkAIxIgA1XF4QWxgrvbSSy+5L7/80m2//fZle62UqmOmrZQFRmVipAdkCaQJHiZ8Rhi5QpWRtdZay78H2cKqZNeuXTOVkpNkdYMYh7YhTavqhQiT6IkkwqSEiLAoYaGqWuW/lCSrrV1zzTXuF7/4hVdsrrHGGg259metEVJ4qQTEAsvDDz+cte6pP0IgtwiIMMnt0OvAhUA+EIgavkKYYKZGjvCgQYPKQCBnGHIjTNXh70mTJvnt8Liwygik47DSRZUcVCmEkStsw7aoWFAvLL/88t5gNVSupK0wgTTi2Jo1F7yWsxvvGlKmILryHCofWxp9CFWuB/369SsaOOf13BBhUhp5iHdSJbi+m4owr+cFx42/FxtgP3UAACAASURBVA/3/E7ijssuu8ydffbZ7sMPP/TV7JopmA8wN4EM2nPPPf35dd999zXTIepYhECbRkCESZsePnVeCAiBJSHARATiAnLAzFXJgcaPJFqakDQVHhqjqToTJkzwu8GDxMoFM7HBn2SHHXZw7dq1858buWLECvugTeS1kCahyWzahMlf//pXr7oJK/csCctm/TzJSX+WMRRhsihhQnpdjx49sjxssffNyCNhUVARWtW0vKetceJBNvP7SCJF5sILL3S8qCRDGlDWw0iQavpp2/7tb39zu+++u1ey3n777dV8VdsIASGQAAIiTBIAWbsQAkIgPQQgMSBMCPMaoWrN3Llz3U477VTWsZZSdSZOnOj9S0jhwcuEoEIOpYXxNIEQIdiGbUnHQa3w97//3b3xxhu+8g6rR6FyhW3Jh4e0SKNKzvTp073nSrRSUHojld6eWTFeeeWVHQ+EeQ6tnoswqXT+izApoSJj5PIzJEn/p3POOcddeumlDhNiW6Roluu1ESZvvfWWGz58uFe/4tmiEAJCIBsIiDDJxjioF0JACMSEQNTwld289tprjlzhsCQw77eUqgMJQrA9xAdBieGZM2e67bbbzqfbWLAt+dU8fEPMYOLWuXNnn66zzTbbFLdLmzCh7zwIUSY57wFhgj/NBhtskGsoRJiIMKn0A/jXv/7lK4vx+zCFXV5/KKoYVBr5pEssjxo1yuFjgsrHfMOyeh5y3//nP//pF06qUcMYYcICy2677eZfHKtCCAiBbCAgwiQb46BeCAEhEBMCUcNXdsOkBPVHWBKY91tK1YEEYYIWKlKYEKHSgARBQWKBs33Pnj191QBMZAk8TphoQ65YpJ2SA5nzxRdflJE4MQ1B5ptFYo8pbxKVHrIMhgwtRZhUOj8XLFjgUwtFmDgnP5fSGZJ0ieWTTz7Z3XrrrZ7oN7Vo1q6nqEZRjF555ZW+r9dff733Lqs2PQdvtUcffdT748hfLGujq/7kGQERJnkefR27EMgBAqxG8SBoFXI45EolgXm/UqqOpdm0b9++zCSWlB58QFBohCtIU6ZM8SZ4G264oZ/4kN8NacNDh5UkZl9GmPBZGqtlpBORCx6SODk4HSoeYpKlMbOMsQgTESaLI0wgFJvNbLPW36PSk0qIJX29OOGEE9wDDzzg71tZJ0xOPfVUd9ddd7lx48Z5PxIjUmo937S9EBAC2UBAhEk2xkG9EAJCIAYEKhm+sptKJYF5n1QdUm122WWXYm9YUcQUlLSbkFz4+OOPHaV5MU1daaWVituT083fmOBhiEf1AFaNmORhEBsGE8605MUY1n7yySeLlFaOYRgy3+S0adO8SgiSK89hD0B48FhZ7LzioQfj0sijRHvhhRf87wMyOEsxf+E37oIJs9zMDxa4AT07ulG79nWd2y8bWxeVnlSCNukUvp/85Cd+EYIqOVklTFDd0Dcq3Jxyyilu9OjRbr/99ovtfFTDQkAIJIOACJNkcNZehIAQSAEBJi8QEmGFHLpRqSQw75OqQ/UbUnUsTEmCD0lo2moVcJDNYhhqAUnCw3evXr0cJrLIcT/44AMHwUIJ4jBYdaJ/aZi+cqwfffRRmeolhSHKxC5JnYIQGzBgQCb6k1YnOB85f0WYOC/7p6ywKsM4n7qXVcLk1Adfd+Nf+7j4kxnWv7sbvWd85s2WniS1jfNm6qjz1llnHZdExaDDDjvMe+ngDWJeYmldK5e0X86To48+2mN01llnubXXXtsbxtu9Puv9X9Lx6XMhkDcERJjkbcR1vEIgRwgYIcEhhytSlUoCsw0O9ZT1C71NZs2a5XiRdhMapKIY4YFqk002KVt1xUCUiRHb0x4kCSlAeJ7svPPOFQmTMF0oqeGhbxA5UdVLUvvP0n6effZZX+loo402ylK3Eu+LCJMS5CJMSligkENNB6HYvXv3xM/Lxe1w2LXPuffnfVXcZPUu7dz4EVvE1scsk0exHXQLDSdtgHvwwQd7FSj346wSDqYwueeee9yYMWOcpegOGzbMm8F37NjRLbvssm755Zf3lX5YMMFMfs0110x6+LQ/ISAEakBAhEkNYGlTISAE2hYCrO4wqcN0NVRxVCoJzJEZOUJKjm2PTwlKDBQmIWHCQwTKhO985ztllSNYcWMyxKQIFQqECekv7DNalccInTQIE0gcKgXtuOOObWtQY+gtxBeT14EDB8bQettpMmkTxywjI8JkUcIEQjFU02Vh/JJWmGSZPEp6PJI2wN1nn338PQv/rawSJuZVctRRR3nTV5QlpHGhOIEc4XOus7zwLiOtCa+TAw44wL+X1VSjpM8t7U8IZA0BESZZGxH1RwgIgYYhQNrJm2++6UkBSAyLlkoCoy5BeUE1HAgPAv8SJjWYvoZlgZkAQY7wEEFVHAtIFMgWvkMbeJxYVZ5dd9217NjSJEzwcUFpAzZZnXw27ERYQkPIvCHVIL/yHCJMSqMvwqSExbx583x6YRYJE+9hMnGWmzl7gRvQq6MbNTReD5MsY5H0tStpP5fdd9/d+4FxLmb9nsW8A3IHHzXmAtzr8YjiX172HkrV73//+1KYJH3yan9CoEYERJjUCJg2FwJCoG0gwEQFFQXqjkGDBnnCw8JKAuNJgnLEglLDkBtGsDCxoUww34UECU1fmSxSjhYjxNVXX73YBmoFHjyRbiPBxQPBUn1QmIQrSGkSJpBDHC8pOXlf1aJkKqt9VDPIc/CbwbSYkpZ9+vTJMxTyMAlGn4c6lHYosLp165br80JYlIY/aT8X7p/cW7nHKoSAEBACSSIgwiRJtLUvISAEEkOAiRUqCnKeKeeLR4WFGbluueWWrmvXrsX3MZMLt7e0G0xcWR0KywJb9ZwNNtjAEyMWPHx/9dVX/oELY0DM8Cql+rB9moQJxre8OKY0yhondiJUsSMMLSGN8KPJc4gwKY2+FCYlLEQSlLD47LPP3Msvv+zVaGF1tDxeN5JOT4Lcxx8M1WfWIywjzAINvyFShKmexzGY2gQVat4XLLI+luqfEAABESY6D4SAEGhKBJiwoKB45ZVXvDKEKigWVhKYCjbhiikS2nB7+5tteIAKDVIhRZ544glfNjg0bMMcEXUJkyM8TzB/rZTqkzZhQjoOhNL2229fTD9qyhOhioNizIhNN920iq2bdxMRJiJMKp3dIglKqOBLNX36dK9GC8n25r0qtHxkRqQlkarFtWnbbbf1fmGoPttCsDDzwAMPuPvvv9+nv5IKTBov5w7n0Z133ulTdlm4UQgBIZBtBESYZHt81DshIARaiQArOBitzpgxw5cDDlNvrCQwD8hh1QeqxrA9EzPc7EnnQXXCJM0MXK07GLg99thjfsUIYzcLpOtsy/6pioN6I5rqY9taLjP52EnnZHNcKF8gk/DvyHOQE48iiRLReQ/OaRRTffv2zTUU5s+gssLOiTAp/RQ++eQTf4/g3hHeU/L4Y0nyvIAw4fpMCeNHHnkk83CjQP3JT37i7rjjDocKFRUJizGoGU3JSPl20txuueWW3J9LmR9QdTD3CIgwyf0pIACEQHMigKkaKzqsBkZTbzDuo5QsKz2rrrpqEYAPP/zQy61NGYIZKO0wMeazsCwwhMijjz7qHyzDh0u+T1UdTGbxTiEs1SfqpZImYYJ6Bm8VjGypEJPngORiPFEc5T1EmBTOgKQNLbN83klVURodru08+PLwTqpmnsPIIwgAlJRxBoQJShbu2Q8++GCcu6qrbfrJ4sdll13mTjnlFHfiiSe6X//6127ixIlur7328vMLK18/YsQIN378+KJvVF071peFgBCIFQERJrHCq8aFgBBIAwFzpkcSi3ogmnpDysy0adP86k6PHj2KXWQyzPbIZJFb8/CIAgWVCARDWBYYRcKkSZO8ugSViQWrjyhV+J6leFhqD+kv5C9bpEmYQCbh5I/6JjTETWO80t4nk1gUQ4x73gPTV0yMWcnNc4gwKY2+PRgrDcU57imUteWeggoxz0Fq68yZMxNR23BPX2+99fwixN13351Z2K00MPdV0nipmsc9/6abbnJHHnmkV61yHMTo0aPdueee6xVLoUo1swenjgmBHCMgwiTHg69DFwLNigCTKzxEmOjjTxFNvbEKNwMGDHC9evUqwsD2SGZZPcTzBI8SJje0RVpNtCzwhAkTvH8JPiZRwiQkUqKpPlkgTDCiY/KG+iYkcZr1nFjccaFCwpNGueTOr3aKMJHCJPy9JKkkyPr1B6UhxuCQq6EvVtb7HUf/kiSPuKeTwjJ8+HCfwpLVMMKESmMskFxzzTVefTNmzBh39NFHez8z8zy79tpr3ciRI735OtsrhIAQyC4CIkyyOzbqmRAQAq1EgEkLJAepN6TVRFNvrMKNVbGx3WBiR8lCJMbIaiFbIE/I1WaiEy0LjMKEh0tylC1I72Aiiey2Z8+e/m1L9Yl6qaSpMNHEv3RyscLHOUEqVt4DkpDzNlRN5RETKUxKo56kkiDr55qI5tIIGRZJkEcQJlyXDj74YHfDDTdk9jSxlBzmEFTmg4CmEo6RI/iq2SLNcccd52677TY/twi91DJ7cOqYEMgxAiJMcjz4OnQh0KwI4EeB9wipN3iVRFNvrMINho7hyo6VEaZkJA/QeHzsuOOO3jwWg1QzcTXc8DDBEHbDDTcsQklZYXL+zTiWD1oqYwyxQypIGqavysUXYVLp9y/CpICKCJNsEybzF37jLpgwy838YIEb0LOjG7VrX9e5/bKx3tLY55kPzvT73GTNbu5X31sv9n3GekB1No5y8o033vBEM+RAnAERsfLKK3uVBqqNrMeZZ57pLrroIm9Qy0LLjTfe6E1gmVfgGQbZxDzDPFnynhab9fFU/4SACBOdA0JACDQdApAlvJicUMYPQgMliIVVuCHdBpmvxYIFC/z2qENYVbXKOEhm8fsYPHhwWUUZPE6YxJmJG+2Qswzxsssuu7ill17aN91SGeM0CROtGpdOe/LwGXsMcPMeU6dO9b4+Upj8y6vTUI9BiuY5skiunvrg6278ax8Xh2VY/+5u9J7rxzpMaewz1gOqs3EzDk/CBws1Jr5iP/vZz9yll15aZ8/j/zqLLBAlpLP95je/8T4lV199tZ9fsGBz0kkn+ZRYCJXQTD7+nmkPQkAItAYBESatQU3fEQJCINMIQIigMiEt58knn/QPPZRKtbAKNxhb9unTp/i+eZtAsOBZQqUbzP2sLPAOO+xQVlGG1Xjyk1kpsuCBc+HChWWEiZUxJr0HgsXCCBP+puxgkiEjxxLaVL2A5EIVlPfg/IUgMGPCvOIhhUlp5LNImAy79jn3/ryvip1cvUs7N35EvKbNce4zDcVMvb9tSIG3337bXze5V8YZ3FOpaHfGGWf4qjNtISZPnux+9atfeZVrNJgHjBo1ylfRUQgBIZB9BESYZH+M1EMhIARqQADpLoSJ+YNAamDKakZrNNVShRsmZTwwsj2KEtJ1+L+VBf7ud79bJj2GjKFSArJaCyZJ7HunnXbyuctE6I2yyiqrFLelHyhh6HPShAm+LFSHgexZaaWVakC4+Tal6gV+NyJMnD//RZgoJSf8lSdp7lnt1SUNtUec+4yz7WoxrXW7f/zjH+6dd97x5qZ2r6u1jWq35/rMosfZZ5/tSYi2Evx2xo4d673R8A2DWMI77ZBDDnGYziuEgBBoGwiIMGkb46ReCgEhUCUCptrgX15Tpkzx6QXRsn2VKtygSMGkDXIFVYlV0bGywNttt11ZZYSnnnrKl+S18sGW6kNX8T6xVbfQGyWU96dJmEDiYFCLv0u3bt2qRLc5N6PqBQQS45v3gASE1AsrP+UREylMSqOeRYNor8iYOMvNnL3ADejV0Y0amoyHyagHZrhX5vzLbbb2yu6sYes2zMMkTvVKXL9fUlV5sZCwzDLLxLUb3y4qp759+7oLL7zQnX766bHuqxGNs+CCimRx91bmG8wB5F/SCMTVhhCIFwERJvHiq9aFgBBIGAHUHRAXBMoNFB9MtHiFwfu41YcVblB7QLBAavCQgKdFp06dnJUFtr+tnWnTpvmVNdJ2CB668T0gBg0aVJwIhd4oVjmHbdIkTCBxqAIEKZR3h35yyUlRYqU07yHCpHAGiDDJNmGS1u80LlVFW1SYUN2FhQVSVeNWSJL+gzLjsssu8/4fWQ7mEfiSUAXngAMO8IrTMAyrcePG+fnGVVddleXDUd+EgBBwzokw0WkgBIRAUyGAP0lYeWbixIleXRI1sWSiQk50WOGGiQ1ECr4kEApMejButbLAVAPgMwtyk6lws+WWW/q3mEzz8E3w8N2hQ4fiwxdqlKj5bJqECRWEXnjhBd+nME2oqU6GKg+GSg+sYLJSmvf485//7FdGqSCV5xBhUhp9ldItYQFBAFHQaFVFGoqZen/fVI4jXRU1JffBOIPUH1JfKc8LEZHFYO6B0gb1JsoSvFZQwzCvCCvh8X/e47PLL7/c+60phIAQyDYCIkyyPT7qnRAQAjUiYIavrOIwMYEwIfc5+gBI6g2TmrDCDYoUtkciC1FiKRo8TL/00ktuiy22KPP7QE3CxIcqAQReGKTv0E5YVphqPZXMZ9MkTPRAWDqxkE9DiqEKynuIMCmcAfp95I8wqcZ41VQVXCusClperxkYvnK/gzCJO7i3cp8dM2aMO+KII+LeXd3tM/+4+eab3aGHHlqxLeYIlEh+6KGHfBU9/o6bdKr7oNSAEMgxAiJMcjz4OnQh0GwIhIavRphUSr3huDG37Ny5c1mFG96HMOG7pKlY9RvSNVBjRKvc8B55yGYWiuIEwgaChMkd7ROUEWzJfJbVJYiTuCXN0bH+8ssvvREdRBJlZPMcb731lk+7Qlqe90AJhQlwmKqWR0xEmJRGnd8GKiwUdiussELTng7VpMWgdEBJmEQaStaBTpJoxm8Lkuq2227zhqlZC64X559/vldr8n/MaX/0ox+5PfbYwxNrLMK0a9fO+5ott9xy3ix35MiRvkof11wRJlkbUfVHCJQjIMJEZ4QQEAJNg0Bo+Gqrf6TeMImJOtKzkk7KzCabbFJ2/JMmTfIERlhyuKUqN6hOIB5Iv2HCw74gSSgjTJpO165dfdtmBkup1rXWWqu4P/aTFmECqQPBQ5/wcslzJLlSmnWcRZgURkiESf4Ik2qMV5NMQ8n6tSLJVEbuVUOGDHH33nuv22+//eqG5vbbb3fMAVj0oKw89+gHH3zQ7bnnnq1qm9SksBIf3mZ4mSwuuO+ee+657sc//nGr9qkvCQEhkBwCIkySw1p7EgJCIGYEQsNXU2yg7IC4oBpMGE8//bRf7UE1EoaVBYZIMW+PlqrcUJaXz1j5spLEq6++upcpYwRrDvmQIo8++mgZCcM+IUxQqNBvU8RYrnPc8lxUL5jW4u1Cn/Mc9hA0ePDgPMPgj12ESeEUwKj5+eef90qbsLJVHk+Q2bNn+zLrqOaauaJHNQoTkaulX0CS1cVIaR0+fLj7wx/+4FUb9QbkBkohlKQoPzCVrYcwYQHigQce8IswEDCUPt533339YgrXEggZCBRe3O/xQmPeIN+sekdS3xcCySAgwiQZnLUXISAEEkCgEmHCRKtjx47eMC6MZ555xpMUZthqnxlhUk2VmxkzZng1CTnc5CFTdQYCghQPSg1b9RmIEZQryG9RrlgwyeIBlc8rRUieVPN/2qhmO7Zhn6QaUQVoxRVXLPteLe1ECR4jflrbRrT/ldpp9KlkMvskzAsb3fdGtweRyGSeihR5DiNMwAFz6DwHBDDXtGYnTKoxXlX6XumXADHAgoGlpMb5G+G+vM8++7gJEya4oUOH1r0rFjC4V+NvRvrMOeecUxdhEnYI1emJJ57oX1Fla7TjSsWpeyjVgBBIBAERJonArJ0IASGQFAKs5EAGmEIDQoJVUQiMMPDvYDszbA0JE95H/mttIM+vVOWGCePcuXPdTjvt5N59912/CgsxQ751qFAxM1nScUiBsbDqO5QaZpWL7Wp90Vat37HtUbeQumTHGW0nqTGrdT/VkkLRygQtfQ/iCoUQBFclpU+17VTbr0aQSXERSSJMCmejCJPSr9IIE8qqc53KcyTp25F1nGfOnOlT16L30Dj6/fDDD7uDDz7YYdbeaK+pRhEmzBt4USknjHnz5vnUXbxLuMek4VkWx5ioTSGQJwREmORptHWsQiAHCJD+gtLEgrQT8olJkQkDuT3kSnR1DCUIJAIkiEVLVW6QJCNX32WXXRxqE1QmEDPkW2MYG0r5abd3795l1XpIBeFFH0gPSjLACfUNJZfD3GvrA+QJUSsZ05rvVCJqeM+UN7X2wba3viypHZNLVyKtKh1PkuNUy76qJWyiqqDwb8pNM+FHlVVte/Sx2m0Xt10j2qnURi0Y2rYiTEqoka5AKkoa16lax66aSje1thlun6RvRz39TOK706dP94bmUZVmHPu+//77vdcHylDMhxsZjSJMwj5xz8HXBBN5qulRmpu5wXnnnefnJ3z22Wef+XlC3qstNXIs1ZYQiAsBESZxIat2hYAQSAWBKGECecFDWnRSR/oMRAg5xhaWOsODc7iK1VKVm9dff91PfJAIQ8zwoEnVGVbpKVeMcsQCCTDVaMJUBzxQmDSxQpf0pIljxd8FsgTSJM+BOogX+eTR1cEoLmkSSbZvxq61/Qi/V4lIgijgXITAWxJRBTbhNlk9h1pD5oANq8JUhWFluDVtNIIAMvVXa/a/pPS2aserLREm1fiQVHvclbbjmk8qY3jfqKe9tvxd7l+QzVtssUXsh3HXXXe5n/zkJz7tNWrUXu/O4yBMUJ8eddRRvhIdCyX8hpiDQPhwzbzkkkvcaaed5o1nISKVmlPvKOr7QiBeBESYxIuvWhcCQiBhBKKECas7vIecPIzQsNXet9QbHpJCMzarckPOc0guIM/mQRuFCRVyME/99re/7SdBG264YZmZaqVqPaT5oH6BXEmaMGGChryZ/uKtkuf4+9//7v72t7/5hyDGI88B8Ye6ZEm5981IJIWEFNcMyCPS+TgnlkQeRYmjZiKSwIJrIIaWi0tZq4XUaQSZVKmNA257w33wxX8XT89enZdzDxy+0WIJr2g7i/v9J2l0mvXrEFXiIBajxulx9Pv3v/+9O+GEE7yhaqP9lRpNmKA0hSz54x//6K677jrf35///OfeK4x5AAF2u+22mzv++OPdmWeeqTSdOE4atSkEGoiACJMGgqmmhIAQSB+BKGHCihT+FNttt11Z50LDVvsA2SwyYx4MwhVEJLSYzvXt29e/LJCpYxgKGcODJhU1yFGeOnWq/z+GchaQEyuttFKxWg8TTdqktCCERdKECf2iT5A8oRFt+iOYfA9QCZEaJcLE+RVQJva1EibJj1q8e2xUSk5cSqBqCRxQqleRhBKPF2bAFtXuv6V0O8Ol0aN4y1tLuZc+XarY7Cbd/uMOXbeyqXZL+14c8UOVE/CEVF9calst5FGj24kSQI3qSxQv7q1E1B+s0WNKezfccIM7+eSTfWpYeA9uxL4aRZiYNwlqUsiQM844w5vJ4lW29957e4N1TGsJUruoooM656abbvJpOmnMARqBn9oQAnlAQIRJHkZZxygEcoRAlDDBgJWHn2j5vtCw1eChAgJKAx4YQ4LFTFtRl6AysYAsYQLHwyUGeEhumUhDRPTr16/MGwQSpXPnzj5nmTA1CyaweJ2kMVkiJYe0ofCYcnSqFA/VCBPGnPSLPAcpbBCGIkwKZYVVJcf58qtc6xpJKMZFJH3x1f9zVz71oXv9o4WuX/d27vitu7sVl1tqiQohfvPVkEAYeEKaQH43KkUuikVWrz9R4sW8whaXstZa8obqO2PGjPH3RV6kQZHqevjhh7tu3br590if5GX/5/qNWrPWaDRhcscdd7ijjz7a3XPPPb4UMnOK/fbbz6fmPPTQQ757vEfVHxYr7r33Xq+CXVI6aK3Hpe2FgBBoHAIiTBqHpVoSAkIgAwgwiWPyYYFi5PPPP1/EWT80bLVtWTGjTDAy/GiOOuZtpK9AhFhYZRx8QEjrMKNYZLfR9B3SdHgQtfxrq5DD6hwETRqECSQOZE1YuScDQ5h4F9qSR0Pc4ECYQPq15sEj7r4l2X6jFCZJ9jmufVnKWjUeP3H1ISvtxl0Zph4iKSRwqiWAlkQSLa6djz76yN+3UB7V006l76L2JF2F+7lVn1nSOXDFFVf4Ur61RhyECSk5t912mydFSN3df//9/X0WcoRgXgKZghLlt7/9rQiTWgdN2wuBhBEQYZIw4NqdEBAC8SIQJUyY4JJTPHjw4LIdI4ll5RTDVgsUF0zeyNMfNGhQ2faWPkOqjQXfxwRw5ZVX9ooRjGJbSt9hdQwjTcv3tgo5PISwcpcGYQKJQ98xqs1zqGxqafRFmBSwEGFSOidEmJSwIJWTFM8kKsNk/Zqc5LXiggsucBdddJGDpIHQNSUp/9r/UXCS9lJrNJowofocipK99trLXX/99b5CDospnDM333yz7x7vn3TSSe7yyy93xxxzjFJyah00bS8EEkZAhEnCgGt3QkAIxItAlDB59dVX/YRl5513Ltuxpd9AmEBYILNGGYLag//vuOOOZdvz2aqrrurNXC1QJtA+ihS+h1qkpfQdvCEgRayiAKazKF+QETPhS4MwwXQWaXlIAsU7OtlsndLQrAJSrYixzHNQ1YEqUQMHDswzDCJMgtG3KlKQyGlcp7J0IqIM+PrrrxOpDJOl467UF3y7ICjCe2Jcff7Vr37lyQUq1rHw0MhoFGFifeL8GDFihLv11lvdpZde6pUlkCLcX0jXuf32270fC+k4/B/lqqrkNHJE1ZYQaDwCIkwaj6laFAJCIEUEooRJWPo37JYpPKhww0MA5AUPi+RHf/HFF8X0GvsOviR8FqYq8KCNgoVYa621iqktldJ3aJtJ0VZbbeW3h6xg4oenSVqESZITRIuBLwAAIABJREFU3hRPiSXu+oMPPvAmfIwNq5d5DhEmhdGXwqT0KxBhUsICTyyu15tvvnmeLxP+2FFNko7T6Ko1lYD9xS9+4SvOUK2pEaQd/ijcgwkWLyDCWCQxo/YjjzxyEaP4agbciA8WZEgPYi4ACY8qCax4odjC6P2qq65yw4YNU4WcaoDVNkIgZQREmKQ8ANq9EBACjUUgSphY6V9TktjeMF1jUkOqDqZ1GH/ia9KjRw8v+4VICYN0HSY7ZtrKZ1ZVh/9DpGCgSkyaNMlXnwmVGxhIolyhoo5VyMEEDq8T3m/EJLBWJFURpYAY4wixhmQan5k8B2W4IfKkMCmYvrJ6vsoqq+T5lPAGlTzkkXJIumKeI8lSulnHOcmUTsryosYg9bUR5+Bhhx3mbrnllhYhJnWGbVoTVi3ns88+86k3LLawIIM6hr5znzn11FO9wsS2bc1+9B0hIASSQ0CESXJYa09CQAgkgAATEAgIi6iSxN7nAQBVAQ8BpCCQWoPSAKID8iT0NuE7UdNW3ps7d65jxZGACLH8acoKYqYaSpXD8sZWIQdCBZIlLcJEaoLC2YABL2QZ6VKkVuU5IEwgEENiMI94mMKkmQiT+Qu/cRdMmOVmfrDADejZ0Y3ata/r3H7ZJQ6vCJMSREmW0l3iwKS8AV4dpKkmYRo+cuRIX2EGEqIRhEnc0EWJEMzkWcwJyVel4cQ9CmpfCDQOAREmjcNSLQkBIZABBKKEiSlJMF1bdtnSw4EpSjBdJQ0DAzsmMKTd8J2oIiVq2sqhYiZrE2hL7eH9xx57zJuphuk7rExClLA/q5DDA3rHjh1TS8nRw3HhhIX4gjBDZs945Dk4J/idbLzxxnmGoZiS00yEyakPvu7Gv/ZxcVx7dFreLb3Ut5ZInlBSGINrUhbwe8pzvPDCC/6B3aqd5RmLJMvSU6aX+ypqwLZAmOT5vNCxC4FmRECESTOOqo5JCOQYgShhYkoSJvuhWRyVUV555RWfp0waBqoQ0nFQm6BKCQkQ4IyatvIeq0bI9vkOShWLSuk75EnPmzfPb2eqF9KBeABJy8OEvpMKlPfJPylYnAtUMGpNlYVm+rlxTiyzzDK5J0zwMeLhuJkIk2HXPufen/dVxdN1WP/ubvSelatlcb2CYI5WGmum877aY9Hvo4QUBAaeH3379q0WvlZvd+ihh/rfI8RdWyDtuKfjb4Yx/Pz5872KFOUecwXmIfzLXAViOu8pf60+KfRFIZAgAiJMEgRbuxICQiB+BKKEiSlJqPAQVkAx/xFSaXhARF5MeV1ks3ibRBUpUdNWjsSMYvE2MTNX3qctlArhKj3lKCFYIG6sQg7/Z2KFkR19SDokLy8gjlKIyS1VjihNmefQA2Fh9JuRMIkqTMLzfPUu7dz4EVtUPPVFmJRgkSqvgAVqTLw5qPCCgWnccdBBB/kU2rfffjvzhAnpfJjK/vrXv/b3/MXFTTfd5L1SmHek4WMW97ipfSHQLAiIMGmWkdRxCAEh4BGIEiahkiT0pzD/EYgOygDiRUKKDA9KTMyiipTQtNWgNoUJfiWh5wPu+5AzPIBboGBgnxAxViGHFBAmSuw/DcKENCH2n/eKD5988omD0EJpA/mV51DKQfMSJt7DZOIsN3P2Avc///lfN+eLr4un+uIUJjykch2NllrP4+9Evk+FUee+MXXqVF8djlfcsffee3uPMe6jWVWYmG8J1XyOP/54b/q+7777euUqfUZlYi/wQ9l4+OGHexWb/EziPoPUvhCoDwERJvXhp28LASGQMQSYeKDYsGCSxcNwaMrKZ+Y/AkmCkRyrqJAZKE8wAI0qUkLTVmvbygqzyoY6xYJyvfhAhEQEbbI9+5g8ebKXMpuipVGlEmsdCpQu7BsM8hwQX5SVRBHUtWvXPEPhZe/yaGhOhUl4YofkyYBeHd2ooS0bwIowKSGH1xWeV6E/VR4vGCgjUVKuvfbabs0114wdguHDh3tfIUj+rAaYsPABScI9HqP4vJ8nWR0r9UsI1IqACJNaEdP2QkAIZBqBKGESKklC9YCpQ/CtsDxj/EVaUqSgQGHChmmrhXmRUB4wlCUzqWZFifKBFqhWyL/edtttvcKEVSUq8pjCBDlu0itnkASUOgz7menBjalzEGaQR6iEVlpppZj20jaaVZpWYZyaMSWntWcgKYoQz6FPU2vbauvfUyn2wghCtHMfw78E8j/uGDJkiFdhcG/NalhazR577OEN3imDTBW8cEEkeo+XgW1WR1P9EgLlCIgw0RkhBIRAUyEQJUxCJUn4MGz+I6RhQGZg/EoKjSlSIDbCiimQC3wnfGhAucL2KEVQmViQ587kaeutty6+9+abb7p3333XDRw40KsZSAWCwGE7JlRMnJImTPDtYGIX9rOpToYqD8YIE8aGKkl5DhEmIkyi5z+ECco7VHd5D9SDGEOHJePziAlEO1isu+66nviPOzj3uB+TBpTVsLSaG264wZ177rnuvvvuK/M2y2q/1S8hIASWjIAIkyVjpC2EgBBoQwhECZNQSUKpXwuc61ktHDBggDf8RFrM5M9K/kIihAagbAP5ElaK4Pu0069fvzJZMmkN+JJAulgga6c8J/uhbPHOO+/s5btpEibkg7OSTrpSngMiDAUR8unwHMkjJhAm/IZQXuU5pDApjT5kL9dFESbOUV4eort///55/nm4hQsX+vvneuut53r16hUrFlyPuEeh1pg0aVKs+2pE419++aX3MMEzjeo+LKZQFcdUpLY4wgIJqbsKISAEso+ACJPsj5F6KASEQA0IRAmTUEkSlu8jvYbJL6k0EBmoCzBnw4iNPGl8PUJFyquvvupXWSE6CPYzZcoUX+UGogUixILvM2nafvvti++xD0gT+sDDmClV0iRM8FVBXUFp5TwHpBdEAeRZ9+7d8wyFP/cxLxRh0nxlhVt7YqPA47oYpiO2tq22/j3SULgvYOiZ5+D+hgEu6krum3EG91rUn5AzDz/8cJy7qrttM34Fm+9973ueECHlFSKecsL8beWFUemcfPLJKitcN+pqQAjEj4AIk/gx1h6EgBBIGAHUHRamJMGfgmo2Fkz4MGVj1Yq0GkgDVoSomIJChAfGUG3w+uuve68TcqkJJjtPPPGE/z953LwsUCtAioQrsqTjsFKLYSAveyBNkzDhmDjekNhJeKgysTsRJqVhEGFSwCKvChNvBjthlpv5wQI3oGdHN2rXvm7OP94RYfJ/PxHuGdwXQpPvTFzEEu4EqZyknkIchffVOLoBYQKZzT3z/vvvj2MXDW2TxZURI0b4+QULJJAkVMdhcYX7Pf+iMuEaw6IFClVVyWnoEKgxIdBwBESYNBxSNSgEhEDaCISEiSlJSLeAHLEwwoOqKPPmzXO77LKLn8SguGAiiLdJqEgxD5KhQ4d6rxEjVmjP0nmsbTxKaCcsw4nhKwQF30WiyySJYALFZIr3k/YwkdQ+3w/HlX6nkH1M6PNUaroSSfCtbxZ64hSvivA6kPa1Le79n/rg6278ax8Xd0O54R+v50Ss/h8ieGhAEKB2yHMkSShCJqDiJB32zjvvzCzspi458MAD3b333uuOPfZYt/vuuxevH0aW8C8vFm2YI7Rv3z6zx6SOCQEhUEBAhInOBCEgBJoOgZAwMSUJOee9e/cuHitGq4899pifrLACZD4eLSlSzIMEhQnEiilGaJCyikaA8Dd+J0jYKSFsgTqFlSfCKuSkTZio+kVhdCDVnn/+ee9LsOqqqzbd76GWA8ojYVKJJDhzcK9cEibDrn3OvT/vq+Ips3qXdu6ywR1FmPwfIqgKId55gM9zJKnKgzDhHvv973/f3XzzzZmF3QgT0nw5R1CYKISAEGgOBESYNMc46iiEgBAIEIAMYZJFmJIkWsmGVfRHH33Ukx+sGKJAsYdnvE2iihTzIDGzVkgRShYzSaJKQJjTDjFCmg+qFYvZs2d7IoWwCjlpEyaQQJRRDpUweTyRkpSXZx1fyivz+8HDJy9RiSS454f9UiVMKqleOreP3yCyEnl02Lr/m0mvozQwevzxx/31nlLyeQ4zyk6ishj3cgiIH/zgB+63v/1tZmG3tBoWRMDl97//fdHYPVo+2NSkSatKMwueOiYEMo6ACJOMD5C6JwSEQO0IhISJKUmQUK+11lrFxiA6zHE//IyHZ4z9QhUIXzJFCbJgTNsoqYjrPdujSgjLTJJ6889//tORvmOBYSypOoSRLmkTJpBApApBmOR54pakgWHtZ3Oy38gjYbI4hUlaRsCV+jR6z/VjPxk8CTFxlps5e4Eb0KujGzW0r3v/b2/5kupZM4dOAyNUiWussUaZZ1Xsg5LBHVB9jvvZxhtv7EhrjTO4V+Mbc8wxx7irr746zl01pO3bbrvNnXfeeW7cuHFlytOGNK5GhIAQSAUBESapwK6dCgEhECcCIWFiShJWBJHKWrAaNHHiRP9naPD673//2z355JNeMcLE2MI8SKhug9v95MmTfTlFUm+6detWVKiwfdTvhPdQo5DuANkSliZO08OE8sZ///vffcWe6ApYnOOTtbYZ82effdZPbkOfm6z1M4n+8BBESlueFCaVSALzMEmLMKmkehk/Ih3VD4o5fJ7CMulJnItL2kfSGHHPQGGCB1V4L1lSP5vxczy8ZsyY4b2+KLMcZ3APpzLRz3/+c3fJJZfEuauGtM295KijjvI+N5A8zBNI/V1mmWX8i4UW+7dTp04N2acaEQJCIF4ERJjEi69aFwJCIAUEQsLElCRMcKMyaggTJsEoLCBBCB4WmRTz8EzetIV5kFBak++QnwypgvKkc+fOjio8FlG/E963csVsu/XWWxe3pX+YvhJJqzwgSyBNOCYmcHmNhQsXumeeecZPcJnc5jkgTEhjoxRmniNJj4ZKOKehnmhpvF955RVf0cN8nrJyXiSNEddqPEy4L4Rl5LOCR5L94H7GecFiQ9wP/SgAKV38i1/8wl1wwQVJHmar9oVXGnME0nIJUn5R4eCVxn3WSgvzGYolCBSFEBAC2UZAhEm2x0e9EwJCoBUIhISJKUlIx4lWNoAwgaSwUsHsCvJiypQp3tQvnBSbBwmydCZwqEVYhWf1tUOHDn6lzSLqd8L7RpiQvoOM2YJJOP1No0oOqhn6SllhJnF5DQgCUqwYc/wJ8hwiTAqjnzZhUkn1koSHSaVzP6uESdIYoQakSg73kjC9M4/Xiw8//NCXxKWaVseOHWOFgIpzkFTnnHOO++UvfxnrvhrR+P777+9JZ8gRyHjSdvmbxRju9cwxePE3ylOFEBAC2UdAhEn2x0g9FAJCoEYEmIxARFjgVRI1ZuUzCBNSZELTUybFpNv07du3LE/dPEhYZYX8mDVrlq+CQwli1CmstFlE/U54H3NVHjyQc2NAGyVM+DvptBhUM6hhkNqbwqZGqJticyauGP2iQAorKTXFwdV4EMjsSVHCmDjPkTZhkhT21RinYlbNQ1+ojEuqf1naD6khpGtCpIfqwyz1Mam+cD/EqwslGgsGcQakAtfm3/zmN+60006Lc1ext828hDkG//JSSeHYIdcOhEBDEBBh0hAY1YgQEAJZQiBKmKAYiRqzWqrOCius4FNSLEyRwqQ4LB1pHiQ8SJLKggkiRAupHEhqQ8+H0O+kXbt2vmkIFl5R5Yql5LDfpAkTSBxKC0MCWT+zNI5J9YVVP4x+IclC35qk9p+l/YgwKYxGXgiTatJaIExQ1eWdROO+Qiom6Z0Q33kOFJd4dXFOcA+NMzBQx1T98ssvdz/96U/j3JXaFgJCQAhURECEiU4MISAEmg6BKGGCJ0nUmJWcfNIwkBNHzQxRnjAhxsfE4uOPP3YvvvhiMQ2HlSFUJX/5y198vnL4MBH6ndhkEnUJBEW0+k6ahEmSk94sn2R6ECqNjtQE+SJMqjFOFYlWOCdErJauE0mS7aggN910U3fddde5Y489NnO3EhSlKFUxDCe1lsUVFlFYAAlffMbf9i//z7N3WOYGUh0SAotBQISJTg8hIASaDoEoYULeedSY1TxJcPiPrpxaBRxMXS0oo/j88897rxL8S4xQ4T32FxoiWvoNficrrriib4LtaIOqG6GxaJqESZKy6iyfZJLaizCJnp9pK0yqSZVpxG+qGoUJhAleDHk3AlbqXumMQ/WBYpJ7HGRBnMFiA/fX3/3ud+7www+Pc1c1t83CC2QOnjb33XefJ0OGDx/uTV4hQ8CGlxm98n/SXyFLqPxz8skn17xPfUEICIHkERBhkjzm2qMQEAIxIxAlTJBRR41Z33jjDZ9aw8Qm+iBQKYWHFBzUJKhO+K4RHy+88II3dGPiaIE7Pg8ZTPKsggCkDQ8d/fv3L/PJSJMwMeM+0omM2Il5aDLZvMwcS8OSVYPPpE+ctAmTaoiMRmBSjXGqjIALSFs1LZlDO3/vpMJaEobhL730ktthhx3c7bff7n7wgx804rRvWBuU2x48eLBfBLn77rv9XGDgwIFeuWrmrhDy3GPsX+75+EThq4Y6hb+TTsdtGABqSAjkBAERJjkZaB2mEMgTAjYxsWPG0DNqzIriAxIEQiOqMKmUwsMDFH4leFywuoYBIqoVJnMYIoY+KBARL7/8sm8XBYsZydIfDF/D/Pc0CZMkS0Nm+fxTuVARJtHzM23CpJpUmaR+U1zLSEcJfZqS2neW9sND7rPPPutJc9Iv8hw86PMaNGhQ7GVxue8OHTrUjR071u27776Zgt3KB5OCQ/lg/v7kk098BZwFCxb4e39IltjchN8TahMIJ4UQEALZR0CESfbHSD0UAkKgRgSihAkTLlZwQiUJpAiTG8xOw3QadlUphYfJD8RL9+7dHX4mu+yyi58o8jDBKhMrYBZWQpgHDGS35pfC55Q2DktS8rBOf9NYZeI48KxAUgz5k9cwwgQiC0PHPIcUJoXRT5swqUVhEnf6jgiTwjmB8S0qQ0jvHj165Pky4cvRY27OfS9udQT34913392NGzfO/5vlgFTDQBwVUt4rKWV5nNQ3IVArAiJMakVM2wsBIZB5BKKECZNcHoqtLCarPxAmpOmQcxym03BwpPBg1gqRYMFkmfeR2rJiZIoSUm9YUUKWa8HfpOpgCrvyyis7S9Hhc8ojhg/laRImeKogt9944419alJeA+KM8wH1EJVy8hyvvvqqJwCjRsh5wyRtwqSaVBkbk8WRK40gU/Bs4pq6+eab5+00KDtelISUkcfbCjVBngP/EpSWVIrjHhpnTJo0yStLMGMfMmRInLtqVdvcP6zKHddP5g0XX3yxGzlypJ8rmNFrqxrXl4SAEMgEAiJMMjEM6oQQEAKNRCBKmEBeQJLYQ6AZuJIugzQ2TKehHyhJkMuGDwjkr7PShXkbqhFIBoIVeVJwdt555+IhfPbZZ35ijUHsKqus4kv3ku9NQJZAmlikSZjQT1aPv/Od7/hjynM89thjIkyccyJMCr+CtAmTWn6Li0vfqUWp0tI+G0GYNIK4qQWTOLZFZUgqJz5UlKnPc3BPYyEgVFbGhccf//hH713yxBNP+BSgLAaECcQRKbrMM66//np36KGHeqJRlXCyOGLqkxCoDQERJrXhpa2FgBBoAwhECRMmMShELF8YwzqMWyEzSJeJTvoqpfCYKiVKerz22mu+XHC48sUKPbnukCpMrNk/k21Il7XXXtvLdbNAmODhwsPQRhtt5JUweQ4UJpjwhWRWHvHgfIZIi6qu8oZFWyJMFkeKNMILhesXxC6KuWqiEjlywYRZbvxrHxe/Pqx/dzd6z/Wraa64TdqkC/cKyHdKw3PvyHO8+eabfqEgCQKD6jNUx+GemvVKTVSegyjp1q2bu+uuu/J8iujYhUBTISDCpKmGUwcjBIQACJjJmqGBioIHIJvc4dsxd+5cP+nFx2OnnXYqAy6awsOHON5TPYdAkWGSbKu2s+uuuxbbMM8S3PLJdX/yySd9+g+pOlaOOAuESVt6KIz7zGb1EiPHkMyKe59ZbF+ESWFU7LfRFsjExaXvNEJh8uKLL3pMwhTFxZ27lfY5c/YC9/68r4pfW71LOzd+xBY1/QQacSw17TCysa6XJUBef/11fz9LwrT0zjvvdMccc4xfeDBlZz3jGOd3mXtcd9117sorr3SjRo3ycw78wfBKQ4Fi6Tn8Hw80XgohIASyj4AIk+yPkXooBIRAjQhECRN8RkjDId+amDZtmp+oUEoXWTEGrmEguyZVJ/RxCCvdsPpuZXgt3QaFiZnfkeuO8RulhyFWJk+e7I1eyfmm/CA58BZIea0MctzmeVEYtWJaQoR0K8YKU948R5IPQlnGuS0RJovDsRYvlJbaqZUwqaRqGdCzY90Kk0aoZeo551AO8tDeFki0eo6zmu+SuodCMQkl2s033+xOPPFEny4Y3jur6WdS21hKDr+V4447zpviotRjcQVfLDzCSOcl1RfyhHs+BOSBBx7o/U/i9oFJCgftRwg0KwIiTJp1ZHVcQiDHCEQJE3xGUJSgJEFa/uijj/r0CyYpkBiULAyDSQ9u9+HqGZMaTOf4DgSLkRuY3/HCw8RylfkuqhJy3VldgqBhks3DKCk6SLqjhAl9Tnq1SSaGpVFnvFAcUTI0zyHCpDD6zUKYNOJcJg2F6x2eTNVEJSXIqKF93QUTZzmUJgN6dXT83bn9stU0V9wmbYWJpTCiHCTlIs+RZDWt3/72t+6UU07xJAQprVkMIz3wwoIEoZ/c07mOkIrLAoyVGLbry/777+/uvvtu+ZxkcUDVJyEQQUCEiU4JISAEmg6BKGES+oyY+gMyA2Lj3Xff9YRJuMKDrwfqi2h+9oQJE/wKUVgRBzNXVCa8x2fEV1995Q3qKD/JqhIKF0oXQ8Qw0YY8yQJhojKZpVOfCkj4uDBmeQ4RJoXRb0tqgri9PWolTBqhaqn0G4yr3Wp/7zLJLiHFPY3751ZbbVUtfK3e7qqrrnJnnnmm9wpDoZnlAJP33nvPq0YgSVigYT7C32bwzt9sRwooKlSFEBAC2UdAhEn2x0g9FAJCoEYEooQJBnVGjGBURyldJnrkYKMOQTESqjuiKTzs3hQmlBsOq+qYgSzGsUhtCSZKrDSR3sH/2Tf74KGcyjzIdLNAmLDyhcEt/cz6RLTGU6DmzUmholJQViXfNR9QK7+AJ89HH320SOWoVjbXZr/WlgiTuJUXpCiinsu6f0TcJ5vKsJcQ5h7KwkASJqyXXHKJO/fcc73fWN7NyeM+x9W+EBAClREQYaIzQwgIgaZDgJUccoQt3n77bS/nxWcEggRVCCk0pOOgDiFVByWIRZjCY+9ZlZxOnTp5tYgFbaBggUSBTCGo0kPaDxVXePBCycHnpH107Nix7MEDIobteSWdksOEl3QhjE5JUcpzUEoaMgvlUZ5DhElh9NsSYRL19mi/7FJu8sgta055aem8jxImoaJlvVU7uG85596Y+6XDp2TUrrWn2rSV3xsEO2Q6qUlcK/IcjSg1XS1+F1xwgbvooot8pTnzDqv2u0lvx9zD0nX/8Y9/+FRg7v9rrrmm9zHjPs9CBfMNW2BJuo/anxAQArUjIMKkdsz0DSEgBDKOQJQwgSyBNIEkYWXMCAxTh2AGu/zyyxePCgJk9uzZZWawTJaRpqNC2GKLUnUHZMIQLKERLPufNGmS69OnjzeVhSRhko2KoX379mXVJtIkTFC/0CdM6dZYY42Mj2q83YM4ggwL/WXi3WM2W0+yXGg2EWh7hElUYcIRQJrssE63hhAYzz33nE83NGVcpf3ZWLamXHCWz4OwbygcqLBGeWWuFXkO0ku5d1VbaroerH75y1+6K664wrFoYWmv9bQX13fNx4R03jvuuMP9/ve/975lpAH/7Gc/cyhlSMW59dZb/RwEc1jmAwohIASyj4AIk+yPkXooBIRAjQhECRNSYngQxGeEB2OMWJGXmzoEr5Jw4sIqO6tDoRmskSvdu3cvIzwgRFh1pKIOxAhh6TuUEKYdDOBQcbBvVpY233zz4hGlSZigwiFNCGKHvuY5SE1i9TLvOeUiTNoeYYLiY5er/+IWfvOfRX7CjSAwKLPOajhmp0RU0RLutDXlgtvKdYdUNchxrt92rW8rfW90P2v1taln/6effrrD+BXCJGkVZq39Jh0YgufCCy/0XmUsRDz88MPu1FNPdb/5zW98c2eccYa78cYb/fukBqtKTq0oa3shkDwCIkySx1x7FAJCIGYEooQJpAUrPahATFGBqqKSOoSuWang0AyWiTLbRwkTPFFefvllt/XWW3sixoKKOlTE4XMmThi8Pfvss95cNsz7TpMwQR5MmhBSYV55DsaGlKrQkDePeHDuQwLiyZPnaEspOYxTS6qPRhAYUcIkrwoTruWoD1EYZj01JO7fLqojyP8kfG1OOukkd9ddd/mUHEt3ifv4am3fUnH+9Kc/uR/96Ee+wt7999/vfVc4Xw466KAiYfLQQw+5Y4891p133nnuyCOP9KawWSeCasVD2wuBZkNAhEmzjaiORwgIAe9GH3qY4Fr/6quv+odh1CBM8iAzKqlDgM9KBYdmsCgQmLCRkhPKkFl1fOmllzwJ0rVr1yL6kydP9gQKlRXwPEHCzSSTyRHkikWahAk4Uc2H/OqslmtM6nSOPhQmtd+s7UeESWFE2hphYhVknnjr0zKlSSMUJlEyMaxW02/VDg4Tkzc+/LLV5YKz9htoqT9z5szxxDvX+g4dOrSVbsfSzySvlyNGjHB//OMfHaa7WSVMjPRAXXL11Ve7cePGedIEVemee+7pjj/+eK88IR5//HFPoJx22mkOMkiESSynqBoVAg1FQIRJQ+FUY0JACGQBASvpZ30xYgRSAMNXM2g1dQiy2NDEz0oFmxks7WHiyioQK4uhh4l5myDTpmSwxZQpU7wvCvnLRrwgY0ZWTPpOFggTjovJG+k4pOXkOaI+DXnFAq8f/HukMJnniVBI1rZUmSNUqbsvAAAgAElEQVSO0rtSXxWuBtxHSNfkfmEG33m9TiSZwnjUUUd5Yh/8s0qYoNakkhTkDv5lY8eO9Z4//Ha+973veXKEtByCNNg99tjDnXXWWd7bRIRJXn9FOu62hIAIk7Y0WuqrEBACVSEQJUyMGEFVAsGB+SupMaYOgQBBOWIRNYPFqI3UFXxOIEGYMFugIOFhe9NNN/XpOhYQEQQki5Uh5gEMszdWnkLChAkTipg0ZLn0kwo5VPTJc6h0amH0IUxIPcMIOc/R1hQmcY5V+HAcVshp9qo4UUwhEvH4QSGYd7POJE2ySXHh3sl9mft2FsNID0iQa665xitiSAFm3jB8+HCffnPiiSf6rt90001u5MiRbsyYMV5pElbWyeKxqU9CQAg4J8JEZ4EQEAJNh0CUMDFiBHUIpISlxCDx5UGZFJtwFTlqBmvft8oIYVlhHqxYRbI0HwNz6tSpjio0qE6okENQihEHfUxms0KYsHKHvwqmtHkOzgPODRurvGIhwqQw8nkhTKohQHg4xuQUQ+Sof0kjUn7aym8NIpGUNa7/eS8JixcYiwwbbLBB7MN34IEHetx5ZZUwMeNWFiBIwdlnn308MUI1Ie73119/vTvkkEN8iu5ee+3lVXx4mVCVTaavsZ9C2oEQqBsBESZ1Q6gGhIAQyBoCUcLE0maQ80IOWOnYzz//3JGLzUPyKqusUjyMqBmslSWG/CClhpUjCwgQHiioINGjR4/i+6wsoUyxCjl8QEljJkzh6n2aHib0iX5y7P369cvaMCbaH9KlmIyjFMpz4N8DYUhFqTxHXgiTagiQUE0QrZDTCFPZtnKe4YUFoUhKZViGvq30v5H95L6BonL99ddvZLMV29p7770d/jGUdM4qYRJ2/JRTTnGXXnqpg+jBXP6iiy7yqTeYyJOaAzmPzwnpOwohIATaBgIiTNrGOKmXQkAI1IBAlDCxtBmaYIJnJXTnz5/vkJuTa7zaaqsV9xA1g6UKDuQKPicYv1qKDV/Ao4TVNlZfe/XqtQhhYhVy+IAJH6754cMofUXOixqFHOikg3xq1DVJTHyTPrZa9sdKIGMRGvrW8v1m2VaESWEk+b2jCGtrHia1nofVECBPP/20v/b1798/1woTiER+HxDmyy23XK1QN9X2KCi5Z6633nqxHxceINxnSctpC4FydfTo0b50MMRrGKhUIVQwe827D05bGEv1UQgYAiJMdC4IASHQlAigBLGwtBn+Dv1KID94GAhJDbaJlgqGEGFFkUkyD1KhIab5m/Aw0bt37+I+mVAuXLjQr0YiZyeo1MNKGR4qYWAYlxZhwrFR3Yf+5zmYjJNLnnfCBDUVZbhRQbWF1dy4zlkjTFCOhWbOce0vrXarUZiEhEkcprJpHXut++V3we8DDypK6uY5kvS+wjSdaxGLG20pMAhmHmCpRGussYbbfffd3VprrdWWDkN9FQJCwMnDRCeBEBACTYpASJgYMcKhWuUb/o8BKwoLUnQwPrUISwVTGpgSwUx2IDaiCpGvvvrKO/iHyhXaYUJJH4YMGVJ09qckJbJu3gvDFCZpmL4mad6X5VMNNQHjS7WjPIcIk8Lo54UwqYYASdKvIsu/PUxHrcpaGmrArGBj1dW4J5JyEneg6OQ+zH0262F+JMwTuNcz92COQBlqFDkcR2gOn/XjUf+EgBAoICCFic4EISAEmhKBkDCxtBlWBSFMLFCAsAKEcR2TPwvzPEFtgLKEFVZIFVJ4ogoRlCGPPfaYlyaHK0eUFYYICckRKiy8++67Ppc5XL1nO/oLYZL0qr5KhhZGnbQrxjIsGd2UP4wlHBQPhDwYoqLKagnPJMYlL4RJNViKMCmgxLWbFyaeaZDb1YxVEtugxIO8WHPNNb1HV5wBAYFJOwsaEydOjHNXdbdtZAnzhauuusqXFo4GFfbOPffcRVSmde9cDQgBIRArAiJMYoVXjQsBIZAWAjz8MoEhjBihSk5o2ApJgRIEw1MmfxbmeYIZLGQGZq1M2vA2iSpEUCU8+uijvixvnz59im1MmjTJkx/IiS0wDGQFP1Sd8JkpTHhATZowwfSWig+kHuQ5GGNWArfccss8w+BX0EWY5EdhUs3JLp+jAkr6bRRw4H7FQgMLBHGnl3AP5z6MgpNSvVkP0m7xXGGesOuuu/qFFlJeSQueMWOGr6jH///whz/49ByFEBACbQMBESZtY5zUSyEgBGpEICRMzGcEL4Iw5eKbb75xKEGiZId5nmAGSxUcJsr4jkB2RBUirLZBjkCW0A5hJAqy7dCvxKrt8F4o6U6TMHnuued8Pj5lkfMcTGY5T1gBzHPoobAw+lKYlH4FIkwKWChdrYAD903OCe55ZqAe1zUTwgTSAeXffffdF9du6m6XeQALHpQOpp+XXHKJO/744xdp909/+pM74ogj3KqrruoVM/yrEAJCIPsIiDDJ/hiph0JACLQCgZAwsRQbcoghQSwgKvAnCckOPgvNYDGA5W9k2JUUIkzomPiw0mYVA4xwiaYAQbaQlkOVnLDKQpqECeV0meixipfnoIIRqVsoifIcSjvIN2HiPU0mzHIzP1jgBvTs6Ebt2tdNf/4ZlR53zl//KTkfloXP47UCZSZpJywQhEbncWDB/ZX9sMhwxx13xLGLhrRphAlzAKrlsYjCogiLJ5bayH2eOYGVHYacDpWtDemIGhECQiAWBESYxAKrGhUCQiBtBELChOoGGK7iU4JfiUUlsoPPzPOElS1WFalyA6HQkkIEwoS2rTQvk+pXXnnFT45CzxRSHXDOxx+CNJiQuKG/aaTkUE6X2HTTTdMeslT3z3ihJtpmm21S7UfaOxdhEi9hUomQ6Nw+OxVXKlXN+V7XjxIrIZv2+b+4/VPthLTMsEpalvsbV99IXcQsfN111y0zS49jf9yjUbHstdde7qabbopjFw1p0wgT5gCoYW644Qbvf2bvsxMIE7xvrrvuOl9WmPlEaDbfkI6oESEgBGJBQIRJLLCqUSEgBNJGICRMXnvtNffPf/7Tr+bgVxJGlOzgM0vhYVsIDoztmBy2pBBBpdKzZ89iaV6+AzkSTcmhD/QF1/8VVlghE4QJ5XSZyOW9Ogy55yiDKAOd51AlkHgJkygh0aPT8m7skZu41pAmcZAvw659zr0/76viT2D1Lu3c6RsuFGHinFcHojhEbZjn4P6IFwf3R+57cQaESY8ePdyPfvQj91//9V9x7qohbV9xxRXu2muvdQ8//HBRcRpteO+99/bk/Lhx48rmAQ3pgBoRAkIgFgREmMQCqxoVAkIgbQTIs2Z1h8DYFE8CVqpMBWL9w7CVCVn//v2LXbZSwWyPOgVDVLYxpUpUIYIPyiqrrOIGDBjg2yDNhYdvJnuh6aspT7bffntfZtACwoL+YviatOmrqsMURgEiC7Pf0BQ47XM4jf2LMImXMIkSEuxtWP/ubvSe69c83JXUIK1pJ9xxpTZ36zLXPxhDGuc5IMIpOQ/hnef48ssv/T2Veyn3xTiDezjeYyNGjHBXXnllnLtqSNvPP/+8O+yww7zvyuGHH+5TdTGb5x6P+fxDDz3kLrjgAnf33Xf71C5UpeGrIZ1QI0JACDQcAREmDYdUDQoBIZAFBIwwgbSg7C+5xMhfQ2KEfvJZ9+7di2QH75kZLIZsc+fO9aoD0nJwvkeJEFWIUGlnpZVWKlaaoeQikyAmSJQQtkDOjbmotZcFwkRmp4VRIGULrxvIrDyHESbgQEpZXiMu09coIQG+Sy/1LTek38reL6QWpUklNcj4EVvUNWRetTJxlps5e4Eb0KujGzW0r/vrX54WYaJrRPG8wtMLYoB7adympdyLIUzw/Rg9enRd57Z9mTLZ55xzjsPwHEKGdNQzzzyzIaV+8cD69NNP3axZs/zuIBnBCFUOPllWup7UYBSoXGPNz+ziiy8uM4NvyMGqESEgBBqCgAiThsCoRoSAEMgaAkaYmFqE3GFMX00FYv2F3KDsX1hW18xgO3fu7KWzqEQgQGbPnu0nPagQWDWyoMRip06dfKUZq5DTpUsXrzKBMDHVCHJuFB1MqmjbAuUJD+yEqUyS+Jf9QRIwicO8L4l9VtpH9LjTOJe0elxAHRUVufUiTD53f/3rX/11gQe2RgWExH5jXnJzvvh6kSZrVZrEoTCpdJwQwpDNVgWsUVi0tXakQiuMGPdEVJSoKFBWxhn4iaFugtA477zz6t4VKbiU/eX+fdBBB3mfkXvuuccvjFDdhnSZeoL7Paa4eJSxYAK5xByEOQVzCAia+fPn+3su7/HiPbbhvbB6Xj390HeFgBBoLAIiTBqLp1oTAkIgIwgYYfLxxx87jE1ZyVl55ZXLiBG6+uSTT3r1SFhW18xg27dv703aLE1jzpw5bvr06d4YFILEghKLeJKwUmUVckydAtlCGwRybjxDttxyS0/SWNAmn/Ed9k3wb5wv20dGhqvYDSOX4iZv2KGZ7LIvFAVIzTHvjXvfi2uffkU/T3KM8NlhdVSESTyECWNpKo5Jr3/i/uc/hd87gV9IJYVIS14lldQgtShUqj2vIEwgVPv27VvtV5pyO/kcFYaVexz3sY022sjfU+MM0iTxHjv33HPdWWedVdeuICRQfHCvNYUMDXJfp3oe110q14T+YrXuELIEAgQixO7f9rcRJOG/zFPsFc5Bat2vthcCQiBeBESYxIuvWhcCQiAlBIwwYQJEdQPID1OBhF1Cnstn0SoxrEQxgYLEMPUJq1CsOm+11VYOBYkFJRaR1WKcaj4l5n9ClRxLbTDyhu3CVWsqDrAvKvEk6WHChM5WTSGB4iRoqm0bTKvdtlHbsU/zu0npdF3sbpMgcOgABBIruqyAUhoToi+JfYfePSGJRZ9aUiTFPU5xpeSE/a5WIVLtdnFhQtoiRGLeCRNV0iqcYZAYKCUhGUhFjTMgMyjVe9FFF7lTTz21rl396U9/8uqSI4880t14441lbZ1//vmekMFb5IADDqhrP/qyEBACzYeACJPmG1MdkRAQAs751BhWclBvkFMMoVGJGIGsgNCIVomZNGmSf4hGht6nTx+PaUuExzPPPOMfNlGOkFrDKj0rWVRVwNgN2S9BP1jZgpzBN8XIAarskC7ExDBJwoT9y7uj8HOBVCPlyipgNIqMqacdOz/qaaPW73LOm8opqxeSuEkcjpvVaB4MITa5bjRyn//67/+4y5/8wL06998OQdm3vuXcgB4rupN37O09TKIE0vdvfNnNnl9K4UGJ8sixmyViEs25gMIEAtiug1k9L+LuF+mYEIqkVOY5uI9xX0URESol48AETyWULFSfOfHEE+vaxemnn+6JF1Jw9t9//7K2MLFlIeTYY4/1ZX8VQkAICIEQAREmOh+EgBBoSgSMMEFBAmGB4oT84C22KDdFpDwiwWQpDEgMCBdUH5anXYnw4DtMtnjQZCINIYIslxVZ1Bs8gPPARbBqzbZhm+Q544HC6q35iCQ5ICqVWUD77bff9uogCK48B8bGYIExsZkR1kq6NGJ7xsDIm6TS1MJ+m4weIpSwzxpxbtzy1lLupU8L7RKbdPuPO3TdQkWvSrGk7RtJ5lRKB0NZh+eD+S7Fub+W2gYXPjMFkv2dpAJJBtmFs5OFA8gjiP/Qi6sRv41oG9yfWMygpPAxxxxT1y723Xdfd//99/sUXe7BYXBvJ72IFFoWSxRCQAgIgRABESY6H4SAEGhKBCBMIEkgPlgdJc2Ah54oMYJTPtuSkhIG5YZ5P6yIU4nw4DuQJOyLNliNZdWNyRcS7rCEMH1AjYKUGUWJTT6ZwLGKhrzZHtCSGhSUFVTvoVRyngPfDpRBECZJq3yyhHtImJgyKkv9S6ovldIOGkXcHHj7G+6DL74pHkqPjsu62w5Yu8VUtAVf/4+77i+fujc/+dqt2205d8zmXV2HZb9VVeoa371pxpfunc//x63dZWl32Ibt3ArL1Jb2htrGSp9GybCkxqOW/cRF6ODdAYmOOtDIG/oV1/6WRB5V24dasKtmWzxAuLdtttlmZV5e1Xy31m0gZiBvb7rpJvfjH/+41q+XbT9kyBA/H4AQjqaXcf+GIGZBhUUNhRAQAkJAhInOASEgBJoeAcgOCA5SbqiMAylgpEZ48JAVqDzM2NU+Y2LFKjOTLHuArkR4sL21QUrOlClT/GQM47hoCWEc8/E7gRzB+Z949913feoOZAsTtqQJEyMKBg8e3PTnxOIOkMowVIjJO2GCygYSjYcUESbx+DQk6UlS7764BlJJDOPNtddeu+wn1CgCqRZFEh0IzTTDv2tpp5Zt2Qc4QBzxPVI4W/p+Fi+ijSZ0UFByL4PgB4tGt48Ru1WMQd102WWXeXUJFWhQidoLjyX+Tz969OixROhRj7AQwj0vml7GfIFjEWGyRBi1gRDIJQJSmORy2HXQQqD5EWAChGKAFSrICFaVKhEjmLgy+UNJEgayXMiLnXfeufh2JcKDD60NiBlWp1CQMKEmzzssIUwVFirqUI6RMp0EK3WUGzbCJmnCRERBYXgxByZfHqVN0mOQpV+jESb8ZiiNmdeI09gyqeo2jN2wa59z78/7qjiMLVXiaWmcUVSQMrjWWmv5V56DyjDgEfW7MkySJpCSIIsqKYpYeIDQgOCHLFkc+dSa8wVTVsrdVxtHHHGEGzNmzBI3V0rOEiHSBkJACLSAgAgTnRpCQAg0JQJMbCEjUA2wsgR5UYkY4X2UKGFKChNAquSwwh56WlQiPADP2mDVitKTkB9sC5ESlhA2v5INNtjAe5wQeKiwP3Kq+Tfph3UjCvBasfLHTXlCLOGgUPrwyjsORphA9Jn3Th7PhzgIk5bKA8eFL/vb58YX3dwF/13cxc7rdXOX79u/6l1CPLPiL8KkoCQkohXVqgazSTbEHBtV5JKuEa0lkLiHfvXVV14Ryn4uvvhi99Of/tSnAHFf55y0F3+jfIqm1FaCWqavTXIC6jCEQAoIiDBJAXTtUggIgfgRYCKFXwjyYQiMSsQIvUCBgoldmJJixAYPjFY1hW0rER5hG8iCUbVA0GAixwQ7LCFMX/A46devn5e4M6EkhYfSxVTVSYMwQVUBaYLCBnlzXkM4FEa+2oehZj9P4iBMqk2PaQ2xwnfOfuQt9/TfPvdDs83aXf2/U978tGyodu7XzV2+z6KESUv7NMKEh1KuWXmOF154wRPaUcPQvGGSpM8RCxf77befN2LlvlpPVFNW+K677nIHHnhgPbvRd4WAEGhCBESYNOGg6pCEgBBwfiUKHxLymwcOHOiJEczqdtpppzJ4WM2aM2dOWeoN2yG/7tChgzdttTDCg/K/oTzd2qBigBE0lSrqsGIGQQI5wgMIq2j4A/B3r169UiFMUOCQlsNxksOd1xAOIkzCcz8OwqTa9JhqiZWwv9Hv8Fn7ZZdyC78pr77TUkpOS/vkmkUaIeo5zLPzHJh7QypTTjfPwaIAPiAsRFglrbjwGDdunDvkkEN8Wlg0bbbWfZJGtM466/gFEsayf/8Cccj9nzRagsUD7vsKISAEhECIgAgTnQ9CQAg0JQL//ve/PWFi5AQlflk9j65Svf76644VM8xdLZg0YXwZJUyM8GDSFZrGWRsQDlTIYfJVqaIOq7WYzmEKy8tIFSbgfA9jwaRTcpJcLczyiZbkQ0CWccAc+Y033vDVpDAuzmvEQZhUS4RUS6yEYxP9TkuEybD+3d3oPddfZFhb2qcIkxJUVFSDILCH67z+NpJU440dO9bhUYI3GIas9caECRPc8OHDfZnsgw46yKfd3nPPPQ5z2fvuu8/tvffe9e5C3xcCQqAJERBh0oSDqkMSAkLA+QkQ/iDkm1MGElKDh2Kc9sMgRxrvCt63ajik72DEygNjqDAx1QpkCaSJhbXB30aGVKqoAyGCtBh1CUQOqgb6ZeqONAgTmXwWRlHEUQEHESYFHOIgTKo1e62WWAmvY5UUJqTfuP91xTSdbft0dWfvtq7r3H5RJVlL+2RV/qmnnvLXNfNdyuv9hYd2jJBRLOY5kvS9uuOOO9yxxx7r/cAaRVRxPp999tmehCENljnCWWedVaYyzfP46tiFgBBYFAERJjorhIAQaEoEqIqDqgQzVya5KEaY6IXECAfOdqSkoDAxdQelf0mtwQQ19DAxM1jScUjLsbA2+JtJ3WqrreYNZqMlhPmcFS77Pqk8PKDinwIZkwZhogfkwiiKOCrggDwdEg+z4jxL0+MgTKq90FZLrITteQ+TP73lnn7nc/8QCCmy9FLfcgN7dXKjdu1bkSSJfv+CibPczNkL3IBeHd2ooYXviDApoQQBD4lOWfg8R5KV1W666SZv+Mq9fP31F1VG5XkcdOxCQAgkh4AIk+Sw1p6EgBBIEAE8SFCJQEagHCHnmhcpOWE1GCZ/EB6UDyY/HdKCVB4MXyExwio5dB8TOlZaw8mbtcHn5HUj922pog4Kk969e/vvI/EmTYf0B/5NgzDRA3LhpJTZqQiT8PKUJmFS72WyNQqVlvYJcQzxi6KO61aeAxNxru2Uj89zcL+EYI7eG+PA5Prrr3ennnqqX+zIe1nrOPBVm0JACFSHgAiT6nDSVkJACLQxBDBTRTHCSjlhviSYvobmpqTjkFLD5I985n/9619egt6lSxdPekRNYiFTMGilNLCFtQExAyHDfluqqIOHCdV0MJx77LHHXLdu3fwEPC3CBFKJ1Tuq+XTs2LGNjXLjuiuljQiTtAiT1lTFWdyZ3xoPlCURJqQQrr766o37wbXBlqZNm+Y6derkNtxwwzbY+8Z1GbUm10vUm3HHlVde6dNlILR79uwZ9+7UvhAQAkKgIgIiTHRiCAEh0JQI4EmBNJ2SvQRGdZhZWoqOHbT5iJB6g6oExQUeJnzvk08+WcQk1soAh5Nmazs0iY2WELb9QZLgqUJKD/9n5RZPE8wV01CYUBHolVdecZtttpl/GMhrSGlTGHkj0DBYZDU9r1GrwqQe0qORihDGq5HtUckLokCEifNKG4h0q66S198G91HuG/VWrakGv4svvtidd955/l7M4oJCCAgBIZAGAiJM0kBd+xQCQiB2BCAfICEsMHxFScEkL6z+gbQYwgDjVQgP8yNBfs5nUZPYxx9/3E/cwjx2axsiBAM5IlpC2PqB8oWKOKT1YDpHhZxVVlnFb08KUJguFDtIzvkSi5Rcpt+URc5rGGGSd6JAhEnhF1ArYVIPSRFVhFAOuFuH5dyAnh2r8h+J/mZb44HS0u8epRypKBC8KOvyHCgPKVMfqgvziAf3USq8hYboceFw/vnnu9GjR3vlZ549leLCV+0KASFQHQIiTKrDSVsJASHQxhBAXYJhoYURI+YxYu8jLZ4xY4bbdtttfUoKbvxffPGFT5upZBI7depUr8SA6LAwhcm3v/3tordJtISwbfvkk0/6/ay88soO01f6w0QwLcKEiS+KGitt3MaGuWHdVWpSAUqqS3Fe5i1FK6oQOW7Lbu5vb7ziTZx5SF5S1JMGU6nCje2vpTLAi+tPPWqXaLsiTEqI/PnPf/bX7bybj3J9mDdvnr9nxh2k45CWw708TKWNe79qXwgIASEQIiDCROeDEBACTYlAlDCxVJttttmmLPWEB+WXX37Zbb311l5hAaEBgcH/K5nEMmlGoWJKEsAzVQqrsGZMFy0hbCCzSknqD22gTMHzBO+TtAiTWlfSm/Jkcc5LzJWaFA9h0sgH+LjOvyhpsVPfzm6P7p9WTSTWozAJFSGffvnfbuE3/yke5upd2rnxI7ao6bCjfenRaXk39shNllgpp9JO/v3vf/vy7P369cu9hwT3BlI1wwppNQ1Mk2yMIpEqcNxL447TTjvNjRkzxnuCJa2+jPvY1L4QEAJtBwERJm1nrNRTISAEakAgSpiwco56hIo05KFb8KBMRR3MYVGOYOoK6cFqFuZ2UZNY8tiXW245vwJvwYM2CpaBAwd6ZYoFJYTXXHNN/7BhYd/nb3xOUJjQVxQpvJKeFLJSyPGTYsTqaV5DhElh5OPAoR4yIanzMaoQ6dlpWXda/4VVEyaNSoNpBFbRYwHD1ihV+J4Ik9IZiLqQ6zt+LnkOFJmcF9xL4w5KCt97771u/vz53kxdIQSEgBBIAwERJmmgrn0KASEQOwJRwgSvjhdffNHhURFK7DGTe+GFFzwBQllh8vUhD5AAY25n1XOsw3weVt/hfdqlfdoIjekoIUxliTDn3b7PihnEDZL/NAkTJqL0n0o9eLDkNeTlEh9hUk+6SlLnY70Kk0b1sxLxQtsXTJjlZn6woCpfk0opPq1RqrBfKoXhtUQaSkgGN+p421I7+E/h44JRd54DRSb3R+6lccdxxx3nHnnkEW/6KsIkbrTVvhAQAi0hIMJE54YQEAJNiUCUMMGr4/nnn/fVYEIlBSkpzz33nE+xQfGBWoTc7M8//9ybxFr1HAOJhwfSbUjhsUA1gkQ52jYlhFdbbbWyMpT2fYiKPn36+Ml3moQJ/QYXKj9YRaGmPCGWcFBMyFk53WSTTcoUSHnDwoijRlZNaoRqIu5xiBIVx21R8DDJgrdPrfhxLPuNecnN+eLrImytVZhgtsn1UYSJ81XNMOvu27dv3KdjpttHkYhBeaiyjKvDRxxxhCMNlrLCIkziQlntCgEhsCQERJgsCSF9LgSEQJtFAALEAgIEsoIHYqrSWJCSQo4+Sg/+T5lhfEUwgw2r59j2kAv4jYT52xAjpNNE22aCDTkTVtTh+5TqZOXWUnjSJEzsgQgVDOROXkPmt4WRj0Np06h0lSTPzSydD61R6DQK85auD23Bl6aR5wvXaCqkYewN0Z3nQJFIhD5eceHxwx/+0KfSYqyO15dCCAgBIZAGAiJM0kBd+xQCQiARBELCBEUH6TBRnxEq4kybNs2TGqxima9ItHqOdZjJIuk0eI8QSJMhRghIl5B0sBLC7DP8PvtkP1aZJ03CxCT3eTd1lPltfIRJIrsZKdMAACAASURBVD/2Bu8kS4RJrQqTRkLRkgItzT418viqbQtVIddzPKnWXnvtar/WlNtB+uO1xQJB3LH//vu7d955x7355psiTOIGW+0LASHQIgIiTHRyCAEh0LQIhIQJK6VUqMGrgzx0C3t/ww039NVuunbt6omPaPUc297KDpOqQ1hKD/+HdOnZs2exbSshHJYg5vs8jKFIGTJkiJcZQ5ggcUa5krTpq8qGFoYLBRJjA7kV+tA07Y+jhQNTalIBmLQJk1DBsd6qHRyL6298+KUb0KujGzW0b6sq3rTmXG6JMGmN6qU1+8/Kd7g+Y/qKIbhVQstK35LuBylaGJ9zn4w79txzT29ETbqkFCZxo632hYAQaAkBESY6N4SAEGhaBFB/QEYQuPpDYODV0bt37+Ix2/uUimQVC08RJNdh9RxIFIvp06d7kgQzWILSwHidEJAumLxaWAnhULqMYR5tt2vXzn33u9/1m6ZJmJAehMKGyg9h35v2pGjhwFQtqACMCJMCDnERJtWmskQVHO2XXcrtsE43N2rX5MgScEANhyk217YwlTFvChMIbu4fqEtQmeQ5SGFdYYUVylJN48Jjt9128/duSwOKaz9qVwgIASGwOAREmOj8EAJCoGkRCAkTiAEk1ZgXkodugQqF3HTM/CA/UINgfmrVc6JGrjNnzvSEB+WGCcgSSgoj2cYHhHYsICIoTxya47FSRroPDx8maU4zJQeMIHYwMgz73rQnRQsHpmpB8RIFbe18ajRhYkTJE29/6hZ+858iHC2ZsQ695i/ug/klDyb7QmvNW1uLvxEm0SpajfJIaW2/kv4e6j/MRyHTw/tH0v3Iwv5IbV1xxRW9WjPu2Hnnnb3qknupQggIASGQFgIiTNJCXvsVAkIgdgRCwsS8RlCShJJqJsJTpkzxBAZECKoPVs8s1SZq5Prqq696wgNjWAJ5Mm2T2oMPSLj6yEocMuItt9yyeKwQLnil0Af6QqRJmNiDQN5XTltaSY/9JM3YDhpNFGTs8KruTqNxqFTql860VO53yNV/KatyYx0Pt69WrVL1QVfYUERiARQRy6WTg6pwXbp08WrNuGP77bf3abIsaiiEgBAQAmkhIMIkLeS1XyEgBGJHICRMkFRTzcZSbmzn5KZPnjzZderUyZMeECGQHGH1nNDI9fXXX/dKlKFDh/omMHxlQjd37lyf1hIaAlYqQUxKDv4oUS8V+kd/l1lmmdhxCXeg3PwCGiqvXMBB5rcFHBpNmEQ9P+w32KLC5Oq/uA+CssCVtk8iLcYIE/yZwnLsiV6kMrAzlIgQBdw/wpTODHQt8S6gtMHnCUVlnMFCwlZbbeXxnjhxYpy7UttCQAgIgcUiIMJEJ4gQEAJNiwDqCVJlCP6dNGmSJzQgNiyYlDEZw1MEIzsrFxxWzwmNXPE5effddz1hQvsQJqSzzJo1axEyhmoCkCBUw7HAD4B0n6233tp17ty5+D7EBdsmbfqq6g+FIVB55QIOIkwKODSaMKnoSbJutxYNXKvZPgnjVXn7FM4HeT2Vpgl4uaDIRFEZZ3BvJkUWJcu4cePi3JXaFgJCQAiIMNE5IASEQD4RCAkTEIAYIf88OtGbMGGCV5VAjFhedlg9JzRDpZIOZQ6pcENlFUgRqgWgHCG/nRVIC4zqMKxDVmxBmg4PIXig4G9ikRZhwqTUPFwgfvIaVl4Zj5sePXrkFQYRJv838o0mTGr1/Khm+yQUJqoeVTghVE2sdEnEC4x7ZbjwEMcFk3sTZAkqk7Fjx8axC7UpBISAEKgKASlMqoJJGwkBIdAWEYgSJqTeUFI4KiVGeYLSIvQ3seo5USNXyBJIEwgPvExI0YEQQaYc+pKAV7QEMe+xHQ/npP6EahIIE2TfvJd0+UQIE0ihkOxpi+NdT58Zb8gsyLRQUVRPm23xu3pALoyaVQtihTuskpXWmFbyK6EvF0yc5WbOXhBbuWGdD4UR1/WhdOYndb+AMOGexL3y9ttvT+unp/0KASEgBJwIE50EQkAINC0CUcIEc1cq4FAiMwyIFAiLsCKOVdWJGrmSjkNaDmWFScOBNMHJnzbItUahYBEtQcz7pPCQetOSwmSppZZKnDBJasUwyyeaPRBBmkGq5TX0gFxOmGD6jMFl2pGEmqTSMSpFq4CKpezlXYFmikSUmigq4wz2ReW2ffbZx/3ud7+Lc1dqWwgIASGwWAREmOgEEQJCoGkRiBImrIxhVoeBYSXCZIcddvBeJoRVz4kauf7jH//wqpJBgwY5SgRDtOB7gqEsqRxh5YBoCWLzUaF9CJfll1++2A1LyUmDMEkqJz3LJ5pJ7hnvMAUry32Oo2/yrMgmYZKEX0ml88lSk0g7XGmlleI45dpEmzKFLgxTkp5XECYYrh922GHuuuuuaxPniTopBIRAcyIgwqQ5x1VHJQSEwP+RHmb6CiBTp071RqtM/qOECdvhS2LpMFY9B1+P0Nvjvffec5QW3m677RxVcLp37+4JGJQj/N88UGif7ebMmeMVKIT5ovB/CJf27dtngjBJqupBlk9KVcEojI4Ik2wQJtEUnP/+n/+4KW9+WvwJUV1n1NC+7oIJs9zMDxa4AT07ulG79nWd25d8kRrxe2u0l0sj+pRGGyo7XkCdam4Q7EmUoeeeDEk3cuRId8UVV6Qx7NqnEBACQsAjIMJEJ4IQEAJNiwCTO4gPC4iBFVZYwW266aZlx4yHCd4hpMlYWPWcaFWd2bNnO5Qjm2++uTd8NQUKaS14HQwcOLDYBkoUCBaIGIJywpjDEviedOjQobhtmgoTymWSdhCqY5r2pGjhwESYFICxMrIQfxCAeQ3zMEkrJSeagrNzv25u2aWXKvMrgSwZ/9rHxSFqqURxPWOYNg719L2R39XvooAm6aRPPfWUX0QgXSbOYF+Usj711FPdRRddFOeu1LYQEAJCYLEIiDDRCSIEhEDTIhAlTKZNm+Yr00B2WBgxQnoMaTJhVKqqg2IEbxLMYF977TXHAxUlFll169ixoy+DaBGWIEa5YoaxfI5CZcUVVyxuC2FCGhDbJW36Ci6dOnVaxNulaU+MCgeW5INAlnHVg2FhdNImCqpJwalmm9aea6Zwmf7+PLfasl+78/fc0PVebeXWNtfmvyflVWEIkySWSYPCT+qss85y5557bps/h3QAQkAItF0ERJi03bFTz4WAEFgCAlHC5JlnnnF4hGy55ZbFb1qaDMqT7373u2UtVqqqM3fuXF/9BtM7/Ez4Dt9l1Y0Um1C9EpYgZr8QLR9//LGXNeN7AklhkSZhQnUYjiHq7ZKnEwyyCgVSElLzLONqqQdSmHziPYqyojCppB6J0wh2EYXLOl3c5fuXez9l+TxudN9khlxANMnyyqSDUXnu/PPPd6NGjWr0kKo9ISAEhEDVCIgwqRoqbSgEhEBbQyBKmDz33HM+RWfrrbcuHoqlyZAeQ5pMGJWq6kB4vPjiiz5dgQoS+JOgCKmkXjFFCdsss8wyjtQXFC2QNFtttVVZ9Y00CRO8WDC7DdOJ2tpY19vfJHPz6+1rnN9vrVdDpbK3jfbTiPO4o22nrTDxeC6hZHA127QWs6h6pWen5dzEkVu1trk2/z1VCyoMYZLllalAR5W6iy++2J188slt/hzSAQgBIdB2ERBh0nbHTj0XAkJgCQhECZMXXnjBS4q33Xbb4jcpDcyL9BjSZMKoVFWHVS+8S/4/e2cCJkV1tf8zwyzswz6sirLLoiiixl0R3PXTzyVRExPNajRRoyaaRI1RE5O4JyYuMRqTf/RzS1xYFAFRFBFEQQUERNkFBIZlWGf+z+92bs/tovfpqu6eOud55hG7b9269d7qWt77nvfQHt8TS76g0oA4cdUrtgTxcccdZ1KBUKxQpQfSZeTIkTFVJ/JJmEAkMT43nShsJxf4YwrMiiZ/YY1sCRM/1Q6ZzEWuiJvGECa5GkMmx52obbZj8c7nCf3byZ3nhFdhoua3kTPMllcmJZUKNn4G909I/HvvvdcYv2ooAoqAIpAvBJQwyRfyul9FQBHwHQFegiFNbMyaNUu2bNkSoyQhvQYCg3Qar8IkXlUdpNkoMiBLqquro2ks8dQrS5YskXnz5gnlinH8x+fEpvKMGDHCGNrZyCdhApFEyhDpB2GNIMtlFjLG2ZZP9dNPIxO8ckXcNIYwydUYMjnuRG2zHYtVr8z+fIN0q9gut529v/To3D4XQyrKPhpzPhTlAScYdLaEajYYcO9kYeHPf/6zfPe7382mC91GEVAEFIGcIKCESU5g1E4UAUWgEBHwEiZUqMG8DwLDBr4V+FdAGLif8z3fkarjEgmYYuKFQgwYMCCqRoinXvn888+NMSw+J6zMQdgMGjRIqJ5jzWLtOHhhx3g0H6avpBiRKgSJE9bg+FEUQWj16dMnrDBItoRJti/mmQCdjloiEXGTzrbuWBrzglwo5BHHfMJ906V2Z1300Hq2ay5jLxuZNux4NlEeHaNsTK3DGpDqVEfDo4rS9GGNIE2h8fxiEePRRx+Viy++OKyQ63ErAopAASCghEkBTIIOQRFQBPxBwEuYYOKItNpWw+F70mRIr4E08VbJwXOE6jkukcALJZ8TPDzb0qvx1CvLli2TuXPnmlSfL774QhYsWGC2gaA44IADYiTN+SRMUNmgxHGrB/kzI4Xd62uvvWZKZVIyM6yRreTeTz8NOxfpkDKJ2ng/79a2Uv7v0gMlkc9KYwiTdMYZxPnlHQf7zLT0MB5PkL6s9LtVvYIYfyHtg+s313LuBa5ZdyGNMYixBGl+S+rr8ccfL//85z/lq1/9ahCHp/tQBBQBRSAuAkqY6ImhCCgCTRYBL2HCAy8vAJiwEsiLMWtt3769WVm3n1tA4lXVIaUH5Qlx9NFHm1QeAvUKq298ZgPTOkgaKuJQUYeHbh646ZeKNN27d4+2tYQJH6B2CTIYO+oWXorCHChMevbsKf369QstDNkSJkEAlo5yIxFx492W8bYoL5Vj+nWUG06MEGS3jlsoc1ZskqHd28j3R3aQT+d/mJWiIBvyKFMFTDp4e4+Z433l8kMSkkTx+lTCJIKKxSHsSpsgzW+pPHfyySfLM888I2eddVY6p7y2UQQUAUXAFwSUMPEFVu1UEVAECgEBL2FCKszSpUtl9OjRZnjLly83MmvM6yAz7Od27HiVQGS4VXUoq4i3CaTGCSecYFJoCK96xT5kQ0ZQEYd903bIkCGmBDH/5eXcBvtB5UJqSNCECWOn+gHjDHNMnjzZkFj9+/cPLQwQgpz3pI5169atoHBojHIjntrCHhyqC6kXGfvRmujxHte3rZzR+cusCBPbSSYkSGOOLdEk5aLPlStXmmsXZtakJ4Y1FIfIzDdGeZXpuYPi78wzz5QXX3xRTjnllEw31/aKgCKgCOQMASVMcgaldqQIKAKFhoAlIey45s+fLzjvjxkzxpAX9v+tEav93LZHEgyJgULEBlV2UCJQhtf1PEG9Qr4/EmIbkDCk6qDcIA2HF9B9993XmL8OHjxYevXqFW2bT8IE0ghlgUsMFdpcBjEeiDDIM7xpwhqFTJhko9xwyYtzHp4lK2u27zG1+HoQyzZsi37XvW25XDe4NiPCxEuQ7NxdJ6/OXxftM1k6TC7UIN4Dawxeti8lCiJIoBbEhBRSuWXLlmG9PBiD9KC8XMaNGyfnnnuuSZv1qj9DOwF64IqAIpAXBJQwyQvsulNFQBEIAgEvYfLJJ5/IokWLjJIEFQdGrShGeEl2P7djg+RAeeFWzyF1hZUv8thdIoU8fxQrqE5ssBrHPiiNiIHdwIEDzb5QMrCCD1FjI5+ECaaOmOG65ZaDmJ9C2wdEVpcuXcw8hTUKmTBp7JxYAmHygnUxRqjxFCbNy0pkv6rd8uv/GSq9qjumtWuvooMUmHQNV3PhN5LWIDNspERBBDCu7RDskMo2DTNDKJtE8yBNgP/973/LRRddZBYYvBXsmgSYehCKgCJQNAgoYVI0U6UDVQQUgUwR8BImkCKQJqxWlZWVGeKCigeQH+7ndj+YoeJz4vqSQKDwANexY8cYk1Rk61TFQaVig3xvyg3jiUH/tsIChItbYYf2+SRMIHsYK+a0YQ68aSj1DJkV1uD8fvvttw1p5HrsFCMeiVJi4ikvOL5bxy8UL5kyql87uevcYWkdfjyViEuYJFOY5KKiTVqDzLCRJQrCrqzAwBvTbkhy1IVhjSAVR0899ZRceumlJkUw7P5aYT3f9LgVgUJBQAmTQpkJHYcioAjkHAEvYUI6DquExx13nEnJmThxoqmI0qxZs+jnFRUV0XGgCoFIcKvnIElGeVJdXS3Dhw+PtvWm+/AFqg1ePnv06GFWKCFeysvL5dVXXzUkilu+Np+ECWQPx0X54zAH3jIdOnSQ/fbbL7QwNAXCxBIlkz/ZU0lyx5nJyTAv6dG9bYWMvzw9bx+vSmTUgI5SXlYqc5ZvkqE92sgNY/ruYbjqkjq76+pjUoYyrWjjx0mryooIqnhfQXqjwqNyWlgjSMXRE088IT/4wQ+MoToqTQ1FQBFQBPKFgBIm+UJe96sIKAK+I+AlTKhUAzkAcbFt2zazckV5X3xJ+BxPEnf1kFxtfEhcX5IlS5aYXHZIkKFDh0aPwab7kJIDAUPYKjy8hFNBB2ULpq4TJkwwZIlbjYWxUtqX/wZt+grZQxUIV0nj++QU4A4gTKiYhL9MWIMUNao4oYDiHC/GSGTwilfJ2MuSV4Lag/SIozDJRLmSqGyxxfXHT38oEx2fk+q2FVJeWpqQYAl6PlRZEUEc9eDChQuNCs8l1YOej3zvL8jz4ZFHHpErr7zS3JvDnCaZ7znX/SsCioCIEiZ6FigCikCTRQByAs8RGzzsYc5KPvS6deuEVBT+jYoEHw8UFq6hXzxfEranHyrcUOnGhk33gVxBRUJgpMpLOH3yGfnvjGn8+PGyzz77xJiL5pMwQWrOyqFrYttkT4okB/bmm2+aFC13XsOGQ1MgTOKVEGYe01Fs2HSd2Z9vkG4V2+N6mOSi+ow9r0be8UaMzwm+J+9cWzipcUG+IBfybw2ynWs89wt7fS/k8fo1tiCVNg888IBcd911xqi9d+/efh2S9qsIKAKKQEoElDBJCZE2UAQUgWJFwEuYQApQQhdZNQ9+vAygCOFz1CR83qZNm+jhxvMlIcUGtQj+Dq7CxKb7kL5jJdvW7wTFCSk8w4ZFvBAgTPbaa68Yr4x8EiasnLKCSqpSmGPatGlm/t15DRseljChtLJb9rqYcIhnvnpM/45xU2ISHVeyaiBeQiYd5Uqi/RQ6YRLkC3Ihn2MoCxcvXmxIdfyvwhpBEkd33323/PKXvzT350IrcR7W+dfjVgTCioASJmGdeT1uRSAECHgJE9JOyIdG6UFaze7du42JH0Z2+JXwOQoDG15fEvrD9wRyAwLEzat2031sFQXSfjCWJXgBpaQwQZlE0h1cr4x8EiasnDJ+yB68XcIapKK0bt061IQJ5yzEUTETJrkop5uMMMmlwuTKpz+MKT08amBHuevswkkJs4RJ2FNRIMT5I23RplyG8TppcQiCOPrtb38rt956q1GDktaqoQgoAopAvhBQwiRfyOt+FQFFwHcEvIQJfiSzZs0yjvtUwOncubNRfdjPDznkEONhYQPlBX/Wl8QSIEiyeYBzTV95sSCtB8l2q1atTBe2BDH/PvDAA03JWgLSBcLFTf3IJ2GiLwORGUc9RPqUVQL5foIW4A7w8yE1qZgJk1zAmowwyQUhY8eYy75ycdzePtS7I4II6hJUJqQtBu0x5ce8ZttnkDjccsst8rvf/U4ode6mymY7dt1OEVAEFIFsEVDCJFvkdDtFQBEoeAS8hMnatWvl3XffNcoQFCW2tK+tfHPwwQebcsE2eDjE38P6kth2pNxQipgywTaoJuFN68HElYo4hEukTJo0yezHfTFnrDt37syL6avKzSOziAkwpr9hrshgCRMMiXv16lXwv3G/BpiMMPFrn4XYryVMwu7doSq8yNlp0zeDUCP+/Oc/l3vvvdfcF8OcBlWI1wUdkyIQNgSUMAnbjOvxKgIhQ4AXQBuYu77zzjumlDAPfhAeqEzs5/b/bXtbEcf6klifEtI2IE0gWGzES+tBNUJFHNJcRo8eHU13mTJlikn9oUKPDUuYkCYUtORbV5Ejs8C5QQUMd15C9nMxFaNQmChhssYQoFwT3DQ97/mQqGJOOudNY7ZNp/9ctAnSsyIX4/WrD+4XqAjdEvN+7auQ+6UaHN5fQeBw7bXXyl//+lfBCyzoe2Ihz4GOTRFQBIJHQAmT4DHXPSoCikCACLiECWat+FRg2GqrwqAo2LBhg0nHIMWGVBkbEAlUyiFvHV8SXqBWr15t5ME8wJHCY4PPSfNx03psRRxewl1D1alTp5q0HdJ0CoEwUWPHyCzMmDHDrGS6qVYBnqoFsSvSyKjsBKmIMXGxRK7JB6/CJFH/jfEzacy2Qc2Lqs8iSEMUoCIMeyWxIEvQ/+hHP5Knn37a3J/DnAYV1G9d96MIKAKJEVDCRM8ORUARaNII8AIIcUFs2rTJrJ7jU8K/SbVB/VFTU2OMLknFcN343TLEEByQLbTnD/UIJrE2EqX1jBs3zhAsmOTZYAwoVEaMGFEQhIktHcrxWMPaJn1SJDg40rV4MHeJrLDhUKyESa7Jh8XLVsnNL86TVTuby/49q2TH7jqZOH9d9HSwJYozqZjjJV3eX14jKzY2KOAaU23Hr/NUCZMIsqRmoiKEPA9zUDmOe517P/MLj+9///vC/ROPMSVM/EJZ+1UEFIF0EFDCJB2UtI0ioAgULQIuYYJ5HOoOSAGUJVYhsnnzZrOqTjlZqtfYcMsQk4aDHwmECqVX6ZcyxDZw8keh4Kb1kHuNwSuSfpdcgZxByYD5rA1IHTxP+AtafsxxUjXo0EMPDbW53syZM810uN40RXviZzlwzll+I3369JG99947y16C3ywT4iKd0V3xr9kyaVFNtGmL8lKp3VkX/X9LbmRC1HjbdmtbKStrGggTS8KkMz7bJtfKGu++1RA6ggjKClSEQRAFmcx/0G1RXJLCStUkv+Nb3/qWWchAAamEid9oa/+KgCKQDAElTPT8UAQUgSaNgEuYQHTgH4JCpGfPnjJ4cKR8JznSr7/+uvl/1+jSLUNMWg3bDhw40JQ5ZBuMEG2sX7/emIa61XDsZ1TUcckR0n8ICAob+SRMWDll5RACyVb4adInRYKDo4ISyiFX+RM2HIqVMMmEuEhnTkff+5as3LQz2tRLmFhyI5MqN15Sp3vbStm/V1uZs3yTDO3RRm4Y01eqWpSnM7xom1wftxIm8eHn+ohpuHvNz2iimkjjuXPnCqmt7mKBX4d24YUXygcffGAqFIW53L1f+Gq/ioAikD4CSpikj5W2VAQUgSJEwCVM8DOhQg2x3377RT0abLlgyJDevXtHj9ItN4zyAwUCL9OseJHG48qzrT8KhqFdu3Y1fdiUHoxlXdUC5qKYu7qqk3wSJqycUhIZE9s2bdoU4SznZsh40DDPrplvbnounl44fsjDfffdN+a3UOhHkAlxkc6xXPGv92TSok3RpqMGdpTyZqUpyQ1X8TGgupWUiMi81VtkaPc2snN3nbwaJ60nnfEkapNrZY13P0GWkW0MDn5vG6Sywu9jaUz/+HihyHTvXY3pL9m255xzjqBwQv2ohIlfKGu/ioAikA4CSpikg5K2UQQUgaJFwCVMbIoMB4PiA+UHQZvXXnstWmbYHqwtQ8wLNAQJsmxM//gvsmS3UoD1R6FUMKayBA96eABgJOsaieKVAXnjrtLlkzCBGGLlEDKIcslhjdmzZ5tzwVUDhQ2LTAkTv1NC8oX/oqUr5VcvzY94mPSqSlv94VV8uOMfNaCjlJelJl0yOWa/FSZaTjcyGxDKmI8GoazIZP6Dbvv+++8LCwyu4blfYzjjjDOMqod9KmHiF8raryKgCKSDgBIm6aCkbRQBRaBoEYAkIc2CsGV++TdVa0izIXhJxJ+EyiD82bDlhkmzQYXBH0axPDzbf9u21h9lyJAhJt2HgBghfQeFiWskSuoH7V15dz4JEx5KkT4zxnbt2hXtXDd24EG+DDR2rH5tnylh4vcLu1/HmarfbElEr+LD3Y8fpq65VtZ4cVHCJIIIhDKk+Ve+8pVUp06T/h4VHvfUIEjlE0880SwscB/1M5544gnj28R+mGdI8+eee07OPPNMP3erfSsCikARIaCESRFNlg5VEVAEMkfAJUxsmV9MVU844YRoZ5ZIIQ2hf//+0c9tuWHSbJAGs8qF7wjybEpMun1YfxQ31QfPE/YPCeH6YqBkIIXHTelhbOTJQ9JgcGer8QTxX8gbSiiTjkRKTq73CaDFsEIIaYQ3jestk/kZV9xbkCrGebvPPvuYv1Thd0pIqv3n+nurmJm9dIN0q9gut541THp2iSjR0olkCpNsTF3T2aefbRYuXGiuDW5ZdD/3V6h9B5mKUqgYMK4gfZ7sogZV5fwM7nufffaZWdjADJ6UWyVM/ERc+1YEig8BJUyKb850xIqAIpABAi5hwmaUKeShiNQaN8aPH2+qguBjYsOWG6Z6DiQJFXJQkEBs8BIxZsyYaFvrj2J9UKxqhfLBGKm6K3K8mKM8cVN6IG1eeeUVU26Y8UGgNOYvA4gCaZqMhGEAfJ+IKLLfx2vjfuf93vudHYPdj/d7SDDk5gMGDDCYxBuzrdaQ6HhSfV/oxFGmhEmhKkyySRVim3MenhVTueaYPlXSorJC5qzYZHxIbjgxuTGrq/gYWN1KMDGZt2pL1qaugfw4k+xECZMIOEqmRnBAhcE1zO9KYtz7qMTTqVMnky7rZ6AuZaFkr732kptuukluvvlmJUz8BFz7VgSKEAElTIpw0nTIioAikD4C8VJyUFF4c9EhKygpjELEhi03zMPUggULDJnCahQeJihOddy/9wAAIABJREFUIEzsC7D1R6EtShVrAgtZUl5eHqNaQPabKKWnX79+MZV60j/S2JaZkC0QQ5BApCNRAjmTbfPRliNlv5BM3v3b79zPs8XQr+1yreDJZX8cM+c3Lyp476Tqe9P23XLnlOXy0eotMrhrK7nmuL1NpZdU2/lNHCUjchKRKfHUIYmq4/h1bhRav5988okxr3bJ3UIbYxDj0XS9CMozZsyQsrKyGE8uP/Dn+o1PCosYLHIEFUqYBIW07kcRKC4ElDAprvnS0SoCikCGCLiEiTVmJUXGm3YxceJE84KIgsSGLTdMqWFkupi/duzYUXiJILeflBzSewhW5iFdrA/KihUrzKqkJSDc3Pd4KT0QKOSH77///mYfQQbkDhWAUNIgS25KkYpQcUkX5pVzhBQsu539Ph4Rk+w7l9CJt22+iKZCmtt0SJVs2/zolfWyekvEu4iobtVMHjiliyFy7nxrvUz9vDb63dG9W8q1R3aRS55bJqs274qBqHlZiWzbVR/9rHvbcvnn1/qnRQilO/ZCmhPvWPhNoLzyKvIKecx+jE0NoSOoTp8+3SgguU/5GVwfuQ5zT/r3v//t565i+lbCJDCodUeKQFEhoIRJUU2XDlYRUAQyRYDUGMgMwpIYEBLe0rGUG+ZzqtzYsOWGIRHWrFljVllJmYEs4UUCA1jUI4T1R7E+KChSKMlJn6TrIC+2ES+lB8UKK/sQOS1btsz0MBvVHpKAlcPBgwcb0iisgZnv+vXrY+aqqWDB+WnP02RkDb8Vyl6TfoZ5cT6InVzs8+EPd8u7axpmr7K0XgZ3qJdz9qmT33/QTNZtp+BvJDpW1ssvD9wtjy0olVnrSqOft6+ol16t6uWD9Q2fHdixTr7Rv4GIycX5kS6xko92mN/i5TRo0KBGkUTglMybie/9Vh01Zq605HgEvbffftvcn9z7ZGNwTbQt1wDUniw0PPXUU37sIm6fSpgEBrXuSBEoKgSUMCmq6dLBKgKKQKYIuISJTaXp0qVLTNUa+sToEjUIq1o2bLlhSu1i6ooJHQ/1ltywBIpt7/qgYI4HEUH6D6k9Rx11VLTfeCk9pOmsWrVKDjvssCgJk+mxZtue8fGSzANq165ds+2m6LdD+YPprktuFf1BZXgAvKhAHiKF79OnT4ZbNzTPxkMk653F2dB6iUxesE5qdzYQHBivwh2N+6iBTTlxUEe59dR+wja/ffVTmbtyi/RtXyYndt5o0vD+NH2dfLhqi+xX3VKuOqq7tK5sZoikmm275K7XV8jHX9TKwC7N5YqvVEvritKiIZlyiXcu+kpECNG313/I/r/7Xbw2yb6P912iMaAwZM4xQg6CuMoFnn70MW3aNFN63lVi+rEfsEatSdrr3//+dz92EbdPJUwCg1p3pAgUFQJKmBTVdOlgFQFFIFMEXMKEtBNK6KL6cKvW0CdlBfEbccv/2jQbVCWsqpFTTWD4yss1VW5atGgRHZLrg/L666+b/kjZYYXWlbTblJ7Ro0ebVVeClTsrQ7ZpPpkea7btST1i/7wcdu/ePdtuin47lD+cH26556I/qAwPIFeESaGYwcar4vOvbw2XW8cvlDnLNyU0Y01UVtglgnbX1ccYxBZbFZx0lDyo5FDXcb1Mp306bTgl4/kPeVVQqTyKvN/Tr3f/qdLmbPsMfya+Nw+ClMlmH6grua/h95XN9sm2QYlJoNrkHohf2DnnnCMPP/xwSryvvvpqo+RMN+6//34lTNIFS9spAoqAKGGiJ4EioAg0aQRcwmTy5MnC/7NC5latAQBKF1ZUVMSk6tg0Gx7ySE8gZYXABBFFCC/WPDzasD4oKDUmTJhgViN5iPNWxLEpPaNGjTIGeuyHSgCk/rCqxsNikPJ01DNvvfWWqQ7Dg3BYY968ecKLsqsGCiMWnItUjOBczDYKpdxwtsQN58E7s+fKxA2dZN6abdEKObeOWyhjHXWKi0/Pds1l7GUjs4WsILcLw28inXQ1TF8ht7m2p0MKFWubfJ6EDzzwgKDStGHJFRYsuE/aP+6P/Bt/k5dfftk0b926tWzZsiXt4ds5926gCpO0IdSGikCoEFDCJFTTrQerCIQPAUuY2DK/GNbx5zV9hTDggdiqSCxS1qGfHH7SFAjrhUKlHVJubFgfFIgSCBhky6hLvBVxbEoPKT6QNLYkMS+oEBZu2dsgZoz9M95cVegJYsx+7INUKdKiUA6FOXJBmGRLVOQ6lcct8zu0Rxu5YUzyssB23iFMrnn2oxhPExQkqFKWbdgW9/QoNoVJOud4GAiTdHAgZZFrtZuymc52xdYmFdGDEhFiH/VHqraZfk9aLD5SKDsxa+f/MWgnRZL7t/cPUvf222/PKcRKmOQUTu1MEWgyCChh0mSmUg9EEVAE4iFgCRPMPHH4ZyUKQsKtWsN2fId8Gw8RN1CK8LmtkMN3vFRTNYG2+J7YQMHCAx7GqaxIQspArlBlgoo6Nj777DNTxpc0HcgbfDN4IKfyANsHTZjg1fLGG28YRQEPoWENjHqZr7BXBIH4Q1EFgZZtZEtUZEu02HHminCBMDn38Y9jzGFRkAzt3iZGYdKtqlKalZQkTO3J9biynY9st9M0tQhyQVWHyXaegtqOexxpm/379/d1l5D4EDPXXXed/OY3v/F1X27nSpgEBrXuSBEoKgSUMCmq6dLBKgKKQKYIsFoFaYJpH6tX7du3N6tXXmNPqsRAHKAaiUeYuAavvExh6ooahf5s4FsCIUPKz8KFC4WUG/4LQYJ5nQ3rgULqB94odmyQOORvB02YgAceLlT4YeUwrIG3DOlWzHWYIxeESbb4NTaVp7GEix13IoUJCpVU/ifxjj1X48oW12y3w6uJlMIw+/qAXVDVYbKdp6C2y4X6LJ2x1tTUGNL2l7/8pdx8883pbJKTNkqY5ARG7UQRaHIIKGHS5KZUD0gRUARcBCxhYkv5smrlrVpDewgQcqC9LwYoTAgMWm1ggoiBrKs64TtUGihGyK9G0cKLty0vDGFifUmsBwqkDQSLHRspOpA7QRMmYIT8mVQi/sIakFuQWcxDmINVZFLDGqMwyRa/xhILjSVcXMJkyrtz5S8LW8jaLbukS+sKeeTCYdKrfYPJcybHmKtxZbLPXLTVylERFEnZ5FqNb0ZYA6Ul14bGVtBKBz/MtyHwb731Vrn++uvT2STrNpjKcu8mUI6iDuXebdWWl156aagrp2UNrG6oCDQhBJQwaUKTqYeiCCgCeyJgCRNSXlBS8NBLCoxXRcCD0saNG/fwr8CEDgLk+OOPj3bOiiuKlIMOOsjIhm1QcpG2KFUwqoNQ4SWcP1JybPUbrwfKu+++K9u2bTMpPmwbNGES5INwIZ+jmPGiBuLcCNJ0t9AwyUR2n6sUGItBtqk8dvvGEi62H3yH6GvWukgVK6IxHiW5GlfQ5wqqPHyYvMq7oMeR7/0FVU4338eZbP9BEuukseIb9vvf/16ogONnXHzxxfLYY48l3MWjjz4qtNFQBBSB8CKghEl4516PXBEIBQKWMEFKTDlhSAuvCStAfPDBB3tUs7FVcigd7BqB8gKBRHv48OHGr8SGLQ2MnJjVKR74KMuJygTChXQbwuuBgrqDNJ5hw4YZUsdWBwhqgmwp2cZWRglqvH7th7lasmSJ8TCx5Z792lch9mvJjxmLv5ABnVvIb88ZLlUtIudsoig0IqCxhIs9Tq4R5/19XoyHSbPSEjm2XwepF5H5q7dEK+ekwog+czWuoM8bJUwiiGOKjb+UrZQW9DwUwv6CTN3kWozB7n333Sc//OEPC+HwdQyKgCIQYgSUMAnx5OuhKwJhQAD1BCk4+DJgVIeSw2vCCg6UCfYSKVu3bhV8SSgd7KbqQIiw4ohJa7du3aIwomLBrI7UHspPQkDwAk6liUQeKBAlr7zyipEf9+nTJy+ECQeQT9+KQjkPqV7EH+SYVQMVytiCGEc25EexppqkwjOewiTeNo1RnaQaQyF8z3WR653XJLsQxhbkGEjZ6NChg7muhzWCNAcnTRWPsAcffFC+/e1vhxVyPW5FQBEoEASUMCmQidBhKAKKgD8IQJig6CCF5sADDzTpOF4TVvZMrr6XSLHmrpQOdiXpEDA8QJPPjteDDVJr+A5SZuTIkeYB21bE4SUcpQpBfjZtSdlBdQL5groEtUo+FCaMCZVL165dZcCAAf5MRBH0agkTzHhJrQpbZEN+ZEOy5BrXXKcFMT4Ikxnvfyivbewsry3cILvr0JXsGS3KS6Vjq4qM1Ca5Pn4/+1PCJIIuptidOnUyqsGwBvc17lUsPGDI6meQIst1mFSZr3/9637uSvtWBBQBRSAlAkqYpIRIGygCikAxIwBhQvUTVB6QFlSkQe7rmrByfHzvJVLwtGBbL2FilSfIs3v16hWFB+NYzF4hPTAOraioiFbAQaGCUoWwZYTxQMHkFZM5/EvwV8kXYYKSpkuXLjJw4MBinu5GjR01EOcGc2XTpxrVYZFtnA35EWSqSSJiJJtxe6fG2/d3DqqSzxfOM6TmLa8uiyklnGham6LaZM6cOYYE9pZbL7JTu9HD1eujSG1trTG/hVR3FwoaDW6cDlBrUmXuX//6l5x33nl+7EL7VAQUAUUgbQSUMEkbKm2oCCgCxYgAhMl7770nK1euNA9gkCBeE1aOy1azoRqO9a+AyECdAmHiStJZacMYk9VGKgbYYFUMVQrqBFtpBdUKLx0oVOiHcD1QkLszJsbGfiFMiKBNR1lBxeMlzJJzKuRwblC9CLIrbGHJjxmL1siAzpXy23MOTOlh4mLkh9LD7T8RMZKNMsY7t96+j+3TRs7sst4QJnVlzaOlhAd2bSWYmMxbvUXWbdkhtTvrol31bNdcxl42skmdNly7SDE89NBDm9RxZXowqsATcx5Mnz7d3PfcVNRMsUynPfejU045RZ599ln5n//5n3Q20TaKgCKgCPiGgBImvkGrHSsCikAhIABhwuogBAQP/daE1SpA7BhtNRuIC5uOgdEf5AgVb3iJtkEuNyayrLS5ZXgxjoWYwRyQ/GuC/7cKkqqqKvOZ64GC9B8CBaNRxkrfQZu+MiY1NRRTUpjzAHKLOQ9rZJt+kErpkS2hYrebMG9tTGqMJShS7Zd5TLVvL+nSrU25/HRIrSFMLNGZimRpigoTrmko6sJOmGRSOaqpXjc2bdpkUlsh1Unf9DMmTpxoiJKXXnpJTj75ZD93pX0rAoqAIpASASVMUkKkDRQBRaCYEaBKztixY82K2JAhQ6ImrBAUzZs3jx6al0ihcgxmrPbF2a2SQxrNq6++Kv369TNGrTZYjUVRQpqOraYAIYLCBQKlffv2pikPnhAUeKCQBoKawaxk55EwITedF0PGFNYgXYsULCVMsvNrSKT0sGTF5E/WxSgy0iUYvISIPT/t9umkBaUiVZIpTBIRJunst9h/S5C9kMaWAC7248l2/Jhic13v27dvtl0U/XYQ/XhvcR8lfdPPePnll+X8888391kqzGkoAoqAIpBPBJQwySf6um9FQBHwHQHy71mtsukzvBRTKhNDuZYtW0b3b6vZWCIF+TEr7VSxofINVW5sQGxMmDDBkCWQJjZYjV2xYkVMqs6aNWtk5syZhhAh5YWwfbNSh3cKBnr82xImtAm6rC0lkcED89mwxrJly0xqFn4N1qC3kLFIpZrIduzZpmclIiUSER7pprB4iRjK+44e1EluGNM37ZShVGk7XvLjOwc2eJgkIkyyxbeYtlPCRMSWXSf90iXIi2keczFWlJD4dHGPwADXz3juuefkG9/4hrkHu+pOP/epfSsCioAikAgBJUz03FAEFIEmjQApMRjIWcLCeorwEIbJqg3SMaiUY4kUqwzhwXDjxo0xq1w8QI8fP96k47hVZXiYxMNkxIgR0QfKdevWGRmz+xnmeeTEs1pJCogtQQxhgocJ/QdNmJCbjuKGUslhDc6N+fPnFw1hkko1ke08JiuhmoykSaS48JIVdlwxCpFxC2XOik1xq83k4jgz7YPfP8RqspScbPEtpu3wZSJNkKpfYQ2uy6Tk9O7d25R/D2tgaI5aknuEJf/9wuLJJ5805YTtvduv/Wi/ioAioAikg4ASJumgpG0UAUWgaBHgBRgVh/UssZ4imLiiHrHhJVJshZzu3bubEqMnnHBCDAYoTJBou2UmebijAo5bQpiHTMgIShpbGTOKFSTeKEtQNVgyJ5+ECaQO3i3Dhw8v2rlu7MBRB3Gu4Nfgqo8a269f26dSTSTabyplSjLCJFPigTF4t6EU7zH9O0YVIqn6zEXqS6Z9KGESOXuUMBEhrROCG4Lc9azy63ddqP1C/qM44h5h00v9Guvf//53ueyyy8z+wqx69Atf7VcRUAQyQ0AJk8zw0taKgCJQZAiQc01ajK1aY5UjvBRjzmrDS6TwoMYDIt4nqE8oQ+wGudV8Z71K+A4fEPK8XeNY1CmUYjzggAOiRnmoSEgTQr2ydu1aY/iKuiOfhAk4oWqB2AlrcA58/PHHxq/BloAuZCxSEQ2Jxp5qu2QGwNmQNKnIimz69HteqI6F4izsChMUBXg2gUNYg+PHOBx1CSqTsAb3KtJOuUe4904/8Hj44YflqquuMgS2q+L0Y1/apyKgCCgCqRBQwiQVQvq9IqAIFDUCEBiYrNqc63ieIhygl0jhpbG8vFyobPPpp58awsQt9UuVnM6dO8eYpCLbxiARkzq2JazBK6tkqFUIViwxlEXhQgUK2tN3PgkTfFZIBSJ1KKxhX5JJP3DTtQoVj1RERKJxpyIokhEmqciWbLBqTJ+p1DLZjIdtiu1cyPY4U21HmiHXpTBfFyC48dLAv8QtI58Ku6b2Pemmc+fONeeCq8704zj/9Kc/yU9/+lNjih5mzP3AVvtUBBSBzBFQwiRzzHQLRUARKDIESIGxYT1FDjroIEN42LBECi/LyI0hNEiZgfggPYeUnGbNmkXbQ47Qznp+2Ko6vFxgEGur61iDVyoL0B9hPVBQldAOk1Ein4SJriRHSLMw+FakIihQSvFCxDnrjWxJmrj9/Ne3ZGB1K/P1vNVbZGiPNhmZuaY6lkwuVS750rdDuYzpuF6O+UpxkGeZHGcmbZUwEePhQpoanlN77bVXJvA1qbZBkoh33XWX3HjjjYLqz+8Sxk1qkvRgFAFFwBcElDDxBVbtVBFQBAoJAZcwwemfijDkYVdXV8clUvCvYEURM1bk2FROcVUjbIREm+oZ1vMDZQkkCuF6mKAgoa01drU7xDQWVQkPgzZHG8KE/fHfoE1ftRqGGMPeoFZQ8/n7SEV6JCNMcjXuXBEdY+6fLis2NhCi3asqZfwPD8lqmN4xHdixTv544YiiUBtldcBpbITyjIBgDmtw/0B1RUU0fKvCGkGmLP7mN7+R2267zXiC+e2XEtb51ONWBBSB9BFQwiR9rLSlIqAIFCkCrBCi6iBI0eGFEGUIHiQ2XHNW2qK4wMsCDxLyqF3VCNuw4kjpWfsiYZUrfHfkkUdGPTAskTJw4MCY/HdMYyFG+vfvH628kE/ChNx0yB28XcIaqIzmzJlj5pRUrLBGEISJNy0II9hXLj8k7TLBdm5G3zddVtY0ECbdqiplQpaEiXdMHSvr5cXvHaSEScgJE67h/Ca4VluVYBivDUFWEfvVr34lv//97809qRhKvIfxfNBjVgTChIASJmGabT1WRSCkCLiEyebNmw3ZMXToUOnRo0cUEWvOCpHCQ9onn3xiVCWsqmH+6KpG2IgHaNJ1rBniZ599ZgxDicMPP9yoTwj2jd+JS4zwOSk/eJm4Spd8EiYQBfitUD0orBGkqWEhY4xJMR4u/Eb8iiuf/lBenb8upvt0ywy7G425b7qscAiT7m0rZfzl2SlMvGMa1r5O/vL1cCtM1AxahDLw/CYwH3XvGX79Ngq1Xyq6obbkHkE6qZ9xww03yH333Sf4x1C9TUMRUAQUgXwioIRJPtHXfSsCikAgCLiEiU2RobqNK6+25qy8JKI0QHGCqoSHRNI0XNUIgyath5QaVCgE3heswEF64EliFQqk2FBRh/x3/mxYwuSII46IrmDnkzBh/KQrQfaENYIsm1koGMczTf1o9ru+EyY/fvpDmeghTHq2ay5jLxu5RxliS6TEwyxXqT307R3T/h3q5M8XKWES9upZ3DO43qMStMbdhfL7DXIcVItbuHChcM+qqKjwddfXXHON/O1vfxM8wFzvMF93qp0rAoqAIpAAASVM9NRQBBSBJo+AS5gkSpFxiRTUIpixoh5ZsWKFKaXoqkYA7J133jEKEWvYyv+zEskfJIrNu4YEIf2GkpSoTLyEyejRo6N+JaQCsaKWDw8TVDTki/MwHNbg+GfPnm1KQHfo0KHJwJCskkw8wuGsrhsFHx/rreMHEN70F/ZhiZFUVXzc8aTyY8lk7JqSsydaM2bMMCv81qspEzybSlte2qdPny6DBg2KSeNsKseX7nFQsWbx4sVm8cBWgUt320zbXXHFFfLss8+ahYug/bwyHau2VwQUgaaPgBImTX+O9QgVgdAj4BImNkUGefU+++wTxcYlUubPn2+qIfCATGUAXqJd1QgbIVXHDNAqMki7IY2Bl26Ilo4dO0b7HjdunPEvYYXSBiQKChWq79jIJ2FCOhHKmqOOOiq05wsP53jXkJblzl+xA5JMhRGPnLjxoDrfCRPvmEpEpHl5qRy+b3sDt5uuk0xhksu5UdPXPdGECOblOMyECWmc4IBxd5grtnz66afCH+mpfqs+vve975mFBiqXKWGSy6uc9qUIKALZIKCESTao6TaKgCJQVAhY1QaDTpQiY4kUiA1W0mzKDpVTKK3pqkboh89YeWS1zW6LISApPN6SxTz4kf4DAWODKjm8iBx33HF7ECYoV/x+IPVOICQR5BAPw2ENS5gMGjRMunXr1GRgSKbY8Pp2jBrYUc7vudl4FHTYq79c8sQH8sXmHdKpVblQ/nfR2loZ2r2N3HBi34wNWl1ArTJk8oJ1UruzLgbrUQM6SnlZqcxZvinjMsONmTRXrdKvQ7mM1rLChigg/QLVVViDdE2UNpTZ7tKlS1hhkEWLFgnqS1JVIfv9jG9+85smDWrp0qW+78vP49C+FQFFoGkgoIRJ05hHPQpFQBFIgoBLmCRKkbFECiuIEAeWIMEIFDWJVzWC6gSjWAgGW2GHlBtM8bwli/EwoSIPJAwBIYKHCe7/LkFhFSb5IEwwuYXs4WE4rMF8PvXUQrn77sPlscd2yIgRsS/yxYpLMoWJ17cDsuL8Xptld2ml/Oi1zbJtV3wMcqX6iJeaY71M8ok31wDS1EaOHBnqKjmkokCeoboKa3BdoLwy/ladO3cOKwzGvwQfE5fk9wuMCy64wHiHQdL4Tc74dQzaryKgCDQdBJQwaTpzqUeiCCgCCRBwCROaoO7Ye++9Y1JkLJGC9wgECBVyUICQYsMqq1c1gq8JJqEQDKyCYZoKUWJTOtySxaTr8KBtq45Yg1l8ItwUmHwSJvZhOIjVw0I9UWfM2CpnntlONm2qlDZt6uWZZ2rl0EN3F+pw0x5XMp+PeOqTmw8WeejD3fL2ip0J95ErUsNL5rBDLxmTzIMlbRAybKiESQQwJUzEmGGjKMTTp1OnpqM8y/AnYRYD8PQ65phjMt004/b/+7//a8gZSEslTDKGTzdQBBSBHCOghEmOAdXuFAFFoPAQ8BImqDsoD0lOug3ICoiUVq1ambQdq7TgYRlpMJJ0N3+d1S/yqyFW8P/g4Y5yi2+++eYeJYsnT55sTGDtKi2lit9//32zL1J63DGwb/6CTsmxcmsehsOaM75o0WY544xW8vnnbc2UtGpVL08+WStHHVX8pEmiX2U89clJnWvkmqnbZXuSw86mBHC8MUCG3PTSAnlz8Xrz9eF92stNJ/ePSffxjrFb20ppVlpiUoMuP6a33Dd5icxZsSknqUJ2jEqYRJDg2ue3AXDh3TFiR9RUvY0yxT3ItM3TTz/dLFag5FTCJNOZ0vaKgCKQawSUMMk1otqfIqAIFBwCXsJk4sSJUl1dbXLS3cBrBKKibdu2JgWHqKmpkWnTppnVRbekJCtflBHGtJX8dgxgDzzwQHn99dej/ie2bz5r06ZN1DgRNQd/fOaW8YW0yRdhEqShX8GdIP8dEMqfiRPfl9/85lj56KPm5tPmzevln/+slVGjmiZpEk99ctU/pss7q2NTcZqXlcoh+1TJojW1Mb4iuSzrm+i8iJe2Y9tCnqys2R7dNFepQkqYKGFiT6qmWj0r0+swCwOkqLokf6Z9pNt+zJgx5l6IulNDEVAEFIF8I6CESb5nQPevCCgCviPAgxe+IDYmTZpkqqB4y6aiPKEd6TrWoJUKCW+88YYhVzB1tTFv3jxjgMeDHQqSdu3amRQf/s229GGD7fErIa2HYNUMM1lWbt0yvvkkTGzJSFKEKCMaxrDVMLp3Hyzf//4+MnNmMwNDRUW9PP54rZx8ctMkTbxzfdydU2VNbX304xblpfLK5YfENXnNpARwtudUvLQd2xdKk911DWPNVaqQEiYRhN966y3j4WLTCbOdw2LejtRLFIGkXNpy8cV8PNmOnbRT1DZBlJ5H4Yl3DvdODUVAEVAE8o2AEib5ngHdvyKgCPiOgJcwmTJlilGReEtlojxBjeKSI1u3bjWqEdJ3KDVsg3zuxYsXm5QctuvTp48hSfAr8ZYsRqGCH4pVrZC2gyIFYsLrYZIvhQkpRaheeBimKkYYg6pHeDZAeLVq1U3OOaeFvPVWhDwqK6uXv/51m5x55q6CgcYvb49LHnlT3lnVQA4lU20EoTDhOM95eFaMksROgl8KE9LmWFEPu+kr1y6ulV41XsH8CAIYCKoKPKtQEEKMhzVIQ0VxSeqpn8HCAcpLKhJxb9VQBBQBRSDfCChhku8Z0P0rAoqA7wh4CROv4sMOwBImhx56aPTBeNsQzpu7AAAgAElEQVS2bUY1gnqEksM2bFoNL1TIhvEnwdiVijj9+vUzBIoNVmnxBaHyDg+DKFlYPcNo1jXQy6fCBONaKuXwoFpZWen7nBTiDiDH8Gxgrkm/2rJF5PzzW8iUKRHSpLS0Xv7yl21y3nmFQZr4RVZMeWuGPPHxTllWW5ayrK9N6Xl/aY2g86Da6P492qZVdjgTwserZEFZMnpQJ7n86N5y35Ql0RLE5v9z4GliCRN+s3gNhTWUMBFZs2aNzJkzxygEq6qqwnoqGNKIayT3Rz+D+yCLC/vuu6+MHTvWz11p34qAIqAIpIWAEiZpwaSNFAFFoJgR8BImXsWHlzCxFXL4fMeOHUY1QslgHuBsoC5BZYIagZVoiAZerPBBgSyBNLGBagFy5LDDDjMPnChWePCura2NKdHIgyIpQahcgjZ9xY8FUz/GSPpQGIP5gNxCIYQpMFFbK3LBBS3k1VcjpElJSb3cf/82ueii/JMmfqXDUEYbgo8V9XTDS95Qnri8WWlSM9ZMCJ9026bbLtVxKWESQQg1HKoKWxI9FW5N8XvSJ1FXjBgxwqhtwhqkJbGAAInoZ3AfZAGCv+eff97PXWnfioAioAikhYASJmnBpI0UAUWgmBHwEiaoCHDe9z74oQ6B2Bg9enT0cNmWz/v27Wv+bOD5gY8JaTqks7ANfVJpZ5999jEv3TYwhYV4gVRhtXLmzJlGjUI++KhRo6Lt8kmYUC6S42H1EG+VMAYvA5BpkGPWrwYVxK9eWCTP/KG3fPlx5ygsd965TS69NHHZ3VzjF0+Nceu4hTL2ozXRXeXK8JTzk7CeO/GOxTue95fXyIqNDear+J7U7mwwjo03tkwIn2Slkd3xZdJnsjlSwiSCjhImYqqh4d+B6gGj7rDGe++9Z4xYbWqpXzhwH0Tlh7nsk08+6ddutF9FQBFQBNJGQAmTtKHShoqAIlCsCKDa4EHPBik0fIaawg1bJQeFiQ0IFD5HXcKLtA1IEirldOjQway6WS8SCBNIFGsaS3teQFGW8ABoiRYUDLyUueRMPlNy1LNBjK8ML4iog3r16mWm2ioW6neXyNoXDpCt87tHz4HbbtsmP/xhbkgTS0C8vyx+aks85cQNY/rKreMXRtNR+P+qFuVZ/UxdAqRH853y9cGVctShIxL2Fa/Ur1utxkuYxDNjzZUaxB1krvpUwiSCKumLXOPcEuxZnWBFvJEaAEcmj/sY9yiUNn4G+0CledJJJ8njjz/u5660b0VAEVAE0kJACZO0YNJGioAiUMwIeAkTUg54OXZL+lpiBP8OHPrdgATB0JVVLxvLli0zMm28SJBp2/QF/Enwv3Al7KzMUbIWUoVteBlDwUCVnRNPPDHaZz4JE11FjaRf8YKIksga/LqKhfq6Eql9Zbismd0tOmc33rhdrr56R6N/HokqwVhlRq6UE4kG6t3/od2ayUPfOjzhcXnH071tpezfq22UvNm5q05enb8uun08hUm6qpFMwM1Vn0qYRFBXwkTM9Zq0y7D72WSTqpfJb9e25T7I/fG8886Thx56KJsudBtFQBFQBHKKgBImOYVTO1MEFIFCRMBLmMyaNUsoIetWqIHQQF0AAeIasXI8kCAoQtxVVlJYMMEj3BQcjGNx93fLcJL7TfoN/eJnwng6depkquygMMEvwgZKGF7cgy7tq3n6Yrxjpk6dGq14xJx4iYQxgzrLttcOkMcfb6gkdN112+X663cYw9Nsw0tA2H6sMiNXyolE4/Puv3OLEnntqiMTHk6q8eSKuMgWz8Zupy/JEQT5PXCtchVzjcW22La3/k5hTldkzlBmUu3NW10u1/MJYcI99JJLLpE//vGPue5e+1MEFAFFIGMElDDJGDLdQBFQBIoNAS9hMnv2bNmwYUMMMcILEsQGhqdHH310zCFCglRXV8eU1kSmTT8E5Ig1CZ00aZKRsGNYZ4MKC3iXHHfcccZAlhcQfEKotHPCCSfEGLwyVgiToE1ftXSmmLQtDHlJv7IVkeK9+LepLJef/KRSHn64gTT58Y+3y803Z0+apFKYpENAZFJ1xvsb9u7/kK7N5OFLEitM0hlPsV0n3PEqYRJBg98DfkthJkxQE2LwTTldCPWwBmQ/x+/e2/zAgntg+/bt5corr5Q777zTj11on4qAIqAIZISAEiYZwaWNFQFFoBgR8BImLoFhj4eSuosWLYpLmECCdOzYUYYNGxY9fBQZKFUIvFBsuckpU6aYFB13FQ7DQF7AULRAmOCRgUEsD+FuRR76yhdhsm7dOkMYMW4eVsMYYM/8oRjiL1nU14vccEOl3H9/A2nyve/tkN/+dntWSpOY8rwlIohV9u/ZVjLxJUml+kh0POz7xpcWyLTF602TwR1K5Bv7lcsxXxmZ9WmQjLxpDLGT9YAy3FAJkwbChNV+Nx0xQyiLvrmWXI9MIRXEWrduHaOe9GNy8QTjnPvpT38qt99+ux+70D4VAUVAEcgIASVMMoJLGysCikAxIoA/CekWNiyB4VaowWcElQWpMF4PE16iIUQOOOCAaB+0JaeboB+bQoOEHfWIW2GE/HceuqkuwCod/fBQSFUa9oVvig1e2vFXQWECqRJUkDIEBqweQg6FMThPJk+ebNQlbgnpRFhAmtxyS4X8/vcN8/etb+2QO+/cLk6WVWBQZutzsqd/SZl8Z2h5tBpGNgRHMvImW2InGyCzGTv7UcIkgjbXvq5du8ZU/cpmHop5Gwy+UQMeccQRUlHRQJAW8zFlM3ZSVrkPDhkyJJvN095m48aNxnT7xhtvlJtuuint7bShIqAIKAJ+IaCEiV/Iar+KgCJQMAh4CRNLYLgVaiA6SMmgrVslh4Pgu1atWkWNXfnsyy+/NDndPECTamODh0o+c0svzp8/Xz799FNjBAtZw4M321Nlh/Qf0oBsWIUJviZBEiakKKGYQUVDylAYwxImGPxSpSHduOOOCvn1rxtIk699baf88Y/bpFmzdHvITbtkREQy4sBLtHRpWSK3H14pI0dGFCbefqmAc0y/jnLDiZGqPPH6Pv+v78myDduiB+ZWyUlG7GRLcCRCMFtyRgmTCKJKmIgx50Z9SJUzPDzCGkEZAJO+yvX3tttuk5/97GdhhVuPWxFQBAoIASVMCmgydCiKgCLgDwJewsQSGGPGjDGkBN9j7IrcmPK/+Iq4AQmCCsQtpwjB8Pbbb0ubNm1iqu0gW4bsoKKCDZvuw4s4q5X0j2ksFXN4CIeMyTdhUlNTYxQzrB4ihw5jYDZI+hUVcqiUk0ncc0+5/OIXDf4GZ5+9Ux58cJvwfpVrEiDRuJL5ivz46Q9lolO1ZtSAjnLX/w6OS4h0bFEiNx5SIcceHjmHExnS2so38UiJHbvq0t6fW0EnW4IjESbZqm6UMIkgiuKKql9uSfVMfhdNoS2l4DHoJqUyaDPuQsIvKD8bPGMwWP/DH/4gV111VSFBoGNRBBSBkCKghElIJ14PWxEIEwJewsQSGLZCja2QQyoKyg+IFDcgQUiRsSvufGcJEwwR3fQbUm7YH74mNlidZJ8oNyBkePC2VXYobQzpkm/CBAxmzJhhVDAY3IY1IEwoaYnPTKbx5z+Xy7XXNpAmp522Ux59dJv8/KWPZexHa6LdxSuxm+m+Mm0/8o43pHZnXXQzVCLvXHuE+X+IlnMeniUra7ZHvz+ka6k8fEnk+0SGtFY1Eo+UGFjdKqas8KiBHeWusyMEzdL1tXLJEx/IF5t3SJfWFfLIhcOkV/uIyipbgiMRHtkSMEqYRBCFMMHQOpvfQ6bnaKG2Rx3IH2rAoM24CwmToNRGkFOkrd5///1y2WWXFRIEOhZFQBEIKQJKmIR04vWwFYEwIeAlTCyBYb1HbIUcVlIhMqzyxGIUjwSxpq+8TLglhCEd8EuhooINHrZRtZB6Azly4IEHiq2y4xrG0j5fKTmUWSbFiGoY3bp1C9PpEXOsECbMabYr6o8+Wi4//nGl1NdH/GfGjNklNYdPlRVbtkb346anBAX0Abe9LrvrG/bWrERk9vVHRdUvE+atld11DQ06txB57aqjzAZWuTJ5wboY0iWZwmTO8k0JU3KC9DfJtpqPEiaRc6UxBGJQ57bf++EFHpUJZeHdEvB+77fQ+g/qXCBVlRLODz30kFx66aWFBoOORxFQBEKIgBImIZx0PWRFIGwIkGpBqV4bPPy6hqtWcYLRJw/H3lK/8UgQ8trxQqGayoABA6J9z5w5U2pra41PiXd//L9tv3r1amOySuqOW5UGwgTChVShID1MUL6QYkQ1DIijsEYuUhD+8Y8yueyy5lJXFyFNeg7eKCVjpklpeUTh4YfCJFXaz8G/nSrbdjUQIs3LSmTGdUcmVI+MrC6VRy5tOIdd4gQyZGiPNtEKPvFIiVvHLUyoqknpYTJ+oXj3EfT5CHHKNYLfp5syF/Q48r0/XpIx4Mw0RS3f487l/iHYud5j0B3kNTmXx9DYvhqTrpjpvmfPnm1UmI8//rhcdNFFmW6u7RUBRUARyDkCSpjkHFLtUBFQBAoNAS9hgo+Ia7gKcYGHBy8G8Ur9xiNBeJmCeEGJ4FZUoS/SW3jgs2H3x/+jRkHBgLEd/WIO61alyRdhAslD6hHHQ0pKWCNXsvNnnimTSy9tLrt3R0iTbgNqZK+vzpLh+7bMqFRwsnlwSRLUIW5KjZeUufLpD+OmyHjJi2alJTKyW5mc10fk+CMb0soyPR+SKTuyTZPJdAyNaW8JE1a6qXoV1qAMejaePk0JLyrkcA13zb2b0vGlcyyZVhBLp89EbVB0smjx5JNPyrnnntuYrnRbRUARUARygoASJjmBUTtRBBSBQkbAS5hgKucarmJmxyoyxEW8Ur/xSBA+QyWCugTViI33339fKNGLfNuG3R//zwtYu3btZN26dcYzBCNZtypNvggTShljbotXAcRRWINzAdNblDaNjRdeKJOLL24uO3dGSJORI3fLM89slaqqxvYc2T6RtwjfedN+IDBuenmBvLlovdn2K/u2l5tP6S/xlCAX7rvTeO1wrqaKVMoW7/a0v/GlBTJtcWQch/dpLzed3N9U2ymkUMJExKoKMq0aVUjzmIuxoEDkGu4tN5+LvoulDyrIcW3kXufe7/wYP/s59dRT5fnnn5czzjjDj11on4qAIqAIZISAEiYZwaWNFQFFoBgR8BImruEqq8dUyOEhEI8RlCeoQ9xVZUgQzGDdB2ZKLOL7AcHglqCdM2eOUY+4q5F2f2BHyWJKU0KqsJKGn4lblSZfhAkpSxwT0ntWlMMalJCGwMLLJRcxblwzueiiFrJ9e4Q0GT58tzz33Fbp0KHxvSeqXkPP8dJ+4ik7bhjTV271pMB8vnCebNmyJUqYJCNFMlWLZNq+8Shl14MSJkqY2DMH1SHng0uCZ3dWFe9WpIlybeReB4HmZ7z66qty1llnydixY+XEE0/0c1fatyKgCCgCaSGghElaMGkjRUARKGYEvISJa7hKTvq0adNMqgztUJ7gP0KJYRuQIJi8QnYQtINkQabMA6RbQeLDDz8UDCMxlLVh9wdRYvvYuHGjSYGhGkDXrl2jbfNFmNgVRNKLevfuXczT3aixQxp16NDBlLXMVUya1EzOP7+F1NZGSJMhQ3bLf/5TK506OS6sWezMm2ZDF6TUjB7UKW7aT6oKNJYYmblknezdul7uuvBQo/xIRnKk6tN7WJm2zwKWnGyihImY6xuePlwP3LTDnABcRJ1g2I2a0E2zLKLh52SoQSoQX3rpJfnqV78qpIOFWdWTk4nTThQBRSAnCChhkhMYtRNFQBEodAR44LNhK9xg6Ih3xwcffGDKALOqzr+pcNO2bdtoe0gQXqDIqyZIV0A2THhNXzGCXbp0qVCy2Ls/+rTVc2wp42HDhsWYrPKSgtojaNNXiBr8O4KQXBfyuUJaEilTlFfOZbz5ZjM555wWsnlzhDQZODBCmnTtmj1p8uOnP5SJ89fFDDOZoWwqdUei75ORHKn69GKYaftczkEmfSlhEqnYxTUh7IQJ1/S1a9fKkUcemckp1KTabtu2zSwsBOFx9eyzz8rFF19sFI+HH354k8JRD0YRUASKEwElTIpz3nTUioAikCECLmHi+oeQamMr45BKg0O/9Rmxu+CBGdM/yg0TlnCB1CB9xU3fYDWSMsJuaWJr8Nq5c2c56KCDTB+k8/BAOGTIkBiT1XwRJnY1Oex+BbwUQGwxL7mO6dNL5eyzW0pNTYQ06dOnTl54Yav07JkdaeIlMlqUl8orlx+S0A8kVYndRMRIMpIjVZ9eDDNtn+s5cPtLlmqkhEkDYRJ2EpU0Te4TbuUzP8/LQuw7yCpq//rXv+Q73/lO1OOrEPHQMSkCikC4EFDCJFzzrUerCIQWAZcwcf1DMPND7XH00UdHK9eMHDnSpGXY8JIgECzktTdr1syoQ1w1gi1RjMKktLTUdEGKDj4omKnatlalQuqH6xliCRO2s9sHMWlBlo0M4niy3QdpUqRjkaKVi/C+lJ/WbYBccG5b2bAhQprsvXeENOndO3PSJNdqjUT9pUtyuMc6oLqVcITzVm+Rod3byA0n9i04Y9dk+ClhIqJpepErAArDDRs2hFrtAMH/zjvvmMWBbt265eLSmLCPxx57TC6//HKj9szVddjXAWvnioAi0OQRUMKkyU+xHqAioAiAAGkukAKE6x8C8UGFHJQfiSrXWBKElBxIEh7kUI0QGLa6D3WLFi0S2uNhUlZWZtpQfpjqO67fCRJn/AGoxuJ6hkCYYLDHWIMkTBjnpEmTTMljZNdhjbffftsY/pIqFS8yrQoT76X8oj6D5YwzWsjatRFCrUePCGnSt29mpIklMt5fWiNsWVIisn+PtnHJCe+4Lz+mt9w3eYnMWbEpSmgwFgxgZ34a62GS7rmQrGpPslShdPvPdbtkqUZKmChhYs83fK0oO2/TKXN9HhZDfywqUNUNwr+6utrXIT/00ENy9dVXCwsVYb4X+Qqydq4IKAIZIaCESUZwaWNFQBEoVgRcwsT6h5B2wcOw9SFJVLnGkiC2wg0qBMgM/E/at28v+++/fxQW0nF40KNKTkVFhfkcsgTShNU5W2GA8WBq5y1LnE/CBL8CDGgZU1iDykXNmzePmVMXi0xVHYleyufNK5XTT28hq1ZFSJPqakiTWhk4sC5j6NMZk7dNt7aVsrKmwdfHJTSyXVFPVrXHW+Y444PM4QaWPJr8yTqp3dmAt4uBEiZiiNugKqPkcHpz3hWm3ygs8LkKa7DIMHPmTLM4QGqpn3H//ffL9ddfL5999lmoK7b5ibH2rQgoApkhoIRJZnhpa0VAEShSBFzCBHNX+yIAGcJDIMqKRJVrrEIEx35IEMoeIksmr71NmzYyfPjwKCq2LSUoefEm8EWhUo7rV4LcnX68ZYnzSZhgZMvDcK5K6hbjqYLsnDmmelG8SKZKWLq+Vi554gP5YvMO6dK6Qh65cJhRcYz9KKJGItyX8oULS+S001rK8uUR0qRTpzpjBDtkSMNLfDqKlnQqz3jbUE1nd12DosUlNLL1bCgWhYl3nHi/HNO/Y0xlISVMlDCxv1kUhaRQ4m0V1iAladasWUZ5R9l1P+POO++Um266ydwz/Vaz+Hkc2rcioAg0HQSUMGk6c6lHoggoAkkQcAkTlCGoKSBJli9fblYOq6qqjJcJVVK8lWswfOUlEp8TjF5tKg3+Jy1atIgaubJ725YSlKR2EChSIGOQM+NjQkCMTJgwYY+yxPkkTPwoqVtsJyWyc1KpXBLMPYZkao7R902PUW10q6qU/7vkQJPmMmf5Jhnao80e5X6XLCmR009vKUuWREiT9u3r5fnnt8rw4RHSJBv1iEvKJFJTJFOYZEuYuF4nA6tbCSYm81ZtiXvc+Twv0iGYlDCJpDFyTejbt2+oV/rxnyKFkqpqYQ0WByD+IZJdfy8/8Lj99tuFPxSfVCzTUAQUAUUg3wgoYZLvGdD9KwKKQCAIuISJTYfhwY8HQetNYpUn3so1ECOk7lBWErLl3XffNSQJXiXl5eVy8MEHR4/BtqWiAuahxMSJE4283U3JwaNk/Pjxe5Qlzidh4ldJ3UAmOEc7YW5JtzrwwAPj9pjMAPWA26fGqDZQccz+WepSpMuWRZQmixZFSJO2bevlmWe2yiGH1Ek6L/fJxpRITXH50b3lvilL4hI578yeKw+886Ws2tl8D8PWdBQvqaYiF32k2key79MhoZQwaSBMUMFZorcxuBfrthAF3DMwAw9r4O8FcQSRTBqqn3HzzTfLH/7wB3OvtSpNP/enfSsCioAikAoBJUxSIaTfKwKKQJNAAMICMoKw6TCYvUJcoAYhrPLEJTb4nJcnZNmHH364MYbFkwS1CQ+QKE7clUfbFoNAytOyXwgTwutXgsKEFxE3BYYxMj7+G7TpKyV1STEKc2UCCBPm1JZ/zuTkj6cwmfDD9FalV62CNGkh8+c3M7ts3bpe/u//auXfX8xNmNJjx5aMgEiHcPEe43cfmy7TlsX3N0mHbEiFWS76SLWPZN+nU/VHCRMRKotBooadMHnvvffMNdklxhtz/hXjtpic4+XCdRE1pp9xww03CD4mkFTWON3P/WnfioAioAikQkAJk1QI6feKgCLQJBBwCRObDsPDGCoTqybgBYFKMV5ig1xqVhlJ3Vm6dKkpE0wVHNI3du/eHWMGaNuS746c2BrJAqLXr8R6obhlifNJmKSqENMkToQUB4GxISTaiBEjMj5c42Hyjw/ki007pEubCnnkgmHSq32LtPtZs6bEVM+ZOzdCmrRoUS+PPLZJXt82L2FKD+2SERDZkBOj7n5DVm9p8FFx/U2yIWC8AOSij7RBzbKhEiZi0lAgUalU0rNnzyyRLP7N8O7gupzNNaH4jz5yBKtXrzbllSGNINX9jJ/85Cfy+OOPC4rPoBcN/Dwu7VsRUASKFwElTIp37nTkioAikAECLmFi02HYfN99942WLrRqEC+x8cUXXxjDO5QklCHm4RnyBDUCJAvKExu2LfJtyBibosP3bllh/h/libcscT4JEyrEVFZWJjQ8zQDuom3KPEOC5Ws1ecmKXXL8iRWyZkkrg2FlZb088UStjBmzOyGmyQgIr5rCpOJ4yglXtSiP6ft7j02XN5uwwiSdkxNvI6pdQXxaL6J0tmtKbZQwicwmJCqRjeqsqZwPLATgbcR9zaaa+nVsV1xxhTz77LNmsUEJE79Q1n4VAUUgEwSUMMkELW2rCCgCRYuAS5hwEPiHQJy4Bq+JjFjXrl1ryBFWGEnDoZIM2/FyzSoY3iY23LZUE+Cli8o57MuWL7ZtUbNAqrhlifNJmKQyPC3ayc9g4PmW36MIeem99fLFUyNl+4qIV0B5eb387W/b5LTTdkWPxE3DodpNohLB3kOPV17YVvOZs2KT8Sw5pddu+dus/3qYeIxq00lnSQV3LvpItY/Gfm8JE4hRjJ3DGKQoYliN4g6D7LBGKl+jMOASpOLqu9/9rqkgB0mjhEkYzi49RkWg8BFQwqTw50hHqAgoAjlAwEuY4B8COWG9RthFIiNWjGEpNwtJgpcJEnWUKaTpUG6REsI2bFvSfFCPsDoJqcLLx1577RXjV0KlHvLB3RK2+SRMGuPfkYMpKogu8m3waNUiddubyRfPHCzbl3Y0uDRrVi8PP7xNzj47QprsQXxUVUqzkpKUFWm8ahT68lbMOaJXcxlVXSsPzK+U1Zt2UOxGKstK5fA+7eXmU/qLV5FSEBOX40EoYRLxdFLCREzqZbLKWTk+9QqyuyB/DxdffLG531JxDj8pDUVAEVAE8o2AEib5ngHdvyKgCASCAKZ9pFrYsISJrZDjfu41YoUUwd+D8poLFy40nieQIZAnmMAee+yx0X5tW0iQrl27yuuvvy6Yy0KksEq73377RdtOnTrVfOdWZIG04UWFsebqYTHdflDPsP9EJXW9E5Vuv2yXSdt8rirmu4SoS4TU7SyV+glfkWVzIyaLpaX18sc/bpMLLtiVVvWceD8sL9FiyJjSkpjqPtWtmsmOnbtk/Y49X1bcksXp/nDzXRUn3XG67YJ8QcxmfEFss3XrVnPdGzhwoHTv3j2IXRbkPnh5J1XRVQIW5EB9HBTeXVSFI/0ULPyMr33tayb9h3ttJvcNP8ekfSsCikC4EVDCJNzzr0evCIQGgXiECQ9jECZuxDNirampMeaHEB68SFFVB18DSg1jhnf88cdHu7BtUaNAmEDMkIqDl0l1dbVQstgGFSh4+HTNBFGYUB2A8dqHRUiMIAICiH3l88WA/fvxkJxunzNmfygPz94kK3dUyOBubeT60ftK2+ZlceFPp8+abbvktvGLZO7KzTKkW2u5YUxfadsifn/spKZ2l9z2yqKoyevVR/eVH36nrYwfH9mmpKRe7r57u3zc7oOU1XPiDRpj2rMenCnbdjWYusZTmExbVit19XsSJq4BbLrnZDbGs+n27Vc7JUzEKOPwNQo7YaJm2CKfffaZLFq0SI444gipqKjw62dn+j377LPN/RKT2XSusb4ORjtXBBQBRYBnr/qgnsQVbkVAEVAE8oiAlzDBw6S8vFyOO+64mFG99tprxqPELa27efNmeeONN4zfCAoSSBYe5FgF48XKJV1sW4gR0m0gRfg3q3MdO3Y0aT02kLs3a9bMGOnZgDCxShirtLDlkNOBL9Ul3f3e25bxUArZrdqTqj87pnTb0T6Tttm0TwenRG0u+8e78vaKBq+QMYM6ym2n9su6y+tf+ETGz1sX3T6b/nbsEPn2t1vLSy81rOze+KsaWbnXRzJ3xWYZ0r21/HTUPnGJHQib37zyqXy4arMM7tpadu6uk9c+WR8dT7e2FfLg+YPlj1M/j5I65/UtkavGr4mrMDlxUCe5/fT+0e3TeaE59c8zZdmGbdFtIF1e+v4IQw7dOn7hHmQSfabTb9aTksaGSpg0ECaUPfG9WugAACAASURBVO/WrVsaqDXNJlwXMToNc7l1fLgWL15sFgv8LvV72mmnmfssflL5vg40zTNaj0oRUAQyRUAJk0wR0/aKgCJQlAi4hAn/RkmCmePRRx8dczyTJ0+W9u3bx6gskKbb1BpIDFsVZ968eWblbcyYMdE+bFtSb1iJwxOD6jqoN7x+JazeQh5QicMGZAl/7CfIh0X2CVmEGobUo0KLdEmjVGRMMsKIYx5195uyprZB0cPL/YvfOygtOOLt+7S/QBZsd8iCSvnPdw5M2B8Ex+0TFkcJjp/9V+GyY0e9/OAHreW55xzS5MYtcvnlDUREvE69hE2L8lKp3dmgLulRxXiGx2zKSvKHn62WPy/Aw2Rn1MPkK/u2k1+MSay4SXRQiUijXJBJaU3Mfxtl8nvCcBKSk2pJyUxfM+kzk7b5TEuzmEL+ko7CtQy1XFgDdSFEsqsODBsWkCWQJvh1+X1ujh492viLcX/UUAQUAUWgEBBQwqQQZkHHoAgoAr4j4BImGzduNGaG+Ie4FW4YBMRImzZtYnw8KK8JkcLKGpVvrEkrJYZ5kIQwsS9Dti0ydkgIXrpI2UHW7fUrwUwQM1qMZ/NNmPByBCa8HIW5IsbXH5gk765pOB1PGdJFfnfW4KzPz58886G8/OEX0e1T9ZeofUR5JHLZZZXyj380lAH++c+3y3XX7YwZ34atO+TWcQuFqjfrtuyIIUi8hMlJ+3WW35wxIGZ7pPCkllEhhkhFQtmNE7WzJNDclZtkSLc2AgnUprKZnP7grLTJpHTHkPVEeTZcuXKlSUEgXa558+a56jav/WRC2NCWlBxMq7mW4dmUKNLtN9127Mfvl/JMJgKVYLt27WKUd5ls3xTa8ltgcQC/rkzmMZtjh5ThXsm9WEMRUAQUgUJAQAmTQpgFHYMioAj4jgDkBaQJgdx+zpw5hhixahE7AFJvWFE+6KAGVQGeIqgvCNQXVoGBKR1/rnGsbUspTl46MYUl7SeeXwkvIxi8khduX0wZJy/HQStMvvjiC1MymRdEFDZhDLB/ccJrMvaLtvJpTZ0M69FWfn5S46rCYHj667EL5IPlNWn1N+a+t2Tp+gbVSK/2zWX85RHigr5+9eICef5P3WXVOw1lXq+5ZqfceONOsQUlvKSLO5cnDOosFc1KZPbSjYKOpkRKZP+ebeUXJzccJ9WSwAJllJ+RCZkEYZIuaZKqXSqVEcdMhQ7IUK4PpO6l6tPilOt2Lv7p9p2rOYNERSHHtYw0xWKPTF/0bXvIbggTiKN4kUm/mbQtJNII4h9fEdfg3I/zgXOc3xyKpldeecWPXWifioAioAhkjIASJhlDphsoAopAMSLgEibz58+XTz/9NC5hgvwaJYnrK2JTeDhuW/2Gf/NChcoEQsQa4dm2/fr1M4aweJTw4hmv31mzZgkvJeSFewkTtgsyWD3kWBiL31UQgjyuTPZFOhXEFp4NPXv2zGTTtNtCetzy8gKZs6JGhnaPEBWE/WzX7npZWdOQwuMqUizBgAfw+on7yaaZ+0T3u/+Jq+Tlv7eQdi3LxUu6tCwvlY6tK2IIm2RkBecqpGG61ZLSPnhPw0zJpGz3k812vCCSgjBq1CjfV9TTHV+6aWn2WpKs33RII5R4+EiQioL/UjqRCamTSdt0jimd8WXThtQQSGTKyQcV+Ta/5jhdcoeFAdLULLnvxSFdIiiddqTBcf986aWXgoJb96MIKAKKQFIElDDRE0QRUARCgYBLmKDsoMwvUntvSg6riYTrK8KLCtVuCB4YMQAkeKHCxwQJsZXt27b77ruvkTBTjhMT1Xj9snqLuR3b2xcCCBceloMmTD7++GNZsWKFIX/SeahtiicN5wTnBkQBqVd+RDyiAgLETdvpXlVpSv16FS4uEcI2G6YMlJrpfaLDHHL8annr+TZy7XOp04CSKVlIP0NR4Jr/+oFFIffJ74EXRL9X1AsZA9RxkLqUPU+XMPHzeIImjOyxoDrk95AuYZIuEZRuOxfTbLbJxZxAmKxZsyaappeLPhP1AVnNH6SlhiKgCCgChYCAEiaFMAs6BkVAEfAdAZcw4YWQB08kz17T13i+Igxu3LhxZowY0lmpNLJ9KuXYMsOW9KACT69evWTp0qVGxt27d29jnggZ4vqVYATLS4l9KYtXIcd3YP67A4gC0omsb0VQ+y2k/UAY4d8BBpYUy+X4UFQcf/c02eqYrpJyQyRKw3H37yVbIE02vtFPNk5rWPmuHrFcTvn+MkGg9PGqzQnTgJJ5pUycONGcs6zy5jLiqWuqWjT4seRyX43ti98mCgsvodrYfotpe16QIXXDnKbHfE2aNMmkiKA8y3ekSxqlIlbSURi5x4r6EMVkIoWJ2zbVvlO13XvvvYW/uXPn5htu3b8ioAgoAgYBJUz0RFAEFIFQIGAJE5sywwsxhqveFWSvr4gFB8KEVB0k+jbI6eahzlWd8B1qFBQK+ILghcLqJL4QGMK6D5xsy0MoprAED8OMD4VH0PnrrKLi6bL//vuH4nyId5CkWGFuyDnhR+nMeN4ipMtAGiRKw3HHaVNYxn20RnbXNVTy2fhWH9nweoO/QqvBy+Sia1bKH85JbFabKB1m+/btxmyR1XReWnIZmXiW5HK/2fSFsgIswkwgorDB64mUQqrEhDXwr0IpmMjDJAy4oKTE+8veq/w6ZsgWFE2QtS+++KJfu9F+FQFFQBHICAElTDKCSxsrAopAsSIAGQFBYivkdOjQQTZt2rTHAyA5+3xufUVcwsRbhhhFAivRmNRBNtigZDGEDOk2KFjYzutXQlvUKTyEYhpL5KukMNj4pSoopvOF+YDA8isNw5sG42KTKA0nHn5e4gHSZd303vLFKw0r4J2GrpaFU9tIeYYCDs791954WyZ82V4Wfrkz6rOSCyVIsjSgQjtPUIRBWqKuCGv4rbgqFly5NlI5LMyECb5fKCbdBQM/5g/ChHTYbt26RdNg/diP9qkIKAKKQCYIKGGSCVraVhFQBIoWAUuYWFUIEmsk55assAdGpZj169dHfUX43FWluAoRVmCRrLMKXVVVFcWGFUkqa6AosaaRXr8SGrNqh88JZYnzSZhQPhSjTz/NTovhxIHUYs7ctKlcjjtZ9Rq3Gk68fbrpLAOrW+PIKPNWbYqm3GAa++QTzeXLCUOjm3/l4EXywoudpHnr9FgT9vHz5+bI1MUbZEddSbQf/tW8rESO6NtRfnXaQKOIySaKSWGC+S+lTW0J8WyOt9i34QWZaxTXPEjfsAYEOCmWVAsKa5CSw73Ke7/0Aw/S4FiAIHVWQxFQBBSBQkBACZNCmAUdgyKgCPiOgCVMLEmx1157mdKhlqywA0CCDpGC+akNq0qBFHEl+qTc8JKNZN0txcuDHvvDCNa+fHv9SujbVutxCRO2C9rw1XoVkD6E8iasAWnEnCEJTzcy8eVw02BIqVmxMX41nD3IERF5Y9GXUut4n4we1EnuPqeBHGGbX744X156uoWsfHGIKRhMdN57okwZ21X23ruhok68Y2P7s/4yIyY1KF47t2pPuhhFf0cZlljOtP9ctp8yZYoxOqVCTFjDVs5CJWergIURCwgT7hfpmr42RYyCrBplVSxcjzUUAUVAESgEBJQwKYRZ0DEoAoqA7whYwgQvkdraWqmurjZlgV0TVwaB6efKlStjpMc29QZSBHLExtq1a403CbJ9t6oKHhAoFdiH9QTx+pXQBw+heGawaof8P18VciCOIG9Y2bPVfnyfkALcAeaOzFmPffrtUfo3kaoiW9VEspK6yZQoFjbScN792dExKNrtWr4t8vHrJ4rUR0pTtzj8d/LX+3vJ6f1PT4h6Ovtk41RKmAKc1qyGRBoGlTrCrCrw29Mnq4nJw0avvPKKLybIeTiUrHdJlZxPP/3UpLD67a910kknyebNm03FMg1FQBFQBAoBASVMCmEWdAyKgCLgOwKWMEH9gVIEE0MIC1azXINPyol6lSfIkXl5YMX54IMPjo6VMrR4HaBI6NKlS/TzqVOnCmkuffv2NX+E16+EzyBL7Bh4CMXDhPD7gdQLtjX0C3NJYfxtODf69Okjf3qvNqbMbzJVhR++HMm8TpIRJmy3belKefbvV8otnY6Wh5b8P5Geb4tceKJIxVa5YPAF8rvjfydVlQ3pY7a/dPZJ28YoTHz/kedoB/wOSaujNDjnQ1jDviTbtMIw4oCnBgoTP6pGFROe3Ku4B3KP8FsBeeaZZ5pFC1SZYS1xX0znho5VEQgDAkqYhGGW9RgVAUXAlBHeunWrefjlJQiSBFUFD4Cu3NxNk7EPa6TdoCZp166djBw5Moompq5vv/228TnAE8UGChP25X7u9SuhLSt2dgyMJ1+Eid/eHcVw+rGi+dZbb8ngwYPlm898llaZX44rW4VJMkzSUXucMKiz3HNObLrIz/45U775y0vkgJWfmO7/2P0sefSqL2Tm5jeiu+vVtpf85aS/yNF7xVen2IZd21bIwK5tZPqn62XHrjqpaFYiR/TrJL86dUDWHibFcB4wRj8rBRULBowzKKPPQsbEGmLvs88+UfK7kMfr19iCVBude+65wiIF558SJn7NqParCCgCmSCghEkmaGlbRUARKFoEIEzwHIHgIE1mx44dgprkmGOOiUlDcdNk7EoaBAgKBEwgcfC3UVNTY8xShw0bZspO2sD/gLQft3qOVangV2IfAvEIsGPAJJaHc74L+iERg8uWLVvK8OHDi3Z+GztwCDEqJOHjctuklWkrTJKl1mQ7pkTlg5uViHRtWykH9KqSn5/UP5a4qKuT0vO/Ks1fipTi3NqyjWx59VWpHDpQ7nrnLvn1m7+WXXW7okP64UE/lJuOvElalEfMPO0+ZyxeK71ai/Gymbd6c06r5GSLR9DbWRNkyDP3dx30OPK9P7+rRuX7+NLZvyVMwq42gtxHccT9knuVn3HhhReaazEkTdD3Qj+PS/tWBBSB4kVACZPinTsduSKgCGSAAIQJD2B4iUBkoA7Br4TywZAFNmyaDLnalsSYMGGCIVVQorgVVFAlvPHGG8YYEr8DG6R24GGCN4klXeIRMVShsGOorKw0ChPScYJ8SOSFgPSDsFeBoHoS5BXnxs6Scvn12AXywfKaaBWabCvDZHCKxjSNZ8KaLB2m/Prrpfyee0wf9WVlsv3f/5a6Y46J9jl79Wy59OVL5eO1H0c/G9RxkDx0ykMyvLqBKINQfHDuTnl7RQO5EoY0HBd8rg0zZswwxKqbapftXBbrdlwr161bZ0qjhzU0PSsy80uWLDHpo0EYAH/rW98SFimWL18e6L0wrOe4HrcioAikRkAJk9QYaQtFQBFoAghAmJATbUsjkiNNRRxKZrZu3Tp6hDZN5thjjxVIjE2bNgkKDMoc0odbVpi0Gx7s9ttvP1NFwQYEBIoUtwKPl4ihLQ+EjIGXdMp2Ql4ETZhwDBzfwIEDDWkS1rB+DYly9DOphpMKw0R9uZ/v2l0fU7Gme1WlPPOdg+Omw+x84EGp+smV0d1uuPd+qbjkm3sMY9uubXLz1Jvlvnfvk3qpN9+XlZbJ9V+5Xq4+5Grzb9RRN70rsnpLXXR7a/SaSwxSYZTP7121UZirRlFineufe83L57zkY98YcWMGTRonKpOwhq2YxAID90U/43vf+568/PLLRhEatJ+Xn8elfSsCikDxIqCESfHOnY5cEVAEMkAAsoP0GZQfvABAmPBCgGIEA1gbGL4iRWclDRLDtuPFiW15YLTB/6MmgWzAFNAGVRUIFCY2vEQMn9u+KVVMuk8+SgqzgoyHCca1mNqGNVKtpufSqyReX6TYJCvrm4i0uKX5Uml3/rnSrC5iGHzfYefJvB9cLb87a3DCqZy6dKp85+XvyOc1n0fbHNztYHnwpAfl8/c+l6eWtZY3Pq+NfmcVJrnEoJDPs1WrVhkik/Q7iNKwBmkRpBa6qrqwYWHNoDHvxsckrBFkJbUrrrhCnnrqKaMCVcIkrGecHrciUFgIKGFSWPOho1EEFAEfERg/frwxbsWMldUriALKBFMu2AapGbw8U2IXEsOm0lBulgc4lCc28EFBTULpUfswDelBCg8mrlSXsGH9SiwRw+erV682udqMAZULpI7fFQi88JIWhCEtKhc3NcnHaSjIrikPzWqy61HjDjSX1XDi9TW0e9sY3xQvSPFIiwFrlsjz/7xOWmzbYpq/MPBIueL0a6Rnh5Yy/vLDkuJcs71Grn3tWvn73L9H2zUvayEDSr4hFbvOkLLyMikRifFLySUGBXkS/HdQ9jcBsQppGtbgN0FKiltKPWxYcI1HddWvX78YUjxsOAT5m7jmmmvk4YcfNmSdEiZhO9P0eBWBwkRACZPCnBcdlSKgCOQYAVYKkfnaUr9r1qyRmTNnmjLBrrJixYoVJnXHGrbOnj3bECW0gWTB28QGL9hU3XHLB1tfEy9hYv1KLBFDH5a0YQxW5RL0A6KthEEqStD7zvEUN6o7vGhQE+BbES9yqa6I1xd+KUvXb4u7bzcdx5IWnTd/Kc8/frX02LTGbPNuj0Fywfm3yvayChk9qJPcfc5Q83mqNJoXP3lRLptwmazduraBONk9XDru+JGcMWS/GKVKMgxS7adRkxPwxkEaXAZ8aBntjpLp+Cm5pdQz6qAJNFbCJDKJrseT38T69ddfL/fcc48hsINeQGgCp6wegiKgCPiAgBImPoCqXSoCikDhIfDll1/K1KlTo6V++X9eCKiK0rlz5+iAkeNDkpAmU1VVZUxdydnmIREyxU2zsWoSctv79+9v+rDb86DntnX9SqzMH68EVnEZA/vi5SRo0gKFCz4mEERhDZQ9KIV69Ohh0qviRS6r4cTr65aXFyRUmNh0HMYFaTHpvc/lX//vZ7L/qkj54C8695ATz79DvmxZZf7fLTmciORwCY4+1btkVem9Mv7Tl6OHXlrfWvpV/Ehm/fj66GfJMMgloZTv8xBVGSaXKMSCNGDO93F790+Zba59pOuFNbTEdGTmuX+Rqkp6FspLP+Pmm2+WO+64w9yXwqzw8hNj7VsRUAQyQ0AJk8zw0taKgCJQpAiQEgMRYk1eUY1QEYRSuqTb2HBTdSAx8COxhq7kcbtGrrxok+aDf4l90bbmrhAfo0ePjvYbzzPFkjakCOGRErThK4PD14UKQPpS9HqgsnuvIuNHx+0r905abCrz7K6rlxUbt0fPHbdKzcbN22T1yWfJATOnmO/rqqrkokvukjfLu0TbuwRLojQaL8Fx8uDO8sGXz8m09fdIfUmDf0nfVifIv7/6oPRu39B/vEtAU0rX0XK6kRnGDJpUwUSqqyK9FWQ0bHyqINpJu3SNvTPqpAk0ZrGAim4sJLgm6X4c2u233y6//vWvjbKTe7CGIqAIKAL5RkAJk3zPgO5fEVAEAkFgwYIFwh8pNRATNTU1hizgZaBbt27RMVjVBzJ0iAQelqmCQz41Un0IE3fVGb8SSgrThiCdB5UJZIpLrli/Ejwy8FEhLGnDGCBMUKUEuaKdjrIikMnJ8042btxo1EZDhw6Vrl27xowmWapJOtVu8Cb5xcn9Y6rbxCsZ3K2qUspKS2RgdWvZubte3lmy3ozjiL4d5OZTB0a3L//Zz6T83nvNd/Xl5bL9P/+Rq9Z0jFGnuARLIuVHPILjzhO7ys/HvSVTa++R2pK5ERzqS+TMHg/IPy64KOksNSWFCb9hzgnS58IcVADD34nfRViD6z4qw7BXEYPwx9srCCPkO++8U37xi18Yj68wl/UO629Oj1sRKEQElDApxFnRMSkCioAvCLBaaAkJ6zXCywCpGDas6gPFBYQCKSsjR44UqsmgHiHNxs2rxsOEl+whQ4aYLiBhyHtnXy65Yj1T6MuWKrWkDdvyYBh0vnZTWT1trH8GqiIqJkGSWTLLng/JiIBE36UiD7zfJzvZIT+ooEPKTp9nn5Crn4+QJcSt51wry0/7X3HVKcN6tDXtq1qUmzY2jWb20o2mkHCJlMj+PdvKzt118sq8Bt8S9vPdYZWGFLzjo5by8ZZ/yfqyx6XtrtNkWJvLUprI5jJlyZcffwadYgbNbziRAXAGXRV1UyqAcV2yZHBRH0yWg7eEyaBBgwwxHtaAvIBIxADYrSrnBx733Xef/PSnPxV8v8KMuR/Yap+KgCKQHQJKmGSHm26lCCgCRYgAL0GQIAT50ayg8jLgSq2t6oM0mS1btpgqORii8vDGv1GolJdHXkYJvC86deokw4YNM31DoJDjDRnikisQLjNmzJARI0aY9oQlbRgDpEvQhAnkEMa3HKvr41JsU5uKoEh1PMlKZiZLNUn0Xar0FO/3ycbXo6q51NXXS//Z0+SRp2+Wsvo60/zew86TO4+KqD5cRUmivrwYYQxb3qzUpABZkmX5p5+YVd2XvuxiFCs7Sj6X8vqucuqQnknLFKfCt9i+nz59uvkt8lsNc0ycODGpr08YsOE+QWqSEiYRwgTC3+80mQcffFCuvPJKc7/FUF1DEVAEFIF8I6CESb5nQPevCCgCgSHgEiaoK1hBRWqNB4mNTZs2mQdkCBDSc/iDMGHlnYoylBXGCNEGfdhSxbZPCBG2c8mV9evXCy9iKFeszNiSNjyMd+/ePXDDV1v5IAgjPz8nORVBkWrfpGpBmjBfVoFkVSuTF6yVrTsjJIWXnIhHQpSVlsqkBWul1tnGNWGlD+92zctLZZvT3h0vqTpVn8yT//vHtdJmR8Rb5D/7HS1XnPoTkRIK/4q4niWJjjUdjFBTsaI+ePjB8uuxC2LIFKtYSYVlU/ie3z+kJ0RiWMOSv1wbKakb1oA0RzUIqe0qEcOGRzIVXq6x+Nvf/iaXXXaZ8UwJs7op17hqf4qAIpA9AkqYZI+dbqkIKAJFhgClhalsQ/BvVlCpbkOVGxtW9UGaDC/RrDQjQ+bfmEEeffTRMc79qFQwwYMIsf4nyIghI1xyBU8Eqk7wEmZ9MizBwhh69eoVOGFiq4FYX5cim87ocBurMInnWeHts2V5qRw7oFPcdBer0tixKzbNxQ7w2P4dpEV5mcxZUSN4mnhTaK44tsHwdVDX1lIvJTJv1Saj/Ph87iL5y58ul+6bIukzM3rsJ9d853eyZGtEKUVkozCJt40qKyJ4TpkyxajABg8eXKw/iUaPe/fu3UY9x7WxT58+je6vWDvgfsB1m3MBUjusQUoppumorvC18TP++c9/yre//W0hNQ5Tdg1FQBFQBPKNgBIm+Z4B3b8ioAgEhoBLmPBCQAUcJL+u7JcVdl6YUH2gPOAhmYdlCBBM7zCCdMsqYgiIOSwPklTi+fjjj80LBn4nLrniKlfsgzeKF15KWMHde++9AzV8BXR8OxgXlYOKORrrn4HhK8oSPExspKPI8GKWKNUGsiWRSiUp7lu2yOcHHC4DV0TKBy9p102+9s075dGrT4hW1IFUgXC557XFUULGazLLti5GA7u2Eamvl3mrNxsCx7bH4Bi5PeqqsAbKCohUCEwqo4Q1uDZxHeTa5CrwwoaHJUwg0F1z8LDhQEopBMZBBx0U9eDyC4Onn35avvGNb5gqdixWaCgCioAikG8ElDDJ9wzo/hUBRSAwBFzCxJYEZgUVhYeN7du3y6RJk8zK6uLFiw1xAplBWUWUCIcffri0adMm2h65dllZmcntRoECsUKaD/92yRVXuWKN7KzKhX3xF2SFHA6AldOKigrzEBzmiFcNJBvVSiIzVy9hkk4KjezeLRVf+5qUvfiimZoNzVvLWRf+Xrbv21de+dFhMdOV6Vjjtb/jf/aTFye8Ji+saCmfbZYYIiVM54YqKyKz3VQMoRt77kIo8+IedsLE+l2hpOzYsWNjYU26/QsvvCDnn3++IeyOOuooX/elnSsCioAikA4CSpikg5K2UQQUgSaBgEuYcEDjx483ZAgEhw1LYpCvvnz5cqM64AGRUsFIkg877LAY0zsepgkqaqBUYHtWZOfMmRNDrsQzmd21a5cxiaU9KpcgCRNbUhi1C6RQWIMULRQFXq+GbFQrDRVpaqTeJNaIHNCrSrypOjYdJll1n/LrrpPy++8307KjtEwuOu8Wmb7X0Jj0G7v9+I/XyO66hhSdVITMCfdMk+Ubt0envEdVpYy9bKRc/JcpMmtdafTzdFJ9mtp5A2EKgYa6xDWDbmrHmep41LsjghDm3aSqxSs5ngrDpvS9JUxIkbGm5X4d37hx4+Tss882CtBRo0b5tRvtVxFQBBSBtBFQwiRtqLShIqAIFDsCXsKEBzKIEddYzqbqQJIgQz7mmGNMyg2md0iSkQi7OdyQJBAfGKeiTOG76upqk+7ikivxTGZ5WZ8wYYIxkSXNB8LE+1daWhr383ht7WfpbMOYMdVD7cJ409nG3ae3vV/nRmNLBqcaly0b6ucLciLyxav0wOC1rLRELvtogpz/+B3RoT/23Rvl4X2OjFaz4QvKDHsNae0GKFqO6d8pmmrjxeD4u6fJypoGwqR7VaX859sHyJj73pZ12yNGskQq4iUVtsX4vXpWRGZNlRURHPCe4hpPmhrXybAG1eOo8hZERTXuo6eeeqq8+OKLcsopp4QVcj1uRUARKCAElDApoMnQoSgCioC/CEASQIjYQFlAxRpWD23YVB2MXCE5bOUUa+hqFSe2/bvvvmvaQaTQH0oRUnaoOOKSK9avxDWZZV/4ovBywr+z+fMXsfR7T0TgZErE0I+7zT0zNsm0ZQ0v90fu1VyuOqxDo4kluw9ekPGqYd46dMi+3/SRamgZz/PkmEUz5JFnbpFm/y0fvOkn1/5/9s4DTKrq/P/v7rILCwtL76DSERBQsUGMYIDYEkuwt78aY2xgiTEGjTXG2HtDoyaW2MtPREARBRuIBUEEQZSO1AUpC+z+n8/ZnJk7d6fP3DszO+/7PPsoM/eec+733Jk593u+7/eVP+/1uxB/EsgSyv66A6ojqDMRoTpPcWFBki7XSQAAIABJREFULW+T4Xd/JMs2bgucTuniF87oLRc+/VneK0zsg2H//v0D1aySmdtcP0dxCCVM8v1+sMSRHzhQpWrEiBHy8ssvyzHHHJPrHyUdvyKgCNQBBJQwqQOTqJegCCgC8SHgJkwoCYwihEWgM0jVwdsDZQkqEQJJMjuN+H20atUqcDiqEx662YEkPYe28DT57LPPAuk8HGzTbzBRtFUnUJhYAocH+EQjGYKFPjmPqgeLFy826ThcZ6S27PGx+or3OGc78Zzz1492yprgs720bFAt1+xdcw3ZFImoe+yxD325XT5ZGSTweq9eJC88/Wcp+1/54DUjRpjywR8uqwxc6i86l8r8tZWy6ufgefbNBvUKZNvOIC7ufw/r1kSu+VUnuX7yUnn3u42BNof3aCpj9m8qX837Tiauaybz11RK33aN5M+/2kMoJ+wkwzZt2yU3TVwoXy/fJP3aNzYqlqYNS7JpKlIaC8QoZKcf5pYpDdTjk/30rPD4UlJqXomjGvhsapIfShs2ITBMf/bZZ42XiYYioAgoAplGQAmTTM+A9q8IKAK+IeAmTPAqQA3iLl1ImgwP5Ph7WPUJC2cIEY51SrPxNeE9iBDrW4KaBPkylXNsvrdNv4Es4ViC1xiTVVX4BoSIfPfdd/L999/LsGHDTOnkbI1ohqbRSBzSYG6euEi+XrFZ+rRtJH8a1lka1y+qRQytWLHCGPpSCQkcYhFD9v14yB53W/aczZVV8sTsrfLdhl1SVVUtm3eINK9YKy8/dVmgfPA3e/SRJXf9Xa6aVRRCGDWvjxJJZH1lMHWmpLBa+jarFriSr9YFiTder6wKHlco1TKgRbUc2r5Kxn1bJBsrRYoKRRrVE+nSuFpGdamShvWi3wlPzi8MUaHs3aJKzuxZHTNtLFWlUbQUtGipYvGc5xwbaXh8NiA+UZnFQ4Rl62cnlXH5WUY2lXF6fe769euFB3g/UlG8vpZU2vczRQtzdTYqnnzySTn99NNTGbaeqwgoAopAWhBQwiQtMGojioAikAsIuAkTSgKXlpbWqhKDESvH4muxxx57mEtjh42KODxIOctLsrhjVxovFAiI4cOHB3bjqChAyg9hU31oz5YrRV3Cn31g8xNDxg3Rk+1VCJIxXwXHeCvHzJs3z5j7Qhz5ZbrrHlvDyq3y/DNXSt9VC80tsLpNJ6l6/z1p0rFtrevAb2S5w7C1Qb1Cad6wWPbq0Fgu+uVucu/UH+TrFZukT7syYzY7ZcH6WrdVm8bFsmrTjlqvNyuplsdP6C5NGtQLSxxB+Jz18hJZuXln4Ny2ZUXy0JFtA8enQiTFS1bZ4/z8vETry6t0tETJnlR9jZznozD59ttvDVHQpEmTqIRYtsyDF+Pw0+zUi/Gnq00/yyvznYzC65FHHpHf//736boEbUcRUAQUgaQRUMIkaej0REVAEcg1BNyECQRIcXGxSZ1xBl4kGMQ602/ClQXmHDxIqKCD/wW7cEiJyfemZC8PG23btg00jXKlU6dOgao0kCWMCWWDXw/rdjCoZUgdQgVTF8PtDxLJwBSFEBVBKBcdK9JlQOscW2HVLnn4lZtk+Hefmu43lDaWyilTpKxfTeWiYOWdjcafZNWmypCKOM4xu6va2HMnzA2tolNUWBB3G25M4iWiYmGZ6vuJkiscHw+Zs2rVKuGPyll8JuPpJ552I6mN4mk/nKopVfzSeX48Kpx0qoDiIZLcXkjxnBNOBQWpzHc8qSh8xzuPAUO/v7fTOW+JtGWrJqHEQ3npZSxatMgoO++77z654IILvOxK21YEFAFFIC4ElDCJCyY9SBFQBOoCApagcJIGLHgxZ3WGJUxQXzRs2NC8Fa4sMK/PnTtXli5dapQqHAvJAnGCcR2LbOfiEuUK6hQWnTwEQZbwX79TYugT/xZSi5wVgurCHNtriPfBHuII0ox5ixXhqtq8fO4g4/ORSDjbufqdR+Xsma+Z0ykffOqJN0qrw4bJrcf2CWnS3Xe4/qiO886Yg2qNx32uW6XibCtWZZxwih/Ox4h29vIK6de+ScTqPIlglKljMQD+4YcfTDnTbH4YTtVzKFZqGalJEMGkEEKsJuo9FKv9VMefqfvD3W+yREys87xMYUu0bY6nmhgeXqgjqaxmx+/FPKD4wxz99ttvl0svvdSLLrRNRUARUAQSQkAJk4Tg0oMVAUUglxFwEybOksDO67IpOSNHjgw8NIUrC8w5yIcxT2UBudtuu5mdaXbjPvjgA+nbt69ZXNp49913jWEsu2c8MDAedqf9JkzwWJk6daqpDGNTjnJ5XsONPd5UHogj5gQSK1aEq2rjVnXQRjQlCu9d88Y8mb5wnZw84w0Z+/aDgW7HHHmZvNpnaNhyvu6+UYm0blwiKxzpOTQUaTw3vjVfvlpWYUoTXzy0i9wzZZF8sWSjrNuyQ7buqAqMwXm+vY4vl1ZIVXW1FBaI9O9YXosQiZecioVvNrwPAYrCZOjQodkwnIyNAdII8gjSmLLn2RTW8NlLUibgN7R5syHESbmEFI+mCPJLaZRNhtfpSkf797//be43q7YkHQxCn7RWCDv3X5cuXeTss8/OpttSx6IIKAJ1GAElTOrw5OqlKQKKQCgCbsKESjbsnA0ZMiTkwEmTJpl/40diI1xZYN5jkYeEmOChm5Qb2oSQQL3RuXPnQBvOqjypVshJZW5t5Qc/Kh6kMs50nRuJwOB+gMRi8W0rF0XrM5zKo0N5fXnx3EEhCosdu6pk0rw1gaZQfhzSo6UhGmxJ4KELZ8g4R/nguwafJHcNOcWcgwLkJZdyJZy6BXvXlZu2y64g3xGWbIl2TZZY+nThaunevFhuP3n/gEIlkqrFTcrEm/6Urvn0sh28ffArcn8neNlnNrbNd9rChQsNccTDar5GNprfxpPGlW7yhhRVPLpatGgh5eXlafcsuvPOO4X0SOvrhaKT64SsQ4nJH2PgvwSpr/yeaigCioAi4AcCSpj4gbL2oQgoAlmBgJswoXwo6TNu41PKCpOmgRGoDVsWGFUGfzaoqMEfQWoPZYq3b98uU6ZMMWqT3XffPXCssypPJgkTKsOQl3/AAQeYKkGZjnR5g0S6jkgKCJuXT2llpxIoUjtL1m+Vw+77WKocFY0hNwZ0LJfxc1YHToMg2eJQbdg3IBpQeTSeN1eefyZYPvjlPkPlr0dfLlsdJYEj+ZFw/s6q6lrKEtuHk5xJJFWI+9WdohVOUUM/7rSduqQwgUTlwYzPRj6HraJ16KGHGt+OfI3Vq1fLl19+aXyumjZtmq8wmN80fr9IyXFuAngBCGpOiJmrrrpKbrrpppAurBcRv5/8RmsoAoqAIuAHAkqY+IGy9qEIKAJZgYCbMGEhTNnIQw45JDA+qyRhZ8spy7dlgVEjkF9tg51YVCYEBEtJSYl54MIHheM43oazKo8tKZyJCjnsHDPubNk99vqBO5ICAp+GWbNmmVLRtvxzuBvVEjrvzV9TiwjpUN5AeJ5csn5bTMIENUqLDWvk4QculHab15rjP+nYR0474UbZVVISYsQazUvEfT2QJISTpAmXmhPpQ8i9yP1KepaTDIxXYRJv+lNWfAnEGMQnn3xi0gLqqhlyvHNASsSSJUuMl0s+hyVM9ttvP6OsyNewaZzdu3cP2QTwAg++jyDyL7/8crn11lu96ELbVAQUAUUgIQSUMEkILj1YEVAEchkBFmKQGTZmz54tSK6dShIIFB6aGjRoEEKkcM6ECRPMYhHliA38S/AxYbeL3VgCYoa0HrcaxVmVJ5MlhbluymUia86G8DqlIxIhg7kgnhV9Bg6SO6Yui2haGs1wdXjvVvL1sgpZUbE9ACWvlRQVyJRvQwmWrg2q5O6HLgmUD17UrL0ce9ptsqG0iRQViOxyKFeiER7hxlNA6WrHZMYyb3XOOzu6eO64d4+DFXoqpFqqhT4GdCqXsYf1SNjoNhvus3jGgFlzWVmZKR+ez/HNN98Y09d893LBz4Y0rXwnTPjdJAXGD98rVCQoNc877zy555578vljqNeuCCgCWYKAEiZZMhE6DEVAEfAeATdhMmfOHCE9xbmLyq4qr4cjTCBBMP9zVpb58ccfzUN3kyZN5KCDDjIXwYKPtB63GoVSwyhKWHxbw9dMKEwwu8Wsz11O2fsZCN+D1wqTSAoIq7R5a2M7ofSujVgeHfY40nH6tGsc4lfi9B9x9tu/XSM58eZLZMi8j83p6xs0lt+dfpssb90pxHQVtcjQni3DkhJOE1YIjJUbt4vDviQE3HApPZEq2VAGm3siXzxtot3niZgAZ+rz4ke/pOyhwMoWUtWPaw7XB6QRBDPplnzH52uQkkraHl5PTtWkF3jw+9m2bVs55ZRT5KGHHvKiC21TEVAEFIGEEFDCJCG49GBFQBHIZQTchAm7qBAkI0aMCFwWr1Ehwp2SwwGkLeDzQPUbG5Zg4XVSO2xAmNiqOfY1lCuMAX+ETFXIYSzZ9lDod0qHJR4+W7xGOjaskpWV9WWZo9pMLI8OJ6lx/LiZIek47nNtX0MfullGffiKuRW2F9WTU0+4UWZ06ituv5NIyhDaOfqhT2XVpsrAPeZWldg3wpUXDlda2BrLWmNLSis3b948lz/iKY2dBzU+4xg3o7bJ51Dz25rZzza/p0zdk4kaZKcyTj6HfAaPPvpoefzxx1NpSs9VBBQBRSAtCChhkhYYtRFFQBHIBQTchAl5+jj/O8sHz5gxQ9hxR/nhTNXh+thhw4yOnXgbkCuQLO5UnXBqFNpG2nzggQcat38Whn6XFLbSaj92CrP1nghXccZZnjea4SpleZ0pKeGIiH+dPlDufneRSfHZuataRkx5Ua6b/HAAjtFHXiav9akpW+smTKxp6+hhXQJt9GvfRNyVd6JhGy6dJ1pJZJuahEKqUaNG2Tptno/Lz4dCzy8mxQ4wxKbal1XNpdhczp5uCRO+s0nVyteI5HPkBR78LpL6w+/v008/7UUX2qYioAgoAgkhoIRJQnDpwYqAIpDLCLgJkwULFpjSmZQPtsQF6gvSVSAW3IaHlArG+G/AgAEBGGwb7EhjmmkjnBrFljHmIYSHM8LvChQ2/aJfv35G9pyP4SYPMG4d0KmJqWDjJkRi4YPy47hHZshyh0KFtBz772HffSqPvnyjFFXXJM/ce/CpcvuBJwaajeR34myDgyNV3rENlRYXStPSYtm7c3iPkXC+J1bNAmlIVRTMj/O58kQkL5dY90BdfJ/vKkhdUlHyOZYvX25SNPOdMIHEmDx5stkYwPjVy6AvKpdx773wwgtedqVtKwKKgCIQFwJKmMQFkx6kCCgCdQEBFmK4/duwFW4wa+VB0ZYOhhSh3LAzVYdzMMZkB37vvfcOtMFimrQcTCLbtWsXeD2cGsWWMR4yZEjGCBPNyRdJxDMlnpLHbgKmqLDAVLzps2qhPP/0n6XRjpoKOi/1GSoTLr9ZSuoV1iJnIpXwtTdUNMIkXAqO+/MajtixShRbEYXPAWRhvsbmzZsFn6E+ffpI+/bt8xUGc93Z5nOUqclQ9VUQeVSTpJk6q8R5MS/8TrMpAWny+uuve9GFtqkIKAKKQEIIKGGSEFx6sCKgCOQyAm7CxFa4oRIEniUbNmyQjz/+WFq1amWq5zhTdbhuKmhwnLPkKGVpKT2J/wPn2UCp0rRp0xA1ii1j/Itf/MIQJpkwfIUkQlWTz2oCyIPr3/xWPl24Wvq2K5N/jKrxnglnihoPuRIuLadqyTJ59d+XStvN60zbn+++l4w+62bZVa9E+ncsl6sPD600E60SD+ejRCmQapn23TrZvrMqpKIO78dTRjiSVwymllSHOvjgg3P5453y2Pn8kzbHw5rzs5xywznYAMQR33VOcjgHLyPlIS9dutSkXA4ePFgaNmyYcnu53AAKEz/8ffidxhidvqhMp6EIKAKKQKYRUMIk0zOg/SsCioBvCLgJE1vhhkoQpaWlwuKY6hAdO3Y0/4/CxJkyw0MEqTss5mxQKriiosI8WLRu3Trw+vvvv29y3p0PHLaMMf1lijDh+tasWVOrZLJvk5AlHaEgghzDwBdlUCRiJJ6Sx24iYvSgVlI6cqR0+mG+udqdXbvJlZc9KC/+ECw9HM4n5dC7PpQtO2rXvUFB8sp5+wU8TXq1KZNpC9eFVNdJpIywewpIvyAFDTPifA5rfgshSlnTfA7IYdR0zvTDfMTDEiaoAvmNyOcgzZQqcb169fIcBggqPoPvvvuu531pB4qAIqAIxEJACZNYCOn7ioAiUGcQcBMmliBB8cHDgTWBxRAVFQYeJvXq1QtcP1VuaMP5YMmCjjQfHiycniDTpk0zpYmdahRbxhh1B4SJs22/QGYH3e7g+dVnNvbjrAxTVNpY3GSFJSDiUZjY64M4uemNuXLyLZfIQfM+MS9vLiuXc867R75q0CqEDKH958/ZN0TVEsnYFXKlcmdVSPnitk1KZGVFML0skTLC7vlQNUENIloRJXhnQPjywIrXUT4H6Zbz5s0TJUzEkBeQy6TKeB2oPkmT5XdUQxFQBBSBTCOghEmmZ0D7VwQUAd8QcBMmGPpRPpPdrMaNGws77T///LORAkOe4NJfUlISGJ+tcmMrR1jPEw6gco7T9wDlCYSIU41iyxjTLga0flfIYZwY11I6Np8ehML5kFSsWRl4ELp6/CIZP2d1yH04ondLqVdYKF8urZBqqRacPQZ0Cm+oyolL1m+V3z74qfx5woPy/z57w7RVWVQsJ594o8zs2KfWPQ7BUV0tIf3S5+zlm8RZsQfzV8r/ugkdTF6H9WwZ0ag2EaKHe4LqT85y2b59KLOoI/twDIEK2ZnPkW2lxzM1F6gQ+S3Qe6KmSlybNm1kzz339Hw6SIfFhJnfXA1FQBFQBDKNgBImmZ4B7V8RUAR8RWD79mBaBAaoX3zxhVGM4Ddi02h4eITcQAnifHCyVW7YbSSoOMPuPMHDJqk8Nkj3IJxqFKtgseWK/SZMIHhY9Hbp0kVQ0dSliGbOGo48OLdfieBhg9HpYfd/IkvW1xizEqTADO7aPETREcsjBEJj5LsvyLXvPBJoZ8xv/iSv9v5l4N+QLhAdQ7o1l+uO7CXHj5sZ0i+qE8I5Fqt02ffmqSEKFcY48y/Btt1zGU8qEef4Wf0i2+836+/D7nYm1F/ZhI+f6RfZdN3usVA2fv78+cbfB0+XfA4/SbSjjjrKpI7y+5zPRtT5fL/ptSsC2YSAEibZNBs6FkVAEfAcASdhQloGJAgqECrjUAWA0sCY+5E+Y1N17KBslRtrjkkFBXxJCHbdOnfuHBg/VSYgKKwahTdsCWIeyPBG8buksNu3w3OwfewgmqKidhnh+rJb42qZv6ZS9uvaWtypMJAjlBh2EhdUvhnZu1Uts1Z7iaPPuEUefvEGKZRq89LtQ06RR395imzbWduTxJIvo5+fHULKYOxaXFgQojqJduzdo/pGRDhehQmfB4hCKl9QASOfgwdjHpBJxcvnhzQl0YKfAkhVvrfxnXKqDfPxc+KnEu24444Typ2zcZHPn8V8vM/0mhWBbERACZNsnBUdkyKgCHiGgJMwWbt2rZH84jPCYpg0GpuqAhFiU3XsYGyVG5QnBA9Y7EoTGOHtvvvugXHPnDnTSIqtGoU38EVh8Q3hQn6234TJqlWrTArSoEGDjKKmLkU0RUW4KjbLNwaVRhAVJUUFIektVMxxp+mAVzilScHnn4sMPVRKd9S0+VLfYfKnIy6RKpPIUzs6lNeXSaMPEjdhQkoOypMb35pfK9UmUoWbSHMY7/F1mURL9P6eO3euqXhlP9+Jnl9XjsdfCb+KuqhES3SOLGGSz1XFLGZ++tqcdNJJxoD9u+++U8Ik0ZtWj1cEFIG0I6CESdoh1QYVAUUgmxHAoJUdVIJSqhi5UskGNQhkwoEHHihbt241UmD+H+WJDUgUHqhI4yBQnJCWAzHCDj0PGDYoN7x58+aQUq2QK5AsKFeQd/u9c8aOHQvQurhbGk5RMfawHsZU1e1D8sWSClm2MTQF550xB0l5aXFg/izhMGHuT7KrquZ+IdxmrQfX3yrX/+P3UrRqpXn/40595bQTbpBd9YrFcVrIRwJfksmjD5J402a8/DxBGnKv8hkgFS2fA0IUAslJcuYjHlRMIv2ie/fuISRwPmJhvzOVMBH54IMPzO8hfl1ex5lnnmk2MPAV8vt30utr0/YVAUUg9xBQwiT35kxHrAgoAikg4CRMrAcJFW54ULKVcdatW2ceIvfff/+Q8qKk6WAUO3z4cDMCFpB4nPDQ2a1bN/NnA8Jlw4YNIbvV7FZScQHlCiUq/V4IsoOOyoTFv999pzBlcZ0aTlHhVolYdchlL82Rt1wmr5E8SsIRMdastdH2LfLi01dI758WmzEubN5Bjj31NtlY2jjqmPExaVlWIjt3VcuKiqDSpahQZFiPlnL9Ub1CyJu4AEjyIK0MEwROyyvXYAEBzHdbz549Q9IMk7zFcvo09bUJTh8VazBH79+/v+dzeu6558rEiRPN71Vd+63yHDztQBFQBNKOgBImaYdUG1QEFIFsRsBJmECSTJ8+3eyYsTCDQIFMsN4mpK44d93Jp6ZqAg7+VLnB8wTfEnwPUJegMrGBWgUiBb8SG5wLaYFypayszHeYSBNCSeM0ovV9ED52GEnB8dPGn2X4vZ9IZVUwZcaaq7qHBxHzt/+bJ9O+W2fewgx27orNsnL9z/LoSzfIsEUzzetrS5vIMafdLj82a5fQFTaoV1jL5ySWwWxCHcQ4WE0tgwChNsPsdZ999kknxDnXFpXC2N3Hl6lDhw45N/50DhgSHdIEo26/TbrTeR3paIvfykaNGgkbDF7HhRdeKC+//LKweeF36qrX16btKwKKQO4hoIRJ7s2ZjlgRUARSQMBJmPBgwE5qnz59TMUUVB/4mbBIw7SVB6dWrVoFerNVbiBMtmzZEjgXEgTDTHxMbJB/DQlj03d4fenSpSYvG+VKkyZNUriK5E4lBx3vEj8k1cmNML1nRTI+hRi74D8zZdbawkCH0UgKt9dIm8YlcsFLd8vpn79pzt9eVE9OPvHv8lnHxMttQtkEE35qhmPJG0oVn/nk57J6c6W0LiuRJ84YKJ2alZpjolUFSgRFPHVstaB8fzDxcwc9kTny+1j1tQkibgkTvsfz/fMBicZv5MCBAz2/JS+99FJ56qmnTFprvuPuOdjagSKgCMREQAmTmBDpAYqAIlCXEHASJkjPydWH6IAMsaQHqTSUBWZh2KZNm8Dl2yo3pORQ8hAPEyrsIOVnJ5YdWRuQKFTRsek7vG6r6uANQCUepMYsBvlvtL94joklW7ZGjlQBcqYO1aW5dV8LhMP/e+pzWbWpUiA5/nV6DeEAkfXxrK/k3Y2tZN5PW2WvDk0EvxOnh4mzLXdJ33M/e02umvxo4JCLj/qTvL5n5BK/0TAOR5hY8oZSxc6UHet9QnvxVsGJNb+kmaGoynejU3Dys2xqrHnJ5Pt8/2GGTepF69atMzmUjPeN5xM+JkqYiHz00UfGewu/I6/jyiuvlPvvv1/w01HCxGu0tX1FQBGIhYASJrEQ0vcVAUWgTiHAAox0GgLyhGoQVLdhl71v377SsWNHqaioMJJ0HhjatQumWNgqNyyeMaPDwBWpNioViBXOt4FXCekOqFFs2FQfrwC1pEs4ggWjWyoEseClQk+6yRon4RMvwRPPcfEcE4ksikQq2DQUzHfxoAkXTgXH8g3bZNf/ZCDDF3wsD798U6B88K2/OE3uP+iEQBNtm5TIPp2bmio3vdo2lgKpNuk8W3bULi/MSQ3qFcjB3VsEU366tZDLf9VV7n53Ua0qPZQ2nj22pkJTugxj8erhviBNLJ+Dz8c777wjnTp1Mt4d+Rwo7CCBIYxbtmyZz1CYqmb8NuR7qWluAjYR+O3wI2Xtmmuukdtvv938RtNnuuP888+XBx980DSL+XtdqxqXbry0PUUg3xFQwiTf7wC9fkUgzxBwEib4eUyePFnatm0rK1euDJi8IgNGnm8JFAsRO40oUfAlgSyhYg6ECTvTeJ04U11syWEIE/tAT3/I3S1hw0NapD+OifY+78VzjD0ONQ2pKFQ5wKchlX6d52bL7ROOWLn6kypZEyyGI61KRf4xpIGs/3m7PPPtLlmypUi6Ni2SM/uVSllJoWzZUS2PfrVFvlq9U+A33FVu+q78Tp5/5s/S8H/lg1/se6hcfvgYkYIaL5T6RSJl9QukqKDIvNS7damMHtxGzn/1B1mxaUdYqA7pWi5/P6JLiMLo6vGLZOK3NZ4pzmjXpL68feF+5tgrXvlG3pr7U+DtduX1pV5hgfRr30SuPjyyWsbdpp8PQdlyr4Qbh1Vgde3aNaTaVTaP2auxQexiWk16YrNmzbzqJifatYSJUymYEwP3YJB4/ODjwn3hddx0003y97//3WxeYDSbzuD3mt9tVJ6k5Sphkk50tS1FoG4ioIRJ3ZxXvSpFQBGIgICTMIFwwImfhwIWTShH2M3CnwS/D1JsMHW1gTIB41fK8vJAwYMrBqoswNihcprhIeXmj4W2NQvkoYw/+3Dv5ySxS8ri/+CDDzYqk3RELEInUVInnvbsMfGQRXd+slE+XBqsQnNgh2K5YGBDueuTjTIzyDXI/m2L5Nx+xfLwV5Xy6arwSpDOm3+SF568TNpsriEyPurcT04//nrZUVSz+9mspFrWVwZNZC2+e7eoac/pl1LzXrX0b14tJ3atkob1RLbsFHlhUaH8sLlA4FachrQc26xE5KI+u6TF/wQxzuPpYf32YN/7thY5Z09Im9qpXm5iifQL7nk8dbxSCcWrZkqm/3Tcx7ShlWGCSJKyhmk16YbOsurpwjqX2oH4xqwbhUm+B75efEYxQ/c6br31Vrn22mtN6ms6y51DkLCxgXoUJdXUqVOVMPF6MrV9RaAOIKCESR2YRL0ERUARiB8NP5/yAAAgAElEQVQBJ2HCw/fbb79tnP9Rf9iKNk5vE9J1bFjT1iFDhhh5MsoUVCiQK1S9ceZ2U1mBxbYlYegLsoQH/UwQJhA9lJDlGmP5ncSPZnYcGckANVypYXxKfnnre/LT1qDVasPiQnlnzEFy/LiZsmS9Q5Lyv8sr275FXn3uz9Jt5ffmlYXNO8rvTr9NKhqUSUlRoQzu2sxUzlnuKBFskWnXpESeOmVPOe0/c2SlQ2Xyq+5N5W8jOgdUQtdPWiLvLqwIC+ghe5TJnw9ubVRB4YiiP7yxUlb9vCtwbptGhXLvyBYxFUi0xQ4uhElJSUlURZOz3+yYdYQ90b1/EiFq+GxCmkIQWH+hWO3Hky4WzzHJEEVefoYpnY63TaaqeWXL/cU4UBSSfqmEiRhfG76DINK8jrvvvluuuuoq4/vVvn37tHVH9Z2nn37aVKs76aSTlDBJG7LakCJQtxFQwqRuz69enSKgCLgQcBImvIXCBAUIsl+7ELTeJpQJplywDR4k2Hllh43FI14HmKiSvoMXhlOqjKIDHxMIChQdTsIkE+Up8STguuqiV4Xbq8SdnsL83TB+vsxeXmFSVpavXC1frA29MTBara6WWr4hJdW75JUJ/5A+X31kTqB88NGn3yFLmrY1/7YGre4x2NatUWsk8sYe5/YkgcRpUVYSYkgbiRiKZgAbrZoOnwXUUZgAcx/HG/EogeJRAMVzTCIqpUTUR+52IUwgSiGPIDmc11jXySI3sYTCjvQ9CGHrd+Qmj+IhgtJ1TDjiKt57NdXj+A7nod1Z7SzVNnP1fMrS8zmhypvXgb/I5Zdfbgx3nZsWqfSLmoTf43HjxslZZ51ljK5VYZIKonquIpA/CChhkj9zrVeqCCgCIkZJwqLPBh4mvEbqja1yY71NeJB0VpTB54RUHI5jhwpFCVUkqB4ACeLceUPGzTGk71CKkQcw2uW/mSBMMKYl7QIpcl0LN9ngvL5wREj/5lXybUWRbNsZVJl0KG8ge7Yrk0nz1gRPr66WGyY9KKd9Pt68tr2oWE468e8yq2PvwDGc179jE/lyaYWs3LRNdrkyejqU15dJow+KCXnEEshbdwTInp27qkOq5liyJhoZE41MQZ6OuTH3M1We8jni9e1I1XcoFVInXb5DsUgo+x3J91Q2+hXFUv4koiyKReqgOuJzQgW1dLabTFt8Pr1UFsX6/EO6Q7KShup1PP7443LRRReZFFiq2KUakICk4kAMT5o0yTSnhEmqqOr5ikD+IKCESf7MtV6pIqAIhCFMqJKD8sLpV2K9TVCXoDKxgckrVUVsVR38QJDvY4bHg4VzIWnTd6jEQsoPbVqixu8yifRNBRDGTUnjuhaR1B1cZ6dmNaYfzlSbFvWrpV/7xvLe95sDUKBKWbEx6HfCG2fPeFWufndc4JjHLrhJbm82MKTiTbjznPg6SQ2nysVtzBqJ9Ih1bW9fFL26TbRqOjwMsmuM906rVq3q2m2R0PWQrvb1119rGoqI2dXHf4ndeAyibaSLsEmnsijetmKRROGujbatQXdCN5OHB/tJFrlJHT4j/IZZ8ijSWGKRUOHIIiBjQwJFE39vvPGGXHbZZSb1lWpNqaaxXnzxxfLYY4+Zz7hV0ylh4uGNqk0rAnUMASVM6tiE6uUoAopAdATcChNLmJBm4zSXw9uEhaFzdwsDOh4wUZXw/xi6svgjPYedt4MOCioJbPrO4MGDTboPC2/6totFP+fJKgl69+5tyibXpYBouOaNeTJ9YY0Za5PSYlnp8BKJpDApadhEZi7dLGhMsEstLsRo1YFMdbXcPOFeOemriebFfx58uiw+50IZPayL3DNlkSkbvFeHJvLFko2yzEG0lBYXmvaIId2ay3VH9hJ8U5JNm4mlnrn12D5RpzNav2ruGYQORRh+FdFKTdelz020a4EsgTQhDcVvcjfbMEYlyOeEh+tIpEqsFLVESJ1EFEjxthvvcZH69mNOIGKOO+64qF1B3jn//vjHP5pKOrECdSVKzzvuuEPGjBkTOFwJk1jI6fuKgCJgEVDCRO8FRUARyCsE3IQJygvIDus1YsFAtkuagk3T4XVc9akUAAHC4hLzVwKp8tatWwP/5jWbvoNnCEaSmayQY9MN9tlnH2nevHmdmm83ITCid0spLioMEBpjD6tRCN341nzzWvfmJbJm3Qb5an1hbByqq+X8j1+QzhtWypW/vsiUD6b9u0b1C5wbjZBwduAmPooKC2Rk71amBDDKk/FzVgcOt6oUXnC3jycK50LWcG2QMdEiWroOZpZ4NHAfkzaWz4FJ88KFC2upKvIREzU6Dc465rd8f/Jwna9hiRT8uzZv3mw8TOJV7MRL1vAb/Oyzz5pNBf7YcJgwYYL89re/Naav9nXnf/nNPuGEE6JOC8ezUcBmCOmHTgJQCZN8vaP1uhWBxBFQwiRxzPQMRUARyGEEwnmYQGaMGDEiJD8cIqVNmzamCo4NSrAiEUYyzALMlhH+/PPPZdOmTaZkrw2bvsPikrLFmSRM6vLuebSUk3C3KTvnpz//vax1lOGNeTvjBltQoxvBjHXmX34ZOCWWmas9MFJqDeQIRI4zZYg0IptqE2/7Ma8hzAFWSTBs2LCM+OokM2avzrHlY1FVZNInwqvrS6RdW1GL+yLfgxSOtWvXGoVCvseXX35pfufsRoGXeIwfP15GjRplUklTuQ/5zeb3N55Ip8FsPP3pMYqAIpA7CChhkjtzpSNVBBSBNCAAcQFpYgMlCQ9I7rKRU6ZMMaQIRnE2KMHKLhXRtWvXgB8IRrAszJy7kOxKojwh1QdVhy0pnAnDV1vpgYVnXXsYjFfhYeeQh8G/T1khn62xiTPhb6rWjUukYutO2bYz1MXVSZhEq0DjbtUSHxPm/iS7qoJms5AjVO6JpDBJwy0fsQmbbmDLaXvZV7a3rUqC4AwpSRCKBcpCJxme7feyV+NDYUL1JNLWvA7M2FGXvPXWW/LrX/866e5QfmIeGy7efPNNowQ97bTTTFn1W265JSQtN+lO9URFQBGocwgoYVLnplQvSBFQBKIh4CRMkBXjVYJixF02knKDpNJYFQltIkemhDABkYJUmGAhiaeJcyeMXUm8TUiDadmyZUYr5GBUS8lUp8dKXblLElVgoAZaU7FFXlnRWD5YsFZ2BbkLAwmEyNCeLaVyZ1VoxZz/ATa8dyu5e1SN6ihRsibSOaTW2JSheFNt0jF/EH342+Czk+/h5+55tmPt54NxtmMxe/ZsQ4b7QRJkOxYQaX6RR/iOQJS8+uqrhjjxIjQlxwtUtU1FoG4ioIRJ3ZxXvSpFQBGIgICTMGH3CWKkfv36xrvAGSzYqIAD4WGD0oTvv/+++SfkA2V6CRaS7FQ5VSpUIKF6Dg7/VCDJVIUcxgfJU1ZWFkL+5OsNQglodhPtvIYjXMDm0Ls+DKmGw2v4h7x07qCAb0ii6UC0kSjB4+U84ceD4ggVVL6HnyVTsx1rSEW+G+siwZoo9koeBRFDhcXGgB/pSfx2sgHx/PPPm9QcL0IJEy9Q1TYVgbqJgBImdXNe9aoUAUUgDsLEVr0JR5hMnz7dPFg7HyZRabz33numZcgRW3KTNA8MNPFBsYF0mYfz/v37Gy+UTBEmmO5RCahTp07Ss2fPvL8vSLWiylGfPpGry4TzG3GTJQCZjMIkmyYAIg0DY+7RfA/rTeQkSPMVEyWPgjOvyqMgFqTw4c3lhwEu6jeUb//+97/l1FNP9eSjqISJJ7Bqo4pAnURACZM6Oa16UYqAIhAJAafCZPHixaZKSDjCBLIDR31MW21UVlYa8gGixKkmoaoEhnEjR44MeIRgjgfp0q9fP2nbtq0pK8xuvt8eIqhiGAflkSFNcini8QiJdoz7vatGdJHPPp4mXbp0MR40kc51K0dI03lnzEG1KtIkqxaJdV2x3k/XHHIvt2vXzlSRyPdQ8ih4B6jyKJQwIRVT09ZE/PQ8oi82Kx577DE566yz8v3rSa9fEVAEMoyAEiYZngDtXhFQBPxFAOKCEoYEqTTLli0zHiZuJ34kwRxLWWAbmMViRkeqjtMEcMGCBaYkKQoTW7YQbwjSelAy4HUCUcN7fhMmeKngYbL33nvnnKFdLAUHxMKxD8+QFRXbA3MUrSTviJ7N5Yjmq02paEpGR2o/Vr+p3rGx2o/1fqr9cz73I4SJJY/S0WYut4FyDOWRs4x4Ll9PKmNHbYO6ju+MfA+UDpDOmp4kZnOBcr+pVK2J936ighfKtwceeED++Mc/xnuaHqcIKAKKgCcIKGHiCazaqCKgCGQrAk7CBFKE3UPCbfo6c+ZM2b59e8jOoiVM8C5xLqAhSyBNnGk61h8FZUfHjh0N+ZIJwoRUIRa6lIIsLS3N1mkJO65YHiHhUmecJXnd57dvUiJ/7rPFPAjWa9iklk8J5447dYCc/sQsWb2pUgoLRH7RvYXc/NvetdQlqQAZ67pivZ9K3/Zc7k9UFbmoPErH9TvbwPyZ8qWdO3eWHj16pLv5nGsPRVqjRo3U80hE1M8lePuipFy6dGmt30ovbvAff/zRKN/uuusuGT16tBddaJuKgCKgCMSNgBImcUOlByoCikBdQMASJjwkscPOTireJMOHDw+5PFQZqESc1RGsaoRyw05vE9JxWEyy80Z7BGQLfhn4hpAKQ7+ZKCnMuCBNGJtVv+TKPEZTWqAuCWfMGk1hMrRLYzm6zXpDdv1twuKQUr5gMqJ3S3l/wbqQUsLWu+SG8fNl9vIKUwJ49LAucve7iyL+++rDax66nefwWnlpsXk9loIk1vvpmD8qf1DFiWpPeOzkc0CE8lklTQvFTb4HyrimTZuadMJ8D34H+C53Kg3zFZP58+cLRIYzHdUrLFatWmU+i5T6veKKK7zqRttVBBQBRSAuBJQwiQsmPUgRUATqCgKWMLGERrNmzYSKNpQwdAZSbIxbnRUBMLxjAY103ylXt14omMg1aNDANEPaD7vW3bt3NzvXEDSZIEzYIUVSnos5+NE8QuIxZnWff2qvElm9bLEhjw5/4FNZsn5bYMpL6xVIk9JiWbWpMuQ+KCoskJG9W4WQK5AoyzcG04CKCkV2VQVPg7SprpaQc/BBOaRHS7FkSrQywsl6oyTyGeVextAS4o+H43wOCFNIAlXb1NwFpCdR2SuaMXK+3C983+NddcABB+TLJUe8TlSU/NZBmHidWkr5YjYabrjhBhk7dmzeY68AKAKKQGYRUMIks/hr74qAIuAzApYwwduDHXYMWSkJ7PQfYUiUk+QYZ7lhqyTBKNNZWYRdN0zq8DXB34TAI2LSpElml2yPPfYwr2VC4fHhhx+aVBzKG9eliNeY1XnNlMX86aefTJUHN+HiJkHsebwOaeIkV/j3rqrqiHCS2lNVVS3LHKSKPdipgMnkfCCtp7oTRJq9ZzM5nkz2jUEzvh19+/Y1Jrj5HhC9ePxAIOV7aMWg4B2Arwi/gX4QJqg52ZiALIE00VAEFAFFIJMIKGGSSfS1b0VAEfAdAZQe7BhakmO33XaTH374IcR/hEFhCIss2OltMnv2bGMS6yZMeI338AkpKysz10Q/b7/9tiFL+GNHzm/CxHoz4KFS1x5+YqWtLFm/Vc588nNZvblSWpeVyBNnDJTVi+Ya5Q+7xW4VxxdLKmTZxqDihDksLS6UV8/bz6TfjJ+zOnCvRiJXnKTIrB83hpjR2vecHiu+3/yODhctWmSMiiEEbXnsTI4nk32jMMOzaMCAAUZZkc/BdwbG1nwvqp+LmPsC8ttZLS1f7w++L/je4DfR698y0uTKy8tNOg5pORqKgCKgCGQSASVMMom+9q0IKAK+I2AJExQh7LJ369ZNyM12+o8wKN6HCHF6m7ALTZoOng88XNlYsWKFSW/AGwNDWBsQJsiK6SMThq/W2BMfFdKCMhkQFNe8MU+mLVwnlTurpKSoQIZ0ayHXH9UrKUPVWGkr+Js4q+dAcly3b7VRU4RT27gJmLZN6ku/9o1l7opNsmNXtaz9uVIQlbRuUiL3n7CX/OujH2XKt2tky45gLg5pN0N7tpSxh/WQ3z0ysxYBA/6xFCZ+lRTGCJj7m/vea3l9Ju+7ePpGdUQKnqYnafUk9/2CCpHfjP322y+eW6lOH2NJVr4zvE4vBXMIkwsvvNAYv2ooAoqAIpBJBJQwyST62rcioAj4joAlTD799FOjNkB9QWqC03+EQfFASb629TaxJrH8t3nz5iEeJihR8ApBueD0gyAlBzUKPiYsMP1+MCUPHEk5BEHLli19x9rZYTjPES8JhH43vlcrbWbvltUyenAbGdS/Ty0s3AQMpM6keWvCYmZJj0Q8VvA5qV9UKIO7No9KEsVSzqRrEkk5g/xzmhqnq+1ca4dSqaRrYexpFWK5dg3pGi/fiXiYQPLaVMJ0tZ2L7fA7wfe20+Q7F68jHWMmHYe0HH4ri4trDKy9Cn5nUXudeeaZprSwhiKgCCgCmURACZNMoq99KwKKgO8IWMKEqhgQH/zxsOT0H2FQqE7YUbPeJtYktn79+tK4cWPZd999A2Nnhxpigl1I2rOBFwCLPtJhvN6RCwek9alA+UKZ0EyG23PEjiVWikokAiGWEsOtMLH9/XL3RvLg6bF3iyONl3ZQkrQoKzEVc5zVb5z4OsmUnVXVssLhZxJNZeJHSWHGqakGwdkiPY9qUpBH1rQ5k5+VTPZtDXCzQZWWSRxs3xAmqAOd3/fZMK5MjIENBIxf/SJM8NH53e9+J+PGjcvE5WqfioAioAgEEFDCRG8GRUARyCsEIEwwlIPMYBcVQ1T8RzC/hAixwU4afxjc4fGAWoPFMykdPFQ5JdrWQJZFtVPJASlDFZ4999wzI4SJLQOZDSWFk1WYRCIQYikx8DD5f099HlLNhrlt17hY3rlkSNh73knC7NxVHdaDxH1iNPLDtvf2Nz+FqF2ikUSxritdH9a6agacDD5+phokMz4/z6Gi1vTp06V3795GfZfv8cknn5jv/3322SffoTBeX/ymUDmupKTEUzz4nUbhhMLzqaee8rQvbVwRUAQUgVgIKGESCyF9XxFQBOocAlTFYSFsfUjwL0COT860DVsRx3qbWJNYPErYcXSWmcQ0kvYoNYyzv42pU6caEqZfv36em+SFmyR8VagAghmtO6ynyPSF68xbsVJFUr0JTH//96188N1a2b6jSqgxg0/Ik2cMlE7NSiM2H4lAiEeJQZ/HPjwjhPgY3qOp3H1iTcUgt0plx67QNBx8TwqoeFRdcyz/z7i3OnxLEiE/7EXGIlmilRxOdR7s+Vo6Nogk6pIlS5YYM0u/0+bSNZ/pakcrBoUiiW8V6SdKmIgxSvdLiQVhgjITdeR///vfdN3e2o4ioAgoAkkhoIRJUrDpSYqAIpDLCOD2TxUciAR2VGfNmmWqIKAGsYH8GB8T622CzwkLRo7BwZ+FnA28ID766CNDwFCm2MYHH3xgFCyUIPa6qkC4+WBMpBBB5LgjnOIjliFpOuY8moIiXJoNfYYjEMKVBX7p3EEhBrLuY5qVVMvLfxgkbZrVKInc75fWK5CtO4PlgjuU15dJo4PzHO6cRNJrKEf86z1bGVPY8lJvPQCizRWltVFYsYOLyirfw1luOt+x4LsMJR3fWU7yN19xifYdmm+YQCrym8jvJr9rXgaECRsN3IevvPKKl11p24qAIqAIxERACZOYEOkBioAiUNcQQHmBvJgKOKTa4OeAqV+LFi0Cl8ri0OltwjHk97NQpPqMU7XBriwy9r322kvat28faIPX2J2EsPB759qa1DIe5PXuCOfREctPJB33QThlyPPn7Cs3jJ8v780PrToTS4lx3CMzQlJu3Me7+2pRv1qm/umQAHnlfr+ooEZNYgOFyWQXYRKrOo8TI7/SaxKdF/WpCEUsmhIrUWxz/fhsMorOBiwhTEjBDFdZKxvG5+cYrCcW6aukpnoZ/H6R4gqpO378eC+70rYVAUVAEYiJgBImMSHSAxQBRaCuIYB/A8oSTB6tNwmSawxabVByFW8TiBEqZ5DCYFN2IEgwibWBJwpqkr59+4bk/dMPu/k9evQIlBWGOLElhvn/SH/OY+gnUcLFPhTT92677VZrCrNJYVJdLTJ+zupaY4xF4MRKy3FfY0mhSIuy+lJYINK/Y7m4U3BKiwtD0m06lDeQSaMPDIwr0TSmRMgVPz9jFRUVJoWMHVynIsrPMWRTXxg2oxpDZZbvYUss87DqVNzlKy7q9ROceX4T586da9SVXpuIQ5iQJtumTRuh2pyGIqAIKAKZREAJk0yir30rAopARhCYOHGi4EXCruGGDRuEPHX+n8WZjRUrVgg7zywO2U2bPHmydO3a1RAteJaQqmMDxQl+JZi7du7c2bzMgg9VCoaw6Yh4iBXnMRA1EDksbEnLcZ//845qefSLn+XLVZVmeAPa1pfzBzWVxvVryh8n2p/7+Eik0Kbtu+TWd3+UOSt/lr7ty+Qvw7vIqU99JUs3bK8F0+F9Wsttx9UuAWwPjKXgsITFlG9DlSv2/OG9W0lJUYF8taxC9urQRNylhN2KlUyRTOm4f5xtrFmzxpTBhiR0VnVKdz+50p76VARnihLplJzG1Nrp6ZQrc5nucaIS5DvU+l2lu/1cas/v8tuYy6LofP/991OCid/4a665xqSa4U3Gv/mtZ4Pj0ksvNcbuGoqAIqAIRENACRO9PxQBRSCvEGAn+c033zTkR/fu3YXddnYR3ek0PDjwUIm5Kw//9hgIEHZhMYO1YUsOY1K3++67BwgTiBTah0yAQAn3B7ER6T3n6/Ec5zwGhQnkDuoYxp9oWxzvVzw5v1BmrS0MdFdSWC19m1XLqC5V0qg4MnmzZafIcwuq5fuKKulSXiin9i6RspLCWmTPZVM2y+otVbUup0GRSHmDIunWvFjO27epOe+RzzbI/LWV0qNFfTl/v+bSuEE92VxZJQ98uk6mLd4ckrJDg1Tdeebk7oE+E1UPRSOnvMLf7wcfr64jXe1OmzbNEKh8B+R76L0Regdwb2DcjZdGvgebCHh/8ZvorCjnFS4QGfymQWimElS7g/BCsYJnE8op7vNXX31V8Oy5+eab5corr0ylCz1XEVAE6jgCSpjU8QnWy1MEFIFQBNhdQg1iCZLNmzcLi2J3Og2kCFJ9vE0gRNh1ZcFFHjeLLfxPbOzYscOYaJL+0qVLlwBhAjkD8VBUVOT7NLBIZDcNYieZ/r0gcSK1WbFtp9z30U/y7Zrt0rNliZy3b3NpVFKbZIqHNKIP93EPfbldPl1VmzBxTgqGsH8eUCWlRbWJIjeh4zxv7xZVckaPYNuQOC8sKpQfNhfIbmU1pE/DeolPfzQixb4XDzkTLgUM5RFEHv423BvxponFe1w844p2TOJopXYG5b/ZcUYhlu/hp09FLmCtZFpwlqguR5oqqWsQjF7HEUccYdQgmLInmpLqHNuuXbvM7zDloZ0BAWRVpqju2FzQUAQUAUUgHAJKmOh9oQgoAnmFAGauLMBItWHRFy6dBkBQksyYMcOkLbBoo7IOO14LFiww1XJGjhwZwI0FGXnW7F7ZqiM8tPM6kYkKORA87J7h0xIpwlWlyWT1Fq9uxNUbNsulT38iy7aXGIIA8czqTdtrqUVG9G4pd/6urxmGJXeYxyMenClLN2wLDI/ywg2KC+WA3cvlol90kAenLTMpRnu2aSiVu6rk/UUVgWMP7VYuYw/tUIvESUZtFA9hFM8xEHwcV4NFUPnkFf6JtpsqIRSObIpG0GAATfoJps+pkj3xjj1cP4ni5MXxYDF//nzj0UQqX74H3lTcG6o+EvE7XeuYY44xGxSoWlIhTKLdw8cee6ypwkP1n549e+b77a7XrwgoAhEQUMJEbw1FQBHIKwTYWce8DiNUHhjDpdMACD4lGGOyA8VOFKQJviXffvutUW5AmNhFHA+db7/9tlGXoDIheCBFYWJ35f0GGRkzO2qYN0aKWB4gfozZkjZfLq2QqurqgCHr1Yenr/Qucwf5xUMPSoJwXiRca8PiQpn5l1/WuuxoOLnfo40tO4KKk1jGtX5g7O6DBxAIQTwCnJFo2lY85Ey6jgmnHEqGdHISYfb/MzEH4fqM1wfIeVwsgifW+26CBxNs7g3SFfn+SKSvZBRI4ODVw3A65hX/DFI4MEjO91i9erXx9UJ12bRpU8/hOOGEEwyRAYHnxT3Cvc5vAmsCro1qSBqKgCKgCIT9fa72M1Fd50ARUAQUgSxAwO6wM5Rw6TS8jjqDkpLkrqMuYbeVhSIKE/5NSo4z1QXCBBIGHxMCdQl/9oHFz8vma52qPrHSDGJVmfF6zJAlxz48Q1ZU1DZ8jVZSONFxWSm5NbIMV1I5GmESrdqNuy03YZLO60j0uiMdj8IKopAUs3wPFGakXbC73KFDh4S9fnKBEIqWXpcN85+KwXSihFCihtY8sOPXgZl3vOqheIkjL0gAL+fT7wpKp512mjFOX7x4cVoIE0iRBx54wGxmsAny2muvmY2Rxx9/XOhLQxFQBBSBSAiowkTvDUVAEcg7BJyESbh0GgBxepvMmTPHLJh79+5tyBJIk0MPPVSKi4sD2JGSwwOX9UGgXRQm1iPCT5ArKyuNTwu7xNaENlz/mVaYRFJ6MNZklBmRUoxYcDNnNs0gUr9Uzbl7VE1KTrRw9rNzV3UI4eOuvDP2sPQpZWKNK973IQIhAPfee+94T6mzx1EiHDUWHkbt2rWrs9cZ7sLCESl4H5EGQTl1Ih2EUDraSLfCKBsm2kufokTT0uIhg/is8PuHipI0pVSIrnjwP+ecc+Tdd9815EY6yCWUdU6lEJ4lDz30kJxyyinxDEePUQQUgTxGQAmTPJ58vXRFIF8RcBImNp1mjz32CMlhpsIMcmxIBx62bclg0nFIyxk6dGhIjj+mr7ZUIW1m0vDVnYISaZ6jKSf8uDciKT3oG2XGxUO7yDNrNS0AACAASURBVJlPfi6rN1dK67ISeeKMgdKpWWnEoUUigJgvvGsguVh4c93HPTJDlm8MKlval9eXf50+UO5+d5HMXl4h/do3kUhpQaOfny2T5q0JjKNtkxIpLio0pYmzkSBxAwaZhl8HJEG+BzvM7GJTRaNVq1b5Dod888035gHVWQWsroGSiKE1qXyk5PD74D4vHiIo3URPPH1GOyZb5jKcMgjl2z333GM2GUgH4zowY+V7in/bPzYq7P9fdNFFMmLEiIQui99mvHrGjRsnt9xyiyktfNtttyXUhh6sCCgC+YWAEib5Nd96tYqAIvC/NBwWYzZIp7EKEvsaZXlJa+nYsaPZcSUdh4dMFlo8VOD/UFoafHin0gbvkxPNIhmFiTXW9Bt0WxrUr/KPyV6fm+AoLS6U5g2LZUCnckM8uNN1IDUmjz4oYnfh0mNalJVIx4ZVcnyXKhk5NGiAG44sumH8fBk/Z3Wg/UjpNPvePDXEpySS90myuHh5Hvcm5B73u/Xb8bK/bG/bb1+GbMcDNR0PqW5/m2wft1fjq0sVlGwGfjgfn0gkkpN8wesDPxG8ujBMT7adSH1x7z3zzDNms4HfT8hMNisGDx5s/s1GB+85/66//nrBuDXZgHC57777jJKFTRANRUARUATCIaCEid4XioAikHcI2AWZvfDJkycbOX6fPn0CWJDWwiKKXWdyt62iBKUCCzuqzzRq1ChwPLv2yJTZqc50hRxk04sWLUq6pLBfN0Q40oK+IS5QeSxdv02cRX6LCgtk9thDIg4vWorPvm3rSesWzaOqR8J5ujx/zr6B8VjVyaF3fZizhEm86Vp+3QOZ7seSi/i5aFlRMeXTY1XXyvSc+dk/vwH8NpCOme/htxrriiuukEceeUTYvPCq0tzrr78uv/3tb+Waa66R6667zrcp5nuY8u6olzQUAUUg+xFQwiT750hHqAgoAmlGwE2YWGLEmd/MMRAp7KSRnmPTOXjA4qGCXS/MAG1QfhICBV+ITBMms2fPFioApHuXOFoZ4kRLFEc6PhrpEUth4iRg1myulK2OajUlhSKVQVGRSfm59dggQcY8hkvpoQSxW3VSubMqJCUnXu+TNN/GSTWHNw8eJpCD7du3T6qNunQSJcJJ2YIA1SoZIp9//rkptU7ZdQ0xaiy8qayZdz5jYlM9MUJv3bq151CMHTtW7rzzTqMsIQXHi8DD5I9//KOgVLn66qu96CKgxKFxq/J5+umn5bHHHpMJEyYYMog1g1Ox6slAtFFFQBFIGgElTJKGTk9UBBSBXEXATZiQesNODwtBGyxgJk6caB6iMMi0FUWouPLFF1+Yf6MosTF9+nRzHGV8bUnhTFTIYTyUQ6Zv0ojSGYmU141VHSZSW26VR2EBi0yRwkKRX3RtITcf3VvKS4Nmu5GuDxWIs/oO7VQ55CrhTGXDKV6OHzdTlqzfFuiG81Cd3PjWfPlqWUXO+JbYC4BI++yzz0y57JYtW6bz9sjJtnJFjeUXuNwbPKCSzqdRQ5iQlkkVpXwPlEeffvppoDy713hAYuAxghKjYcOGSXfH77VNI3I2gloUc2NIU34zqaKWjoAU4XsFTxb8gCAgUZTwR3Uy1h9ssPD+iSeeaLrEUPeVV17xjBhKx3VpG4pAPiOghEk+z75euyKQpwi4CRPMXVGL8BBpw5rBQjwgybbqEzwPWOjsv//+IXJadu0xq2PRlcmSwowfAohUImeKUTqmOloZ4kRLFEc63k2kNCgulG0OpUgsIsZep5swqV8ksn1XEIV428l0JaF0zJuzDVtimfsX9VS+h9sQON/x4IEYY+R0k625iisqw06dOilhIiJ4mEAs8FvYtm1bz6f0H//4h9xwww1GLZlK6sqYMWOMmoO0WqrGsbFByuqbb75pCAxSfyBm0hXcM7/5zW9MKhFrAv5YR/Bn/80aBCIFpQ7jYRxUqFKVSbpmQdtRBNKLgBIm6cVTW1MEFIEcQMBNmEybNs0sVPbZZ5+Q0WMGC3GCOSY7VASGiFTVsCaw9gQWkhzLg6g1fM2EwoTdYQiTbt26mcoO6Qw/FCZOlcfOqmpZ4ahkw7XEW2546J3TZdWmysDlt2xYTwbu1kymf7fWvDa4a3O5/qheMdUqma4klM75oy1NQQlFVE1OQ/GgxDJVSNzfhem+D3OlPcrF77bbbmqQ/D8VhJ8luO+66y7561//KpC8VKBLNvh9hzBhU4OUWogKNhTY3PjDH/4ghx12WLJNh5zH7z9k4yGHHCKkxULUsHYoKSkxnylb/QfV6ksvvWQqArHG4NpYk+B/5pVXS1ouUBtRBPIYASVM8njy9dIVgXxFAEKDBYqNDz/80Cxo3LuqLJY5Fl8Sm7PNbhe7sDxQOMuQUn4SsoJUnUxWyLGyaS92AaORB4kQCxx7zRvzZNrCdYIfCCV5y0vrSb3CQunfMVjON1zZ4XiVIfvcPDXEw6RBvUIZ1rNlXFVw6vLngqoTixcvNp48ujgX+fLLLwVfFzyJNET4LiT9gYe3fA8egFELoEqgvHy+h9/+R/fff79Rf1CZjqpe2R6WMEGRxPfrE088EXHIvHfWWWcJvjCq9Mv2mdXxKQIiSpjoXaAIKAJ5h4CbMGHXjHDn7bNYhlhxVsRhgcPxpO84d73I/WfnigcvzmHxxI6S30HO9Ndff22ULtmyEHMbvO7YFWqa6sbIkiJuRUtRgRjSIx5liLv0b4GIFLh8TDqUNzAEDRV5bAWcePxR/J7TdPaHooKqT+yCaohRi/F9wOdFQ4y3At5MlEfP97CECUo9FHv5HniJQKjtueeexgjX6xg3bpyMHj3alDLOBcIK7zJI6KZNm8oxxxwj9957b63KW/YY1CUoULg27i2+gzKxXvB6DrV9RaCuIKCESV2ZSb0ORUARiBsBN2Fi1SHuyhBWYTJixIjAbjx53CwaMYjF28QG1SUwbsNEjvaJTOzgk5uN4RwPxKhmEo1Eq93E076b+GhYXBhSltfdhk27saqVKd+uCTk+HpXJ6Odnh1SyCTfOduX1Q1J+4mk3nuvN5mO0Ckro7EB+IplHRabhnf9RLmLLwy2mr0qY1Mwe1eIwN6fEMka4XsdTTz1lKtiQ3tK3b1+vu0u5fUuGsGlChbq///3vpk2UOWDHegAvFogRvncghPBpUfPtlKHXBhQBzxFQwsRziLUDRUARyDYE3ISJVYdAdjgDwoQYPnx44GUWP+REk/Li3GVD2r9+/Xo5+OCDM0qYoC7BZyVZBYEXJqfu1JpYhImbuAh3/ivn7Sd3v7tIvlxaIVXV1UIVnP4dy+Xqw3sYXxLIFoxftzgMY+0kFhUWyK/3bCVfLNkoyxweKfH6o2Tb/ZzIePDaYcFONScNVVS47wFKrFNuWsvoivkeBw/8q7p27Zr3HxcUlPz2cW+QduJ1PPfcc3L22Webql65SGiuXbvWlA3GVJ61AaWRSS2CUDnqqKO8hk/bVwQUgTQioIRJGsHUphQBRSA3EHATJlYdAtnhDAzZUGkMGzYs8DI7RSyAkCU786rZBSPVgZ0l2s+E4SuDxF+FSLZEYqLVbuKZcTcJM6J3S+NbMuvHjbJ+6w7ZvqNK6hcXSrPSYtm7c7mMPayG9LDhPp/X3eoQe6yTbAl3HsdFSvnJB4WJplyE3rFTpkwxqXV8nvM9bAqKmpzW3AmkVnJ/QJZY0+98vkeo+sL3ByWW/fAUefnll+W0004zik68wXIpvvnmGzN2Kuo1b97cVPphTUBFHIinCy64QK699lpp0aJFLl2WjlURyFsElDDJ26nXC1cE8hcBpLMYtNqw6hCnKgPSA4UJjvbO11k0UoWGXTbMAG3gDYF/CKULM0mYTJ061SzCkpUwe6EwiWQIG29f4dQieJJUh7mFnSoRzjvinmmybnvwwPbl9eWlcwcFVCg3vjVfvlpWIXt1aFKLqKlrnxAeiNkxRxmlCgIxPkNq6hm8y20KiioqQgkTLyqO5eJ3C6Vv2Syg8gukmtfxf//3f3LCCSeY31s2InIlINogeL766ivjU3LGGWfIcccdZ1J48WSZOHGiPPjggyZl509/+pN6l+TKxOo48xoBJUzyevr14hWB/ETATZhYdYhTSWK9Sig37FysVVZWmodOdtmcZXvZUVqyZIlRo0CYIL/1O+yOaCoPPIlUu0n1+hJRs0RSi7jH4FSJgMfQ29+XtduhV2qCdKB3xhwUs5xwqteWjefrjnnorHhZgjsb5z/WmBQPvT+i3SP89kHIY8Dq3CyIdV8l+z7EAuapKD3xEcv2sFVyHnnkEaMgeeCBB+T3v/+9GTaKT5Qmr7zyirCm+M1vfmMqdHGNrCXsudl+jTo+RSBfEVDCJF9nXq9bEchjBNyECeqQ5cuXh3iVoBZhQdOoUSNTJccGD53sSrNodOa1f/vtt/L999+bcoKZqpCD6SxmcqhLnIa02TLVsarlREuJCacygfxo1rBEqqVaoEQGdApN58Fv5rwnP5FZawtDIMiH1Jtwc26rXPhl2pgt912kcfjtyZDtePidcpHtePhNEGQ7Hn4TaqhZDjvsMHnjjTfkyCOPzHZ4ApVuTj/9dKPEQaFqq/uwhiC9FyNbDHMff/xxOf/88+XNN980awZrGJv1F6kDVATyFAElTPJ04vWyFYF8RsBNmKAO+fHHH2XkyJEBWBYsWGCqzTRs2NAYudrgXHaFUHEgTbZhjyclp6CgICMy21WrVhkZMLtZlAbNtnCrRIb3biUlRQVxp8TEm8Jjrxvz2+kzPpfrPy+RrTurAnDkg7lruLmnJDYVoajw1Lp162y7PXwfT7YTjH4D4ncVFL+vL9H+/E5BSXR8fh9vTXD98nT56KOP5Fe/+pW8+OKLJqUl24PNFJSlhx9+uDFeZ9zW64XrgJB89tlnjWEu/iwnnniivPTSS8YAVgmTbJ9dHV++I6CESb7fAXr9ikAeIuAmTObPny+U44UwgewgvvjiC1m9erUxaXOm5KAeQSKMJNnpAwG5AmnCsSyaMlFSGIXLd999Z8ZAqdRsi0RScMKNPZF0IY79y4tfyOzlm6S4pL6s3FQZaDJfFSbZTqj5fb9ixEgFjoEDB2ppTxFTFj2bFWp+3x+quAlF3G+PGwxTUWY888wzctJJJ/k9/Qn3ZwkTxjpv3jx54YUXBP8b4ogjjjDGr6hlKCM8duxYueOOO4zChE0WJUwShltPUAR8RUAJE1/h1s4UAUUgGxCA9EBubQOSgT/KB1NylZg+fbqwwwiBwoLGGShMkNU6K2tAVpCWQ2liSJZMECakFkHyYFJriZ9swNuOIRGFiDt9x5YLjvd63H1h9ko54Xwwd42EER47LOS5R8mjz/fgs0La3aBBg6Rp06b5Dods3LjRVNnaa6+9TOWgfA9LmPhVRjfb8baECd5dlgjwcsxff/217L///vKvf/1LzjzzTC+7SkvbKHBYP/z1r3+Vf//73/Lf//43UN1n1KhR5rsXs1eIk5NPPtmQQRwHgaKhCCgC2Y2AEibZPT86OkVAEfAAATdhgroElQm5xOQZ8z75xzxUQqzwujPwMGnbtm1IJZoffvhBSO056KCDTBpPJgiLmTNnmjxqFpl+RSLERiIKkUTIlXDXmqyaJZHr8QvjdPWDCop7HWNiSwymq+1cbAffIkhGKlqUlZXl4iWkdcyquAmFUz1uQvHwu6oUv8movx5++GE599xz03qve9GYVYlMmDDBKGIoG0xVHAKC5LnnnjOpvHwHY/T6xBNP+Ppb7cU1a5uKQL4goIRJvsy0XqcioAgEEHATJosXLza7PyhJUIeQy49pW7NmzYRqOShPnDFlyhRTupedWBt4oMydO1cOOOAA8/CVCcKEMbNT7hyX19OeKLHhJCR6tal5SJ23arP0a99EnCqSZAkPe72JjivV87zGOR3tQ+hhZuysBpWOdnO1DT6zqMLwKOJzn++B78Lnn38u++yzj6noke+hni617wA2C/DlcPp3eXWf8Lvcp08fueeee+Siiy7yqpu0t8ua4W9/+5sxXsfYlfUAJYTHjRtnyjHz+8z1oNLR6jhph18bVAQ8QUAJE09g1UYVAUUgmxFwEyaW7ODBCXXITz/9ZLwNkKUj23eawXJd7733niEmBgwYELjMpUuXipUQN2nSxPfLt4Z8fsml7QUmSmxEKw+Mt8jYw3rIDePny3vz18iWHUGj1kR9RyBmRj81XRZvKpBBXVqadstLi2POS6LXE7PBLDqA9BN8KkjJ0RBj6qyKm+CdoB43oZ8KW1WK1MsOHTroR0ZE3nnnHZOOikLC64DchVS47bbb5LLLLvO6O0/bh0SBgEOZqqEIKAK5h4ASJrk3ZzpiRUARSBEBN2FiyQ4eJNkNsn4k7KTZ6jlOxQhKDo7be++9AyNB3k+Fmkz5IVBCl6oC7Mi1b98+RYTiPz1RJYebkHD21KG8gVRVV8uKiu2BlykdPLRn/ISHPZE5fvfdd82DjtOcN9aVJXo9sdrLpvepkAMuVFHSEKMu4bPvTrnLV2x4QIX01RSlmjvAEiZ+f6dm8/3Hdyq/L4l8pyZ7PSieUGTcdNNNctVVVyXbjO/nkdrGBkarVq3C9k2aL6bseAaR9qUkiu9TpB0qAgkjoIRJwpDpCYqAIlAXEMDQ1QYPCuy+4z+COoSHhpUrV5rFGrvQTjNYzsEQFgn/vvvuG2iD46msw+IH7xMIlmh/mMIm+364c1lcMm7GhPolnSlB0Xw9EvElAaxoCpN25fVlxcbgvHB8siWAWZROnTpVunfvbioaxRuJXk+87WbDcdy3jRo1ClFGZcO4MjUGPi9r164NqYKVqbFkQ7+QR6RtDR482Cjt8j0yRUJnM+6ko/Ib17t3b8+HiRqOvkhvwQ8klVi2bJk8//zzpioNRClqKggNKspBxvTt2zeV5s251vT16quvNpsXeJSgxiHwNyGsGTxkyQUXXGDS3y655JLAuSkPQhtQBBQBTxBQwsQTWLVRRUARyHYEnIQJiydy9/EfgWz45JNPzAKHlBynGay9JhZDmGY6d+qR3FJhgtKC2RCxCBvej0TauF+/97Of5aNlwapCgzvVl0v2bxrxfGff7rY2V1bJHR+skplLN0t1tUjjBkWmek3fto3k65U/y8pNO0LgG9Gzudx0ZLeI5BLtV2zbKTdO+E6+Xl4R8EIp2LHVzGO/fv10B+9/iPKwwz3trO6UDfdqpsYAwYmKAIJAQ4yaTj1dgneCllmu/akgHbV169a+fIdAeuMjduWVV8rNN9+c0keUNm655RZDoFNFDo8eCNPx48cbtcdbb71Vqxpeoh1awuSxxx6T3//+92bD5R//+Icce+yxxkzeBmsNxoOxPKWFx4wZo4RJomDr8YqAzwgoYeIz4NqdIqAIZAcCTsLEepZAgLCQIk+b3SfUJpjBssBq0KBBYOA8iJPaAMFig8USf3YHiff5g3ix/x/pv6kew/l4rbDAR03h7iee9qON9S/Tt8tPW4Pz1rKByHWDpFY/8c7sk/MLZdbawsDhe7eokjN6VIn79WYl1XJF/13SsF70lt3n7dOyWs7sWYN9vXr1DLkViUCKpfRJhFjKZB+xsM+Ux02scWXyfapKcY9oilLNLJCKSHl1vu+cD3iZnKNM9m0JEyVdg7OAao8yuKQpeR18NvkNvvTSS42PSSrx8ssvm990Svk644UXXpDjjz/eeLLwW5+uoKQwyhU+U6eccopRyEA0vf766/KnP/3JKFyuu+46Q6xoCe90oa7tKALeIaCEiXfYasuKgCKQxQiwewVJQCDLx9+BdBYWaORpUwWAh20q31gzWHs5HLtjxw6TwmPDSZikMx0mXggxqWVMThIn3nNjHRePr0csUohUl5snLpI5K3+WdVt2yFaHoWv7JiXy39N6ScXWnXLH+8vkm9VbpFfrUhk9uK2UlRTGJJ7OeXWZrNwcVPa0aVQk/zy4VDZs2GAWo5Ai8ZBXyRBLsbDz4/141ESMg3x5Usn4s+fEQxhFI42iqYkS6SOecbiPSRVblGJg4fQiSrXNXD4fsoQHPDxdLPGby9eT6thRDUKOU9VEH2pr0MS/i02FdKSwxJofvrOpRnfOOefIfffdF+vwpN+HLEFJysYJZFCqYSvfkOJ2zTXXyH/+8x9zD/E989JLLxkPGAiU4447LtWu9HxFQBHwCQElTHwCWrtRBBSB7ELASZisX7/eLIxZ0LCzyv8PHDjQEBDIdq0ZrL0CyAkePm21ERZIECY8cNuHOr+v9oMPPjBkT//+/dPedTp8PWJVx7n12OR3LEc/P1smzVsTuO4RvVvK+f3ryw8//BB4+LM+LF8u3ShV1SKFBQXSv2NoKeNkgHMSRfEQLqkeE+v8SO9zv0MgYVaMBD1aO7H6sERjMnil85x4yJpox4AHpGh5eXlMAikeQscPYslLMpaHRj4zv/rVr9LqgZTOOfezLXwmSLNUwiSIOr8zpK2iuvE6+J6BXDjxxBPl4Ycf9qw7yJ85c+YI6wCuLR1Bai7fLcRf//rXQEoRhMy//vUvOeKIIwIkPgpIDUVAEchuBJQwye750dEpAoqARwg4CRMWxuw2UyYYkoTFE2QIO4xUvrFmsHYo5CAj10Z5QjgJk0wsfnjAJY2IdBxytLMx3NVxqH7ToqxE9urQJO6Sv5Guy02YDO/dSs7uWWWqEFgJdiTCJtFyxdmIbTxjYvcUzw5UVPgCpBKx1ESx1DyxCJlY78eT7harDd7nM8xDDQRSPOlyqWCWrnPjURNFI3eivWdLn2JUGaufeP2PwrUTD/mUbjVRMvhDqKEmhIQmnUJDZNq0aYaYh0TyOvhM4gNy5JFHGgNVL4LND74T+WOu0xmQJs8++6xgArtt2zbz24y5PBszY8eONcSkXT94SYSm85q0LUUgXxFQwiRfZ16vWxHIcwSchAnVEFgIsmvGQxS7rFTGwReEh0xrBmshY9HDbhS5/nbBw+KIBV4mCBNb/pLKBdaVP9umN560nmTH7CZjqKxzw/41u3bWnyJSOeNkq/AkO9ZMnUeVCNLLIP+olJPvwWd18uTJCZGMiXoDxSJtso1Y4juMMfMd5rzWbLhXUlUTJUrcQNjwkEsFtXbt2hlllruNZIifRNLUsvEhmkpbYOGFktF9n3EPkhpLJZtnnnkm7bchv/uU0GaDhO+CYcOGpa0PCGoMX++8805TUQjTWlLd8GLB6JXfbNJyTj/9dOncuXPa+tWGFAFFwBsElDDxBldtVRFQBLIcAZQkttTfli1bTG42RnaQJPwbZYLbDNZe0uzZs817doFFO6TkEJnI/bfqAUoUkl/udUQrMxyp73Sk9URqOxwZc1TLtUZebXdC811hooaeoXcPn38qfnTr1k322GMPrz8yOdE+ajqnKotBp6omSpUUSpeaKNHryIYJi6XyiZUClgqhE4mgWrhwoVFkoWaM1X8874c7xmLPnPGbzO8a3h/pDDZMfvvb38qECROM+SpeI+mKxYsXy8knnywff/yxMZSFLHF+x6BmpT9UoRAmqGdshZ10jUHbUQQUgfQioIRJevHU1hQBRSBHEHASJuwk8vDEThCLncaNGxvZrNMM1mkGx44UO49WUgthwu6sXfz5DYEtBwrJ46zm49U4vFSLJDNmNxlz1chuMvPD942cmx1Kwh7zxZKNgtVvgRTIgE6ppwMlM95MnEO52CVLlphdzmzcufYbEzyIUJX16tVLOnXq5Hf3WdkfajrIYqeZdVYO1IdB8bDO9z/pl5CupLFFI11SVRNlA7GUDd5EDz30kFF7QPagdOK//Fbz+0v6XLi/cePGGc+xeIPf6lGjRsmrr74ql112WcoVeGy/1sOMcsEjR440CpMrrrjCvG0JEXsMhA19kwb35JNPKmES7+TpcYpAhhBQwiRDwGu3ioAikFkEnIQJixcq45BjvGDBAunSpYt50HaawTpz2L/55huBpGBRZBdDtqRwJh5GKYdIygWKF6/6d6pK1m6ulC2OKjfZltYCAYY5IdUPVO5c8zlDPYAng/XdyeynL/O9a8nY2nPgZaWtzM944iOAMJk1a5Yhz6nWUtcjHhUOBBKkBZsL4Y5P1Ux64sSJxucDUoPfVIjeNWvWGKKX19x//I7fddddcZc55vyTTjpJXnzxRbnooovknnvuSfu0Llq0SD788EM59dRTzXjdRvCMGZUOgaILT5hMGsanHQBtUBGogwgoYVIHJ1UvSRFQBGIj4CRMWNSwq8XDNUQIXiYdOnQwixlrBtu2bdtAoyziSHGAMIGgyHRJYRb1kARe7gx7WeUm9mwldoSaNerDcKw7Zt26dQJBwM50OkqJxuovF963ppeDBg3KheF6PkYe1CEI/Ep19PyC0tABFeQgTMDEj0A1CaEwZcqUlLvjdxoS47nnnpPzzjtPHnzwwZTbTKUBNmlQmBx99NGpNKPnKgKKgA8IKGHiA8jahSKgCGQfAk7ChN0ddrbatGkjq1atCpi8sguNyR2SbMob2kCFQi73iBEjAoSJNUvMxJWSWoARH1V+vAovq9yke8wrV64UfGb2339/s9jWELPjWVpampB0vS7jhlcRO9mYAlNWWEOM5wJl1f16GM52zNNZWSrbrzXe8VFmmU0Cv0g1m0LI91cqwe/zGWecIf/5z3/k7LPPlkcffdQzNaYdJ+sHNl22b99u0or4Q80KfqwzLr/8cqGUN2sMVCn4j7Gm0FAEFIHsQ0AJk+ybEx2RIqAI+ICAkzChu7fffts8OKFOwJuEXTSc7EntwHjO6XMAWQJpwmKO4zJZIYeFIDtVqGOsX4cX8KXiW5KMSWwq14APDfNDdQUrfU6lvbpwLh49rVq1ilu6XheuOdo1LF++3FTH0KpBQZR4KG3YsKGnxGsu3VeWMIEcwEBaQ0zpXVJxbPUxrzE57LDDzO/wzJkzU+rqb3/7m1x//fVmHknFCWfOfuaZZxoz23QEKlTMXiFDWFNAkbNwigAAIABJREFUlKBwsalGNoWXcfAawRqDCn0aioAikH0IKGGSfXOiI1IEFAEfELALF9sVRm3169c3i5qhQ4ealzGGnDp1qsnXxkDUBuk4LIg4jh1Zm7ediQo5mDSyKPPavDKVKjepkC3J3Ap+eLokM65MncP9SUUGHgbw6dEQ82DC7i6eLnzuNcSQw5DGtrJUvmNiVUhKmATvBIgLvk/8IkyoZINiEA+mVPy5IEMwV40WpP0ccsghKd/2eJ/97ne/M2lEpPei7OMP8h5Tdv4wtAVLrm3MmDEmpZZNjwsvvDDl/rUBRUARSD8CSpikH1NtURFQBHIAATdhwgMlQYUcuxhESsuiB/NQZ1lAHrYwfkXBYEkWzs0EYWLz7LPZmNCdzhPNJDYdahSqfWzevFmGDBmSA3ei90PkPqZsNgokJ/Hnfc/Z2wMqMWTwGCXz8KIhhhzGzwVFnYaYtAke1DVtK3g3+G0MTFle1IKQ4KkQJn7ez1TQY71w2mmnmdSfSAFRgvns0qVL/Rye9qUIKAJJIKCESRKg6SmKgCKQ+wi4CRPSWkjTQRa75557mgu0ZrDsynft2jVw0ZRnRc5vy/iy48ZiLhMLOsbCYhJygF0sL8KSGF8urZCdVVVSsW2nFIjI4K7N5fqjekl5aXHUbhNRmCRybKRO1YshFBlbEaZv377Srl07L26RnGvTqpBIq9OoQYDvQO4PFHUaQcJEvZCCdwMG4xCwBx54oC+3yCmnnCIQ4JCbmfh9TeYiUY3geYap7B/+8AezrnCOnY0V1KukBmFAi0oUTEnvVfI2GcT1HEXAewSUMPEeY+1BEVAEshABN2GCkoRFizP9xprBQpY4UxnwP2DncfDgwSbnP5MlhUkNgjSx5nheQJ1qhZxE0nkSUaNEulb8OtgphyDQEMm38qjxzPnXX39tcEElpiHGlwKVnddeSLmEtTWPPuCAA4zyUENM1SAe9r2syObE+ayzzjKpYqgwcoUwISWnY8eOpmQxBrN8ttxjh0S55ZZb5LXXXjO+MBqKgCKQ3QgoYZLd86OjUwQUAY8QiESY7LvvvoEyoyx0MINFXktajg0W0ux6sZCmOg3ECrtGmVjQsYBlhwryxqtwkxjOfqKl1yQznlQVJpBX7JQzZ926dUtmCHXuHCTiEAT64BecWj6/fG78evDL9pvK+tzo5yY4U/q5qX3X8rnBhNXL3xtnryg03nrrLcFPJhMpr8l8bllb4JfCd0s0tRYkEGlfWpUqGZT1HEXAXwSUMPEXb+1NEVAEsgQB61hvh2MVJpi+Ycpmg3LDpOk4Fz4s3pAmk9tO2dpMlhT2o1xsPAqTdHiPgHkiapRwtxKLeTBhvtjl0xCxVYPU4DR4N/hd7SPb70N2vFFmQTI6/Zqyfdxejs9WUiL9BGJcQ0wpblL8/PKHuvjii+WFF14QVBu5Qpi47xNbTph1gjWI5782BadRo0Z6aykCikCWI6CESZZPkA5PEVAEvEHATZigSqD038iRI0OUIpMnTzZ5/U4jRMpNYn6HGoWqEihRMpF7bGX0EDpOBUwiiMVDdFgS44slFbKruko2bv2fh0m3FnL9kT2Nh0mqypBExhztWJt+MnDgwIBSKF1t52o7VIPBqJhy2ZlQQWUjbh999JExbMYsWUNMOiLGwHyPkJajIaKlp2vfBaSibty40fh3+RGXX365PP7440YNlmuECQolFKB4arFm4DPGGgMChT/+zX/ZlNFQBBSB7EZACZPsnh8dnSKgCHiEgJswgRiBgBg+fHhIjxAprVq1MuUBbaxbt04+/fRT4aG8efPm5uVMLObIJZ82bVpKDzmpEh2WcHn7m59kV1V1AKN0p+rEexvornBtpNSvozYmWkI3FBNbnlyVWUFcli1bJnPnzjWpFaoCqMFl9uzZRu2BWs2PuOqqq4wXCMRCJjYlkr1GfodGjRollphFoVRcXGxUJfaPf7NuAFMNRUARyG4ElDDJ7vnR0SkCioBHCLgJE7xKWJCxC+8MZOpNmzaVAQMGBF7esGGD2TXiNQgTdu0zQZikQ02RqslqpHSdI/q2lluP9b88KdUUKBk7dOhQszDVEJM+5mdli1zAnBS8tm3bakWY/00WZbh5uNNKSsG7F48Jysdbc+9cuK+9HqPf5Ou1114rt956qzGadabKen2dqbZPdZ9nn31WTjjhBEOcdOjQwSjaWGM4/1g7OCvwpdqvnq8IKALeIKCEiTe4aquKgCKQ5Qg4CRNksihJ2PFxlxlFpk6FBNQkNioqKoxPBqoT1CeZMnxNx4I+VYVJOEPY9uX15aVzB8UsN+zFLcKOMEZ6ECYaNQhomeXQOwElGYqy3XffPaT6VT7fL6RZoJrba6+9pE2bNvkMReDa/SjZnmtAz5kzx6SX4PXlR9x8881y4403mjQg/MJyJSgrjIcWnykNRUARyH0ElDDJ/TnUK1AEFIEkEMB0DZkvgcT4k08+kZKSEhk2bFhIa6S8sLOFX4kNdmN5HV+T1q1bmx2jTHhD4E3x448/mjEnq3BJ1WQ1nMIkU+k4zI+qKWp/GCD9mjVrFpJWlsRHps6cogantaeSNEN8mdT7J4gN362UbcevI5fUDV5+UP0mpG+//Xa55pprTJUcNieyPWwJYdRrxxxzjNx9991mI4bXI0Wyv93ZjoWOTxGoSwgoYVKXZlOvRRFQBOJGwEmYoNRAahxOYYKShNQOKuLYIN+fh9BevXoJO0mZyq32u2KBvX6nUWyvNmUye3mFrKyoDOCTqXQcBuBH1aC4b7IsODAdxsBZcBlpHYL1/lG/jiCsa9asMQaVlDi1vkxpBT0HG7OEiVaXCk4eKUqYmbo3Frya3nvvvVeuvPJK4TeatJZsD0uYnHnmmTJv3jwh1RdjeA1FQBHIbQSUMMnt+dPRKwKKQJIIOAkTFjaUXoUYcXuYoDxhEXTAAQcEetq2bZspwdmjRw8ju80UYZKpSh9uVcmI3i2luKhQvlpWIXt1aCJjD+vhWTpOtKo+zJP1pthzzz2TvDPq1mmqpqg9n6TU8bkmpY6dYA0xO/gQsBDD+oBXc0dQWQoV3y9/+UujPtQQQwJghutOXfUKm4cfflguvfRS40vVpUsXr7pJe7vcN6wlLrroIjn++OPNZ4p1Ar9Rtrww/yU1GJVqJhSqab9obVARqMMIKGFShydXL00RUAQiI+AkTJCik5bDayNGjAg5acaMGSZ1h0oJNqznSbdu3WS33XZLOh0mlflh4YXvCgoXdsr9jFSNYlMZazTPFUsOYKKXS4vrVPCIde7PP/9sVDcQSLmwQxvretLxvk0/oaRwixYt0tFkzreBagCVHcQwnk0aYkj0BQsWKGHiuBlIUcLbxb2x4NX98sQTT8gFF1xgqhX5/TuXyjXdf//9xifptddeMxsrfNeQ1rVz585AaWHIEvxgXn75ZfUNSgVsPVcR8AEBJUx8AFm7UAQUgexDwEmYkF5DkGozcuTIkN0eyBQk/EOGDAlcBIseFkM8lO+xxx4ZIUxQuVAalcUYpI2fEcsoNpoKJNVxRiNrNm3aZAxO8ZaBSNIQseQAFZ1ywQPAjznDFPirr75SNYUD7HQYSPsxd3728f3338t3331nDE5J19QQo7hBeTN8+HBf4Hj66afl3HPPNelizkp1vnSeRCeQIChJME9GjcPvEOsF/vAq4T1bVhgChY0aCO3OnTsn0ZueoggoAn4hoISJX0hrP4qAIpBVCKDQQCnCAmfSpEmmdDDlglGYOE3YWKjxIE4euw3IlokTJxqionv37hmR07LQmjlzpllE+v0gHMsoNlzKTr3CQuN10q99E7n68ORTdqKRNezWffHFF+rD4PikrVy5UmbPnq3kgAMTUgrYsUY11qhRo6z6XsrUYNTgtDbyljDREuVBbFDcoLxBYeJHGsmLL74oZ5xxhkmhc/qIZepzEm+/VMfBHB6izRIk/NddVph1CJsuSsjFi6wepwhkBgElTDKDu/aqCCgCGUbAEiaQIdOnTzeSWHaeWQiysLFBXj/khLOMIudi5sauEAoPPxaObrjsQ9+BBx4oZWVlnqCZrFLErQJpWFwoW3ZUBcaYiilsNLLGlgEdPHiwNGzY0BNMcq1RfRCuPWPqTRGZHFA1RRCbRYsWGe8MDE4z5VOVbd83KG4gkvAw8aO6y+uvvy4nnXSSMVmnWpGGIqAIKAKZQEAJk0ygrn0qAopAxhGwhAk78KgSID9siV6nwR+78ygXnFUBOBdVCmZt+JhAmLB45L/h/ry4WLvT5+ViPlbqTaTrcp/nJky8Kjvs92Lei3lNd5uKSW1EFZPamEAMQBD49SCc7vvci/YsJl5+x3oxbi/b9BuTCRMmyHHHHWdSYNNhNPuf//zHpLKizsSzB5XpK6+8IkcffbSXsGnbioAikOMIKGGS4xOow1cEFIHkELCECQ9P/KEUIT+bHVZyi23MmTNHli9fHpKzbauxsNiKFZFIFPt6NKIl2nukD2Fy2q5du4hETaTzo7XrHNeoJ+fIso3Ba+xQXl9eP3dgxP7suRXbdsqNb80PVM2p3Fklk+atCUCVisIkGt4sgNeuXWtMGjVqECD1BOUUaQUaNQj4XekjF3C33hR+pVrkAiZKrNWeJau68StNCWPzo446St588005/PDDU75tdt99d+PBQhorv/OoEr0gTGbNmmVKIRP4jbFW2L59u/nNJg0YTxMMuTFbHjNmjGBUrqEIKALZi4ASJtk7NzoyRUAR8BABS5iQcoMxJl4kPHAj+3X6GnzzzTdGeYIZrA3O5cGcdB5IAv7t/MPjxP2aLScY7nX7WqTzwr1vyRqk4s7z0gnZk/MLZdbawkCTe7eokjN6BFNrIvXlJom27hR5bqHI4gqRLuUFcnLPelJWUluRkyx5ZM+D2AIr1ELuMaRKHkVrDxwykZYVz1yjnmJhTpqSRg0CSqzVvhMgkfj8OJV0+X6/WMJESaTgneC3ES7psviKpYvUQKnC5gi/Eddee61cd911aWsblCBCSOnlnoHsiRZ27YCKhmvkd9yPNKd8/1zr9SsCySCghEkyqOk5ioAiUCcQYMcHh3oWOB07djSVM3iwdJbVpIwii0Rn9RwWNuwSEZlY4FiFS9u2bU25WGdEImSSIXFQitz5wXL5ZtVW6dW6gVx0YGtDdCRD8MRLKiXTdjbcjOGURKkSQJHUSYm0y44w7djUsUjpY/GqjpxjygbckxkDRs5UvnKWCk+mnbp0Dko6Ug+dXk116fqSuRa/DU6TGaPf5/hdannGjBnmnnzuuefkhBNOSOvlekGY8PvFd+Tzzz9v1H3l5eWByjik+rLRgeKPtCCULieffLJcfvnl5jgNRUARyF4ElDDJ3rnRkSkCioDHCCCVZceJ0n8tWrQwXiaYqDoXLyyaydumjKI1/oN8YCfJPnx6PMxazbPomjp1qlHFIDHO97DqHXb0IL6QNyeq5Iml7olF5MQ6P9r7ybyXDXMeT1pZPMckQgClQzmEmoL57NevX9j0Mr/9iLJhLvFqIs1PjTWDs+F3Cd1suA9ijcEaJlM1rn79+rEOT/l9NjH4TX7qqafktNNOS7k9ZwNeECbxDpAKOkcccYT5Db/ttttMlT4NRUARyF4ElDDJ3rnRkSkCioDHCGzcuFHee+896dWrl6mqQt7x/vvvL82aNQv0DFkCaYLhnC39h7qEP/tg5fEwazXPgw07b/379zfGsxpi8sOppJAPJBIP+0Q8JM7HH39s8vUh1uJV+cQif+LpN1HCKlab9pozfa/HIoCSUeo4SSC/ySPbN7vhW7ZskQMOOKAWiZRpzDPVP+pCPC5Ir9CoQcDvqlukxO67777y6KOPyjnnnJPWafCaMHF+TzsHzoYH/ikvvfSSXHzxxXLffffJMcccoyk5aZ1dbUwRSC8CSpikF09tTRFQBHIIAUrz4pbPgozg/wcNGmTUJjaQILMjjcmd3VHLNGGC1wASeh5unOlDOQR92ocK+fXpp5/KXnvtZUpEa4gh9VDddOnSJedNBaMRMPGQLU4SiM8OPkWdOnWKi3SK1XcyCqF4xpwNJFEs0+poFcJikUepvJ/subHOs9fL94eaA9f+FrWl24cMGSKlpaWef82SUogS7P7775fzzz8/rf15TZg4B+skT/i+IA2YkslU5/nnP/9p0nL4vtby1WmdYm1MEUgbAkqYpA1KbUgRUARyDQEk1+xgUVUFTwMeuPfZZx+zI2+DHTV2XzmGBSILHxY2LHoytbixZoRa7jJ4x5EXjnwbwkvlzTW4oBjANLF3794mVUmjBgFIJKpLgUs2R7IqnWgG05HIHVItCO6TZPyO4iGAYimXeD8bwpIm9ppQFsYqHZ+q8igWkZNu02rn9YB5vKbVVH7hNxOvL1SZXgf99ezZU+644w655JJL0tqdn4RJuIGzQYNy5tRTTzWpcNb/JK0XqY0pAopAWhBQwiQtMGojioAikIsIkIKDWgPJdUVFhXz00UcyYMAAwUzVBgs2Z/WcbCBM8BtYv369kEeezti4dYfcMH6+zF5eIf3aN5GrD+8h5aXF6ezCs7Zsbj0LT2dZaM86zIGGNXWr9iTxUP7OO+/IHnvsYYxwNWoQIHULYgDCOJORqGl1NHIoFokTi8ChEhqkI+RavOlszuPiVR5lEm/bd7wG03h3kf5YVlZmVBLRFEjJkjxvvfWW2cCgfcrwPvTQQ8b4ddSoUeY1+8f9av///7d3H1BSVGkbx19dFxAkLogRMCBKFESMCLiYAy6KgOsCa0bRZU1rQkFMKKKurhFEFBUzJhRFUTGjGJGggIgEgQXMuuvnfue5Y9E9Pd0z1TPdFab+95w54kxNV9Wvama6n37vezU9VU1V8xlBBSZapUzVrPp9rPNR0KTfP+nBPmFJPleObREIXoDAJHhz9ogAAhERUKd6PQHUahlaIljvxmtKh5rAekOBSvrqOWGvkKPjeuutt1z/FFVTFHKc/chsmzJ75fqHPKTtpnZN7zaF3EXRHsvrN6BeM37fLS3awUTkgVeuXGlaNpuqm9QF0QsW9S1KQq+bfG5DrRamCrqOHTvm823VeltVFqpyTdMxiznyDWP8BjHZwqeqVg+pUboaltarV8/9DfITWGXbpjzPk08+2bnnM/R3WsFWPiOIwET30M033+xWzVm9erULdTSNVhWrxx9/vAuCgpjalI8L2yKAQFkBAhPuCgQQSKyA3slSvxK9O6V3gRSgtG3bttT0hRUrVpRaPScKgcn06dNds9c2bQobZhxw4xu2ZO1P6++HrRvWsqmn7xGL+0OhlvqYsMpH6nIFXT4fhxuFaUrZr5J+92l1MAXGjBIBlloueycsX77cVVxWtX9WeZU4+r2lYEbhpn5e+/XrZ7169XJNX/UGh/ehr3v/1ooz+VYWFisw8apF9MaGptuocbwCEp2XKk3UWF5BioInVc8UevUffn4RQKDwAgQmhTflERFAIAYC6lSvwETvNGsZWpUAa6ne1q1bW7Nmzdafgd6l19SdLl26WKNGjdz8fj1JC2uFHO8dck0nUFlvIUecK0zUf0aVJYWuuimkb9CPpYaJerKud8hVus4wN/VOL2RoDlz6btDvvsaNGxc8hI3zPafARFUBerHLKBHwekXpRb+qTIo91C9M+1FT1GuuuaaguytWYKKDVMWqghA9x1CfkgEDBtgNN9xgV111lVvNTb+Pe/fu7bZ79NFH3e8jpuUU9PLyYAgUVIDApKCcPBgCCMRFYM2aNa6ixOtZonnZqtzQEsNagtUbesLsraSjFxRhr5BTzNVg1MPksmfm24dLv7H2W9aziw6KTw8TPQnVctBaUYFRIuCt8qHmwExTKjFRXwoFoJ06dSq1GlbS75m4NMIN8jqpkkL3C4FJSt2b5qc3EFSRVOyhEEG/1wcPHuwCh6qOsWPH2quvvuoe5v3333dTFhUoe2+SqIpFKwBVdugNFb2Z8vzzz7ulgocOHWqXXXaZezgFPldccYVbHUeVkApTjjrqKLvwwgvtggsuYJWcyqLzfQgEIEBgEgAyu0AAgegJeE/89MJJDexUuaFmkDvssINbhtUbClZUvaDttHqOt0JOWBUmXkl0UO/wRe/KlT0ir5Gngi5VDDFKBJimVPZO8N4hD+oFX1zuxWnTprkXjfr9xygRKFZz7Tj7rlq1ygUNQfVFUmCiZeI1tUXTV6o6Bg0aZBMmTMj5MOPHjzdtU9nhLQ1811132emnn2733HOPWzpYQ0sjn3/++TZlyhQXyuj3c9++fV0PtXHjxrnKVSoBKyvP9yFQXAECk+L68ugIIBBhAYUk3lKW+u9zzz3npuekv+hWRYe3eo6euIW9pLA3zULN4rRKAMPcdCq9a6jqoK233hqS3wRmzpzpyrwVDjBKBNRDQP0D9CKlTp06sJi534GsHFT2ViBwLGviBSadO3d2lR/FHvr9pd/pqtZQqBD14QUmCmVOO+00e+yxx2y//fZzh33nnXfakCFDXIWJVuZTBeCBBx5oalROYBL1K8vxJV2AwCTpdwDnj0CCBfSOjp7gaOiJ2dSpU11fkFatWq1XSV89R1349T3a9ne/+10ocioT1zQhBSaMEgEtsaxpU2req2a4jBIBrfqkJSxZ+SR1R3z++ef26aefumkW+S5DWl3vK/1O03TEYvRFirOZAhP1vKnKFI04n3+2Y/emtGn5afX0KvbQ31q9iaGAYeLEicXeXZUf35uSo1Bk4MCBduONN7rqGI17773XTjzxRNfDRIHT6NGjbdiwYW6qjoIU73urfBA8AAIIFFyAwKTgpDwgAgjERSA9MNExq8JE72bttNNO608hffUcLTfsBSyakhPG0PQgDaoGUvqFWrkhjOtZzH3qRbCqotTImFEi8Nlnn9miRYvcu7ph/QxH7Vqof5NexGk6TvPmzaN2eKEdj/pbKDAnMEldAk1RfffddwPrAaTARH+PtSqPluaN+vAat6q6T1Ux6lFy/fXXu8NWtcmRRx7peprouYf6meyxxx7uvDTdl4EAAtEVIDCJ7rXhyBBAoMgCmYGJ5vGriiR9ud701XO22mqr0AMTrWahpZC1/DGjREAvgPVCmKqB1B3BNIvsPx1eI1wFJowSAW9Km16Y6ncco0RAvToUmO+1116Q/CbgVfOpak1N0Is9FECoclB/kx9//PFi765gjy8nTclRmK+Gymq6rQrWgw46yO1D/3/44Ye7niZ684MVcgpGzwMhUBQBApOisPKgCCAQB4HMwERPbPROT/pKK+mr56j6RBUmYTV89Urn1ZRWZcqFHlolZ+SU+fbRsm+s3Rb1bNjB8VglZ86cObZs2TJjNZjUHfHTTz+5VaA0vSx9mexC3zNxezxNadO75Pvss0/cDr1ox/vdd9+5Pk16UaoqOkaJwHvvvefCJPW7YZQIrFu3zlQ9odXlgqiK8How6XeYVpWJ05g3b57rU6LATeHS/PnzTUsZq9eWnmOot4kaznt9T+J0bhwrAkkTIDBJ2hXnfBFAYL1AZmDy0ksvuUZ2ekfLG+mr56hcPczARPPp33rrLVddokqYQo+zH5ltU2avXP+wh7Td1K7p3abQuyn44+mFzQ8//MA7wWmy3r2iJ+abbbZZwc3j+oC8CC575Yq5VHlc7xMvMFHwqGkTjBIB714Jql+UAhMFDqqqVGPiKA6FSOoXpb4u+f6upW9JFK8ox4RAWQECE+4KBBBIrEBmYKJ5/HXr1i3VJFMByfPPP+8qOtQQVv8f1tJ/xV4S9YAb37Ala39afz9s3bCWTT09+i8W9O64GnjqCSujRECNgRUOBNWcMS7urBxU9kp50yyCqhqIy70ya9YsU4UhgUnqinlBbPv27V1/pCBGjx493O93VcxFcaivmHqs3HfffdavX79S02syp9roOYem4+iDHkpRvJocEwLZBQhMuDMQQCCxAgo/9ATGG1qaduONNy71wjt99RyFJnpHKKwVcrxeHcVaUjiuFSaqDFJ5eHrvmcTe1L+duKYozZ49273YU9k3o0RA4VqtWrVYOSjthiBcy/7ToeamqjDUi2FGiYCa4L755ptuSkm+1RSVNdx///3tP//5j3kNzyv7OMX6PjUHVk+XbIFJsfbJ4yKAQLACBCbBerM3BBCIkEBmYKIXUwpDMlegUbM2zaHWspthLimsF8ArV640veNWjKEeJpc9M98+XPqNtd+ynl10UPR7mOgaqvdMsfq6FMM5iMekEW52ZVWRadpdep+iIK5HlPeh3yl60affe/Xr14/yoQZ6bFqqXL9fdtttt0D3G+Wdef1uijUtNNu5H3bYYabljFUxp8qMqA31KlHD5LvuussGDBhAA9eoXSCOB4ECCBCYFACRh0AAgXgKZAYm6g+iQCTzHUVNyVHPEDXQ1AirlFbTCVThwhP41P2mVSxef/11t3TulltuGc8bsQhHrSfxS5YsccvnRvFFRhFO2ddDKlxTY1M1XmSUCLAsd/Y7gelbZV2837dBNgju3bu3LV682D755JNI/i5TOK3q07Fjx9pxxx3HrxUEEKiGAgQm1fCickoIIOBPIDMw0RNklWBnroqgZnOa8qEXWWHOPebd8bLXVe88qtdAp06dXGNARonARx99ZOpNwWowqTuCpZaz/3QsXbrUvRjV7706derwI/SbgP4eaOy6666Y/Cag5tpqcBrkEtT9+/d30ws//fTTSAYmmv6o5bhvueUWO/nkk7lXEECgGgoQmFTDi8opIYCAPwG9gFJA4g3NWdcyknvvvXepB1CPjAYNGrgqhrCWFPamnqjxrKYGMUoEeLGX/U6g/0JZF/VBePnll61ly5bWokULfoR+E/jiiy9MFUldu3Z1/V0YJQLqmaGAnMAkdUfo76N6fenNg6233jqQW2XgwIGub4ru0yhWy61atco1wL3xxhvttNNOC8SEnSCAQLACBCbBerM3BBCIkEBmYKI50mpql/muvCqgdpGwAAAgAElEQVQ79M6r+h6EFZh4zfaCLIWO0KXKeSgLFiywhQsX2r777htaM94oOqkfT82aNV3lDaNEIIx3x+Ng//nnn7t374vVTDoOBtmOUVM01dOqc+fOcT2Fgh+3llnWajVBBiYnnXSSW6luxYoVkQxMtHKQ3lAZM2aMDR06tODmPCACCIQvQGAS/jXgCBBAICSBzMBEjQ81jUEvHNKH3lHTO69aSjGsFXK8xox6t1NPzhglAsVuhBtXZ1VSaIqSmjMySgS+/vprVzUQ5JKocbAndMx+lVTV8Pvf/57lytN4tMyy3kBQPy81Qg9iqGpj8uTJrvFrWP3DyjtPVd3oDZVRo0bZOeecEwQJ+0AAgYAFCEwCBmd3CCAQHYHMwOTjjz+2r776yjXKTB9qKqqgREsHhhWYeO8Cd+vWzWrUqBEdxJCPRFNPNNVCy+cySgTUuHjatGnWvHlz22GHHWD5TYB+N9lvBVWX6PdLz549I/kOflg3sAIT/a6lSit1BcKY1nbmmWfaPffc46o/oxiY/PLLL66a74orrrB//OMfZW5X/T7OHJmfi+J5hfVzx34RiKIAgUkUrwrHhAACgQhkBiZqfKieGPvtt1+p/euJs57gqDQ7rCc2OjaVJGtJ4SjO4w7kgmXZiRoQ1q5d24VZjBKBMF7UxMFeYeiHH37I8rkZF2vu3Lnu915mUByHa1rMY2RaW1ld9fxSTy/10VI/rSCGQgg1VNXvtbD+/lZ0nkOGDDEtf3zAAQdUtClfRwCBGAoQmMTwonHICCBQGIHMwEQvHLR8YeaTHs1l17tIXbp0Ce0JG008y15zhVjeMrFatYFRIvDdd9+ZXuzR76b0HfHll1/anDlzbK+99nIhG6NEQNPa1Lgycypi0n1UWbjxxhsTxqbdCPo7OH36dLeM7rbbbhvILXLxxRfbtdde6wITTZGKy9AbHAqYZKYP/dv7f01t0vnoQw3dDzrooLicFseJQCIFCEwSedk5aQQQkIBecOsJizfmz5/vGogqMEmv4tDykmp2t/vuu4cWmKjRXr169axDhw5cvN8Ewni3Mw743tQTVd00btw4DoccyDEyrS07s5agXrdunVslh5ESUGCiYG3nnXeG5TcBb7U2hSUKTYIYl112mV155ZVuSs4mm2xSkF2qL9mIESNcTyO9cbLLLrvYRRdd5KalFWpoOqT6Jul5hv5WyU7Bifanob4n+rwCbjWkZoWqQsnzOAgUXoDApPCmPCICCMREIDMw+eyzz0wfmpKT3qtk1qxZpqarGgpSsn14q+dkfi3X573tyvt6+oo8ixYtcs1emzRpsn6lnmLsK9u5RfVyeisHqbHp5ptvHtXDDPy4li9fburHo4Cvbt26ge8/qjvUz7Z+jjT1JKql/WHYvf/++/b999+7yhtGSkDT/fQCnZA6ZaIX+y+88IKbjhPU8vbXXHONDR8+3FavXu0aWVd1TJ061Q455BB3bfv37+/6jzzwwAOuf9nDDz9svXv3ruou3PdrCq/eaFHopl442o8+9LtHAYkqV/X3/NBDD7XrrrsuVtUzBQHiQRCIkQCBSYwuFoeKAAKFFcgMTFRdoioTvaDySn+1jd59VXmtN/Q5fejJo/fv9P/m+/nyHquwZ5z/o+UbEOUTBPkNfHKFSgpMNIVKT9wVDBQqyMpfKVrfIRPdx1oeW0/QGSUCmnK3bNkytwQ1IyWgQFiVdgrYGCkBVSHo9wqBScrEayjdokULa9myZSC3yw033GAXXHCB+9mtajCu+1yVH3oDRJWjmraooZBZlUT6G6LnAcWesqeVddTI9t5777Wbb755/XEEAspOEEAgbwECk7zJ+AYEEKguApmBiUr29aJKc/m98lhto1JahSBBr5DjddLXkzs1q9QTd1WZFCucCTIIyrWvsO+tXAFRkEGQn31pm2xBkj73xRdfuBcXWjlI92yubb39hG0e1P419UTLhitIYqQE9MJRP4/q0cRICWgaZP369d0y1IyUwPPPPx/oClxq+Hr22We76jAFNVUZU6ZMcdUlJ5xwgt1xxx2lHkpTf4YNG2aTJk2yvn37VmU37nu9N0707/RVcfR713su0adPH9MqVeoL07BhwyrvkwdAAIHiCBCYFMeVR0UAgRgIZAYmeqGp1Wj0gsp7h0nbaN6x/htUYPL1j/+1kVPm20fLvrF2W9SzQe02tuWLF7geA9V9nnNFYVB69Y4qKfTOoOaf60lorsqeKARBuc4rCj8mFQUq+U43q8o0tPKOJVdAVF7Ilf49mnqiZossQV36rtPUgI022sj9HDFSAq+88op7EduuXTtY0gS0ZPnWW29trVq1CsRl3LhxdsYZZ7g3M6q6z/POO89GjRrlpuAcffTRpY5fPweqsho8eLCr+ijESA9K0v+tv1X6mfvXv/5lQ4cOtQULFlizZs0KsUseAwEEiiBAYFIEVB4SAQTiI6AXUN7Q0pp6F3rvvfde31xOT2xUYaIRVN+Dsx+ZbVNml/RM0ejarJYdvfUPbioBSwqn7i1dqzVr1li3bt3ic8NlHGlFAVF507VyBUF6J1al52rKmM+UscrsK9/jj8KFqqiCJ9+AqKLHq+jrldmfn95HfiuIWA0m+12pwKRRo0amHkmMlIB6mGy55Za24447BsKiqSunnHKKffDBB1Wu9jnqqKPskUceMa0616lTp1LHr2bZapKtHmbPPfdc0c9NzV6PO+441zdFgUlQyzQX/cTYAQLVUIDApBpeVE4JAQT8C6QHJqpW0JOyPffc061Io6HARBUm3jvf/h+58lsecOMbtmTtT+sfYNPaG9qVe9XgnfEMUk0l0PXZbbfdKo9dDb9T75SqGkpNB6M2/AQsxaoI0rLCeldXjRYzg6TyqpPy7UmUvn0U/CsKbNSYUveLltDNpw9QRY9b6CCovGlo6cddKPOXX37ZNRklMCktqqXc1UskqKXcVQ2iYEG/76v6O23//fc3TSnSNJjMprVasUbNWTU1Tb9DqzoUXGuVHD1/0M+Ynmt4/9XUQAWV48ePd01m77zzzvXPOaq6X74fAQQKL0BgUnhTHhEBBGIkoHfivVJZdcl/7733XFmueoVoqLpEH+kr1hT79DIrTLo03cCG7taA5S0z4FlqOfudSO+F7C5hVAwUosKnMmFORaFTejXRqlWr3AtFrRpSUZVRRcdS7N+Nfh6/oiDH79dVcaCmyfpbkB7IBBUE+ZmeJo+gqw7Vb6Np06bWunVrP5ejyttMnjzZ/vznP5ua8FZ1JSdVj2hKkVbMylwWWcGGmr1XNTDR8wUFkApk1EC2vHHEEUfY6NGjTcs0MxBAILoCBCbRvTYcGQIIBCCQHpjohYNKdfWESaXYYQUm6mFy2TPz7cOlJT1M9qmz3Hbctpnr7s8oEdALO5WGBzmXPg72nstWW20VWMl8HFx0jEFPJYiLi14Ab7bZZgWpGMgWEJUXwlQUwOT7eIXcl5Za1gtfVSXlOo70vhRhXW+/q41VFBT5DYLU66tOnTq26aab5lzivir70j2hJYQVXuhDQeegQYNMywFrBbuqBERBTMnR8cvy6quvdsGMGgfrHtK5KIDT11Vh8tJLL9mBBx5o6qviVbSGdQ+xXwQQKF+AwIQ7BAEEEi2QHpjoHUWV/ar5oVe2H9YKOd5F+eGHH+y1115zL2b0IphRIqDSZlVSKERq3rw5LL8JqKxcT8T17iZz4lO3hV6kKDCRSWYpftJvnqCbeMbF20+QVMhAp7LVPUGGTkEERHrj4sQTT8x5myh88D4UQujfaoauIKeiEXTT1/KOR03LVfFy2GGH2ciRI4u+lHFFNnwdAQRyCxCYcHcggECiBdIDE73ro7nLHTt2dCXHYayQk3kx9E6bpgmpQZ3m0zNKBDQ3/O2333ZNAHWtGCUCeldcc+MJ2ErfEfo5V0+Kli1bVnlp0up0rxEk5b6a6tWxxRZbUKmVRqS/id7qQZqS47cnUT6hzrfffmuPPvqoKfzVNBkFKGrCqubemrqiz3lf07+9VezUB6Si4WdZ4fvvv9/69etX0UNV+HUvAMu2oX4fqWeQlky+4oor7MEHH3Q9yvQ9VamgqfCg2AABBColQGBSKTa+CQEEqotAemDyzTffuBebHTp0cE3t9CTPe6IX1Ao5ma5612zevHlu5R49wWKUCKjfzIcffuimT6nkmVEioNDvnXfecf1uVCXFKBHwgiS9yNMKH4wSAb3YVCUFFUll7wimcGX/KQm6R5LexNAKcQoV+vTpU6UfXf29V2iqEEbVpG3atHGPp4bv+p2pob4jmnIUxFAwpGlCjz32mPXq1cs93wjruUYQ58s+EIirAIFJXK8cx40AAgUR0DtVepKioWX+1FiuXbt27kVVGEsKZ56UwpIlS5ZUee52QbAi9CAqZ54/f77ts88+bl44o0SAICn7nUBFUnYXrdyhigGmtpX1YapS9ntGfyPr1q3r3lgIYqjCUm8YTJw40TV/rep49tln7dBDD3VNjvv37+/+fmglHv3u1BK/WrWmkMObxuT9V88rNKVUb9CcffbZNmnSJHvmmWfsgAMOIDApJDyPhUABBQhMCojJQyGAQPwE0gMT9QvRiwe966Rmol7/Eq+BXRhnpyeLP/74o1vqmJESIEjKfjcoXJs7dy4VSRk86k80a9YsprZluOh3i14A77jjju53HiMloMCkWTOabWfeE+qppQoMryKj2PfMJ598YrvuuquNGzfOLS9ciKF7fvjw4W4KroIM9S0bNmyY9ezZsxAP7x5DvaRU7ac+KwpI9FxDAaU+FODqGObMmWNHH3203XDDDUwtLZg8D4RA4QUITApvyiMigECMBNIDEz2p0ZMc9X9QI9EwlhTO9uS0du3arq8KIyXwwQcfmOa6651HRkpgwYIFrqRcJexa4YNRIuBV3uy2226sSJF2U6iq7o033nAhsfp1MFICzz//vOt3oykcjJSApq1qemhQf5M+/fRTF86o38cpp5wS+UuhaW5qRHvSSSfZ2LFjXUNaPZfQVBv9TtaHqlv086a/X2eccQYNuiN/VTnApAsQmCT9DuD8EUi4QHpgovnNavTXqlUr90TZqzDxllsMmoqlc3OL651BXRe988hICegdS83HV2DCSAl8+eWX7t3cvfbai9Uo0m4MTQvQzxLNk0v/tOh3rypMCEzK/hZRwKZpLGpEHsRQHy+9iXH99dfb3/72tyB2WaV9eI1b1ZR89uzZbvpSeliiipMGDRq4N2W0nLcGzV6rRM43I1B0AQKTohOzAwQQiLJAemCid4b0JFkNELfbbrv1gUlY79RTLp/7ztGKJ1o1qG3btlG+vQI/NipvspN//vnnpneqtdJGjRo1Ar8uUd0hTYKzXxlWD8p9x7755ptumommsQQxVqxY4f4eX3311XbOOecEscvA9qE3ZTTll0avgZGzIwQqJUBgUik2vgkBBKqLgEISPWnR0JNkLV+opQtVhu0tVxhWYOL1XVDpc+PGjasLeZXPw3sxw7u/ZSn1rqaGVg9ipAQ+++wzW7RokWuezIuTlIv3O0Yvfhs1asQt85uA9ztGfwv0Yp2RElBFkv4mdu7cORCWNWvWuP46I0eOtIsuuiiQfRZ6J5o+qv5SCihVyaoeMHpjhp+5QkvzeAgUR4DApDiuPCoCCMREID0w0SFPnTrVlcpq1QgvSAnrBRbTCLLfRGrOq8aDNKos6xP0ChYx+TF303GYqlT2aq1cudJUlaSpbZomwCgR0O9+Tc8kMCl7RyiUVVVEUNMh1WenadOmrinrpZdeGrtbVNNy/vWvf9lDDz1kCihVnaPApGvXrnbiiSfagQce6HqeMBBAILoCBCbRvTYcGQIIBCCQGZio0Z+WFNaLcX0tzHJZLZur+dvqRxFWaBPAJch7F3rH8d1333WNAJs0aZL391fnb9CLvM0339zN+WekBD766CNbt26de5HCSAkoRPr4449t9913d70WGCUC+t0/ffp0V12i0ISREpg5c6bruRFUFZuuRf369e3cc8+1UaNGxeJSpPcx0VLIasatv+NLly61xYsXu1XvFOIqQLn55psLtvpPLHA4SARiKEBgEsOLxiEjgEDhBDIDkxdeeMG9m6UXnF5ne4UmYYz333/f9O4aK8GU1l+2bJlrpseLvNIuvCue+6dUy3NrFaw99tgjjB/lyO5TL+C0bKtewOldb0aJgHpbacU0TZvYZpttYEkTUFitv5tacSqIofChXr16ruHrmDFjgthlQfahaTiDBg2yJ5980u644w4bOHCgW+nnkksusRkzZriVho466ihTlddjjz3mVh2i+WtB6HkQBAouQGBScFIeEAEE4iSQGZjoXUU1E9Uym/qa5mqHFZgEvRpBXK6belGoJ0X37t1deTOjRIAmwbnvhKCnEcTlnlQF27x581zljZY/ZZQIqM+EGkurl5V6JTFSArNmzXI+CqyDGAoRVEmo8EHVGFEf6n+jilC9+XLEEUfYkCFD7Morr3SHrZV+FJg88cQTrgG1Klr/9Kc/ueqZiy++2L1JE1bPtKi7cnwIhClAYBKmPvtGAIHQBfQERcGIN/QkWe9mafUVPVEL68mL9q3pFd70oNChInQAXj+KHj16hBZmRYhj/aF8/fXXpmCAJWLLXp3XX3/dvaOrd3EZKQFWD8p+N3iBiXpZqacVo3Rg8vPPPwdWraW/hfo72KdPH1epEfXhBSb33nuvnXzyyTZhwgQ78sgj3WHffvvtduaZZ9rTTz/tAhNNh+vXr59bovnuu+92z0XoZxL1K8zxJVGAwCSJV51zRgCB9QKZgYmaZuqFlV50hhmYaPqAynZ5wl72ZtX0ClVTaBoBIyWwatUq0zQurV7RsGFDaNIEWIY6++2g3goLFy50/RXCCoejeKMqEHjllVesVatW1qxZsygeYmjHFPTvX/0d1rQoNUdVqBD1kR6YnHTSSfbII4+4Y9e45557TJ97/PHHbf/993dLneu/++yzjwtWCEyifnU5vqQKEJgk9cpz3ggg4AQyAxO9E61pHmooqhFWs1Uam+a+QZmqlN3GW1WJfhRlfVQeT7VWWRe9YFOVSc+ePanWSuPxAmsCk7L3jFZVUm+tvfbaK5BnEQpMdB3Uy2vSpEmB7LMqO/ECk2eeecaOOeYYu+6669x0Io0HH3zQBgwY4MI4Nc299tpr3VLJV111levR4n1vVfbP9yKAQOEFCEwKb8ojIoBAjAQyA5M333zTvXBQiWyYgQnNGHPfROozo8a8rVu3jtGdVvxDpbdLdmO9CFFgonep1cSTkRKYO3euW7njj3/8IyxpAvQDyn07fPjhh/bNN98E1oxcgUm7du2sQ4cOrjlq1IfXuFWVOL169bLDDjvMLSus8dRTT9nhhx9uw4cPdxWsCkoUnDz88MOs+Bb1C8vxJVqAwCTRl5+TRwCBzMBEPSBUFqtpDaouCavhq/fOr17IhFXlEsW7w1vuU0t9aslPRtkXv5peEdZ9G8XrQT+K3FdFK+RolQ41UGakBLzARKulbbXVVtCkCQS9RLeChV122cX9vlfvj7gM9ZRS1YimvWlKoP6Oqy+Zqrk09Dtagcp5553nQhNWyInLleU4kyhAYJLEq845I4DAegG9+6wlJL3xzjvvuOVH9QQmzMBEZc96F0+rVzBSAioF15QcVZdoigUjJaB3fvUknXum9F3x/fffm6bacc+U/WnRi9+1a9e6HgqMlMAPP/xgr732mltensCk9J2hRqWaMhrUPaMgQcuBq6pQq8rEaWg1t9mzZ7sVhXT8eiPk0ksvdVOM1Fheb4jUrVuX1XHidFE51kQKEJgk8rJz0ggg4AlkBiZaMlEvyvUEJ8zARFOD1EtF76wxUgKrV682lTprypSWf2akBBT2qWJqt912gyVNgNWDct8OQfejiMuNSciW+0opANDvYa3yEtRQOFOnTh1XqVHdBpUl1e2Kcj7VUYDApDpeVc4JAQR8C2QGJlplZN26dW4FlrBWjdATKPXp2GyzzejTkXElaWya+9Zm6dzsNv/+979NQajCx0aNGvn+3ZCEDeUS5BKxcTH1KtnatGljW2yxRVwOO5DjDGMal6ax6G+13kiI29DqZfq7pXuqXr16bmrRJpts4sJtfWgZYabdxu2qcrxJEyAwSdoV53wRQKCUQGZgomkNevdMHfnDCky8JS1btmxpLVq04IqlCajEWc1NWQa17G3x0ksvucaBepHHSAmsWLHCNPVElTd6wcJICcycOdP1TtAUREZKwAtMNG1i8803hyZNYM6cOaafqR49egTmcvDBB7spqgr44jQWL15sf//7323y5MnusFUlo1VxzjnnHBeSKHy69dZbbciQIbbDDjvE6dQ4VgQSJUBgkqjLzckigECmQGZgovnZejKocuOw3vVRhYteyGhVgE033ZSLliagcnC9Y0eTytK3hbcSjAI2BW2MlIBXlaQQdOONN4YmTeCtt95y73Az9a/0bfHtt9+6agYCk7I/LlpZadmyZS60Dmr86U9/clUa+vtc7IbWEydOtBkzZpimOGp/ahqt1XmOOOKIvE5X07pOPfVUu+eee1xzV/1u1pQiVbE+9NBDduSRR7r+Ju3bt7cLL7zQ9TZhek5exGyMQGACBCaBUbMjBBCIooCeoOgJkTf0jo+emOndaK+HifdfPVHL9lHo89KTUT2RUqM7le4yUgLvvvuua9KrHjOMlIBXlaR3KZs3bw5NmsDnn3/umi0qZFNfIEZKgGlc2e8GVTMoTNJytpoayUgJzJs3z/2NDHIp6r59+5r2q49iByYKNlQZomq9WrVq2ZIlSyoVmGj1Ka3mpkqcJ5980gHqb3vHjh3dKnxa8Uf32THHHGMK6BSmEJjwk4ZANAUITKJ5XTgqBBAISCAzMJk/f74tXLjQ995zhSi5QhY/n1c5uD40d17TgrLtw8/jpH9fvtvre7N9j2+YIm2olStU1rzzzjsXaQ/xfFjeEc993bwlutUHodgvtuJ297z66qtulQ5VszFSAjQKzn036G/kF198sX553CDum7/85S+u4kPhZ7F/hqdNm+amxzRr1syGDx9uI0aMqFRgokpIhW2jR49203L0XEPB9rHHHusqSBXKqApF03FeeOEFZ0pgEsTdxD4QyF+AwCR/M74DAQSqkUBmYKIlhfXOkIa+lv6haQ+Zn9P/5/p8eV8r73tU8aKvq1Q+c39h0+cKUrxwJt9gJt/t1cOkfv36rq9AVQKhivYr52I/MS/ktWT1oNyaYfRcKOS1LeZj6V1trTalqSeMlADTIqMVQB5//PGmHk2q0Ajy93JVAhO96aGlzA866CC77bbbHKieX5x55pmmaT+qLlHTVwUoOrfly5cTmPBLCIGIChCYRPTCcFgIIBCMQHpgon/rCYzCirAavuqsVQqu/atsN31kC2vyDWXyDX0KGQbl+1jB3AG59+InkCkvQCpvKldFgU2+VUVr1qxx777qhW/t2rWzVgdVFHaF7V2s/auRsyoGunbtWqxdxPZxtRpX06ZNWY0r4woSmOS+pb3G20FWbA0ePNieeuop178qyN5iVQlM9PduzJgxrqnrE088sf5nbNiwYe7zqi5RVYl6K22//fb24osvxvb3CAeOQHUXIDCp7leY80MAgXIFohiY6EWMmr0mebUTXReN9JDFWyVB5dLyKVT4E4XHCfvHtBhTyzIfs9Ahkd9jVmCiqi31vfG+J2zvqOxf0w+23npra9WqVVQOKRLHsXbtWjcFRFP/1MuCkRJYsGCBm7aqHiZBhRd/+9vfbNKkSS74DGqfOuOqBCb6fjXIHTBggGlp8/PPP9+22WYbGz9+vD344IN233332YQJE1wvk4cffth69+7NbYYAAhEVIDCJ6IXhsBBAIDgBzSvW0Iv0X375xf07yCdl6WeqhqYqz9U7TnpyxUgJaKrUBx984CpvGjZsWK1oqjr9S40J5aMVF7x72XvMKARCUZxaVpnqoHxDn0JWGVXmscoLiLyVlfR7Rr9vGCkBVWypwbQadDZu3BiaNAGFJQpNglza/dxzz7Xbb7/dTWkJ8m9zVQMTHauWMlfYn21sueWW9te//tWtkMNAAIHoChCYRPfacGQIIBCQgBeY6AWEpuSEGZjQbDD3RVf5slZJYHnYskZa/lLvYmo57KiPQkwtyycM0lQlrY6jBoz5TmHLZz+5+h2FfT1yVeLo8/rdJ5saNWqsr74pVCgU1uMUwls/S7NmzbJOnTq5Hi+MlMCiRYtM03K0+ov6bAUxtOzu9ddf797Q8DNd9qyzznL3tt9x0003Zd20qoHJYYcd5n6utJy5PvRzJjNNm1Rl16677mp77rmn38NkOwQQCEmAwCQkeHaLAALREUgPTPSEzHuiH8YRqvGbXvxqWWO9M8VICWh1Bq0sEGQpeFz89eJO97GWomaUFgi7sWlFjaMLVQGUbxikcFhVSVp1Si/mqlrl5H1/2PdfZSqHMr9HlX4Kr1XJpqVl8+0pVKzt00MoOQfZANW7rmEs060KjFGjRrm+HwobKhqbbLKJ29bv8KaAZm5f1cDEz/695xxBVs74OS62QQCBlACBCXcDAggkXkD9DbyGr3oREWZg4s0PD/Ldu7jcAOpFoWaM++yzT1wOObDjfPPNN12lwC677BLYPuOyIy3ZqdL3HXfcMS6HHMhx/vjjj6ZlheWid7sLMQpRPVSoACnfJtPpgZNexCqA9CpvcoVRhTCrymP4aUxdmalc5X2PppeoAmfbbbd11RIVrZCWK8AqrwJJgZX+LnvVT1qa9/LLLzf1lmnQoEFVyPL63iACk7wOiI0RQCAUAQKTUNjZKQIIREnAW8bXWyEnzMAkTlMrgr6GM2fOdMFWly5dgt515PenKopGjRpZu3btIn+sQR6gfqa1+oRe3G233XZB7jry+9Kyp2+88YZrLr3FFltE/niDPECtxvL++++X2y8pWzIj8OsAACAASURBVGPqqlbpFDssqsrjB+k/Y8YMu/baa8vssmbNmi5EUVCjj/R/b7XVVvbKK68U9DCrGpioF47CH/0eUgjn/Vf/9kIh/Vsfqg70M92ooCfIgyGAgC8BAhNfTGyEAALVWSAzMAnzScvbb7/tqAkFyt5xehJdv3799Y1Nq/M9mc+56UWaqihY7aSsmqoE9CJKKys1b948H9Zqv60qBbSEuUI29XdhpAS8BtPqMRFkRUOUr4EXBqnBtKZHatqoAoyqhkTZqnc+/fRT9ztNoYLChKVLl5p+//fp08dNH/M+74UN+n9Nn7rtttsKSljZwETnpMqaQw891B273oTR8wzveL1eaToXfV6NdL/66isaDBf06vFgCBROgMCkcJY8EgIIxFTAC0z0ZEZPdMIMTLRCjlZlaNu2bUw1i3PYXijQrFkz9+KXkRLQ/asKE1ZWKntXqI/B66+/bq1bt3bTchgpAZbOzX03eIGJgmuFtIyUwJdffmlz5swJtPn2HXfcYUOHDnVBTcuWLYt6OcaOHeumqmmoykgrs2mKrP72aJxwwgnu3MsbquRRSKKGrupLpp4qqobRh0ImhSk//PCDW4lJv5e05Pm4cePoW1bUK8uDI1B5AQKTytvxnQggUE0E9IJT7/iEvUKOt6Swpg5oCgEjJaDlJPUOY6tWrdY/ccWnRICpFbnvBG/VqQ4dOtimm27KLZMmwEowuW8HvduvnkkEJmWNVDHxySefuDBADYODGBMmTLBTTz3VNUTXFLJijkGDBpn2l2uMHz/etI2fkauhqwKVZcuW2X333WePPvqoqUdLRSGMn/2xDQIIFEeAwKQ4rjwqAgjESMAr7w07MPFK5FVdsvnmm8dIsPiHqmav6mHCC9+y1ponr3cqO3bsSEl3Bs/q1avtvffec81w1eOFkRJg2knuu2HFihX20UcfsVpZFiK90J89e7bruaHKiSDG/fff7yo79HtOSz1Xp3HEEUe41aoee+wxa9q0aXU6Nc4FgWojQGBSbS4lJ4IAApUVUGDiNWYLs+Gr9ySddzXLXklseHFXmZ9v775RyXvdunUr8xDV9nuwyX1pveXduW/KGoVh88gjj9iAAQNck2JdkziNbEsW63OqPtEqTKpYGTx4sOsnpDcEvP4ncTpHjhWB6i5AYFLdrzDnhwACFQpEJTBZtGiRffbZZ9a9e3c315mREvj8889NjQC7devmnmQyUgJffPGFzZs3z7p27Wq1atWCJk0gjH4LcbkAYUytiIuNFwoEWUURF5swqm+eeuop69u3r6nHl/4GVKdxySWX2MiRI00N3zt37kxgUp0uLudSbQQITKrNpeREEECgsgLqYaLQxGvUpoZsYQyVOWs5SwUmjNICc+fOdasN7Lvvvq5hHiMloJBNYdsf//hH12iQkRIghMx9N2i1E/1cEbSVNQpj2klcfm7D6O8ydepU6927tz333HO23377xYXK1EPpxx9/dM8t0pcV1vMNNaTWz9/f/vY3t8LPtGnTbJtttonNuXGgCCRJgMAkSVebc0UAgawC6YFJmCvkqEeHnlhpuUZGaQGtVqDmpjTGK3tnqAGjXsRoJQdGaQFVJak6qWfPngRtGTcHVVu5f1qovsltE0bvG1WWHHLIIfbkk0+6pXqjPrw3XxSGKORRc1wtca7QxOuZpqbLCk3+8Ic/2I033uiWTA7z+UfUTTk+BMIUIDAJU599I4BAJAQUmOgj7CWFX3nlFfdOU7t27SLhEqWDePPNN22jjTZyJcuM0gJqaqolKvfaay9oMgQIk3LfEgsWLLCFCxe6qi1eqJV28qZy6Weqdu3a/FylCagKUgG2fhfr71UQQ0uDq7JEvUxUaRL1oQby+pk67rjj7Omnn3bNXPX/3rLCmlaqnkpaDe/ggw92gS4DAQSiK0BgEt1rw5EhgEBAAnrnR+/6aIQ1pUFPsF588UX3BErLCjNKC+gdxsaNG5tWEGKUFlCzQN23u+66KzQZAloaVmXxmnbCKC1A9U3uO8KbrqSKto033phbJ00gjJWntDrOPvvs45bh7d+/f2yuR/rKe0wljc1l40ARKCNAYMJNgQACiRdQYKIKEz2hCSsw+fbbb01VFG3atLEtttgi8dckHcALkzS/e/vtt8cmQ2DGjBlWv359a9++PTYZArNmzXKl8GreySgt4PUFUu8bRmkB+rvkviM0lUQ/V1reV9NJghha4lmr49x11102cODAIHZZ9H2ootVbEYcwpejc7ACBKgkQmFSJj29GAIHqIPDTTz+5CpMwlxQOY154XK6dppu89tprttNOO9lWW20Vl8MO5Dj1hFuVSVtuuaXtuOOOgewzTjvRyhP6uWYqV9mrxnSl3HcyK0/ltlmzZo2p4qNjx46u6i+IoVXAFNDcdtttdtJJJwWxS/aBAAIIrBcgMOFmQACBxAuoi72asYUZmHirebBsbtnbMYwn6HH5odB9O336dDeNS9O5GKUFFLSp4eLOO+8MTYaA3rVfu3atm+rAKC2wePFimz9/vrOpWbMmPGkCumfeeecd9zPVpEmTQGz091HTMdUcdciQIYHsk50ggAACngCBCfcCAggkWkDv0Csw8Zq0hYUxYMAAU/NO9VygPLf0VWCJz9x3JdU35f/Evvzyy27aAL1vyjp98MEHpqmArDxV1oYVhHL/XK1bt860oluHDh1s0003DeRPpv4GtGzZ0kaPHm1nnXVWIPtkJwgggACBCfcAAgggYGaqXrjnnntcdYk62GslFu+/+nf6R/rnvX97ne8zt/UeR9tpm4pCEL2T+c0337jVByraNmkXbsyYMW6lgSeeeMJVCzBSAmG8eImT/wsvvOCmcbVq1SpOhx3IsdLfJTezF5h0797d/T1gpATURFlT3dQzSau/BDG0Mk+LFi3siiuusPPPPz+IXbIPBBBAYL0AFSbcDAggkGiBOXPmWOvWrYtukCtQUZiir+lJqJq9KizJFdhkC29yBTaZ4Y63n1xBjxfsZAZG5YVHmfvWUon5TmvyEw4de+yxNnXqVNOTZkZpAa0eNHHiRDvvvPNoiJtxc7DyVPk/LZpW8euvv1qXLl34scoQ8KZIEpiUvTUU7Gtlrnbt2tlmm20WyL2jfW6++eZ2ySWX2PDhwwPZJztBAAEEPAECE+4FBBBItICavWpFBK2So34Q+n/9tyr/znwMvXDT5/Shf2c+tprOqnpCPSj0kW0b7zG9x0p/jPTP6fN6ERTmSA9d0kOV8qpxyguDtJqHAiWt5pHrscv7fEVBU2Urh4oRDuV73a655hr3AkIl8kEEf/keX5jbq9fCLbfcYvvttx9LLme5EHrRq59JGuKWxVm4cKEtWLDAevTo4X7nMFIC3opumuamECOIoZWuGjVq5KpLVGXCQAABBIIUIDAJUpt9IYAAAlkEvCqXcePG2XHHHZfVSL1Wso1sn1dg4gUsmeFNrs9nhkSVDY4U3njhU2aQk+sxcwVUXnC0fPlyU/WKPrxtvcAol0tQN1pF1UDZKnoyg6Ns1T0VTfXyQiCVxitsU3BSu3Zt9wI4nyll2aadpVcj6bH0ke9y234qh4p9jdQTSP05rrrqKjv99NOLvbvYPf6zzz5r9erVsz333DN2x17sA1ZYotBk3333dT9TjJTAd999Z2+88Ya1adPGVUUGMfQ3rW7duq5/ifqYMBBAAIEgBQhMgtRmXwgggEAWgSeffNIOP/xwU4PKpK9YkS0AadCggfXt29duvfXWMnpeOJQtjPGqeqpSLVTe93pfy1U5lH5MmUFPZkiUGS5lC7Cy/fBssskmpsavxa4qUgBS6MqhXD2CsgVK2raiMCgz6FEQeeaZZ9qIESPsgAMOcN9fXo8iBXL6ehzDocr8Yt1+++3dUtRPPfVUZb69Wn+PF5ioqi3f+6Faw5jZ999/b6+//rqraNNy5kEM/V1QhYmWFNZKOQwEEEAgSAECkyC12RcCCCCQReC6665zL+yWLl0a2Dt2cbkQmoqjwGTkyJF20UUXxeWwfR1nedUx2b6WbTrW8ccf71ZWUnPTqgRDFVUU5VM5lDmlLNsUtfKmlGn7QoyGDRu6ZXMbN25sq1ev9v2QfvsIZU71qmrlUK4wx6tAyqdyqKJj0WMpMNl9993twQcfzMvG98Yx3nDYsGF27733mqYDKkhjpATCWJlLvw81/ad///522223cTkQQACBQAUITALlZmcIIIBAWYEbbrjB9VrQO+JRmMoQpWv08ccfu+aCd911lw0cODBKhxaJY1FFkgIGlchHeeQTDmlbv5VD6cFLZjAzffp0Uxipngd6J9xvoJS5XUVVRuX1PMpVOZT+mGFdt5o1a7qAVkGtF9bk6jlUUf+hikKdbOGSV9GTT+WQ9zh+wiNvW28/+fxuPeOMM+zOO+90yy5TYVL6DtX9oqB2wIABdswxxwRy++p3QrNmzVwl5vjx4wPZJztBAAEEPAECE+4FBBBAAIHICmh1nAMPPNBefPFF14CRUVpAy+XutNNONnnyZGgyBBRCnnrqqaYlYps3bx6YT2XCoVxNp/32HPITBmUGSldffbV16NDB9TDR91fUc6i8ZtTZppxlC4sCuwhZdpS+dHy2VcvSP7fxxhvbu+++a7vttlupqVwVVe7kmjqWLeCpqHeRn2bUmY/hfU8+4VA+24pVKwip4esFF1xgF154YSCXVD9TLVu2NK1adN999wWyT3aCAAIIEJhwDyCAAAIIxEJA7/Lq3XBK48teLk076dOnj91+++2xuJZBHuSVV17pXtStW7fO6tevH+SuI78vhRl6cS+fyy+/vNLHm08zam1bXjVOes+hXAFQRVPHKqoGytZXKNtjqtrvyy+/tD322KPMymnZgqPMwEjbhDm8fj0VNXWuqHIos6JH2yt4uvvuu+2QQw5xq7qlb5Or/1BFx+GnckgNeDt16mSPP/54UWlVQaNpak8//bTNmzfPvvrqK2vSpIl169bN/bwoLGIggECyBKgwSdb15mwRQAABBKqRwGuvvWYKTVhSuOxF/cc//uFWD9KLWaZVlPbRSidadaQ69gYqxI/33//+d7v55ptNy9l6ozLhUK6Ap5DL2GcLiarSc6ii/kJ6bIWQWpVLPkGGQ02bNrUVK1YU4hLnfIzzzjvPRo0atb6iRc1mNTV0ypQpLrR/5plnqHYs6hXgwRGIngCBSfSuCUeEAAIIIIAAAlUU0DSumTNnmoITRmmBlStXml58Xnvtta7hNKO0gHqYjB071q1AlcRRXjikRtwKEVSZpHBB/YaqWjnkp6JIK/Nss802pqlkxRyPPvqoqyjp2rVrqd089NBDdvTRR5umQaoZMAMBBJIjQGCSnGvNmSKAAAIIIIAAAm7VoBNPPNFOOOEEN7WCUVrgtNNOc9NONB2QUVpAywprOfNLL73UtJpQkobCkvnz59uqVavc6lsMBBBIhgCBSTKuM2eJAAIIIIAAAggg4ENAlROqNNCLY0ZpAU3DqVWrll188cU2YsSIRPGof8ns2bPdcuVa7p6BAALJECAwScZ15iwRQAABBBBAAAEEEKiSgNcwWCvkXHbZZVV6rDh9s1ZN6ty5s/vQVD8GAggkR4DAJDnXmjNFAAEEEEAAAQQQQKDSAupvsnjxYldhkZQqCzVJ1opJqi6ZNm2aacUeBgIIJEeAwCQ515ozRQABBBBAAAEEEECg2gucddZZpVY5quiEb7rppqybaEWjXr162bPPPuumIGkqEgMBBJIlQGCSrOvN2SKAAAIIIIAAAgggUK0F1JhWDWr9jmwrA2n1nj59+tjkyZNNAczo0aP9PhzbIYBANRIgMKlGF5NTQQABBBBAAAEEEEAAgaoJKCzp37+/Pfzww3b66afbP//5z6o9IN+NAAKxFSAwie2l48ARQAABBBBAAAEEEECgkAJqbHvsscfapEmT7JRTTrFbbrmlkA/PYyGAQMwECExidsE4XAQQQAABBBBAAAEEECi8wK+//moDBw60iRMn2vHHH2933HGHbbDBBoXfEY+IAAKxESAwic2l4kARQAABBBBAAAEEEECgWAKXXHKJXXrppW4FIE3F2XDDDcvsatCgQdaiRYtiHQKPiwACERMgMInYBeFwEEAAAQQQQAABBBBAIHgBhSETJkwod8fTp0+37t27B39w7BEBBEIRIDAJhZ2dIoAAAggggAACCCCAAAIIIIBAlAUITKJ8dTg2BBBAAAEEEEAAAQQQQAABBBAIRYDAJBR2dooAAggggAACCCCAAAIIIIAAAlEWIDCJ8tXh2BBAAAEEEEAAAQQQQAABBBBAIBQBApNQ2NkpAggggAACCCCAAAIIIIAAAghEWYDAJMpXh2NDAAEEEEAAAQQQQAABBBBAAIFQBAhMQmFnpwgggAACCCCAAAIIIIAAAgggEGUBApMoXx2ODQEEEEAAAQQQQAABBBBAAAEEQhEgMAmFnZ0igAACCCCAAAIIIIAAAggggECUBQhMonx1ODYEEEAAAQQQQAABBBBAAAEEEAhFgMAkFHZ2igACCCCAAAIIIIAAAggggAACURYgMIny1eHYEEAAAQQQQAABBBBAAAEEEEAgFAECk1DY2SkCCCCAAAIIIIAAAggggAACCERZgMAkyleHY0MAAQQQQAABBBBAAAEEEEAAgVAECExCYWenCCCAQHaBpUuX2oMPPmhPP/20zZs3z7766itr0qSJdevWzS644AJr27YtdAgggAACCCCAAAIIIBCAAIFJAMjsAgEEEPArcN5559moUaOsZcuW1r17d2vUqJF9/PHHNmXKFKtRo4Y988wz1qNHD78Px3YIIIAAAggggAACCCBQSQECk0rC8W0IIIBAMQQeffRRV1HStWvXUg//0EMP2dFHH22tWrWyuXPnFmPXsXjMiRMn2owZM+ydd95xQdJ//vMfe+yxx+yII46IxfFzkAgggAACCCCAAALxESAwic+14kgRQCDhAgpL5s+fb6tWrbLGjRsnUqNFixa2ePFiFyrVqlXLlixZkrjA5NVXX7URI0bY22+/bb/++qvtsssudtFFF1nPnj0TeU9w0ggggAACCCCAQLEECEyKJcvjIoAAAgUWUP+S2bNn29q1a61BgwYFfvR4PNy0adNshx12sGbNmtnw4cNdcJCkCpOpU6faIYccYptsson179/fatasaQ888IDrdfPwww9b796943Ehi3SUVCAVCZaHRQABBBBAIKECBCYJvfCcNgIIxEvg3Xfftc6dO7uPmTNnxuvgi3S0SQtMNP1IYdHKlSvdPdCmTRsnu3z5ctt5551tgw02sIULF1rt2rWLJB79h6UCKfs1opl09O9djhABBBBAIJoCBCbRvC4cFQIIILBe4LvvvrM99tjDVZeowmLfffdFxyxxFSZq/KvqkhNOOMHuuOOOUvfAZZddZsOGDbNJkyZZ3759E3t/JL0CKdeFp5l0Yn8kOHEEEEAAgSoKEJhUEZBvRwABBLIJnHXWWfbzzz/7xrnpppuybquqgl69etmzzz7rpp9cfPHFvh+zum+YtAoT70WvpuCoAXD6eOutt2z33Xe3wYMH280331zdL72v80va/VEeCs2ky79l1q1b5363qi/QokWLTP/ftGlTt4z7mWeeSX8gXz9xbIQAAghUTwECk+p5XTkrBBAIWUA9Jr7//nvfR/G///2vzLa//PKL9enTxyZPnmwKYEaPHu378ZKwYdJeEB911FH2yCOPmKZnderUqdQl/ve//+0aAe+333723HPPJeHyV3iOSbs/KgTJsQHNpM0+++wzN61NlXzbb7+9NWzY0JYtW+Z+93799dd25ZVXmgJLRkrg1FNPtVtuucV9Isl9tbgnEECg+gsQmFT/a8wZIoBADAUUlqippxp5nn766fbPf/4zhmeR/ZALVX2TtBfE+++/vz3//PP26aefuhd16eO///2v1ahRw7p06WKqNmEkb8pWZa85zaTN/u///s8UWm+00UalGNUfqGPHjq7iZPXq1a7ZMsPspZdeclND1S9JbwwQmHBXIIBAdRYgMKnOV5dzQwCBWAroyfuxxx7r+lGccsop69/Fi+XJZDnoQlTf6GGTFpioekQ9OvRu+HbbbVdKVgHb73//ewKTNJWk3R+V+f1AM+mK1bTylFbimjt3rqkaJ+lDAUn79u2tQ4cOtmbNGnv55ZcJTJJ+U3D+CFRzAQKTan6BOT0EEIiXwK+//moDBw40LY96/PHHu+aeWv2EUVYgaS+ImZKT309B0u6P/HTMaCZdsZgCAYUD33zzjVudqlatWhV/UzXfYsiQIXbvvffaJ5984qogCUyq+QXn9BBAwAhMuAkQQACBCAlccskldumll1qDBg3cVJwNN9ywzNENGjTItHxq0kfSXhDT9DW/Oz5p90c+OjSTzq6lUERNkxVcazrO448/7qon7rzzTvvLX/6SD3G13FbhSI8ePWzs2LF23HHHWffu3QlMquWV5qQQQCBdgMCE+wEBBBCIkIDCkAkTJpR7RNOnT3dPVJM+kvaC2M+ywvfff7/169cv6beGO/+k3R9+LzrNpHNLffzxx9auXbv1G2j64K233mp//vOf/fJW2+1++OEHV22zzTbbuF5KGgQm1fZyc2IIIJAmQGDC7YAAAgggEBsBvbP56quvuuN9//337YMPPnDveDZr1sx97oQTTrC99947NueTz4GqKqBly5a2atUqmzlzprVp08Z9u94J1wofGgsXLrQ6derk87DVdlsCk7KXtjo3ky7kjSynxYsXu0qKUaNGuaWFk75K2RlnnGHjxo0zhUoKTQhMCnnH8VgIIBBlAQKTKF8djg0BBBBAoJRARRU448ePN21TXcezzz5rhx56qFutQ/0DatasaQ888IB99dVXbkUlNahklAgQmJS+E6p7M+li3feaGnnTTTfZiy++6MLZJI4ZM2ZYt27dbMyYMTZ06ND1BFSYJPFu4JwRSJ4AgUnyrjlnjAACCCAQYwFV2CgM0PLBWgp1l112sWHDhlnPnj1jfFaFOfQkVyCVJ0gz6crfX0888YT16tXLLr74YhsxYkTlHyim36lqm5122sn+8Ic/2Ouvv16qrxaBSUwvKoeNAAJ5CRCY5MXFxggggAACCCAQVYGkVyDlui40k678HaseJoMHD3bNuBVMJm2sW7fOGjZs6Ou0Fy1aRENyX1JshAACcRIgMInT1eJYEUAAAQQQQACBPAUqCpL0cEluJq1+SNtuu63Vq1evlOySJUtcT6QvvvjCVXR16dIlT/n4b/7jjz+6FduyjaefftpWrFjhVhCqUaOG6/eiShQGAgggUJ0ECEyq09XkXBBAAAEEEEAAAQTyElBfDjU0VY8SLdmu3kBqoKxA4Oeff7Zzzz3XhQGM0gJMyeGOQACBJAgQmCThKnOOCCCAAAIIIIAAAlkF1BdIgckbb7xhy5YtM1VVNGnSxFWUnHzyyXbQQQchl0WAwITbAgEEkiBAYJKEq8w5IoAAAggggAACCCBQQAECkwJi8lAIIBBZAQKTyF4aDgwBBBBAAAEEEEAAAQQQQAABBMISIDAJS579IoAAAggggAACCCCAAAIIIIBAZAUITCJ7aTgwBBBAAAEEEEAAAQQQQAABBBAIS4DAJCx59osAAggggAACCCCAAAIIIIAAApEVIDCJ7KXhwBBAAAEEEEAAAQQQQAABBBBAICwBApOw5NkvAggggAACCCCAAAIIIIAAAghEVoDAJLKXhgNDAAEEEEAAAQQQQAABBBBAAIGwBAhMwpJnvwgggAACCCCAAAIIIIAAAgggEFkBApPIXhoODAEEEEAAAQQQQAABBBBAAAEEwhIgMAlLnv0igAACCCBQDQT+97//2QYbbGDvvPOOTZo0yY488kjbY4893Jn9+9//tqeeesq22mor22effez3v/99NThjTgEBBBBAAAEEkiJAYJKUK815IoAAAgggUASBX3/91TbccEO75ZZb7LTTTrOrr77azj77bLent99+23bffXcXljz22GPWsGHDIhwBD4kAAggggAACCBRHgMCkOK48KgIIIIAAApEVUFWIhipDNPT/3of3eYUguYa2VVDi/bdGjRo2fvx4O/744+2OO+5w/9VYsmSJjR492lq3bm0DBw60WrVquc/re7Vvb//p+/EqViKLx4EhgAACCCCAQGIECEwSc6k5UQQQQAABBKoukCvQuO2222zw4ME2btw4++tf/1r1HRXxEdIDGy/0yRYU/d///Z8LhTR+97vfZQ14Khs4pZ9etuCoiKfPQyOAAAIIIICATwECE59QbIYAAggggEAcBdasWWO77babtW/f3i6++GK799577eGHH7Zvv/3WXnrpJVMooOqQDz74wJYvX25169a1Ll262Jlnnmnbbrtt1lOeOnWqPf3007Zu3Tpr3ry5/eMf/7AHHnjATjzxRLv77rvt2GOPdd+3YsUKmzx5su244462995720YbbWQ//vijvfDCC256jvaT3tfkv//9r82ZM8fq1KljLVq0cCGFN77//nv74YcfXICh71FViypW0rcp1PWRid/HpSKmUOo8DgIIIIAAAtETIDCJ3jXhiBBAAAEEECiYwKpVq1ww0aRJEzdFRv9VU9Yvv/zSbrrpJhduzJ8/33bZZRcXVHz11Vf25ptvWtOmTe2JJ55wn9fwgoErr7zSrrrqKlO4sd1229lPP/1k22yzjTVr1szuvPNOF8j079/ffc+rr77q+pccc8wxduutt9omm2xiixcvdgFKp06dXJii4/Ee+4svvrCddtrJ7fPRRx+1xo0bu8dRL5RRo0bZjBkzXCPZmjVr2uabb+4azJ533nnWqFEj314Kho477jjr27evHX300TZ27FibNm2aNWjQwD3egAED3OPLZMKECfbpp5/apptuaoMGDbLOnTtn3c+CBQvs9ddft5UrV7oQZ4cddrDu3buXaXIrs2XLlpmuDDaxxgAAGsdJREFUidwU/Cg4kp03XcnbgUzWrl3rjkXX5ZdffnHhloIcBU8MBBBAAAEEECi+AIFJ8Y3ZAwIIIIAAAqEJKADp0aOHzZ071zVjVTWIXqT//PPP7gX77NmzXVWJAgO9SNeL8rfeessFCoceeqjrSVK/fn13/FOmTLF+/fq5ypMrrrjCWrVqZV9//bWNHDnS3n33XRfCqHqld+/ebns9zuGHH+5CGW1Tu3ZtF9ooTFBgcvvtt7tj8QITfb8CFgUmmuKjIGTRokXuc6qU+ctf/uLCFu1z1qxZLny47777rGXLlr59X3vtNTvwwAOta9eu7rFloFV89HlVsWhK0ZZbbmkXXXSRffPNN+7rH330kdtGVTXt2rUrFSBpZSBZfP75567qRaGIpvxoWtLw4cPdOXiNcWV511132cKFC10Yom3r1avner6cc845LqTyLOTUoUMHVx2kUEhVQAqR/vOf/9iuu+5q//znP61jx46+z5sNEUAAAQQQQCB/AQKT/M34DgQQQAABBGIjoGk2mg6zevVqF2psv/32vo5dlRaqANH3eIGEAhSFJpqSs99++61/HAUYe+65p5tOo2WEDz74YPc1hRCHHHKICwQuu+wy23jjjV2FibZVlYuqO7ygRn08VGGiz+tDYYrCBlXBnHHGGfbkk0+6x0ofqtJQSFFeg9rMk1XVi85NAccll1ziQhgFQgqWevbs6QISVXBoepH2p0BDQcVZZ51lp556ql1zzTXuPDRUgaOqFIUoJ598sgtzFLpoRSAFL+eff74LTbxpR5rmpPNXxY8CmO+++86eeeYZ9zja35gxY1w1iYYsFCz94Q9/cMfatm1bF/Io4NL3yObll192VT4MBBBAAAEEECiOAIFJcVx5VAQQQAABBCIhoCoMTSXRVJeHHnqozPQVVW4ouFAIom1V9aBAQAGCQha9QNf3qiKlTZs2rsLhnXfecdNUVI2iD4UWqiJRtYcCFVVwaGgKjUIHNYMdMWKEm3aiqg4FIgoDFIookPCqKhQMaBlifU1TeBSm6DH12DfffLMLOrSvqkxJeeWVV6xPnz5uKtDzzz/vpvZ444QTTnDTijRVRxUdXjCirysUUUCjvi+qQNFQpYf6tCiEUS+X9KEgRRUp77//vgtSNDStJtuxn3TSSe4aaLqQV8EiJzlqSpCqSYYMGbL+4RW8XH/99e57NL2IgQACCCCAAALFESAwKY4rj4oAAggggEAkBDTNRdNfVBGiEELTb7yhgOSoo45yPUv0ol5TbdQzQ30y3nvvPVNvjk8++cR9TWGGKkMUmqjBq9c3xAs7LrzwQlN/k2effdb2339/twtVQCgwUYWIqjn02HpMBSY6Hk27UV8T7zE0VUWBSfqxqmeJpvW88cYb9sc//tGFCPvuu6/rE+JVY+QDrWPS46mvyrXXXuumCXlBxqWXXuoqQiZOnOi+rqGASCFNt27dXPjx4YcfunBEoZGOU1UpqiRRuKKpNxqqCpG1Hs+rxvHOUQGLroma3+pzXgWLKnBUmdKrVy/3GLLQPvW4Cp40Xceb2qP/V7WPAqSrr766VLCTjwXbIoAAAggggED5AgQm3CEIIIAAAghUYwFN7VCvC73AVpWGQgbvhbde6KuZqpq4Dhw40L3wVsWI+or86U9/sscff9w1P9U0HvXU0FQSVZuoT0lmYHLuuefa6NGjXQNVBRoaL774oh122GFuOot6gih4UMWEAhNN27nllltKhR7al0KZzK8p2LnhhhtchYwCB1V6aCqKqiy0bT7L8k6fPt1Z/P3vf3erBumYPI/LL7/chg0b5qa8HHDAAe4cvK8pBFJ1inrBaAUfNbc9/fTTXdiiShiFTN6HpuCosas+FAppSpKmDen7ZaTAQ/1RvCWLdfz6t5rMqppG///ZZ585C02nUrWLpg15ocu8efNsr732cufxr3/9q1LBUTW+5Tk1BBBAAAEECiZAYFIwSh4IAQQQQACB6AloaocqTNSIVf1AvEoIvYA/6KCDXAWEQhX11Egf+h5VVKjnxtZbb+2+pMoKLe2rF/N6AZ8+JUeVJAoaVMGhXhsaCk8UmCiY0YeCBFVOaCqLKkW8ChNv9RdVkSio0JQZ71gzRRWqqJ+JggdNG/KmDPmV1zGpwkTNby+44AJ3TF4o4lWYaNljNcpND0xU3aKVcLR/edxzzz1uqtHOO++8fiUhVaNoSpP+K1/1M1F1jTx0rGpmq2lOWnFHBqquUWCjqhw1hNV0IAVXCkwULKnaRn4KulQJ4430rxGY+L3ybIcAAggggED+AgQm+ZvxHQgggAACCMRGQFNgFH5o1Rv1wlAfES8g+POf/2z333+/C0bat2+//pxUzaGAQ5UcS5cuXd/nQ0HGI488UmolHH2Tpu2o74jCAIUKeqGvoTBGU0xUtaGAQv07FLhoGeLNNtvMLResaTre0Haq8lBPj+uuu259xYsqNzKHpv9oGpCCC52H3/Hcc8+5wEQVL1p9RsfkVW6o4kRTY9JDH89K02M0DUeeOnb1LdGUHFXP6HsqGrJXVYumAQ0dOrTU5vp+7fvuu+9256LARJUsctSUqRtvvLHUtBtVmGj1nGxfq+g4+DoCCCCAAAII+BcgMPFvxZYIIIAAAgjETkAVEaps0GowCiHSAwqFB5rSosanCim8lVc0ZUR9OBSEaJUd9c/Q+Pjjj910GlU7KFDRsreqTtG0Hk1NUeWJlhJW9YSGKif0ol5hgIIFL/hQ3w9N19FKMvq3vlc9U7S0ripiNNVF04RUDaMVZNRkVSGLwh4NnYOanSosybZ6TnkXScekEEe9SjSNSMeU2YdFq/voPDW8wERTYNS/RMfXuHFjV12j3i5a6UbnoqlKmUN9SrxVd7xQJH26j7e9pt6oj4zCKzWcVWAiewUm/fv3d9ORvHPX92g1IgUm2b4WuxuUA0YAAQQQQCDCAgQmEb44HBoCCCCAAAJVFdCLa/UwUcCgF97eErfe46qqQeGBmroqoGjdurVbOnfkyJGmfh+aSqIVZbxQQUvsKizRtBD17tC0Eq0Io0amqj5R5YUCAA31OlEAoMdXNYgXmGilGYUimk6jyhbtV1N11L9DoY5Wq/GqYTTtRavpKJzR8sbqwaLVZD766CN3Xppik97ItiIvreKjEEfnp4oPTZ3JDExU+aKVhTS8r6mXiKo+dN7q8aKhPiYKovS1U045xQUo8v3222/dVCZV7qhqRkaqtlE4palRmvqjQEoVPLom6l2i1YrUo0VfV2DihVN6fPVq0dQdb+hrClPU9DUzBKvo/Pk6AggggAACCPgXIDDxb8WWCCCAAAIIxFLAW71F4UDm0Nf0Yl1NSFU1oRf3qjhRJYWqS1TJkDklRkGHghgFA1peWP1LNBVHlRnqwaHPaWgb9eXQ1zVlJ30ojFH4ogBC2ysYUR8VBQRqZqppK5ouo0oLrR6jaTKaDqNqFPUQUUijkCJ96V8/F8cLcRSYKPhJD0y85X3VS0XnnR6YNGvWzIVCa9euLdWAVavhaJqNmtGqr4sqQeSo7dq2beuCEoU8Cl769evnQhFVy+hDzWzV50Q9TrR8slYf0rQnDYUtqtTRMSkwSQ+6VOmiChg1k9W+M0MwPw5sgwACCCCAAAIVCxCYVGzEFggggAACCCBQQAGvaqOAD+n7oTRNRkGQph+pQiZ9qMpFQZHCEgVH6UNTf9atW+emwSjISR+qeNE0Jn2/mr6qAkXLLysI2WKLLdZvqooS9SNR+KOpPKrmUQWKVs8ZMWKE+5qay2qoikQVKQqQVJGSHlopTFGFycknn+wCk8zj8Y3BhggggAACCCBQrgCBCTcIAggggAACCGQVyBVs6PPeh6aPeFUaqlbJrEZRRYg+l7n0r75f23v78L5P1Rl6vPTtvX3pIL3P57OUcDEvb5jhT5j7LqYpj40AAggggEBUBAhMonIlOA4EEEAAAQQQCF3Aa/KaeSDlTWtKD3+8UMcLkrI9jrb3tisvbCIQCf124AAQQAABBBIuQGCS8BuA00cAAQQQQCDuAmPGjLGvv/7aVbJoeor+m/6hzynAUM+TqFSmxN2c40cAAQQQQCAJAgQmSbjKnCMCCCCAAALVWGCHHXZw/UO8KpBcp6rpPgQm1fhG4NQQQAABBBAosACBSYFBeTgEEEAAAQQQCE9AoYj6pui/+lATVu9zWv2HgQACCCCAAAII+BUgMPErxXYIIIAAAggggAACCCCAAAIIIJAYAQKTxFxqThQBBBBAAAEEEEAAAQQQQAABBPwKEJj4lWI7BBBAAAEEEEAAAQQQQAABBBBIjACBSWIuNSeKAAIIIIAAAggggAACCCCAAAJ+BQhM/EqxHQIIIIAAAggggAACCCCAAAIIJEaAwCQxl5oTRQABBBBAAAEEEEAAAQQQQAABvwIEJn6l2A4BBBBAAAEEEEAAAQQQQAABBBIjQGCSmEvNiSKAAAIIIIAAAggggAACCCCAgF8BAhO/UmyHAAIIIIAAAggggAACCCCAAAKJESAwScyl5kQRQAABBBBAAAEEEEAAAQQQQMCvAIGJXym2QwABBBBAAAEEEEAAAQQQQACBxAgQmCTmUnOiCCCAAAIIIIAAAggggAACCCDgV4DAxK8U2yGAAAIIIIAAAggggAACCCCAQGIECEwSc6k5UQQQQAABBBBAAAEEEEAAAQQQ8CtAYOJXiu0QQAABBBBAAAEEEEAAAQQQQCAxAgQmibnUnCgCCCCAAAIIIIAAAggggAACCPgVIDDxK8V2CCCAAAIIIIAAAggggAACCCCQGAECk8Rcak4UAQQQQAABBBBAAAEEEEAAAQT8ChCY+JViOwQQQAABBBBAAAEEEEAAAQQQSIwAgUliLjUnigACCCCAAAIIIIAAAggggAACfgUITPxKsR0CCCCAAAIIIIAAAggggAACCCRGgMAkMZeaE0UAAQQQQAABBBBAAAEEEEAAAb8CBCZ+pdgOAQQQQAABBBBAAAEEEEAAAQQSI0BgkphLzYkigAACCCCAAAIIIIAAAggggIBfAQITv1JshwACCCCAAAIIIIAAAggggAACiREgMEnMpeZEEUAAAQQQQAABBBBAAAEEEEDArwCBiV8ptkMAAQQQQAABBBBAAAEEEEAAgcQIEJgk5lJzoggggAACCCCAAAIIIIAAAggg4FeAwMSvFNshgAACCCCAAAIIIIAAAggggEBiBAhMEnOpOVEEEEAAAQQQQAABBBBAAAEEEPArQGDiV4rtEEAAAQQQQAABBBBAAAEEEEAgMQIEJom51JwoAggggAACCCCAAAIIIIAAAgj4FSAw8SvFdggggAACCCCAAAIIIIAAAgggkBgBApPEXGpOFAEEEEAAAQQQQAABBBBAAAEE/AoQmPiVYjsEEEAAAQQQQAABBBBAAAEEEEiMAIFJYi41J4oAAggggAACCCCAAAIIIIAAAn4FCEz8SrEdAggggAACCCCAAAIIIIAAAggkRoDAJDGXmhNFAAEEEEAAAQQQQAABBBBAAAG/AgQmfqXYDgEEEEAAAQQQQAABBBBAAAEEEiNAYJKYS82JIoAAAggggAACCCCAAAIIIICAXwECE79SbIcAAggggAACCCCAAAIIIIAAAokRIDBJzKXmRBFAAAEEEEAAAQQQQAABBBBAwK8AgYlfKbZDAAEEEEAAAQQQQAABBBBAAIHECBCYJOZSc6IIIIAAAggggAACCCCAAAIIIOBXgMDErxTbIYAAAggggAACCCCAAAIIIIBAYgQITBJzqTlRBBBAAAEEEEAAAQQQQAABBBDwK0Bg4leK7RBAAAEEEEAAAQQQQAABBBBAIDECBCaJudScKAIIIIAAAggggAACCCCAAAII+BUgMPErxXYIIIAAAggggAACCCCAAAIIIJAYAQKTxFxqThQBBBBAAAEEEEAAAQQQQAABBPwKEJj4lWI7BBBAAAEEEEAAAQQQQAABBBBIjACBSWIuNSeKAAIIIIAAAggggAACCCCAAAJ+BQhM/EqxHQIIIIAAAggggAACCCCAAAIIJEaAwCQxl5oTRQABBBBAAAEEEEAAAQQQQAABvwIEJn6l2A4BBBBAAAEEEEAAAQQQQAABBBIjQGCSmEvNiSKAAAIIIIAAAggggAACCCCAgF8BAhO/UmyHAAIIIIAAAggggAACCCCAAAKJESAwScyl5kQRQAABBBBAAAEEEEAAAQQQQMCvAIGJXym2QwABBBBAAAEEEEAAAQQQQACBxAgQmCTmUnOiCCCAAAIIIIAAAggggAACCCDgV4DAxK8U2yGAAAIIIIAAAggggAACCCCAQGIECEwSc6k5UQQQQAABBBBAAAEEEEAAAQQQ8CtAYOJXiu0QQAABBBBAAAEEEEAAAQQQQCAxAgQmibnUnCgCCCCAAAIIIIAAAggggAACCPgVIDDxK8V2CCCAAAIIIIAAAggggAACCCCQGAECk8Rcak4UAQQQQAABBBBAAAEEEEAAAQT8ChCY+JViOwQQQAABBBBAAAEEEEAAAQQQSIwAgUliLjUnigACCCCAAAIIIIAAAggggAACfgUITPxKsR0CCCCAAAIIIIAAAggggAACCCRGgMAkMZeaE0UAAQQQQAABBBBAAAEEEEAAAb8CBCZ+pdgOAQQQQAABBBBAAAEEEEAAAQQSI0BgkphLzYkigAACCCCAAAIIIIAAAggggIBfAQITv1JshwACCCCAAAIIIIAAAggggAACiREgMEnMpeZEEUAAAQQQQAABBBBAAAEEEEDArwCBiV8ptkMAAQQQQAABBBBAAAEEEEAAgcQIEJgk5lJzoggggAACCCCAAAIIIIAAAggg4FeAwMSvFNshgAACCCCAAAIIIIAAAggggEBiBAhMEnOpOVEEEEAAAQQQQAABBBBAAAEEEPArQGDiV4rtEEAAAQQQQAABBBBAAAEEEEAgMQIEJom51JwoAggggAACCCCAAAIIIIAAAgj4FSAw8SvFdggggAACCCCAAAIIIIAAAgggkBgBApPEXGpOFAEEEEAAAQQQQAABBBBAAAEE/AoQmPiVYjsEEEAAAQQQQAABBBBAAAEEEEiMAIFJYi41J4oAAggggAACCCCAAAIIIIAAAn4FCEz8SrEdAggggAACCCCAAAIIIIAAAggkRoDAJDGXmhNFAAEEEEAAAQQQQAABBBBAAAG/AgQmfqXYDgEEEEAAAQQQQAABBBBAAAEEEiNAYJKYS82JIoAAAggggAACCCCAAAIIIICAXwECE79SbIcAAggggAACCCCAAAIIIIAAAokRIDBJzKXmRBFAAAEEEEAAAQQQQAABBBBAwK8AgYlfKbZDAAEEEEAAAQQQQAABBBBAAIHECBCYJOZSc6IIIIAAAggggAACCCCAAAIIIOBXgMDErxTbIYAAAggggAACCCCAAAIIIIBAYgQITBJzqTlRBBBAAAEEEEAAAQQQQAABBBDwK0Bg4leK7RBAAAEEEEAAAQQQQAABBBBAIDECBCaJudScKAIIIIAAAggggAACCCCAAAII+BUgMPErxXYIIIAAAggggAACCCCAAAIIIJAYAQKTxFxqThQBBBBAAAEEEEAAAQQQQAABBPwKEJj4lWI7BBBAAAEEEEAAAQQQQAABBBBIjACBSWIuNSeKAAIIIIAAAggggAACCCCAAAJ+BQhM/EqxHQIIIIAAAggggAACCCCAAAIIJEaAwCQxl5oTRQABBBBAAAEEEEAAAQQQQAABvwIEJn6l2A4BBBBAAAEEEEAAAQQQQAABBBIjQGCSmEvNiSKAAAIIIIAAAggggAACCCCAgF8BAhO/UmyHAAIIIIAAAggggAACCCCAAAKJESAwScyl5kQRQAABBBBAAAEEEEAAAQQQQMCvAIGJXym2QwABBBBAAAEEEEAAAQQQQACBxAgQmCTmUnOiCCCAAAIIIIAAAggggAACCCDgV4DAxK8U2yGAAAIIIIAAAggggAACCCCAQGIECEwSc6k5UQQQQAABBBBAAAEEEEAAAQQQ8CtAYOJXiu0QQAABBBBAAAEEEEAAAQQQQCAxAgQmibnUnCgCCCCAAAIIIIAAAggggAACCPgVIDDxK8V2CCCAAAIIIIAAAggggAACCCCQGAECk8Rcak4UAQQQQAABBBBAAAEEEEAAAQT8ChCY+JViOwQQQAABBBBAAAEEEEAAAQQQSIwAgUliLjUnigACCCCAAAIIIIAAAggggAACfgUITPxKsR0CCCCAAAIIIIAAAggggAACCCRGgMAkMZeaE0UAAQQQQAABBBBAAAEEEEAAAb8CBCZ+pdgOAQQQQAABBBBAAAEEEEAAAQQSI0BgkphLzYkigAACCCCAAAIIIIAAAggggIBfAQITv1JshwACCCCAAAIIIIAAAggggAACiREgMEnMpeZEEUAAAQQQQAABBBBAAAEEEEDArwCBiV8ptkMAAQQQQAABBBBAAAEEEEAAgcQIEJgk5lJzoggggAACCCCAAAIIIIAAAggg4FeAwMSvFNshgAACCCCAAAIIIIAAAggggEBiBAhMEnOpOVEEEEAAAQQQQAABBBBAAAEEEPArQGDiV4rtEEAAAQQQQAABBBBAAAEEEEAgMQIEJom51JwoAggggAACCCCAAAIIIIAAAgj4FSAw8SvFdggggAACCCCAAAIIIIAAAgggkBgBApPEXGpOFAEEEEAAAQQQQAABBBBAAAEE/AoQmPiVYjsEEEAAAQQQQAABBBBAAAEEEEiMAIFJYi41J4oAAggggAACCCCAAAIIIIAAAn4FCEz8SrEdAggggAACCCCAAAIIIIAAAggkRoDAJDGXmhNFAAEEEEAAAQQQQAABBBBAAAG/AgQmfqXYDgEEEEAAAQQQQAABBBBAAAEEEiNAYJKYS82JIoAAAggggAACCCCAAAIIIICAXwECE79SbIcAAggggAACCCCAAAIIIIAAAokRIDBJzKXmRBFAAAEEEEAAAQQQQAABBBBAwK8AgYlfKbZDAAEEEEAAAQQQQAABBBBAAIHECBCYJOZSc6IIIIAAAggggAACCCCAAAIIIOBXgMDErxTbIYAAAggggAACCCCAAAIIIIBAYgQITBJzqTlRBBBAAAEEEEAAAQQQQAABBBDwK0Bg4leK7RBAAAEEEEAAAQQQQAABBBBAIDEC/w+/oebp2h/v1wAAAABJRU5ErkJggg==\" width=\"800\">"
      ],
      "text/plain": [
       "<IPython.core.display.HTML object>"
      ]
     },
     "metadata": {},
     "output_type": "display_data"
    }
   ],
   "source": [
    "# plot\n",
    "plot_3d_pca(x, v)"
   ]
  },
  {
   "cell_type": "markdown",
   "metadata": {
    "slideshow": {
     "slide_type": "slide"
    }
   },
   "source": [
    "## <img src=\"https://img.icons8.com/dusk/64/000000/data-sheet.png\" style=\"height:50px;display:inline\"> Recap - Singular Value Decomposition (SVD)\n",
    "---\n",
    "* In linear algebra, the singular-value decomposition (SVD) is a factorization of a real or complex matrix. It is the generalization of the eigendecomposition of a positive semidefinite normal matrix (for example, a symmetric matrix with positive eigenvalues) to any $ m\\times n$ matrix via an extension of the polar decomposition.\n",
    "* Definition: $$ A_{[m \\times n]} = U_{[m \\times r]} \\Sigma_{[r \\times r]} (V_{[n \\times r]})^T $$"
   ]
  },
  {
   "cell_type": "markdown",
   "metadata": {
    "slideshow": {
     "slide_type": "subslide"
    }
   },
   "source": [
    "* $A$ - Input Data matrix\n",
    "    * $m \\times n$ matrix (e.g. $m$ documents and $n$ terms that can appear in each document)\n",
    "* $U$ - Left Singular vectors\n",
    "    * $m \\times r$ matrix (e.g. $m$ documents and $r$ concepts)\n",
    "    * $U = eig(AA^T)$"
   ]
  },
  {
   "cell_type": "markdown",
   "metadata": {
    "slideshow": {
     "slide_type": "subslide"
    }
   },
   "source": [
    "* $\\Sigma$ - Singular values\n",
    "    * $r \\times r$ **diagonal** matrix (strength of each 'concept')\n",
    "    * $r$ represnts the **rank** of matrix $A$\n",
    "    * $\\Sigma = diag\\left(\\sqrt{eigenvalues(A^TA)}\\right)$\n",
    "    * **Singular Values** definition: the singular values of a matrix $X \\in \\mathbb{R}^{M \\times N}$ are the *square root* of the **eigenvalues** of the matrix $X^TX \\in \\mathbb{R}^{N \\times N}$. If $X \\in \\mathbb{R}^{N \\times N}$ already, then the singular values are the eigenvalues."
   ]
  },
  {
   "cell_type": "markdown",
   "metadata": {
    "slideshow": {
     "slide_type": "subslide"
    }
   },
   "source": [
    "* $V$ - Right Singular vectors\n",
    "    * $n \\times r$ matrix (e.g. $n$ terms and $r$ concepts)\n",
    "    * $V = eig(A^TA)$"
   ]
  },
  {
   "cell_type": "markdown",
   "metadata": {
    "slideshow": {
     "slide_type": "subslide"
    }
   },
   "source": [
    "* Another way to look at SVD: $$ A \\approx U\\Sigma V^T = \\sum_i \\sigma_i u_i \\circ v_i^T $$ \n",
    "    <img src='./assets/tut_03_svd_1.jpg' style=\"height:100px\"> <img src='./assets/tut_03_svd_2.jpg' style=\"height:100px\">"
   ]
  },
  {
   "cell_type": "markdown",
   "metadata": {
    "slideshow": {
     "slide_type": "slide"
    }
   },
   "source": [
    "### <img src=\"https://img.icons8.com/dusk/64/000000/cinema-.png\" style=\"height:50px;display:inline\"> SVD Example - Users-to-Movies\n",
    "---\n",
    "We are given a dataset of user's rating (1 to 5) for several movies of 3 genres (concepts) and we wish to use SVD to decompose to the following componnets:\n",
    "* User-to-Concept - which genres the users prefer: $U$ matrix\n",
    "* Concepts - what is the strength of each genre in the dataset: $\\Sigma$ - strength of each concept (the singular values)\n",
    "* Movie-to-Concept - for each movie, what genres are the most dominant: $V$ matrix"
   ]
  },
  {
   "cell_type": "code",
   "execution_count": 13,
   "metadata": {
    "slideshow": {
     "slide_type": "subslide"
    }
   },
   "outputs": [
    {
     "name": "stdout",
     "output_type": "stream",
     "text": [
      "User-to-Movies matrix:\n"
     ]
    },
    {
     "data": {
      "text/html": [
       "<div>\n",
       "<style scoped>\n",
       "    .dataframe tbody tr th:only-of-type {\n",
       "        vertical-align: middle;\n",
       "    }\n",
       "\n",
       "    .dataframe tbody tr th {\n",
       "        vertical-align: top;\n",
       "    }\n",
       "\n",
       "    .dataframe thead th {\n",
       "        text-align: right;\n",
       "    }\n",
       "</style>\n",
       "<table border=\"1\" class=\"dataframe\">\n",
       "  <thead>\n",
       "    <tr style=\"text-align: right;\">\n",
       "      <th></th>\n",
       "      <th>Matrix</th>\n",
       "      <th>Alien</th>\n",
       "      <th>Serenity</th>\n",
       "      <th>Casablanca</th>\n",
       "      <th>Amelie</th>\n",
       "    </tr>\n",
       "  </thead>\n",
       "  <tbody>\n",
       "    <tr>\n",
       "      <td>User 1</td>\n",
       "      <td>1</td>\n",
       "      <td>1</td>\n",
       "      <td>1</td>\n",
       "      <td>0</td>\n",
       "      <td>0</td>\n",
       "    </tr>\n",
       "    <tr>\n",
       "      <td>User 2</td>\n",
       "      <td>2</td>\n",
       "      <td>2</td>\n",
       "      <td>2</td>\n",
       "      <td>0</td>\n",
       "      <td>0</td>\n",
       "    </tr>\n",
       "    <tr>\n",
       "      <td>User 3</td>\n",
       "      <td>1</td>\n",
       "      <td>1</td>\n",
       "      <td>1</td>\n",
       "      <td>0</td>\n",
       "      <td>0</td>\n",
       "    </tr>\n",
       "    <tr>\n",
       "      <td>User 4</td>\n",
       "      <td>5</td>\n",
       "      <td>5</td>\n",
       "      <td>5</td>\n",
       "      <td>0</td>\n",
       "      <td>0</td>\n",
       "    </tr>\n",
       "    <tr>\n",
       "      <td>User 5</td>\n",
       "      <td>0</td>\n",
       "      <td>0</td>\n",
       "      <td>0</td>\n",
       "      <td>2</td>\n",
       "      <td>2</td>\n",
       "    </tr>\n",
       "    <tr>\n",
       "      <td>User 6</td>\n",
       "      <td>0</td>\n",
       "      <td>0</td>\n",
       "      <td>0</td>\n",
       "      <td>3</td>\n",
       "      <td>3</td>\n",
       "    </tr>\n",
       "    <tr>\n",
       "      <td>User 7</td>\n",
       "      <td>0</td>\n",
       "      <td>0</td>\n",
       "      <td>0</td>\n",
       "      <td>1</td>\n",
       "      <td>1</td>\n",
       "    </tr>\n",
       "  </tbody>\n",
       "</table>\n",
       "</div>"
      ],
      "text/plain": [
       "        Matrix  Alien  Serenity  Casablanca  Amelie\n",
       "User 1       1      1         1           0       0\n",
       "User 2       2      2         2           0       0\n",
       "User 3       1      1         1           0       0\n",
       "User 4       5      5         5           0       0\n",
       "User 5       0      0         0           2       2\n",
       "User 6       0      0         0           3       3\n",
       "User 7       0      0         0           1       1"
      ]
     },
     "execution_count": 13,
     "metadata": {},
     "output_type": "execute_result"
    }
   ],
   "source": [
    "# load the dataset and create a pandas DataFrame\n",
    "u_t_m = np.array([[1,1,1,0,0], [2,2,2,0,0], [1,1,1,0,0], [5,5,5,0,0], [0,0,0,2,2], [0,0,0,3,3], [0,0,0,1,1]])\n",
    "print(\"User-to-Movies matrix:\")\n",
    "# print(u_t_m)\n",
    "u_t_m_df = pd.DataFrame(u_t_m, columns=['Matrix', 'Alien', 'Serenity', 'Casablanca', 'Amelie'],\n",
    "                        index=['User 1', 'User 2','User 3', 'User 4', 'User 5', 'User 6', 'User 7'])\n",
    "u_t_m_df"
   ]
  },
  {
   "cell_type": "code",
   "execution_count": 14,
   "metadata": {
    "slideshow": {
     "slide_type": "subslide"
    }
   },
   "outputs": [],
   "source": [
    "# perform SVD\n",
    "rank = 2\n",
    "u, s, vh = np.linalg.svd(u_t_m, full_matrices=False)\n",
    "# mutiply by (-1), doesn't change the result\n",
    "u, vh = -u, -vh"
   ]
  },
  {
   "cell_type": "code",
   "execution_count": 15,
   "metadata": {
    "slideshow": {
     "slide_type": "subslide"
    }
   },
   "outputs": [
    {
     "name": "stdout",
     "output_type": "stream",
     "text": [
      "U of size (7, 2) :\n",
      "[[ 0.1796 -0.    ]\n",
      " [ 0.3591 -0.    ]\n",
      " [ 0.1796 -0.    ]\n",
      " [ 0.898   0.    ]\n",
      " [-0.      0.5347]\n",
      " [-0.      0.802 ]\n",
      " [-0.      0.2673]]\n",
      "Singular values:\n",
      "[9.64  5.293]\n"
     ]
    }
   ],
   "source": [
    "print(\"U of size\", u[:,:rank].shape, \":\")\n",
    "print(u[:,:rank].astype(np.float16))\n",
    "print(\"Singular values:\")\n",
    "print(s.astype(np.float16)[:rank])"
   ]
  },
  {
   "cell_type": "code",
   "execution_count": 16,
   "metadata": {
    "slideshow": {
     "slide_type": "subslide"
    }
   },
   "outputs": [
    {
     "name": "stdout",
     "output_type": "stream",
     "text": [
      "as a matrix:\n",
      "[[9.64  0.   ]\n",
      " [0.    5.293]]\n",
      "V of size (2, 5) :\n",
      "[[ 0.577  0.577  0.577 -0.    -0.   ]\n",
      " [ 0.     0.     0.     0.707  0.707]]\n"
     ]
    }
   ],
   "source": [
    "print(\"as a matrix:\")\n",
    "print(np.diag(s[:rank]).astype(np.float16))\n",
    "print(\"V of size\", vh[:rank,:].shape, \":\")\n",
    "print(vh[:rank,:].astype(np.float16))"
   ]
  },
  {
   "cell_type": "markdown",
   "metadata": {
    "slideshow": {
     "slide_type": "subslide"
    }
   },
   "source": [
    "* **Dimension Reduction Using SVD:** Set the smallest singular values to zero and remove the corresponding eigenvectors (left and right)\n",
    "    * Lower the rank ($r$) parameter.\n",
    "    * In our example, we will change $r$ to 1 instead of 2.\n",
    "    \n",
    "* Reconstruct the approximated matrix after dimension reduction\n",
    "    * $ A \\approx U_r \\Sigma_r V_r^T = B$\n",
    "    * Measure the error by the **Matrix Norm: Frobenius Norm**: $$||M||^2_F = \\sum_{ij} M_{ij}^2 \\rightarrow ||A - B||_F = \\sum_{ij} (A_{ij} - B_{ij})^2$$"
   ]
  },
  {
   "cell_type": "code",
   "execution_count": 17,
   "metadata": {
    "slideshow": {
     "slide_type": "subslide"
    }
   },
   "outputs": [],
   "source": [
    "# dimension reduction using SVD\n",
    "rank = 1\n",
    "u, s, vh = np.linalg.svd(u_t_m, full_matrices=False)\n",
    "# mutiply by (-1), doesn't change the result\n",
    "u, vh = -u, -vh"
   ]
  },
  {
   "cell_type": "code",
   "execution_count": 18,
   "metadata": {
    "slideshow": {
     "slide_type": "subslide"
    }
   },
   "outputs": [
    {
     "name": "stdout",
     "output_type": "stream",
     "text": [
      "U of size (7, 1) :\n",
      "[[ 0.1796]\n",
      " [ 0.3591]\n",
      " [ 0.1796]\n",
      " [ 0.898 ]\n",
      " [-0.    ]\n",
      " [-0.    ]\n",
      " [-0.    ]]\n",
      "Singular values:\n",
      "[9.64]\n"
     ]
    }
   ],
   "source": [
    "print(\"U of size\", u[:,:rank].shape, \":\")\n",
    "print(u[:,:rank].astype(np.float16))\n",
    "print(\"Singular values:\")\n",
    "print(s.astype(np.float16)[:rank])"
   ]
  },
  {
   "cell_type": "code",
   "execution_count": 19,
   "metadata": {
    "slideshow": {
     "slide_type": "subslide"
    }
   },
   "outputs": [
    {
     "name": "stdout",
     "output_type": "stream",
     "text": [
      "as a matrix:\n",
      "[[9.64]]\n",
      "V of size (1, 5) :\n",
      "[[ 0.577  0.577  0.577 -0.    -0.   ]]\n"
     ]
    }
   ],
   "source": [
    "print(\"as a matrix:\")\n",
    "print(np.diag(s[:rank]).astype(np.float16))\n",
    "print(\"V of size\", vh[:rank,:].shape, \":\")\n",
    "print(vh[:rank,:].astype(np.float16))"
   ]
  },
  {
   "cell_type": "code",
   "execution_count": 20,
   "metadata": {
    "slideshow": {
     "slide_type": "subslide"
    }
   },
   "outputs": [
    {
     "name": "stdout",
     "output_type": "stream",
     "text": [
      "reconstruction error: 28.000\n"
     ]
    }
   ],
   "source": [
    "# reconstruct the user-to-movie matrix\n",
    "A_approx = u[:,:rank] @ np.diag(s[:rank]) @ vh[:rank,:]\n",
    "A_approx_df = pd.DataFrame(A_approx.astype(np.int), columns=['Matrix', 'Alien', 'Serenity', 'Casablanca', 'Amelie'],\n",
    "                        index=['User 1', 'User 2','User 3', 'User 4', 'User 5', 'User 6', 'User 7'])\n",
    "recons_error = np.sum(np.square(u_t_m - A_approx))\n",
    "print(\"reconstruction error: {:.3f}\".format(recons_error))"
   ]
  },
  {
   "cell_type": "code",
   "execution_count": 21,
   "metadata": {
    "slideshow": {
     "slide_type": "subslide"
    }
   },
   "outputs": [
    {
     "name": "stdout",
     "output_type": "stream",
     "text": [
      "reconstruction of user-to-movie:\n"
     ]
    },
    {
     "data": {
      "text/html": [
       "<div>\n",
       "<style scoped>\n",
       "    .dataframe tbody tr th:only-of-type {\n",
       "        vertical-align: middle;\n",
       "    }\n",
       "\n",
       "    .dataframe tbody tr th {\n",
       "        vertical-align: top;\n",
       "    }\n",
       "\n",
       "    .dataframe thead th {\n",
       "        text-align: right;\n",
       "    }\n",
       "</style>\n",
       "<table border=\"1\" class=\"dataframe\">\n",
       "  <thead>\n",
       "    <tr style=\"text-align: right;\">\n",
       "      <th></th>\n",
       "      <th>Matrix</th>\n",
       "      <th>Alien</th>\n",
       "      <th>Serenity</th>\n",
       "      <th>Casablanca</th>\n",
       "      <th>Amelie</th>\n",
       "    </tr>\n",
       "  </thead>\n",
       "  <tbody>\n",
       "    <tr>\n",
       "      <td>User 1</td>\n",
       "      <td>1</td>\n",
       "      <td>1</td>\n",
       "      <td>1</td>\n",
       "      <td>0</td>\n",
       "      <td>0</td>\n",
       "    </tr>\n",
       "    <tr>\n",
       "      <td>User 2</td>\n",
       "      <td>2</td>\n",
       "      <td>2</td>\n",
       "      <td>2</td>\n",
       "      <td>0</td>\n",
       "      <td>0</td>\n",
       "    </tr>\n",
       "    <tr>\n",
       "      <td>User 3</td>\n",
       "      <td>1</td>\n",
       "      <td>1</td>\n",
       "      <td>1</td>\n",
       "      <td>0</td>\n",
       "      <td>0</td>\n",
       "    </tr>\n",
       "    <tr>\n",
       "      <td>User 4</td>\n",
       "      <td>5</td>\n",
       "      <td>5</td>\n",
       "      <td>5</td>\n",
       "      <td>0</td>\n",
       "      <td>0</td>\n",
       "    </tr>\n",
       "    <tr>\n",
       "      <td>User 5</td>\n",
       "      <td>0</td>\n",
       "      <td>0</td>\n",
       "      <td>0</td>\n",
       "      <td>0</td>\n",
       "      <td>0</td>\n",
       "    </tr>\n",
       "    <tr>\n",
       "      <td>User 6</td>\n",
       "      <td>0</td>\n",
       "      <td>0</td>\n",
       "      <td>0</td>\n",
       "      <td>0</td>\n",
       "      <td>0</td>\n",
       "    </tr>\n",
       "    <tr>\n",
       "      <td>User 7</td>\n",
       "      <td>0</td>\n",
       "      <td>0</td>\n",
       "      <td>0</td>\n",
       "      <td>0</td>\n",
       "      <td>0</td>\n",
       "    </tr>\n",
       "  </tbody>\n",
       "</table>\n",
       "</div>"
      ],
      "text/plain": [
       "        Matrix  Alien  Serenity  Casablanca  Amelie\n",
       "User 1       1      1         1           0       0\n",
       "User 2       2      2         2           0       0\n",
       "User 3       1      1         1           0       0\n",
       "User 4       5      5         5           0       0\n",
       "User 5       0      0         0           0       0\n",
       "User 6       0      0         0           0       0\n",
       "User 7       0      0         0           0       0"
      ]
     },
     "execution_count": 21,
     "metadata": {},
     "output_type": "execute_result"
    }
   ],
   "source": [
    "print(\"reconstruction of user-to-movie:\")\n",
    "A_approx_df"
   ]
  },
  {
   "cell_type": "markdown",
   "metadata": {
    "slideshow": {
     "slide_type": "slide"
    }
   },
   "source": [
    "### <img src=\"https://img.icons8.com/dusk/64/000000/cinema-.png\" style=\"height:50px;display:inline\"> SVD Example - Users-to-Movies - Case Study\n",
    "---\n",
    "#### <img src=\"https://img.icons8.com/bubbles/50/000000/question-mark.png\" style=\"height:30px;display:inline\"> Question: Find users that like 'Matrix' & 'Alien'\n",
    "\n",
    "#### <img src=\"https://img.icons8.com/dusk/64/000000/faq.png\" style=\"height:30px;display:inline\"> Answer: map query (input) into a 'concept space'\n",
    "How to query?\n",
    "* Project vectors into concept space by **inner product**  with each 'concept' vector $v_i$\n",
    "* Assume we have 2 users - user *q* and user *d* such that user *q* likes the movie 'Matrix' and user *d* likes the movies 'Alien' and 'Serenity'.  "
   ]
  },
  {
   "cell_type": "code",
   "execution_count": 22,
   "metadata": {
    "slideshow": {
     "slide_type": "subslide"
    }
   },
   "outputs": [
    {
     "data": {
      "text/html": [
       "<div>\n",
       "<style scoped>\n",
       "    .dataframe tbody tr th:only-of-type {\n",
       "        vertical-align: middle;\n",
       "    }\n",
       "\n",
       "    .dataframe tbody tr th {\n",
       "        vertical-align: top;\n",
       "    }\n",
       "\n",
       "    .dataframe thead th {\n",
       "        text-align: right;\n",
       "    }\n",
       "</style>\n",
       "<table border=\"1\" class=\"dataframe\">\n",
       "  <thead>\n",
       "    <tr style=\"text-align: right;\">\n",
       "      <th></th>\n",
       "      <th>Matrix</th>\n",
       "      <th>Alien</th>\n",
       "      <th>Serenity</th>\n",
       "      <th>Casablanca</th>\n",
       "      <th>Amelie</th>\n",
       "    </tr>\n",
       "  </thead>\n",
       "  <tbody>\n",
       "    <tr>\n",
       "      <td>User q</td>\n",
       "      <td>5</td>\n",
       "      <td>0</td>\n",
       "      <td>0</td>\n",
       "      <td>0</td>\n",
       "      <td>0</td>\n",
       "    </tr>\n",
       "    <tr>\n",
       "      <td>User d</td>\n",
       "      <td>0</td>\n",
       "      <td>4</td>\n",
       "      <td>5</td>\n",
       "      <td>0</td>\n",
       "      <td>0</td>\n",
       "    </tr>\n",
       "  </tbody>\n",
       "</table>\n",
       "</div>"
      ],
      "text/plain": [
       "        Matrix  Alien  Serenity  Casablanca  Amelie\n",
       "User q       5      0         0           0       0\n",
       "User d       0      4         5           0       0"
      ]
     },
     "execution_count": 22,
     "metadata": {},
     "output_type": "execute_result"
    }
   ],
   "source": [
    "users = [[5, 0, 0, 0, 0], [0, 4, 5, 0, 0]]\n",
    "users_df = pd.DataFrame(users, columns=['Matrix', 'Alien', 'Serenity', 'Casablanca', 'Amelie'],\n",
    "                        index=['User q', 'User d'])\n",
    "users_df"
   ]
  },
  {
   "cell_type": "markdown",
   "metadata": {
    "slideshow": {
     "slide_type": "subslide"
    }
   },
   "source": [
    "* It can be seen that the similiarity between the users in the ratings space is 0 (comparison element-by-element). \n",
    "* But, our intuition tells us that they both like Sci-Fi, and the reason for the zero similarity is simply because they have not seen the other user's movies. \n",
    "* Let's project the input into concept space and reconsider the similarity in that space."
   ]
  },
  {
   "cell_type": "code",
   "execution_count": 23,
   "metadata": {
    "slideshow": {
     "slide_type": "subslide"
    }
   },
   "outputs": [
    {
     "name": "stdout",
     "output_type": "stream",
     "text": [
      "users concepts similarity:\n"
     ]
    },
    {
     "data": {
      "text/html": [
       "<div>\n",
       "<style scoped>\n",
       "    .dataframe tbody tr th:only-of-type {\n",
       "        vertical-align: middle;\n",
       "    }\n",
       "\n",
       "    .dataframe tbody tr th {\n",
       "        vertical-align: top;\n",
       "    }\n",
       "\n",
       "    .dataframe thead th {\n",
       "        text-align: right;\n",
       "    }\n",
       "</style>\n",
       "<table border=\"1\" class=\"dataframe\">\n",
       "  <thead>\n",
       "    <tr style=\"text-align: right;\">\n",
       "      <th></th>\n",
       "      <th>Sci-Fi</th>\n",
       "      <th>Other</th>\n",
       "    </tr>\n",
       "  </thead>\n",
       "  <tbody>\n",
       "    <tr>\n",
       "      <td>User q</td>\n",
       "      <td>2.886751</td>\n",
       "      <td>0.0</td>\n",
       "    </tr>\n",
       "    <tr>\n",
       "      <td>User d</td>\n",
       "      <td>5.196152</td>\n",
       "      <td>0.0</td>\n",
       "    </tr>\n",
       "  </tbody>\n",
       "</table>\n",
       "</div>"
      ],
      "text/plain": [
       "          Sci-Fi  Other\n",
       "User q  2.886751    0.0\n",
       "User d  5.196152    0.0"
      ]
     },
     "execution_count": 23,
     "metadata": {},
     "output_type": "execute_result"
    }
   ],
   "source": [
    "# perform SVD\n",
    "rank = 2\n",
    "u, s, vh = np.linalg.svd(u_t_m, full_matrices=False)\n",
    "# mutiply by (-1), doesn't change the result\n",
    "u, vh = -u, -vh\n",
    "# movie-to-concepts\n",
    "users_concepts = np.array(users, dtype=np.float) @ vh[:rank,:].T\n",
    "print(\"users concepts similarity:\")\n",
    "users_concepts_df = pd.DataFrame(users_concepts, columns=['Sci-Fi', 'Other'],\n",
    "                        index=['User q', 'User d'])\n",
    "users_concepts_df"
   ]
  },
  {
   "cell_type": "markdown",
   "metadata": {
    "slideshow": {
     "slide_type": "subslide"
    }
   },
   "source": [
    "* **Observation:** even though user *d* did not rate 'Matrix', the user is similar to user *q*, that is, the similarity is not 0, and they might enjoy the same movies!"
   ]
  },
  {
   "cell_type": "markdown",
   "metadata": {
    "slideshow": {
     "slide_type": "slide"
    }
   },
   "source": [
    "### <img src=\"https://img.icons8.com/dusk/64/000000/trust.png\" style=\"height:50px;display:inline\"> The Relationship Between PCA & SVD\n",
    "---\n",
    "* The PCA viewpoint requires that one compute the eigenvalues and eigenvectors of the covariance matrix, which is the product $XX^T$ (or $X^TX$, depending on the dimensions, as long as the covariance matrix is $\\in \\mathcal{R}^{d \\times d}$, where $d$ is the number of features), where $X$ is the data matrix. Since the covariance matrix is symmetric, the matrix is diagonalizable, and the eigenvectors can be normalized such that they are orthonormal: $XX^T = WAW^T$\n",
    "\n",
    "* On the other hand, applying SVD to the data matrix $X$ as follows: $X=U\\Sigma V^T$, and attempting to construct the covariance matrix from this decomposition gives: $$XX^T = (U\\Sigma V^T)(U \\Sigma V^T)^T = U \\Sigma^2 U^T $$ the last transition is due to $V$ being orthonormal ($VV^T = I$). Thus, the square roots of the eigenvalues of $XX^T$ are the singular values of $X$.\n",
    "* Using the SVD to perform PCA makes much better sense numerically than forming the covariance matrix to begin with, since the formation of $XX^⊤$ can cause loss of precision. But performing SVD is slower."
   ]
  },
  {
   "cell_type": "markdown",
   "metadata": {
    "slideshow": {
     "slide_type": "slide"
    }
   },
   "source": [
    "### <img src=\"https://img.icons8.com/color/48/000000/critical-thinking.png\" style=\"height:50px;display:inline\"> PCA as Dimensionality Reduction Technique\n",
    "---\n",
    "* **Pro**: Optimal reconstruction error in Frobenius norm\n",
    "* **Con**: Interpretability problem - features lose their previous meaning\n",
    "    * A singular vector specifies a linear combination of all input columns or rows\n",
    "    * PCA is **sensitive to outliers** since it is minimizing $l_2$ norms. The squaring of deviations from the outliers, they will dominate the total norm and therefore will drive the PCA components.\n",
    "* **When will PCA work?**\n",
    "    * PCA assumes **linear** realtionships among variables\n",
    "    * Clouds of points in *p*-dimensional space has linear dimensions that can be effectively summarized by the principal axes\n",
    "    * If the structure in the data is **non-linear** (the cloud of points twists and curves its way through *p*-dimensional space), the principal axes will not be an efficient and informative summary of the data.\n",
    "    "
   ]
  },
  {
   "cell_type": "code",
   "execution_count": 24,
   "metadata": {
    "slideshow": {
     "slide_type": "subslide"
    }
   },
   "outputs": [
    {
     "name": "stdout",
     "output_type": "stream",
     "text": [
      "[[-1.  1.]\n",
      " [ 1.  0.]\n",
      " [ 0. -1.]]\n",
      "[[-0.70710678  0.70710678]\n",
      " [-0.70710678 -0.70710678]]\n"
     ]
    }
   ],
   "source": [
    "# PCA using scikit learn\n",
    "from sklearn.decomposition import PCA\n",
    "X = np.array([[0, 2], [2, 1], [1, 0]])\n",
    "X = X - X.mean(axis=0)\n",
    "print(X)\n",
    "pca = PCA()\n",
    "X_pca = pca.fit_transform(X)\n",
    "print(pca.components_)\n",
    "# PC's are horizontal vectors"
   ]
  },
  {
   "cell_type": "markdown",
   "metadata": {
    "slideshow": {
     "slide_type": "slide"
    }
   },
   "source": [
    "## <img src=\"https://img.icons8.com/dusk/64/000000/circled-dot.png\" style=\"height:50px;display:inline\"> Feature Selection\n",
    "---\n",
    "### <img src=\"https://img.icons8.com/dusk/64/000000/accuracy.png\" style=\"height:50px;display:inline\"> Goal - Find an informative feature subset\n",
    "\n",
    "* **Methods**:\n",
    "    * **Filter Methods**: ranks features or feature subsets *independently* of the classifier\n",
    "        * For example: by correlation between features, correlation between features and the label\n",
    "    * **Wrapper Methods**: uses a classifier to assess features or feature subsets\n",
    "    * **Embedded Methods**: specific to a given learning machine. Performs variable selection (implicitly) in the training process (e.g. decision trees, Naive Bayes...)"
   ]
  },
  {
   "cell_type": "markdown",
   "metadata": {
    "slideshow": {
     "slide_type": "slide"
    }
   },
   "source": [
    "### <img src=\"https://img.icons8.com/bubbles/100/000000/filter.png\" style=\"height:50px;display:inline\"> Filter Methods\n",
    "---\n",
    "General Scheme:\n",
    "<img src=\"./assets/tut_04_filter_methods.jpg\" style=\"height:300px\">"
   ]
  },
  {
   "cell_type": "markdown",
   "metadata": {
    "slideshow": {
     "slide_type": "subslide"
    }
   },
   "source": [
    "Let's start with an example from <a href=\"http://www.jmlr.org/papers/volume3/guyon03a/guyon03a.pdf\">Guyon and Elissef, JMLR 2003</a>:\n",
    "\n",
    "Consider the classification problem for two classes. For each class, we drew at random $m = 100$\n",
    "examples, each of the two variables being drawn independently according to a normal distribution of\n",
    "standard deviation 1. The class centers are placed at coordinates (-1; -1) and (1; 1)."
   ]
  },
  {
   "cell_type": "markdown",
   "metadata": {
    "slideshow": {
     "slide_type": "subslide"
    }
   },
   "source": [
    "* In the following figure, the *left* figure shows the scatter plot in the two-dimensional space of the input variables. \n",
    "* We also show on the same figure **histograms** of the projections of the examples on the axes. \n",
    "    * To facilitate its reading, the scatter plot is shown twice with an **axis exchange**. \n",
    "* The figure on the *right* shows the same scatter plots after **a forty five degree rotation.** "
   ]
  },
  {
   "cell_type": "markdown",
   "metadata": {
    "slideshow": {
     "slide_type": "subslide"
    }
   },
   "source": [
    "<img src=\"./assets/tut_04_feature_select_1.jpg\" style=\"height:300px\">"
   ]
  },
  {
   "cell_type": "markdown",
   "metadata": {
    "slideshow": {
     "slide_type": "subslide"
    }
   },
   "source": [
    "* In the right figure representation, the **x-axis** projection provides a better separation of the two classes: the standard deviation of both classes is the same, but the distance between centers in projection is now $2 \\sqrt{2}$ instead of $2$. \n",
    "* Noise reduction and consequently better class separation may be obtained by adding variables that are presumably redundant. **Variables that are independently and identically distributed are not truly redundant.**"
   ]
  },
  {
   "cell_type": "markdown",
   "metadata": {
    "slideshow": {
     "slide_type": "subslide"
    }
   },
   "source": [
    "<img src=\"./assets/tut_04_feature_select_2.jpg\" style=\"height:300px\">"
   ]
  },
  {
   "cell_type": "markdown",
   "metadata": {
    "slideshow": {
     "slide_type": "subslide"
    }
   },
   "source": [
    "* In the above figure (left), in the direction of the class center line, the standard deviation of the class conditional distributions is $\\sqrt{2}$, while in the perpendicular direction it is a small value ($\\epsilon = \\frac{1}{10}$).\n",
    "* With this construction, as $\\epsilon \\rightarrow 0$, the input variables have the same separation power as in the case of the example of the previous example, with a standard deviation of the class distributions of one and a distance of the class centers of 2.\n",
    "* But the feature constructed as the **sum of the input variables** has no better separation power: a standard deviation of $\\sqrt{2}$ and a class center separation of $2 \\sqrt{2}$ (a simple scaling that does not change the separation power)."
   ]
  },
  {
   "cell_type": "markdown",
   "metadata": {
    "slideshow": {
     "slide_type": "subslide"
    }
   },
   "source": [
    "* Therefore, in the limit of perfect variable correlation (zero variance in the direction perpendicular to the class center line), single variables provide the same separation as the sum of the two variables. \n",
    "* **Perfectly correlated variables are truly redundant** in the sense that no additional information is gained by adding them."
   ]
  },
  {
   "cell_type": "markdown",
   "metadata": {
    "slideshow": {
     "slide_type": "subslide"
    }
   },
   "source": [
    "* In contrast, in the example of the *right* figure, the first principal direction of the covariance matrices of the class conditional densities is perpendicular to the class center line.\n",
    "* In this case, more is gained by adding the two variables than in the example at the beginning.\n",
    "* One notices that in spite of their great complementarity (in the sense that a perfect separation can be achieved in the two-dimensional space spanned by the two variables), the two variables are (anti-)correlated.\n",
    "* More anti-correlation is obtained by making the class centers closer and increasing the ratio of the variances of the class conditional distributions.\n",
    "* **Very high variable correlation (or anti-correlation) does not mean absence of variable complementarity.**"
   ]
  },
  {
   "cell_type": "markdown",
   "metadata": {
    "slideshow": {
     "slide_type": "subslide"
    }
   },
   "source": [
    "#### Can a Variable that is Useless by Itself be Useful with Others?"
   ]
  },
  {
   "cell_type": "markdown",
   "metadata": {
    "slideshow": {
     "slide_type": "subslide"
    }
   },
   "source": [
    "* One concern about multivariate methods is that they are prone to **overfitting**. \n",
    "* The problem is aggravated when the number of variables to select from is large compared to the number of examples.\n",
    "* It is tempting to use a variable ranking method to filter out the least promising variables before using a multivariate method. \n",
    "    * Still one may wonder whether one could potentially lose some valuable variables through that filtering process."
   ]
  },
  {
   "cell_type": "markdown",
   "metadata": {
    "slideshow": {
     "slide_type": "subslide"
    }
   },
   "source": [
    "Consider the following example:\n",
    "\n",
    "<img src=\"./assets/tut_04_feature_select_3.jpg\" style=\"height:300px\">"
   ]
  },
  {
   "cell_type": "markdown",
   "metadata": {
    "slideshow": {
     "slide_type": "subslide"
    }
   },
   "source": [
    "* On the *left*, the two class conditional distributions have identical covariance matrices, and the principal directions are oriented diagonally. The class centers are separated on one axis, but not on the other. By itself one variable is “useless”.\n",
    "* Still, the dimensional separation is better than the separation using the “useful” variable alone.\n",
    "* Therefore, **a variable that is completely useless by itself can provide a significant performance improvement when taken with others**."
   ]
  },
  {
   "cell_type": "markdown",
   "metadata": {
    "slideshow": {
     "slide_type": "subslide"
    }
   },
   "source": [
    "* On the *right*, we ask whether two variables that are useless by themselves can provide a good separation when taken together. We constructed an example of such a case, inspired by the famous **XOR problem**.\n",
    "* In the figure, we drew examples for two classes using four Gaussians placed on the corners of a square at coordinates (0; 0), (0; 1), (1; 0), and (1; 1).\n",
    "    * The class labels of these four “clumps” are attributed according to the truth table of the logical XOR function: $f(0;0)=0$, $f(0; 1)=1$, $f(1; 0)=1$; $f(1; 1)=0$.\n",
    "* We notice that the projections on the axes provide no class separation. Yet, in the two dimensional space the classes can easily be separated (albeit not with a linear decision function). \n",
    "* **Two variables that are useless by themselves can be useful together.**"
   ]
  },
  {
   "cell_type": "markdown",
   "metadata": {
    "slideshow": {
     "slide_type": "slide"
    }
   },
   "source": [
    "### <img src=\"https://img.icons8.com/bubbles/100/000000/gift.png\" style=\"height:50px;display:inline\"> Wrapper Methods\n",
    "---\n",
    "General Scheme:\n",
    "<img src=\"./assets/tut_04_wrapper_methods_1.jpg\" style=\"height:300px\">"
   ]
  },
  {
   "cell_type": "markdown",
   "metadata": {
    "slideshow": {
     "slide_type": "subslide"
    }
   },
   "source": [
    "* A wrapper method needs one machine learning algorithm and uses its performance as evaluation criteria. \n",
    "* This method searches for a feature which is best-suited for the machine learning algorithm and aims to improve the mining performance. \n",
    "* To evaluate the features, the predictive accuracy used for classification tasks and goodness of cluster is evaluated using clustering."
   ]
  },
  {
   "cell_type": "markdown",
   "metadata": {
    "slideshow": {
     "slide_type": "subslide"
    }
   },
   "source": [
    "* **Sequential Forward Selection** - The procedure starts with an empty set of features [reduced set]. The best of the original features is determined and added to the reduced set. At each subsequent iteration, the best of the remaining original attributes is added to the set.\n",
    "    * Algorithm: <img src=\"./assets/tut_04_sfs.jpg\" style=\"height:100px\">"
   ]
  },
  {
   "cell_type": "markdown",
   "metadata": {
    "slideshow": {
     "slide_type": "subslide"
    }
   },
   "source": [
    "Example: <img src=\"./assets/tut_04_sfs_example.jpg\" style=\"height:300px\">"
   ]
  },
  {
   "cell_type": "markdown",
   "metadata": {
    "slideshow": {
     "slide_type": "subslide"
    }
   },
   "source": [
    "* **Sequential Backward Selection** - The procedure starts with the full set of attributes. At each step, it removes the worst attribute remaining in the set. \n",
    "    * Algorithm: <img src=\"./assets/tut_04_sbs.jpg\" style=\"height:100px\">"
   ]
  },
  {
   "cell_type": "markdown",
   "metadata": {
    "slideshow": {
     "slide_type": "subslide"
    }
   },
   "source": [
    "* **Bidirectional Search** - The stepwise forward selection and backward elimination methods can be combined so that, at each step, the procedure selects the best attribute and removes the worst from among the remaining attributes.\n",
    "    * Algorithm: <img src=\"./assets/tut_04_sfs_sbs.jpg\" style=\"height:300px\">"
   ]
  },
  {
   "cell_type": "markdown",
   "metadata": {
    "slideshow": {
     "slide_type": "subslide"
    }
   },
   "source": [
    "* **Recursive Feature Elimination** (Scikit-learn) - Recursive feature elimination performs a greedy search to find the best performing feature subset. It iteratively creates models and determines the best or the worst performing feature at each iteration. It constructs the subsequent models with the left features until all the features are explored. It then ranks the features based on the order of their elimination. In the worst case, if a dataset contains N number of features RFE will do a greedy search for $2^N$ combinations of features."
   ]
  },
  {
   "cell_type": "markdown",
   "metadata": {
    "slideshow": {
     "slide_type": "slide"
    }
   },
   "source": [
    "### Filter vs. Wrapper\n",
    "---\n",
    "* Filter methods do not incorporate a machine learning model in order to determine if a feature is good or bad whereas wrapper methods use a machine learning model and train it the feature to decide if it is essential or not.\n",
    "\n",
    "* Filter methods are much faster compared to wrapper methods as they do not involve training the models. On the other hand, wrapper methods are computationally costly, and in the case of massive datasets, wrapper methods are not the most effective feature selection method to consider."
   ]
  },
  {
   "cell_type": "markdown",
   "metadata": {
    "slideshow": {
     "slide_type": "subslide"
    }
   },
   "source": [
    "* Filter methods may fail to find the best subset of features in situations when there is not enough data to model the statistical correlation of the features, but wrapper methods can always provide the best subset of features because of their exhaustive nature.\n",
    "\n",
    "* Using features from wrapper methods in your final machine learning model can lead to overfitting as wrapper methods already train machine learning models with the features and it affects the true power of learning. But the features from filter methods will not lead to overfitting in most of the cases."
   ]
  },
  {
   "cell_type": "markdown",
   "metadata": {
    "slideshow": {
     "slide_type": "subslide"
    }
   },
   "source": [
    "* <a href=\"https://scikit-learn.org/stable/modules/feature_selection.html\">Feature Selection in Scikit-Learn</a>"
   ]
  },
  {
   "cell_type": "markdown",
   "metadata": {
    "slideshow": {
     "slide_type": "slide"
    }
   },
   "source": [
    "### <img src=\"https://img.icons8.com/bubbles/50/000000/video-playlist.png\" style=\"height:50px;display:inline\"> Recommended Videos\n",
    "---\n",
    "#### <img src=\"https://img.icons8.com/cute-clipart/64/000000/warning-shield.png\" style=\"height:30px;display:inline\"> Warning!\n",
    "* These videos do not replace the lectures and tutorials.\n",
    "* Please use these to get a better understanding of the material, and not as an alternative to the written material.\n",
    "\n",
    "#### Video By Subject\n",
    "\n",
    "* PCA (1) - <a href=\"https://www.youtube.com/watch?v=FgakZw6K1QQ\">StatQuest: Principal Component Analysis (PCA), Step-by-Step</a>\n",
    "* PCA (2) - <a href=\"https://www.youtube.com/watch?v=TJdH6rPA-TI\">Principal Component Analysis (PCA) - Computerphile</a>\n",
    "* SVD - <a href=\"https://www.youtube.com/watch?v=P5mlg91as1c\">Lecture 47 — Singular Value Decomposition | Stanford University</a>\n",
    "* Feature Selection - <a href=\"https://www.youtube.com/watch?v=EqLBAmtKMnQ\">Feature Selection Techniques Easily Explained | Machine Learning</a>"
   ]
  },
  {
   "cell_type": "markdown",
   "metadata": {
    "slideshow": {
     "slide_type": "skip"
    }
   },
   "source": [
    "## <img src=\"https://img.icons8.com/dusk/64/000000/prize.png\" style=\"height:50px;display:inline\"> Credits\n",
    "---\n",
    "* <a href=\"https://www.datacamp.com/community/tutorials/feature-selection-python\">Beginner's Guide to Feature Selection in Python</a>\n",
    "* Inspired by slides by Elad Osherov and slides from <a href=\"http://www.mmds.org/\">MMDS</a> by Jure Leskovec\n",
    "* Icons from <a href=\"https://icons8.com/\">Icon8.com</a> - https://icons8.com\n",
    "* Datasets from <a href=\"https://www.kaggle.com/\">Kaggle</a> - https://www.kaggle.com/"
   ]
  }
 ],
 "metadata": {
  "kernelspec": {
   "display_name": "Python 3",
   "language": "python",
   "name": "python3"
  },
  "language_info": {
   "codemirror_mode": {
    "name": "ipython",
    "version": 3
   },
   "file_extension": ".py",
   "mimetype": "text/x-python",
   "name": "python",
   "nbconvert_exporter": "python",
   "pygments_lexer": "ipython3",
   "version": "3.6.9"
  }
 },
 "nbformat": 4,
 "nbformat_minor": 2
}
